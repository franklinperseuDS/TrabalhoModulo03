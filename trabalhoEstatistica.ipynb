{
  "nbformat": 4,
  "nbformat_minor": 0,
  "metadata": {
    "colab": {
      "name": "trabalhoEstatistica.ipynb",
      "provenance": [],
      "collapsed_sections": [
        "t1PkMRUY5KoG",
        "1PDhVSkpeidB",
        "eI_fC34-rvMu",
        "pjaY6rwAwPno",
        "XvRnhtA2gcBg",
        "QtRH-Rn1hHAo",
        "DWmmqh2huEu6",
        "cybOiiGYuEvb",
        "npFYsZeVun6S",
        "D2i6m9Gtun7I",
        "4wAiB6mI-ZhQ",
        "VKBXk1Wi-ZiF",
        "xqgMKmLnV7Pn",
        "Px9TQxNpXxYa",
        "HEfy2AYBYWfs",
        "QlvQIFP4aMm3",
        "ZOQkX_cyrE9S"
      ],
      "toc_visible": true,
      "include_colab_link": true
    },
    "kernelspec": {
      "name": "python3",
      "display_name": "Python 3"
    }
  },
  "cells": [
    {
      "cell_type": "markdown",
      "metadata": {
        "id": "view-in-github",
        "colab_type": "text"
      },
      "source": [
        "<a href=\"https://colab.research.google.com/github/franklinperseuDS/TrabalhoModulo03/blob/main/trabalhoEstatistica.ipynb\" target=\"_parent\"><img src=\"https://colab.research.google.com/assets/colab-badge.svg\" alt=\"Open In Colab\"/></a>"
      ]
    },
    {
      "cell_type": "code",
      "metadata": {
        "id": "iqydn_S4pqsc"
      },
      "source": [
        "# Pacotes necessários\n",
        "import pandas as pd\n",
        "import numpy as np\n",
        "import statistics as st\n",
        "import seaborn as se\n",
        "import statsmodels.stats.proportion as smp\n",
        "from scipy import stats\n",
        "from scipy.stats import t\n",
        "import matplotlib.pyplot as plt\n",
        "from matplotlib.ticker import NullFormatter "
      ],
      "execution_count": null,
      "outputs": []
    },
    {
      "cell_type": "code",
      "metadata": {
        "id": "82F7B9BiqH-_",
        "outputId": "bc60892b-ac85-478a-e9ab-85e4b6290d07",
        "colab": {
          "base_uri": "https://localhost:8080/"
        }
      },
      "source": [
        "from google.colab import drive\n",
        "drive.mount('/content/drive')"
      ],
      "execution_count": null,
      "outputs": [
        {
          "output_type": "stream",
          "text": [
            "Mounted at /content/drive\n"
          ],
          "name": "stdout"
        }
      ]
    },
    {
      "cell_type": "markdown",
      "metadata": {
        "id": "KWmtLulk4xso"
      },
      "source": [
        "#DataFrames"
      ]
    },
    {
      "cell_type": "code",
      "metadata": {
        "id": "EE3KvgF1sd94"
      },
      "source": [
        "\"\"\"dfMicroDados =  pd.read_csv('/content/drive/Shared drives/Trabalho Estátistica/MICRODADOS_ENADE_2016.csv',sep=';',decimal=',')\n",
        "dfMicroDados.shape\n",
        "\"\"\""
      ],
      "execution_count": null,
      "outputs": []
    },
    {
      "cell_type": "code",
      "metadata": {
        "id": "pgUTDeY226aW"
      },
      "source": [
        "dfConceito = pd.read_excel('/content/drive/Shared drives/Trabalho Estátistica/conceito_enade2016.xlsx')"
      ],
      "execution_count": null,
      "outputs": []
    },
    {
      "cell_type": "code",
      "metadata": {
        "id": "p6S8HmC9s1Rj",
        "outputId": "159ef8a8-fd0d-44b6-cf1d-4bae79972a45",
        "colab": {
          "base_uri": "https://localhost:8080/"
        }
      },
      "source": [
        "dfConceito.info()"
      ],
      "execution_count": null,
      "outputs": [
        {
          "output_type": "stream",
          "text": [
            "<class 'pandas.core.frame.DataFrame'>\n",
            "RangeIndex: 4299 entries, 0 to 4298\n",
            "Data columns (total 21 columns):\n",
            " #   Column                     Non-Null Count  Dtype  \n",
            "---  ------                     --------------  -----  \n",
            " 0   Ano                        4299 non-null   int64  \n",
            " 1   Código da IES              4299 non-null   int64  \n",
            " 2   Nome da IES                4299 non-null   object \n",
            " 3   Sigla da IES               4299 non-null   object \n",
            " 4   Organização Acadêmica      4299 non-null   object \n",
            " 5   Categoria Administrativa   4299 non-null   object \n",
            " 6   Código do Curso            4299 non-null   int64  \n",
            " 7   Código da Área             4299 non-null   int64  \n",
            " 8   Área de Enquadramento      4299 non-null   object \n",
            " 9   Modalidade de Ensino       4299 non-null   object \n",
            " 10  Código do Município        4299 non-null   int64  \n",
            " 11  Município do Curso         4299 non-null   object \n",
            " 12  Sigla da UF                4299 non-null   object \n",
            " 13  Concluintes Inscritos      4299 non-null   int64  \n",
            " 14  Concluintes Participantes  4299 non-null   int64  \n",
            " 15  Nota Bruta - FG            4200 non-null   float64\n",
            " 16  Nota Padronizada - FG      4200 non-null   float64\n",
            " 17  Nota Bruta - CE            4200 non-null   float64\n",
            " 18  Nota Padronizada - CE      4200 non-null   float64\n",
            " 19  Conceito Enade (Contínuo)  4200 non-null   float64\n",
            " 20  Conceito Enade (Faixa)     4299 non-null   object \n",
            "dtypes: float64(5), int64(7), object(9)\n",
            "memory usage: 705.4+ KB\n"
          ],
          "name": "stdout"
        }
      ]
    },
    {
      "cell_type": "markdown",
      "metadata": {
        "id": "OU0beEPAbNSz"
      },
      "source": [
        "## Tratamento do Dataframe 'Conceito' para as seguintes colunas\n",
        " 1. codigo da IES \n",
        " 2. Sigla da IES \n",
        " 3. Organização Acadêmica \n",
        " 4. 'Município do Curso' \n",
        " 5. 'Sigla da UF' \n",
        " 6. Concluintes Inscritos \n",
        " 7. 'Concluintes Participantes \n",
        " 8. <s> 'Nota Bruta - FG', #* deixar por ultimo</s>\n",
        " 9. 'Nota Padronizada - FG' \n",
        " 10. <s> 'Nota Bruta - CE', #* deixar por ultimo </s>\n",
        " 11. 'Nota Padronizada - CE', \n",
        " 12. 'Conceito Enade (Contínuo)' \n",
        " 13. Conceito Enade (Faixa)\n",
        " 14. Código da Área\n",
        "\n",
        "\n"
      ]
    },
    {
      "cell_type": "code",
      "metadata": {
        "id": "hWLLrJN8aGRB"
      },
      "source": [
        "dfMedicinaC = dfConceito[dfConceito['Área de Enquadramento'] == 'MEDICINA'][['Código da Área','Código da IES','Sigla da IES','Município do Curso', 'Sigla da UF','Concluintes Inscritos', 'Concluintes Participantes','Nota Padronizada - FG','Nota Padronizada - CE','Conceito Enade (Contínuo)','Conceito Enade (Faixa)']]"
      ],
      "execution_count": null,
      "outputs": []
    },
    {
      "cell_type": "code",
      "metadata": {
        "id": "4NHFjSXXn261"
      },
      "source": [
        "dfMedicinaC['Conceito Enade (Faixa)'] = dfMedicinaC['Conceito Enade (Faixa)'].astype(int)"
      ],
      "execution_count": null,
      "outputs": []
    },
    {
      "cell_type": "code",
      "metadata": {
        "id": "GLCaOrDkdzgQ"
      },
      "source": [
        "dfMedicinaC = dfMedicinaC.reset_index()"
      ],
      "execution_count": null,
      "outputs": []
    },
    {
      "cell_type": "markdown",
      "metadata": {
        "id": "t1PkMRUY5KoG"
      },
      "source": [
        "## Montando uma coluna de regiões\n",
        "1 = Região Norte (NO)\n",
        "norte = ['RO','AC','AM','RR' ,'PA' , 'AP' ,'TO']\n",
        "\n",
        "2 = Região Nordeste (NE)\n",
        "nordeste = ['MA','PI','CE','RN','PB','PE','AL','SE','BA']\n",
        "\n",
        "3 = Região Sudeste (SE)\n",
        "sudeste = ['MG','ES','RJ,'SP']\n",
        "\n",
        "4 = Região Sul (SUL)\n",
        "sul = ['PR','SC','RS']\n",
        "\n",
        "5 = Região Centro-Oeste (CO)\n",
        "CentroOeste = ['MS','MT','GO','DF']"
      ]
    },
    {
      "cell_type": "code",
      "metadata": {
        "id": "5Mm5FpYK7ZiY"
      },
      "source": [
        "norte = ['RO','AC','AM','RR' ,'PA' , 'AP' ,'TO']\n",
        "nordeste = ['MA','PI','CE','RN','PB','PE','AL','SE','BA']\n",
        "sudeste = ['MG','ES','RJ','SP']\n",
        "sul = ['PR','SC','RS']\n",
        "centroOeste = ['MS','MT','GO','DF']"
      ],
      "execution_count": null,
      "outputs": []
    },
    {
      "cell_type": "code",
      "metadata": {
        "id": "xFqdIFjhKFGW"
      },
      "source": [
        "dfMedicinaC['Regiao'] = np.nan"
      ],
      "execution_count": null,
      "outputs": []
    },
    {
      "cell_type": "code",
      "metadata": {
        "id": "DGPT1npCJgn-"
      },
      "source": [
        "#dfMedicinaC['Regiao'] = dfMedicinaC['Regiao'].astype(int)"
      ],
      "execution_count": null,
      "outputs": []
    },
    {
      "cell_type": "code",
      "metadata": {
        "id": "s9oSrGsHAEKn"
      },
      "source": [
        "condicao = [np.isin(dfMedicinaC['Sigla da UF'], norte),\n",
        "            np.isin(dfMedicinaC['Sigla da UF'], nordeste),\n",
        "            np.isin(dfMedicinaC['Sigla da UF'], sudeste),\n",
        "            np.isin(dfMedicinaC['Sigla da UF'], sul),\n",
        "           np.isin(dfMedicinaC['Sigla da UF'],  centroOeste)]\n",
        "\n",
        "resultados = [1,2,3,4,5]\n",
        "\n",
        "dfMedicinaC['Regiao'] = np.select(condicao, resultados)"
      ],
      "execution_count": null,
      "outputs": []
    },
    {
      "cell_type": "code",
      "metadata": {
        "id": "EClgGAjLmYyg",
        "outputId": "e1683f84-6b02-4fca-a351-11cd3e2136ad",
        "colab": {
          "base_uri": "https://localhost:8080/",
          "height": 261
        }
      },
      "source": [
        "dfMedicinaC.head()"
      ],
      "execution_count": null,
      "outputs": [
        {
          "output_type": "execute_result",
          "data": {
            "text/html": [
              "<div>\n",
              "<style scoped>\n",
              "    .dataframe tbody tr th:only-of-type {\n",
              "        vertical-align: middle;\n",
              "    }\n",
              "\n",
              "    .dataframe tbody tr th {\n",
              "        vertical-align: top;\n",
              "    }\n",
              "\n",
              "    .dataframe thead th {\n",
              "        text-align: right;\n",
              "    }\n",
              "</style>\n",
              "<table border=\"1\" class=\"dataframe\">\n",
              "  <thead>\n",
              "    <tr style=\"text-align: right;\">\n",
              "      <th></th>\n",
              "      <th>index</th>\n",
              "      <th>Código da Área</th>\n",
              "      <th>Código da IES</th>\n",
              "      <th>Sigla da IES</th>\n",
              "      <th>Município do Curso</th>\n",
              "      <th>Sigla da UF</th>\n",
              "      <th>Concluintes Inscritos</th>\n",
              "      <th>Concluintes Participantes</th>\n",
              "      <th>Nota Padronizada - FG</th>\n",
              "      <th>Nota Padronizada - CE</th>\n",
              "      <th>Conceito Enade (Contínuo)</th>\n",
              "      <th>Conceito Enade (Faixa)</th>\n",
              "      <th>Regiao</th>\n",
              "    </tr>\n",
              "  </thead>\n",
              "  <tbody>\n",
              "    <tr>\n",
              "      <th>0</th>\n",
              "      <td>2</td>\n",
              "      <td>12</td>\n",
              "      <td>1</td>\n",
              "      <td>UFMT</td>\n",
              "      <td>CUIABÁ</td>\n",
              "      <td>MT</td>\n",
              "      <td>35</td>\n",
              "      <td>33</td>\n",
              "      <td>3.473179</td>\n",
              "      <td>2.759319</td>\n",
              "      <td>2.937784</td>\n",
              "      <td>3</td>\n",
              "      <td>5</td>\n",
              "    </tr>\n",
              "    <tr>\n",
              "      <th>1</th>\n",
              "      <td>8</td>\n",
              "      <td>12</td>\n",
              "      <td>2</td>\n",
              "      <td>UNB</td>\n",
              "      <td>BRASÍLIA</td>\n",
              "      <td>DF</td>\n",
              "      <td>89</td>\n",
              "      <td>85</td>\n",
              "      <td>3.436836</td>\n",
              "      <td>2.841475</td>\n",
              "      <td>2.990315</td>\n",
              "      <td>4</td>\n",
              "      <td>5</td>\n",
              "    </tr>\n",
              "    <tr>\n",
              "      <th>2</th>\n",
              "      <td>13</td>\n",
              "      <td>12</td>\n",
              "      <td>3</td>\n",
              "      <td>UFS</td>\n",
              "      <td>ARACAJU</td>\n",
              "      <td>SE</td>\n",
              "      <td>53</td>\n",
              "      <td>53</td>\n",
              "      <td>2.643099</td>\n",
              "      <td>2.658829</td>\n",
              "      <td>2.654896</td>\n",
              "      <td>3</td>\n",
              "      <td>2</td>\n",
              "    </tr>\n",
              "    <tr>\n",
              "      <th>3</th>\n",
              "      <td>17</td>\n",
              "      <td>12</td>\n",
              "      <td>4</td>\n",
              "      <td>UFAM</td>\n",
              "      <td>MANAUS</td>\n",
              "      <td>AM</td>\n",
              "      <td>36</td>\n",
              "      <td>35</td>\n",
              "      <td>4.273778</td>\n",
              "      <td>2.299221</td>\n",
              "      <td>2.792860</td>\n",
              "      <td>3</td>\n",
              "      <td>1</td>\n",
              "    </tr>\n",
              "    <tr>\n",
              "      <th>4</th>\n",
              "      <td>21</td>\n",
              "      <td>12</td>\n",
              "      <td>5</td>\n",
              "      <td>UFPI</td>\n",
              "      <td>TERESINA</td>\n",
              "      <td>PI</td>\n",
              "      <td>45</td>\n",
              "      <td>45</td>\n",
              "      <td>3.533455</td>\n",
              "      <td>3.565352</td>\n",
              "      <td>3.557378</td>\n",
              "      <td>4</td>\n",
              "      <td>2</td>\n",
              "    </tr>\n",
              "  </tbody>\n",
              "</table>\n",
              "</div>"
            ],
            "text/plain": [
              "   index  Código da Área  ...  Conceito Enade (Faixa) Regiao\n",
              "0      2              12  ...                       3      5\n",
              "1      8              12  ...                       4      5\n",
              "2     13              12  ...                       3      2\n",
              "3     17              12  ...                       3      1\n",
              "4     21              12  ...                       4      2\n",
              "\n",
              "[5 rows x 13 columns]"
            ]
          },
          "metadata": {
            "tags": []
          },
          "execution_count": 12
        }
      ]
    },
    {
      "cell_type": "code",
      "metadata": {
        "id": "XKJ1-nqsjOmc"
      },
      "source": [
        "#Celula para verificar colunas\n"
      ],
      "execution_count": null,
      "outputs": []
    },
    {
      "cell_type": "markdown",
      "metadata": {
        "id": "sO_24gA_9gfb"
      },
      "source": [
        "#ITEM A\n"
      ]
    },
    {
      "cell_type": "markdown",
      "metadata": {
        "id": "1PDhVSkpeidB"
      },
      "source": [
        "##Notas Gerais\n"
      ]
    },
    {
      "cell_type": "code",
      "metadata": {
        "id": "BY-ESSUclWtS",
        "outputId": "bdc72215-cd9b-482d-8bf4-e385296795ba",
        "colab": {
          "base_uri": "https://localhost:8080/",
          "height": 312
        }
      },
      "source": [
        "se.boxplot(x = dfMedicinaC['Nota Padronizada - CE']).set_title('Gráfico Box-plot do conceito ENADE Nota Pardonizada CE')"
      ],
      "execution_count": null,
      "outputs": [
        {
          "output_type": "execute_result",
          "data": {
            "text/plain": [
              "Text(0.5, 1.0, 'Gráfico Box-plot do conceito ENADE Nota Pardonizada CE')"
            ]
          },
          "metadata": {
            "tags": []
          },
          "execution_count": 16
        },
        {
          "output_type": "display_data",
          "data": {
            "image/png": "[encoded data removed]",
            "text/plain": [
              "<Figure size 432x288 with 1 Axes>"
            ]
          },
          "metadata": {
            "tags": [],
            "needs_background": "light"
          }
        }
      ]
    },
    {
      "cell_type": "code",
      "metadata": {
        "id": "eoCe2cQAj3d1",
        "outputId": "a9c8caae-84dd-4851-ef71-b3d159a6e0af",
        "colab": {
          "base_uri": "https://localhost:8080/",
          "height": 312
        }
      },
      "source": [
        "se.boxplot(x = dfMedicinaC['Nota Padronizada - FG']).set_title('Gráfico Box-plot do conceito ENADE Nota Pardonizada FG')"
      ],
      "execution_count": null,
      "outputs": [
        {
          "output_type": "execute_result",
          "data": {
            "text/plain": [
              "Text(0.5, 1.0, 'Gráfico Box-plot do conceito ENADE Nota Pardonizada FG')"
            ]
          },
          "metadata": {
            "tags": []
          },
          "execution_count": 17
        },
        {
          "output_type": "display_data",
          "data": {
            "image/png": "[encoded data removed]",
            "text/plain": [
              "<Figure size 432x288 with 1 Axes>"
            ]
          },
          "metadata": {
            "tags": [],
            "needs_background": "light"
          }
        }
      ]
    },
    {
      "cell_type": "code",
      "metadata": {
        "id": "vzXNF3Dflpv2",
        "outputId": "6a0fce42-ceae-4539-b50f-209b661083e9",
        "colab": {
          "base_uri": "https://localhost:8080/",
          "height": 448
        }
      },
      "source": [
        "#Conceito Enade (Faixa)\n",
        "se.boxplot(x = dfMedicinaC['Conceito Enade (Faixa)']).set_title('Conceito ENADE Faixa')\n",
        "dfMedicinaC['Conceito Enade (Faixa)'].describe()"
      ],
      "execution_count": null,
      "outputs": [
        {
          "output_type": "execute_result",
          "data": {
            "text/plain": [
              "count    176.000000\n",
              "mean       3.119318\n",
              "std        0.850191\n",
              "min        1.000000\n",
              "25%        3.000000\n",
              "50%        3.000000\n",
              "75%        4.000000\n",
              "max        5.000000\n",
              "Name: Conceito Enade (Faixa), dtype: float64"
            ]
          },
          "metadata": {
            "tags": []
          },
          "execution_count": 18
        },
        {
          "output_type": "display_data",
          "data": {
            "image/png": "[encoded data removed]",
            "text/plain": [
              "<Figure size 432x288 with 1 Axes>"
            ]
          },
          "metadata": {
            "tags": [],
            "needs_background": "light"
          }
        }
      ]
    },
    {
      "cell_type": "code",
      "metadata": {
        "id": "CsLKaaxhszbI",
        "outputId": "200a570d-05ea-43d1-8e9d-474f288ee96d",
        "colab": {
          "base_uri": "https://localhost:8080/",
          "height": 312
        }
      },
      "source": [
        "se.boxplot(x = dfMedicinaC['Conceito Enade (Contínuo)']).set_title('Gráfico Box-plot do conceito ENADE contínuo de Medicina')"
      ],
      "execution_count": null,
      "outputs": [
        {
          "output_type": "execute_result",
          "data": {
            "text/plain": [
              "Text(0.5, 1.0, 'Gráfico Box-plot do conceito ENADE contínuo de Medicina')"
            ]
          },
          "metadata": {
            "tags": []
          },
          "execution_count": 19
        },
        {
          "output_type": "display_data",
          "data": {
            "image/png": "[encoded data removed]",
            "text/plain": [
              "<Figure size 432x288 with 1 Axes>"
            ]
          },
          "metadata": {
            "tags": [],
            "needs_background": "light"
          }
        }
      ]
    },
    {
      "cell_type": "markdown",
      "metadata": {
        "id": "sl7NFLvuesFE"
      },
      "source": [
        "## Gráficos por Região\n",
        "\n",
        "\n",
        "\n",
        "CO_REGIAO_CURSO\n",
        "1. = Região Norte (NO)\n",
        "2. = Região Nordeste (NE)\n",
        "3. = Região Centro-Oeste (CO)\n",
        "4. = Região Sul (SUL)\n",
        "5. =  Região Sudeste (SE)"
      ]
    },
    {
      "cell_type": "code",
      "metadata": {
        "id": "fIfmfDDkl8Hj",
        "outputId": "7516c5ad-17db-4a8a-84c8-26afe00282e7",
        "colab": {
          "base_uri": "https://localhost:8080/"
        }
      },
      "source": [
        "contagemNorte = dfMedicinaC['Município do Curso'].loc[dfMedicinaC['Regiao'] == 1].count()\n",
        "contagemNordeste = dfMedicinaC['Município do Curso'].loc[dfMedicinaC['Regiao'] == 2].count()\n",
        "contagemSudeste = dfMedicinaC['Município do Curso'].loc[dfMedicinaC['Regiao'] == 3].count()\n",
        "contagemSul = dfMedicinaC['Município do Curso'].loc[dfMedicinaC['Regiao'] == 4].count()\n",
        "contagemCentroOeste=dfMedicinaC['Município do Curso'].loc[dfMedicinaC['Regiao'] == 5].count()\n",
        "\n",
        "print ('Número de inscritos por região:')\n",
        "print (f'1. Norte = {contagemNorte}')\n",
        "print (f'2. Nordeste = {contagemNordeste}')\n",
        "print (f'3. Sudeste = {contagemSudeste}')\n",
        "print (f'4. Sul = {contagemSul}')\n",
        "print (f'5. Centro-Oeste = {contagemCentroOeste}')\n",
        "print(f'Total = {contagemNorte + contagemNordeste + contagemSudeste + contagemSul + contagemCentroOeste}')"
      ],
      "execution_count": null,
      "outputs": [
        {
          "output_type": "stream",
          "text": [
            "Número de inscritos por região:\n",
            "1. Norte = 16\n",
            "2. Nordeste = 39\n",
            "3. Sudeste = 78\n",
            "4. Sul = 31\n",
            "5. Centro-Oeste = 12\n",
            "Total = 176\n"
          ],
          "name": "stdout"
        }
      ]
    },
    {
      "cell_type": "markdown",
      "metadata": {
        "id": "eI_fC34-rvMu"
      },
      "source": [
        "###Boxsplot - Nota Padronizada FG"
      ]
    },
    {
      "cell_type": "code",
      "metadata": {
        "id": "zDo6_CnfwPnM"
      },
      "source": [
        "NomeDaColuna = 'Nota Padronizada - FG'"
      ],
      "execution_count": null,
      "outputs": []
    },
    {
      "cell_type": "code",
      "metadata": {
        "id": "KFE-8AgXwPnR",
        "outputId": "f147ba84-a2db-4638-f08c-ebf2d7af0a96",
        "colab": {
          "base_uri": "https://localhost:8080/",
          "height": 312
        }
      },
      "source": [
        "se.boxplot(x = dfMedicinaC.where(dfMedicinaC['Regiao'] == 1)[NomeDaColuna]).set_title(F\"{NomeDaColuna} - Região Norte\")"
      ],
      "execution_count": null,
      "outputs": [
        {
          "output_type": "execute_result",
          "data": {
            "text/plain": [
              "Text(0.5, 1.0, 'Nota Padronizada - FG - Região Norte')"
            ]
          },
          "metadata": {
            "tags": []
          },
          "execution_count": 22
        },
        {
          "output_type": "display_data",
          "data": {
            "image/png": "[encoded data removed]",
            "text/plain": [
              "<Figure size 432x288 with 1 Axes>"
            ]
          },
          "metadata": {
            "tags": [],
            "needs_background": "light"
          }
        }
      ]
    },
    {
      "cell_type": "code",
      "metadata": {
        "id": "pTlTXyeawPnT",
        "outputId": "f95069a1-1a64-4f5b-b085-058222ced72c",
        "colab": {
          "base_uri": "https://localhost:8080/",
          "height": 312
        }
      },
      "source": [
        "se.boxplot(x = dfMedicinaC.where(dfMedicinaC['Regiao'] == 2)[NomeDaColuna]).set_title(F\"{NomeDaColuna}  - Região Nordeste\")"
      ],
      "execution_count": null,
      "outputs": [
        {
          "output_type": "execute_result",
          "data": {
            "text/plain": [
              "Text(0.5, 1.0, 'Nota Padronizada - FG  - Região Nordeste')"
            ]
          },
          "metadata": {
            "tags": []
          },
          "execution_count": 23
        },
        {
          "output_type": "display_data",
          "data": {
            "image/png": "[encoded data removed]",
            "text/plain": [
              "<Figure size 432x288 with 1 Axes>"
            ]
          },
          "metadata": {
            "tags": [],
            "needs_background": "light"
          }
        }
      ]
    },
    {
      "cell_type": "code",
      "metadata": {
        "id": "HKliWX5LwPnY",
        "outputId": "59766153-0382-47ae-f8cd-9705c0620cf2",
        "colab": {
          "base_uri": "https://localhost:8080/",
          "height": 312
        }
      },
      "source": [
        "se.boxplot(x = dfMedicinaC.where(dfMedicinaC['Regiao'] == 3)[NomeDaColuna]).set_title(F\"{NomeDaColuna}  -  Região Centro-Oeste\")"
      ],
      "execution_count": null,
      "outputs": [
        {
          "output_type": "execute_result",
          "data": {
            "text/plain": [
              "Text(0.5, 1.0, 'Nota Padronizada - FG  -  Região Centro-Oeste')"
            ]
          },
          "metadata": {
            "tags": []
          },
          "execution_count": 24
        },
        {
          "output_type": "display_data",
          "data": {
            "image/png": "[encoded data removed]",
            "text/plain": [
              "<Figure size 432x288 with 1 Axes>"
            ]
          },
          "metadata": {
            "tags": [],
            "needs_background": "light"
          }
        }
      ]
    },
    {
      "cell_type": "code",
      "metadata": {
        "id": "3EX6LGYJwPni",
        "outputId": "dfd86661-2ac9-43c6-aa33-12c2f462be1f",
        "colab": {
          "base_uri": "https://localhost:8080/",
          "height": 312
        }
      },
      "source": [
        "se.boxplot(x = dfMedicinaC.where(dfMedicinaC['Regiao'] == 4)[NomeDaColuna]).set_title(F\"{NomeDaColuna}  - Região Sul\")"
      ],
      "execution_count": null,
      "outputs": [
        {
          "output_type": "execute_result",
          "data": {
            "text/plain": [
              "Text(0.5, 1.0, 'Nota Padronizada - FG  - Região Sul')"
            ]
          },
          "metadata": {
            "tags": []
          },
          "execution_count": 25
        },
        {
          "output_type": "display_data",
          "data": {
            "image/png": "[encoded data removed]",
            "text/plain": [
              "<Figure size 432x288 with 1 Axes>"
            ]
          },
          "metadata": {
            "tags": [],
            "needs_background": "light"
          }
        }
      ]
    },
    {
      "cell_type": "code",
      "metadata": {
        "id": "mW6-nHfdwPnk",
        "outputId": "09c5b573-8a9c-4a57-eee5-9a6d516a255c",
        "colab": {
          "base_uri": "https://localhost:8080/",
          "height": 312
        }
      },
      "source": [
        "se.boxplot(x = dfMedicinaC.where(dfMedicinaC['Regiao'] == 5)[NomeDaColuna]).set_title(F\"{NomeDaColuna}  - Região Sudeste\")"
      ],
      "execution_count": null,
      "outputs": [
        {
          "output_type": "execute_result",
          "data": {
            "text/plain": [
              "Text(0.5, 1.0, 'Nota Padronizada - FG  - Região Sudeste')"
            ]
          },
          "metadata": {
            "tags": []
          },
          "execution_count": 26
        },
        {
          "output_type": "display_data",
          "data": {
            "image/png": "[encoded data removed]",
            "text/plain": [
              "<Figure size 432x288 with 1 Axes>"
            ]
          },
          "metadata": {
            "tags": [],
            "needs_background": "light"
          }
        }
      ]
    },
    {
      "cell_type": "markdown",
      "metadata": {
        "id": "pjaY6rwAwPno"
      },
      "source": [
        "###Histograma - Nota Padronizada - FG"
      ]
    },
    {
      "cell_type": "code",
      "metadata": {
        "id": "uhDVvVOwwPno",
        "outputId": "5f329fb0-9193-4a5c-9096-83b3ca211195",
        "colab": {
          "base_uri": "https://localhost:8080/",
          "height": 312
        }
      },
      "source": [
        "se.histplot(data= dfMedicinaC.where(dfMedicinaC['Regiao'] == 1), x= NomeDaColuna, stat='frequency').set_title(F\"{NomeDaColuna} - Região Norte\")"
      ],
      "execution_count": null,
      "outputs": [
        {
          "output_type": "execute_result",
          "data": {
            "text/plain": [
              "Text(0.5, 1.0, 'Nota Padronizada - FG - Região Norte')"
            ]
          },
          "metadata": {
            "tags": []
          },
          "execution_count": 27
        },
        {
          "output_type": "display_data",
          "data": {
            "image/png": "[encoded data removed]",
            "text/plain": [
              "<Figure size 432x288 with 1 Axes>"
            ]
          },
          "metadata": {
            "tags": [],
            "needs_background": "light"
          }
        }
      ]
    },
    {
      "cell_type": "code",
      "metadata": {
        "id": "IGbTM6szwPns",
        "outputId": "23b052a9-b4ed-4421-bda1-51311f71127a",
        "colab": {
          "base_uri": "https://localhost:8080/",
          "height": 312
        }
      },
      "source": [
        "se.histplot(data= dfMedicinaC.where(dfMedicinaC['Regiao'] == 2),  x= NomeDaColuna, stat='frequency').set_title(F\"{NomeDaColuna}  - Região Nordeste\")"
      ],
      "execution_count": null,
      "outputs": [
        {
          "output_type": "execute_result",
          "data": {
            "text/plain": [
              "Text(0.5, 1.0, 'Nota Padronizada - FG  - Região Nordeste')"
            ]
          },
          "metadata": {
            "tags": []
          },
          "execution_count": 28
        },
        {
          "output_type": "display_data",
          "data": {
            "image/png": "[encoded data removed]",
            "text/plain": [
              "<Figure size 432x288 with 1 Axes>"
            ]
          },
          "metadata": {
            "tags": [],
            "needs_background": "light"
          }
        }
      ]
    },
    {
      "cell_type": "code",
      "metadata": {
        "id": "8ZkPS0STwPnu",
        "outputId": "888d3478-8052-4cb4-dec5-acb020b9d3ec",
        "colab": {
          "base_uri": "https://localhost:8080/",
          "height": 312
        }
      },
      "source": [
        "se.histplot(data= dfMedicinaC.where(dfMedicinaC['Regiao'] == 3),  x= NomeDaColuna, stat='frequency').set_title(F\"{NomeDaColuna}  - Regiao Centro-Oeste\")"
      ],
      "execution_count": null,
      "outputs": [
        {
          "output_type": "execute_result",
          "data": {
            "text/plain": [
              "Text(0.5, 1.0, 'Nota Padronizada - FG  - Regiao Centro-Oeste')"
            ]
          },
          "metadata": {
            "tags": []
          },
          "execution_count": 29
        },
        {
          "output_type": "display_data",
          "data": {
            "image/png": "[encoded data removed]",
            "text/plain": [
              "<Figure size 432x288 with 1 Axes>"
            ]
          },
          "metadata": {
            "tags": [],
            "needs_background": "light"
          }
        }
      ]
    },
    {
      "cell_type": "code",
      "metadata": {
        "id": "MYlGf30GwPnw",
        "outputId": "01965d79-de2e-4354-ca91-4df54ad31b98",
        "colab": {
          "base_uri": "https://localhost:8080/",
          "height": 312
        }
      },
      "source": [
        "se.histplot(data= dfMedicinaC.where(dfMedicinaC['Regiao'] == 4),  x= NomeDaColuna, stat='frequency').set_title(F\"{NomeDaColuna}  - Região Sul\")"
      ],
      "execution_count": null,
      "outputs": [
        {
          "output_type": "execute_result",
          "data": {
            "text/plain": [
              "Text(0.5, 1.0, 'Nota Padronizada - FG  - Região Sul')"
            ]
          },
          "metadata": {
            "tags": []
          },
          "execution_count": 30
        },
        {
          "output_type": "display_data",
          "data": {
            "image/png": "[encoded data removed]",
            "text/plain": [
              "<Figure size 432x288 with 1 Axes>"
            ]
          },
          "metadata": {
            "tags": [],
            "needs_background": "light"
          }
        }
      ]
    },
    {
      "cell_type": "code",
      "metadata": {
        "id": "eVQwpsjAwPny",
        "outputId": "bb24c0e3-a050-403f-a696-ba467f69d0fd",
        "colab": {
          "base_uri": "https://localhost:8080/",
          "height": 164
        }
      },
      "source": [
        "se.histplot(data= dfMedicinaC.where(dfMedicinaC['Regiao'] == 5),  x= NPCE, stat='frequency').set_title(F\"{NPCE}  - Região Sudeste\")"
      ],
      "execution_count": null,
      "outputs": [
        {
          "output_type": "error",
          "ename": "NameError",
          "evalue": "ignored",
          "traceback": [
            "\u001b[0;31m---------------------------------------------------------------------------\u001b[0m",
            "\u001b[0;31mNameError\u001b[0m                                 Traceback (most recent call last)",
            "\u001b[0;32m<ipython-input-31-809390c0a30e>\u001b[0m in \u001b[0;36m<module>\u001b[0;34m()\u001b[0m\n\u001b[0;32m----> 1\u001b[0;31m \u001b[0mse\u001b[0m\u001b[0;34m.\u001b[0m\u001b[0mhistplot\u001b[0m\u001b[0;34m(\u001b[0m\u001b[0mdata\u001b[0m\u001b[0;34m=\u001b[0m \u001b[0mdfMedicinaC\u001b[0m\u001b[0;34m.\u001b[0m\u001b[0mwhere\u001b[0m\u001b[0;34m(\u001b[0m\u001b[0mdfMedicinaC\u001b[0m\u001b[0;34m[\u001b[0m\u001b[0;34m'Regiao'\u001b[0m\u001b[0;34m]\u001b[0m \u001b[0;34m==\u001b[0m \u001b[0;36m5\u001b[0m\u001b[0;34m)\u001b[0m\u001b[0;34m,\u001b[0m  \u001b[0mx\u001b[0m\u001b[0;34m=\u001b[0m \u001b[0mNPCE\u001b[0m\u001b[0;34m,\u001b[0m \u001b[0mstat\u001b[0m\u001b[0;34m=\u001b[0m\u001b[0;34m'frequency'\u001b[0m\u001b[0;34m)\u001b[0m\u001b[0;34m.\u001b[0m\u001b[0mset_title\u001b[0m\u001b[0;34m(\u001b[0m\u001b[0;34mF\"{NPCE}  - Região Sudeste\"\u001b[0m\u001b[0;34m)\u001b[0m\u001b[0;34m\u001b[0m\u001b[0;34m\u001b[0m\u001b[0m\n\u001b[0m",
            "\u001b[0;31mNameError\u001b[0m: name 'NPCE' is not defined"
          ]
        }
      ]
    },
    {
      "cell_type": "markdown",
      "metadata": {
        "id": "XvRnhtA2gcBg"
      },
      "source": [
        "###Boxsplot - Nota Padronizada - CE"
      ]
    },
    {
      "cell_type": "code",
      "metadata": {
        "id": "zSYDkizisqN7"
      },
      "source": [
        "NomeDaColuna = 'Nota Padronizada - CE'"
      ],
      "execution_count": null,
      "outputs": []
    },
    {
      "cell_type": "code",
      "metadata": {
        "id": "PPRoxzo4sfqs"
      },
      "source": [
        "se.boxplot(dfMedicinaC.where(dfMedicinaC['Regiao'] == 1)[NomeDaColuna]).set_title(F\"{NomeDaColuna} - Região Norte\")"
      ],
      "execution_count": null,
      "outputs": []
    },
    {
      "cell_type": "code",
      "metadata": {
        "id": "rF4aQds7e0nN"
      },
      "source": [
        "se.boxplot(dfMedicinaC.where(dfMedicinaC['Regiao'] == 2)[NomeDaColuna]).set_title(F\"{NomeDaColuna}  - Região Nordeste\")"
      ],
      "execution_count": null,
      "outputs": []
    },
    {
      "cell_type": "code",
      "metadata": {
        "id": "33ntVzIOe0CG"
      },
      "source": [
        "se.boxplot(dfMedicinaC.where(dfMedicinaC['Regiao'] == 3)[NomeDaColuna]).set_title(F\"{NomeDaColuna}  -  Região Centro-Oeste\")"
      ],
      "execution_count": null,
      "outputs": []
    },
    {
      "cell_type": "code",
      "metadata": {
        "id": "tRBMJmM5eznf"
      },
      "source": [
        "se.boxplot(dfMedicinaC.where(dfMedicinaC['Regiao'] == 4)[NomeDaColuna]).set_title(F\"{NomeDaColuna}  - Região Sul\")"
      ],
      "execution_count": null,
      "outputs": []
    },
    {
      "cell_type": "code",
      "metadata": {
        "id": "6F_gCvA2wQeN"
      },
      "source": [
        "se.boxplot(dfMedicinaC.where(dfMedicinaC['Regiao'] == 5)[NomeDaColuna]).set_title(F\"{NomeDaColuna}  - Região Sudeste\")"
      ],
      "execution_count": null,
      "outputs": []
    },
    {
      "cell_type": "markdown",
      "metadata": {
        "id": "QtRH-Rn1hHAo"
      },
      "source": [
        "###Histograma - Nota Padronizada - CE"
      ]
    },
    {
      "cell_type": "code",
      "metadata": {
        "id": "2RsskVZBhNT-"
      },
      "source": [
        "se.histplot(data= dfMedicinaC.where(dfMedicinaC['Regiao'] == 1), x= NomeDaColuna, stat='frequency').set_title(F\"{NomeDaColuna} - Região Norte\")"
      ],
      "execution_count": null,
      "outputs": []
    },
    {
      "cell_type": "code",
      "metadata": {
        "id": "WwpUvAddhNnw"
      },
      "source": [
        "se.histplot(data= dfMedicinaC.where(dfMedicinaC['Regiao'] == 2),  x= NomeDaColuna, stat='frequency').set_title(F\"{NomeDaColuna}  - Região Nordeste\")"
      ],
      "execution_count": null,
      "outputs": []
    },
    {
      "cell_type": "code",
      "metadata": {
        "id": "afnzzTGFhN8L"
      },
      "source": [
        "se.histplot(data= dfMedicinaC.where(dfMedicinaC['Regiao'] == 3),  x= NomeDaColuna, stat='frequency').set_title(F\"{NomeDaColuna}  - Regiao Centro-Oeste\")"
      ],
      "execution_count": null,
      "outputs": []
    },
    {
      "cell_type": "code",
      "metadata": {
        "id": "Yk3eEo2XhOQt"
      },
      "source": [
        "se.histplot(data= dfMedicinaC.where(dfMedicinaC['Regiao'] == 4),  x= NomeDaColuna, stat='frequency').set_title(F\"{NomeDaColuna}  - Região Sul\")"
      ],
      "execution_count": null,
      "outputs": []
    },
    {
      "cell_type": "code",
      "metadata": {
        "id": "E3XpduaAhOg1"
      },
      "source": [
        "se.histplot(data= dfMedicinaC.where(dfMedicinaC['Regiao'] == 5),  x= NPCE, stat='frequency').set_title(F\"{NomeDaColuna}  - Região Sudeste \")"
      ],
      "execution_count": null,
      "outputs": []
    },
    {
      "cell_type": "markdown",
      "metadata": {
        "id": "DWmmqh2huEu6"
      },
      "source": [
        "###Boxsplot - Conceito Enade (Faixa)"
      ]
    },
    {
      "cell_type": "code",
      "metadata": {
        "id": "btaKb1fRuEvD"
      },
      "source": [
        "NomeDaColuna = 'Conceito Enade (Faixa)'"
      ],
      "execution_count": null,
      "outputs": []
    },
    {
      "cell_type": "code",
      "metadata": {
        "id": "a8p9tk0-uEvK"
      },
      "source": [
        "se.boxplot(dfMedicinaC.where(dfMedicinaC['Regiao'] == 1)[NomeDaColuna]).set_title(F\"{NomeDaColuna} - Região Norte\")"
      ],
      "execution_count": null,
      "outputs": []
    },
    {
      "cell_type": "code",
      "metadata": {
        "id": "TFvaaulMuEvN"
      },
      "source": [
        "se.boxplot(dfMedicinaC.where(dfMedicinaC['Regiao'] == 2)[NomeDaColuna]).set_title(F\"{NomeDaColuna}  - Região Nordeste\")"
      ],
      "execution_count": null,
      "outputs": []
    },
    {
      "cell_type": "code",
      "metadata": {
        "id": "YXi2UQhmuEvS"
      },
      "source": [
        "se.boxplot(dfMedicinaC.where(dfMedicinaC['Regiao'] == 3)[NomeDaColuna]).set_title(F\"{NomeDaColuna}  -  Região Centro-Oeste\")"
      ],
      "execution_count": null,
      "outputs": []
    },
    {
      "cell_type": "code",
      "metadata": {
        "id": "jzx4rtzYuEvU"
      },
      "source": [
        "se.boxplot(dfMedicinaC.where(dfMedicinaC['Regiao'] == 4)[NomeDaColuna]).set_title(F\"{NomeDaColuna}  - Região Sul\")"
      ],
      "execution_count": null,
      "outputs": []
    },
    {
      "cell_type": "code",
      "metadata": {
        "id": "SlsN5fduuEvW"
      },
      "source": [
        "se.boxplot(dfMedicinaC.where(dfMedicinaC['Regiao'] == 5)[NomeDaColuna]).set_title(F\"{NomeDaColuna}  - Região Sudeste\")"
      ],
      "execution_count": null,
      "outputs": []
    },
    {
      "cell_type": "markdown",
      "metadata": {
        "id": "cybOiiGYuEvb"
      },
      "source": [
        "###Histograma - Conceito Enade (Faixa)"
      ]
    },
    {
      "cell_type": "code",
      "metadata": {
        "id": "2reVwjxsuEvc"
      },
      "source": [
        "se.histplot(data= dfMedicinaC.where(dfMedicinaC['Regiao'] == 1), x= NomeDaColuna, stat='frequency').set_title(F\"{NomeDaColuna} - Região Norte\")"
      ],
      "execution_count": null,
      "outputs": []
    },
    {
      "cell_type": "code",
      "metadata": {
        "id": "YfVy_Lz6uEve"
      },
      "source": [
        "se.histplot(data= dfMedicinaC.where(dfMedicinaC['Regiao'] == 2),  x= NomeDaColuna, stat='frequency').set_title(F\"{NomeDaColuna}  - Região Nordeste\")"
      ],
      "execution_count": null,
      "outputs": []
    },
    {
      "cell_type": "code",
      "metadata": {
        "id": "6UEax_OtuEvh"
      },
      "source": [
        "se.histplot(data= dfMedicinaC.where(dfMedicinaC['Regiao'] == 3),  x= NomeDaColuna, stat='frequency').set_title(F\"{NomeDaColuna}  - Regiao Centro-Oeste\")"
      ],
      "execution_count": null,
      "outputs": []
    },
    {
      "cell_type": "code",
      "metadata": {
        "id": "EbOKZy2yuEvj"
      },
      "source": [
        "se.histplot(data= dfMedicinaC.where(dfMedicinaC['Regiao'] == 4),  x= NomeDaColuna, stat='frequency').set_title(F\"{NomeDaColuna}  - Região Sul\")"
      ],
      "execution_count": null,
      "outputs": []
    },
    {
      "cell_type": "code",
      "metadata": {
        "id": "T5Mohhr4uEvl"
      },
      "source": [
        "se.histplot(data= dfMedicinaC.where(dfMedicinaC['Regiao'] == 5),  x= NomeDaColuna, stat='frequency').set_title(F\"{NomeDaColuna}  - Região Sudeste x= NPCE, stat='frequency').set_title(F\"{NPCE} \")"
      ],
      "execution_count": null,
      "outputs": []
    },
    {
      "cell_type": "markdown",
      "metadata": {
        "id": "npFYsZeVun6S"
      },
      "source": [
        "###Boxsplot - Conceito Enade (Contínuo)"
      ]
    },
    {
      "cell_type": "code",
      "metadata": {
        "id": "CfljN-D7un6o"
      },
      "source": [
        "NomeDaColuna = 'Conceito Enade (Contínuo)'"
      ],
      "execution_count": null,
      "outputs": []
    },
    {
      "cell_type": "code",
      "metadata": {
        "id": "EPCqWMdgun6y"
      },
      "source": [
        "se.boxplot(dfMedicinaC.where(dfMedicinaC['Regiao'] == 1)[NomeDaColuna]).set_title(F\"{NomeDaColuna} - Região Norte\")"
      ],
      "execution_count": null,
      "outputs": []
    },
    {
      "cell_type": "code",
      "metadata": {
        "id": "-RXuzJNdun63"
      },
      "source": [
        "se.boxplot(dfMedicinaC.where(dfMedicinaC['Regiao'] == 2)[NomeDaColuna]).set_title(F\"{NomeDaColuna}  - Região Nordeste\")"
      ],
      "execution_count": null,
      "outputs": []
    },
    {
      "cell_type": "code",
      "metadata": {
        "id": "JmUt-EFUun6-"
      },
      "source": [
        "se.boxplot(dfMedicinaC.where(dfMedicinaC['Regiao'] == 3)[NomeDaColuna]).set_title(F\"{NomeDaColuna}  -  Região Centro-Oeste\")"
      ],
      "execution_count": null,
      "outputs": []
    },
    {
      "cell_type": "code",
      "metadata": {
        "id": "BG0_fzkUun7B"
      },
      "source": [
        "NomeDaColunase.boxplot(dfMedicinaC.where(dfMedicinaC['Regiao'] == 4)[NomeDaColuna]).set_title(F\"{NomeDaColuna}  - Região Sul\")"
      ],
      "execution_count": null,
      "outputs": []
    },
    {
      "cell_type": "code",
      "metadata": {
        "id": "-S698Geuun7F"
      },
      "source": [
        "se.boxplot(dfMedicinaC.where(dfMedicinaC['Regiao'] == 5)[NomeDaColuna]).set_title(F\"{NomeDaColuna}  - Região Sudeste\")"
      ],
      "execution_count": null,
      "outputs": []
    },
    {
      "cell_type": "markdown",
      "metadata": {
        "id": "D2i6m9Gtun7I"
      },
      "source": [
        "###Histograma - Conceito Enade (Faixa)"
      ]
    },
    {
      "cell_type": "code",
      "metadata": {
        "id": "Gqig2QkDun7I"
      },
      "source": [
        "se.histplot(data= dfMedicinaC.where(dfMedicinaC['Regiao'] == 1), x= NomeDaColuna, stat='frequency').set_title(F\"{NomeDaColuna} - Região Norte\")"
      ],
      "execution_count": null,
      "outputs": []
    },
    {
      "cell_type": "code",
      "metadata": {
        "id": "SSU23zjUun7K"
      },
      "source": [
        "se.histplot(data= dfMedicinaC.where(dfMedicinaC['Regiao'] == 2),  x= NomeDaColuna, stat='frequency').set_title(F\"{NomeDaColuna}  - Região Nordeste\")"
      ],
      "execution_count": null,
      "outputs": []
    },
    {
      "cell_type": "code",
      "metadata": {
        "id": "6xwVwkzgun7M"
      },
      "source": [
        "se.histplot(data= dfMedicinaC.where(dfMedicinaC['Regiao'] == 3),  x= NomeDaColuna, stat='frequency').set_title(F\"{NomeDaColuna}  - Regiao Centro-Oeste\")"
      ],
      "execution_count": null,
      "outputs": []
    },
    {
      "cell_type": "code",
      "metadata": {
        "id": "2H3e1iFAun7S"
      },
      "source": [
        "NomeDaColunase.histplot(data= dfMedicinaC.where(dfMedicinaC['Regiao'] == 4),  x= NomeDaColuna, stat='frequency').set_title(F\"{NomeDaColuna}  - Região Sul\")"
      ],
      "execution_count": null,
      "outputs": []
    },
    {
      "cell_type": "code",
      "metadata": {
        "id": "9U_K7dGvun7X"
      },
      "source": [
        "se.histplot(data= dfMedicinaC.where(dfMedicinaC['Regiao'] == 5),  x= NomeDaColuna, stat='frequency').set_title(F\"{NomeDaColuna}  - Região Sudeste  \")"
      ],
      "execution_count": null,
      "outputs": []
    },
    {
      "cell_type": "markdown",
      "metadata": {
        "id": "bAzBKzs8-ZgZ"
      },
      "source": [
        "# **ITEM B**\n"
      ]
    },
    {
      "cell_type": "code",
      "metadata": {
        "id": "bqXJP_oE-Zgq"
      },
      "source": [
        "dfMedicinaC.head()"
      ],
      "execution_count": null,
      "outputs": []
    },
    {
      "cell_type": "code",
      "metadata": {
        "id": "8X2Iwt6P-ZhB"
      },
      "source": [
        "# cria variáveis para as colunas\n",
        "conc_inscritos = dfMedicinaC['Concluintes Inscritos']\n",
        "conc_participantes = dfMedicinaC['Concluintes Participantes']\n",
        "nota_fg = dfMedicinaC['Nota Padronizada - FG']\n",
        "nota_ce = dfMedicinaC['Nota Padronizada - CE']\n",
        "conceito_cont = dfMedicinaC['Conceito Enade (Contínuo)']\n",
        "conceito_faixa = dfMedicinaC['Conceito Enade (Faixa)']"
      ],
      "execution_count": null,
      "outputs": []
    },
    {
      "cell_type": "code",
      "metadata": {
        "id": "q_7jGSNF-ZhK"
      },
      "source": [
        "# função para calcular simetria\n",
        "def calc_simetria(media, mediana):\n",
        "  if (media > mediana):\n",
        "    return 'ASSIMÉTRICA POSITIVA'\n",
        "  elif (media < mediana):\n",
        "    return 'ASSIMÉTRICA NEGATIVA'\n",
        "  else:\n",
        "    return 'SIMÉTRICA'"
      ],
      "execution_count": null,
      "outputs": []
    },
    {
      "cell_type": "markdown",
      "metadata": {
        "id": "4wAiB6mI-ZhQ"
      },
      "source": [
        "## **B - Variável 'Concluintes Inscritos'**"
      ]
    },
    {
      "cell_type": "code",
      "metadata": {
        "id": "MGH-UEIf-ZhS"
      },
      "source": [
        "# Info\n",
        "conc_inscritos.describe()"
      ],
      "execution_count": null,
      "outputs": []
    },
    {
      "cell_type": "code",
      "metadata": {
        "id": "zc5bjMaB-ZhY"
      },
      "source": [
        "# Criar lista\n",
        "inscritos_array = np.array(conc_inscritos, dtype = float)\n",
        "print (inscritos_array)"
      ],
      "execution_count": null,
      "outputs": []
    },
    {
      "cell_type": "code",
      "metadata": {
        "id": "_5OXNSyg-Zhl",
        "outputId": "ace32d55-5deb-4bed-d675-c6b48ffdb205",
        "colab": {
          "base_uri": "https://localhost:8080/"
        }
      },
      "source": [
        "# Média\n",
        "ci_media = st.mean(inscritos_array)\n",
        "ci_media"
      ],
      "execution_count": null,
      "outputs": [
        {
          "output_type": "execute_result",
          "data": {
            "text/plain": [
              "90.01704545454545"
            ]
          },
          "metadata": {
            "tags": []
          },
          "execution_count": 35
        }
      ]
    },
    {
      "cell_type": "code",
      "metadata": {
        "id": "eQFT0ILa-Zhq"
      },
      "source": [
        "# Mediana\n",
        "ci_mediana = st.median(inscritos_array)\n",
        "ci_mediana"
      ],
      "execution_count": null,
      "outputs": []
    },
    {
      "cell_type": "code",
      "metadata": {
        "id": "0LTIpQnH-Zhw"
      },
      "source": [
        "# Moda\n",
        "ci_moda = st.mode(inscritos_array) # st.multimode(inscritos_array)\n",
        "ci_moda"
      ],
      "execution_count": null,
      "outputs": []
    },
    {
      "cell_type": "code",
      "metadata": {
        "id": "tHJQSscG-Zh1",
        "outputId": "028ae91d-8f2a-48af-e924-256fab6cef52",
        "colab": {
          "base_uri": "https://localhost:8080/"
        }
      },
      "source": [
        "# Desvio-padrão\n",
        "ci_desvio_padrao = np.std(inscritos_array)\n",
        "ci_desvio_padrao"
      ],
      "execution_count": null,
      "outputs": [
        {
          "output_type": "execute_result",
          "data": {
            "text/plain": [
              "47.906688946493844"
            ]
          },
          "metadata": {
            "tags": []
          },
          "execution_count": 36
        }
      ]
    },
    {
      "cell_type": "code",
      "metadata": {
        "id": "XiwUPbGj-Zh6"
      },
      "source": [
        "# Coeficiente de variação\n",
        "ci_coef_variacao = np.var(inscritos_array)\n",
        "ci_coef_variacao"
      ],
      "execution_count": null,
      "outputs": []
    },
    {
      "cell_type": "code",
      "metadata": {
        "id": "x3uXZX2w-ZiA"
      },
      "source": [
        "# Simetria\n",
        "print(\"A variável é\", calc_simetria(ci_media, ci_mediana))\n",
        "print()\n",
        "se.boxplot(x = conc_inscritos).set_title('Gráfico Box-plot dos concluintes inscritos')"
      ],
      "execution_count": null,
      "outputs": []
    },
    {
      "cell_type": "markdown",
      "metadata": {
        "id": "VKBXk1Wi-ZiF"
      },
      "source": [
        "## **B - Variável 'Concluintes Participantes'**"
      ]
    },
    {
      "cell_type": "code",
      "metadata": {
        "id": "rtSuYdL1-ZiG"
      },
      "source": [
        "# Info\n",
        "conc_participantes.describe()"
      ],
      "execution_count": null,
      "outputs": []
    },
    {
      "cell_type": "code",
      "metadata": {
        "id": "AgzjKnMH-ZiK"
      },
      "source": [
        "# Criar lista\n",
        "participantes_array = np.array(conc_participantes, dtype = float)\n",
        "print (participantes_array)"
      ],
      "execution_count": null,
      "outputs": []
    },
    {
      "cell_type": "code",
      "metadata": {
        "id": "cj3aMA-U-ZiO",
        "outputId": "e2b6a8b4-037c-4213-800e-ec88aa6839d6",
        "colab": {
          "base_uri": "https://localhost:8080/"
        }
      },
      "source": [
        "# Média\n",
        "cp_media = st.mean(participantes_array)\n",
        "cp_media"
      ],
      "execution_count": null,
      "outputs": [
        {
          "output_type": "execute_result",
          "data": {
            "text/plain": [
              "88.24431818181819"
            ]
          },
          "metadata": {
            "tags": []
          },
          "execution_count": 38
        }
      ]
    },
    {
      "cell_type": "code",
      "metadata": {
        "id": "vlk24sN0-ZiT"
      },
      "source": [
        "# Mediana\n",
        "cp_mediana = st.median(participantes_array)\n",
        "cp_mediana"
      ],
      "execution_count": null,
      "outputs": []
    },
    {
      "cell_type": "code",
      "metadata": {
        "id": "zEivoTpT-ZiX"
      },
      "source": [
        "# Moda\n",
        "cp_moda = st.mode(participantes_array) # st.multimode(participantes_array)\n",
        "cp_moda"
      ],
      "execution_count": null,
      "outputs": []
    },
    {
      "cell_type": "code",
      "metadata": {
        "id": "cDOK-vTL-Zib",
        "outputId": "e35bcaf0-8a51-4337-f508-d87d69e3f67a",
        "colab": {
          "base_uri": "https://localhost:8080/"
        }
      },
      "source": [
        "# Desvio-padrão\n",
        "cp_desvio_padrao = np.std(participantes_array)\n",
        "cp_desvio_padrao"
      ],
      "execution_count": null,
      "outputs": [
        {
          "output_type": "execute_result",
          "data": {
            "text/plain": [
              "46.93881984696711"
            ]
          },
          "metadata": {
            "tags": []
          },
          "execution_count": 39
        }
      ]
    },
    {
      "cell_type": "code",
      "metadata": {
        "id": "ZPITxV1k-Zif"
      },
      "source": [
        "# Coeficiente de variação\n",
        "cp_coef_variacao = np.var(participantes_array)\n",
        "cp_coef_variacao"
      ],
      "execution_count": null,
      "outputs": []
    },
    {
      "cell_type": "code",
      "metadata": {
        "id": "gk7g5Qzw-Zii"
      },
      "source": [
        "# Simetria\n",
        "print(\"A variável é\", calc_simetria(cp_media, cp_mediana))\n",
        "print()\n",
        "se.boxplot(x = conc_participantes).set_title('Gráfico Box-plot dos concluintes participantes')"
      ],
      "execution_count": null,
      "outputs": []
    },
    {
      "cell_type": "markdown",
      "metadata": {
        "id": "xqgMKmLnV7Pn"
      },
      "source": [
        "## **B - Variável 'Nota Padronizada - FG'**"
      ]
    },
    {
      "cell_type": "code",
      "metadata": {
        "id": "vY09m19tV7Pr"
      },
      "source": [
        "# Info\n",
        "nota_fg.describe()"
      ],
      "execution_count": null,
      "outputs": []
    },
    {
      "cell_type": "code",
      "metadata": {
        "id": "WxW-k3k8V7P6"
      },
      "source": [
        "# Criar lista\n",
        "nota_fg_array = np.array(nota_fg, dtype = float)\n",
        "print (nota_fg_array)"
      ],
      "execution_count": null,
      "outputs": []
    },
    {
      "cell_type": "code",
      "metadata": {
        "id": "vvvVMj11V7QD"
      },
      "source": [
        "# Média\n",
        "fg_media = st.mean(nota_fg_array)\n",
        "fg_media"
      ],
      "execution_count": null,
      "outputs": []
    },
    {
      "cell_type": "code",
      "metadata": {
        "id": "SdP6xlOrV7QL"
      },
      "source": [
        "# Mediana\n",
        "fg_mediana = st.median(nota_fg_array)\n",
        "fg_mediana"
      ],
      "execution_count": null,
      "outputs": []
    },
    {
      "cell_type": "code",
      "metadata": {
        "id": "S8cEw6aAV7QR"
      },
      "source": [
        "# Moda\n",
        "#fg_moda = st.mode(nota_fg_array) # st.multimode(nota_fg_array)\n",
        "#fg_moda\n",
        "print('Não tem moda, pois nenhum valor se repete.')"
      ],
      "execution_count": null,
      "outputs": []
    },
    {
      "cell_type": "code",
      "metadata": {
        "id": "yZEVJFyiV7QY"
      },
      "source": [
        "# Desvio-padrão\n",
        "fg_desvio_padrao = np.std(nota_fg_array)\n",
        "fg_desvio_padrao"
      ],
      "execution_count": null,
      "outputs": []
    },
    {
      "cell_type": "code",
      "metadata": {
        "id": "do3T3Mj0V7Qd"
      },
      "source": [
        "# Coeficiente de variação\n",
        "fg_coef_variacao = np.var(nota_fg_array)\n",
        "fg_coef_variacao"
      ],
      "execution_count": null,
      "outputs": []
    },
    {
      "cell_type": "code",
      "metadata": {
        "id": "W5rAh6O4V7Qk"
      },
      "source": [
        "# Simetria\n",
        "print(\"A variável é\", calc_simetria(fg_media, fg_mediana))\n",
        "print()\n",
        "se.boxplot(x = nota_fg, ).set_title('Gráfico Box-plot da nota padronizada (FG)')"
      ],
      "execution_count": null,
      "outputs": []
    },
    {
      "cell_type": "markdown",
      "metadata": {
        "id": "Px9TQxNpXxYa"
      },
      "source": [
        "## **B - Variável 'Nota Padronizada - CE'**"
      ]
    },
    {
      "cell_type": "code",
      "metadata": {
        "id": "ayXrmZxOXxYe"
      },
      "source": [
        "# Info\n",
        "nota_ce.describe()"
      ],
      "execution_count": null,
      "outputs": []
    },
    {
      "cell_type": "code",
      "metadata": {
        "id": "1-fjZ2PeXxYq"
      },
      "source": [
        "# Criar lista\n",
        "nota_ce_array = np.array(nota_ce, dtype = float)\n",
        "print (nota_ce_array)"
      ],
      "execution_count": null,
      "outputs": []
    },
    {
      "cell_type": "code",
      "metadata": {
        "id": "qyDyKrfCXxYy"
      },
      "source": [
        "# Média\n",
        "ce_media = st.mean(nota_ce_array)\n",
        "ce_media"
      ],
      "execution_count": null,
      "outputs": []
    },
    {
      "cell_type": "code",
      "metadata": {
        "id": "N9TKPiXqXxY4"
      },
      "source": [
        "# Mediana\n",
        "ce_mediana = st.median(nota_ce_array)\n",
        "ce_mediana"
      ],
      "execution_count": null,
      "outputs": []
    },
    {
      "cell_type": "code",
      "metadata": {
        "id": "-mzWa-W6XxY-"
      },
      "source": [
        "# Moda\n",
        "ce_moda = st.mode(nota_ce_array) # st.multimode(nota_ce_array)\n",
        "ce_moda"
      ],
      "execution_count": null,
      "outputs": []
    },
    {
      "cell_type": "code",
      "metadata": {
        "id": "kHqCRrqnXxZF"
      },
      "source": [
        "# Desvio-padrão\n",
        "ce_desvio_padrao = np.std(nota_ce_array)\n",
        "ce_desvio_padrao"
      ],
      "execution_count": null,
      "outputs": []
    },
    {
      "cell_type": "code",
      "metadata": {
        "id": "6KCaxelKXxZK"
      },
      "source": [
        "# Coeficiente de variação\n",
        "ce_coef_variacao = np.var(nota_ce_array)\n",
        "ce_coef_variacao"
      ],
      "execution_count": null,
      "outputs": []
    },
    {
      "cell_type": "code",
      "metadata": {
        "id": "V2-qyDrAXxZT"
      },
      "source": [
        "# Simetria\n",
        "print(\"A variável é\", calc_simetria(ce_media, ce_mediana))\n",
        "print()\n",
        "se.boxplot(x = nota_ce).set_title('Gráfico Box-plot da nota padronizada (CE)')"
      ],
      "execution_count": null,
      "outputs": []
    },
    {
      "cell_type": "markdown",
      "metadata": {
        "id": "HEfy2AYBYWfs"
      },
      "source": [
        "## **B - Variável 'Conceito Enade - Contínuo'**"
      ]
    },
    {
      "cell_type": "code",
      "metadata": {
        "id": "4eHsAkR0YWfv"
      },
      "source": [
        "# Info\n",
        "conceito_cont.describe()"
      ],
      "execution_count": null,
      "outputs": []
    },
    {
      "cell_type": "code",
      "metadata": {
        "id": "UVuGE75RYWf-"
      },
      "source": [
        "# Criar lista\n",
        "conceito_cont_array = np.array(conceito_cont, dtype = float)\n",
        "print (conceito_cont_array)"
      ],
      "execution_count": null,
      "outputs": []
    },
    {
      "cell_type": "code",
      "metadata": {
        "id": "Ah-UOKZ-YWgH"
      },
      "source": [
        "# Média\n",
        "cc_media = st.mean(conceito_cont_array)\n",
        "cc_media"
      ],
      "execution_count": null,
      "outputs": []
    },
    {
      "cell_type": "code",
      "metadata": {
        "id": "27bJVWraYWgO"
      },
      "source": [
        "# Mediana\n",
        "cc_mediana = st.median(conceito_cont_array)\n",
        "cc_mediana"
      ],
      "execution_count": null,
      "outputs": []
    },
    {
      "cell_type": "code",
      "metadata": {
        "id": "oCCwQGi9YWgT"
      },
      "source": [
        "# Moda\n",
        "#cc_moda = st.mode(conceito_cont_array) # st.multimode(conceito_cont_array)\n",
        "#cc_moda\n",
        "print('Não tem moda, pois nenhum valor se repete.')"
      ],
      "execution_count": null,
      "outputs": []
    },
    {
      "cell_type": "code",
      "metadata": {
        "id": "7MTFm3vWYWgc"
      },
      "source": [
        "# Desvio-padrão\n",
        "cc_desvio_padrao = np.std(conceito_cont_array)\n",
        "cc_desvio_padrao"
      ],
      "execution_count": null,
      "outputs": []
    },
    {
      "cell_type": "code",
      "metadata": {
        "id": "hbkW191IYWgi"
      },
      "source": [
        "# Coeficiente de variação\n",
        "cc_coef_variacao = np.var(conceito_cont_array)\n",
        "cc_coef_variacao"
      ],
      "execution_count": null,
      "outputs": []
    },
    {
      "cell_type": "code",
      "metadata": {
        "id": "1-dyTkuwYWgo"
      },
      "source": [
        "# Simetria\n",
        "print(\"A variável é\", calc_simetria(cc_media, cc_mediana))\n",
        "print()\n",
        "se.boxplot(x = conceito_cont).set_title('Gráfico Box-plot da Conceito Endade (Contínuo)')"
      ],
      "execution_count": null,
      "outputs": []
    },
    {
      "cell_type": "markdown",
      "metadata": {
        "id": "QlvQIFP4aMm3"
      },
      "source": [
        "## **B - Variável 'Conceito Enade - Faixa'**"
      ]
    },
    {
      "cell_type": "code",
      "metadata": {
        "id": "OvBM3zg7aMm6"
      },
      "source": [
        "# Info\n",
        "conceito_faixa.describe()"
      ],
      "execution_count": null,
      "outputs": []
    },
    {
      "cell_type": "code",
      "metadata": {
        "id": "J_OicJvdaMnG"
      },
      "source": [
        "# Criar lista\n",
        "conceito_faixa_array = np.array(conceito_faixa, dtype = float)\n",
        "print (conceito_faixa_array)"
      ],
      "execution_count": null,
      "outputs": []
    },
    {
      "cell_type": "code",
      "metadata": {
        "id": "lIGE5tb0aMnQ"
      },
      "source": [
        "# Média\n",
        "cf_media = st.mean(conceito_faixa_array)\n",
        "cf_media"
      ],
      "execution_count": null,
      "outputs": []
    },
    {
      "cell_type": "code",
      "metadata": {
        "id": "raV8JZCkaMnW"
      },
      "source": [
        "# Mediana\n",
        "cf_mediana = st.median(conceito_faixa_array)\n",
        "cf_mediana"
      ],
      "execution_count": null,
      "outputs": []
    },
    {
      "cell_type": "code",
      "metadata": {
        "id": "Rpy6U44UaMnc"
      },
      "source": [
        "# Moda\n",
        "cf_moda = st.mode(conceito_faixa_array) # st.multimode(conceito_faixa_array)\n",
        "cf_moda"
      ],
      "execution_count": null,
      "outputs": []
    },
    {
      "cell_type": "code",
      "metadata": {
        "id": "E0jjMacdaMni"
      },
      "source": [
        "# Desvio-padrão\n",
        "cf_desvio_padrao = np.std(conceito_faixa_array)\n",
        "cf_desvio_padrao"
      ],
      "execution_count": null,
      "outputs": []
    },
    {
      "cell_type": "code",
      "metadata": {
        "id": "zAwwlO9xaMno"
      },
      "source": [
        "# Coeficiente de variação\n",
        "cf_coef_variacao = np.var(conceito_faixa_array)\n",
        "cf_coef_variacao"
      ],
      "execution_count": null,
      "outputs": []
    },
    {
      "cell_type": "code",
      "metadata": {
        "id": "kfeTXUbEaMnt"
      },
      "source": [
        "# Simetria\n",
        "print(\"A variável é\", calc_simetria(cf_media, cf_mediana))\n",
        "print()\n",
        "se.boxplot(x = conceito_faixa).set_title('Gráfico Box-plot da Conceito Endade (Faixa)')"
      ],
      "execution_count": null,
      "outputs": []
    },
    {
      "cell_type": "markdown",
      "metadata": {
        "id": "-eoyHXfX3UGc"
      },
      "source": [
        "# ITEM C"
      ]
    },
    {
      "cell_type": "markdown",
      "metadata": {
        "id": "JVw0fkCF7ITj"
      },
      "source": [
        "## Notas Gerais"
      ]
    },
    {
      "cell_type": "markdown",
      "metadata": {
        "id": "In69ZC217Vjy"
      },
      "source": [
        "### C- Concluintes Inscritos"
      ]
    },
    {
      "cell_type": "code",
      "metadata": {
        "id": "jPmr2vZH7bc5"
      },
      "source": [
        "dfMedicinaC.head()"
      ],
      "execution_count": null,
      "outputs": []
    },
    {
      "cell_type": "code",
      "metadata": {
        "id": "Hl74XS4Q7orn",
        "outputId": "6c9e4828-6ee8-44d6-874d-e939f560d73a",
        "colab": {
          "base_uri": "https://localhost:8080/"
        }
      },
      "source": [
        "media_ci = dfMedicinaC['Concluintes Inscritos'].mean()\n",
        "dp_ci = dfMedicinaC['Concluintes Inscritos'].std()\n",
        "CV_ci = dp_ci/media_ci\n",
        "print('CV_ci = ',round(CV_ci,3))\n",
        " "
      ],
      "execution_count": null,
      "outputs": [
        {
          "output_type": "stream",
          "text": [
            "CV_ci =  0.534\n"
          ],
          "name": "stdout"
        }
      ]
    },
    {
      "cell_type": "markdown",
      "metadata": {
        "id": "ZnJmHB0v-CPx"
      },
      "source": [
        "### C - Concluintes Participantes"
      ]
    },
    {
      "cell_type": "code",
      "metadata": {
        "id": "GSmquuyb-GNo",
        "outputId": "4031078b-5e94-4d49-813e-ad40f8a9a736",
        "colab": {
          "base_uri": "https://localhost:8080/"
        }
      },
      "source": [
        "media_cp = dfMedicinaC['Concluintes Participantes'].mean()\n",
        "dp_cp = dfMedicinaC['Concluintes Participantes'].std()\n",
        "CV_cp = dp_cp/media_cp\n",
        "print('CV_cp = ',round(CV_cp,3))"
      ],
      "execution_count": null,
      "outputs": [
        {
          "output_type": "stream",
          "text": [
            "CV_cp =  0.533\n"
          ],
          "name": "stdout"
        }
      ]
    },
    {
      "cell_type": "markdown",
      "metadata": {
        "id": "DpUcO7lWA2p3"
      },
      "source": [
        "### C - Variável Nota Padronizada - FG"
      ]
    },
    {
      "cell_type": "code",
      "metadata": {
        "id": "AwMjpPMBAvFE",
        "outputId": "264751ae-cf7f-4c94-ebea-64fd740d0592",
        "colab": {
          "base_uri": "https://localhost:8080/"
        }
      },
      "source": [
        "media_fg = dfMedicinaC['Nota Padronizada - FG'].mean()\n",
        "dp_fg = dfMedicinaC['Nota Padronizada - FG'].std()\n",
        "CV_fg = dp_fg/media_fg\n",
        "print('CV_fg = ',round(CV_fg,3))\n"
      ],
      "execution_count": null,
      "outputs": [
        {
          "output_type": "stream",
          "text": [
            "CV_fg =  0.352\n"
          ],
          "name": "stdout"
        }
      ]
    },
    {
      "cell_type": "code",
      "metadata": {
        "id": "SLTCfHTDC37t"
      },
      "source": [
        "# Simetria\n",
        "#se.boxplot(x = dfMedicinaC['Nota Padronizada - FG'], ).set_title('Gráfico Box-plot das Notas Padronizadas FG')"
      ],
      "execution_count": null,
      "outputs": []
    },
    {
      "cell_type": "markdown",
      "metadata": {
        "id": "KXs-zhgDIezV"
      },
      "source": [
        "### C - Variável Nota Padronizada - CE"
      ]
    },
    {
      "cell_type": "code",
      "metadata": {
        "id": "xNuQd4xVI3EE",
        "outputId": "b001bb12-f300-4c2b-f7a2-70c118b6ca9d",
        "colab": {
          "base_uri": "https://localhost:8080/"
        }
      },
      "source": [
        "media_ce = dfMedicinaC['Nota Padronizada - CE'].mean()\n",
        "dp_ce = dfMedicinaC['Nota Padronizada - CE'].std()\n",
        "CV_ce = dp_ce/media_ce\n",
        "print('CV_ce = ',round(CV_ce,3))\n"
      ],
      "execution_count": null,
      "outputs": [
        {
          "output_type": "stream",
          "text": [
            "CV_ce =  0.339\n"
          ],
          "name": "stdout"
        }
      ]
    },
    {
      "cell_type": "code",
      "metadata": {
        "id": "waogF23jJa8-"
      },
      "source": [
        "#se.boxplot(x = dfMedicinaC['Nota Padronizada - CE'], ).set_title('Gráfico Box-plot das Notas Padronizadas CE')"
      ],
      "execution_count": null,
      "outputs": []
    },
    {
      "cell_type": "markdown",
      "metadata": {
        "id": "KXo5yBP8OTeB"
      },
      "source": [
        "### C - Variável Conceito Enade (Contínuo)"
      ]
    },
    {
      "cell_type": "code",
      "metadata": {
        "id": "KqA_9STZOWcA",
        "outputId": "dfe5e042-9d4c-4368-f1bb-f7ad523f08fc",
        "colab": {
          "base_uri": "https://localhost:8080/"
        }
      },
      "source": [
        "media_CEC = dfMedicinaC['Conceito Enade (Contínuo)'].mean()\n",
        "dp_CEC = dfMedicinaC['Conceito Enade (Contínuo)'].std()\n",
        "CV_CEC = dp_CEC/media_CEC\n",
        "print('CV_CEC = ',round(CV_CEC,3))\n"
      ],
      "execution_count": null,
      "outputs": [
        {
          "output_type": "stream",
          "text": [
            "CV_CEC =  0.321\n"
          ],
          "name": "stdout"
        }
      ]
    },
    {
      "cell_type": "code",
      "metadata": {
        "id": "AlS-1FBJOZQ1"
      },
      "source": [
        "#se.boxplot(x = dfMedicinaC['Conceito Enade (Contínuo)'], ).set_title('Gráfico Box-plot da Variável Conceito Enade (Contínuo)')"
      ],
      "execution_count": null,
      "outputs": []
    },
    {
      "cell_type": "markdown",
      "metadata": {
        "id": "93l3jsgiQVTb"
      },
      "source": [
        "### C - Variável Conceito Enade (Faixa)\n",
        "\n",
        "\n"
      ]
    },
    {
      "cell_type": "code",
      "metadata": {
        "id": "h-NyJW3KQ2NQ",
        "outputId": "6a36269e-8f6b-4585-b730-8ba20f51b55c",
        "colab": {
          "base_uri": "https://localhost:8080/"
        }
      },
      "source": [
        "media_CEF = dfMedicinaC['Conceito Enade (Faixa)'].mean()\n",
        "dp_CEF = dfMedicinaC['Conceito Enade (Faixa)'].std()\n",
        "CV_CEF = dp_CEF/media_CEF\n",
        "print('CV_CEF = ',round(CV_CEF,3))\n"
      ],
      "execution_count": null,
      "outputs": [
        {
          "output_type": "stream",
          "text": [
            "CV_CEF =  0.273\n"
          ],
          "name": "stdout"
        }
      ]
    },
    {
      "cell_type": "code",
      "metadata": {
        "id": "XVthyLnkQ378"
      },
      "source": [
        "#se.boxplot(x = dfMedicinaC['Conceito Enade (Faixa)'], ).set_title('Gráfico Box-plot da Variável Conceito Enade (Faixa)')"
      ],
      "execution_count": null,
      "outputs": []
    },
    {
      "cell_type": "code",
      "metadata": {
        "id": "264DpZ2pZE4J",
        "outputId": "a100e231-9e1e-4990-9556-e90dc8fe614e",
        "colab": {
          "base_uri": "https://localhost:8080/"
        }
      },
      "source": [
        "# Quem é mais homogeneo\n",
        "H = [CV_CEF,CV_CEC,CV_ce,CV_fg,CV_cp,CV_ci,]\n",
        "print(min(H))"
      ],
      "execution_count": null,
      "outputs": [
        {
          "output_type": "stream",
          "text": [
            "0.2725566660654716\n"
          ],
          "name": "stdout"
        }
      ]
    },
    {
      "cell_type": "markdown",
      "metadata": {
        "id": "E3AlzWX3Sxsc"
      },
      "source": [
        "### C- Verificar normalidade"
      ]
    },
    {
      "cell_type": "code",
      "metadata": {
        "id": "Fw75Lw7DTd4G"
      },
      "source": [
        "#funçao que verifica normalidade\n",
        "# função para calcular simetria\n",
        "def normalidade(h):\n",
        "  h0 = stats.shapiro(h)\n",
        "  if (h0[1] > 0.5):\n",
        "    return 'normalizados'\n",
        "  else:\n",
        "    return 'não normalizados'"
      ],
      "execution_count": null,
      "outputs": []
    },
    {
      "cell_type": "code",
      "metadata": {
        "id": "ijUvd66fVt8i",
        "outputId": "d413d495-badf-4f00-cb0d-bceee98c35b3",
        "colab": {
          "base_uri": "https://localhost:8080/"
        }
      },
      "source": [
        "print('Valores de conc_inscritos são ', normalidade(conc_inscritos))\n",
        "print('Valores de conc_participantes são ', normalidade(conc_participantes))\n",
        "print('Valores de nota_fg são ', normalidade(nota_fg))\n",
        "print('Valores de nota_ce são ', normalidade(nota_ce))\n",
        "print('Valores de conceito_cont são ', normalidade(conceito_cont))\n",
        "print('Valores de conceito_faixa são ', normalidade(conceito_faixa))\n"
      ],
      "execution_count": null,
      "outputs": [
        {
          "output_type": "stream",
          "text": [
            "Valores de conc_inscritos são  não normalizados\n",
            "Valores de conc_participantes são  não normalizados\n",
            "Valores de nota_fg são  não normalizados\n",
            "Valores de nota_ce são  não normalizados\n",
            "Valores de conceito_cont são  não normalizados\n",
            "Valores de conceito_faixa são  não normalizados\n"
          ],
          "name": "stdout"
        }
      ]
    },
    {
      "cell_type": "markdown",
      "metadata": {
        "id": "z-Uv2f0nRRqq"
      },
      "source": [
        "## Por Regiões"
      ]
    },
    {
      "cell_type": "code",
      "metadata": {
        "id": "Eu8unKxS5VMz"
      },
      "source": [
        "rNO = dfMedicinaC.loc[dfMedicinaC['Regiao'] == 1]\n",
        "rNE = dfMedicinaC.loc[dfMedicinaC['Regiao'] == 2]\n",
        "rSE = dfMedicinaC.loc[dfMedicinaC['Regiao'] == 3]\n",
        "rSU = dfMedicinaC.loc[dfMedicinaC['Regiao'] == 4]\n",
        "rCO = dfMedicinaC.loc[dfMedicinaC['Regiao'] == 5]"
      ],
      "execution_count": null,
      "outputs": []
    },
    {
      "cell_type": "markdown",
      "metadata": {
        "id": "8IElkgleG8mG"
      },
      "source": [
        "### C- Concluintes Inscritos"
      ]
    },
    {
      "cell_type": "code",
      "metadata": {
        "id": "NZaHrimOHokN",
        "outputId": "9f7cdae7-3aa8-4299-d0d6-b1515cebf596",
        "colab": {
          "base_uri": "https://localhost:8080/"
        }
      },
      "source": [
        "df = dfMedicinaC.groupby(['Regiao']).agg(media_ci_R=('Concluintes Inscritos',np.mean),dp_ci_R=('Concluintes Inscritos',np.std))\n",
        "df['CV_ci_R'] = df['dp_ci_R']/df['media_ci_R']\n",
        "print(df)"
      ],
      "execution_count": null,
      "outputs": [
        {
          "output_type": "stream",
          "text": [
            "        media_ci_R    dp_ci_R   CV_ci_R\n",
            "Regiao                                 \n",
            "1        75.750000  43.523940  0.574573\n",
            "2        86.256410  54.370424  0.630335\n",
            "3       101.653846  51.399335  0.505631\n",
            "4        76.774194  32.599294  0.424613\n",
            "5        79.833333  24.902842  0.311935\n"
          ],
          "name": "stdout"
        }
      ]
    },
    {
      "cell_type": "code",
      "metadata": {
        "id": "O5ocONprBKjx",
        "outputId": "f8723ac9-56ca-4da9-a0a7-d41fac012d8e",
        "colab": {
          "base_uri": "https://localhost:8080/",
          "height": 112
        }
      },
      "source": [
        "df[df['CV_ci_R']==min(df['CV_ci_R'])] "
      ],
      "execution_count": null,
      "outputs": [
        {
          "output_type": "execute_result",
          "data": {
            "text/html": [
              "<div>\n",
              "<style scoped>\n",
              "    .dataframe tbody tr th:only-of-type {\n",
              "        vertical-align: middle;\n",
              "    }\n",
              "\n",
              "    .dataframe tbody tr th {\n",
              "        vertical-align: top;\n",
              "    }\n",
              "\n",
              "    .dataframe thead th {\n",
              "        text-align: right;\n",
              "    }\n",
              "</style>\n",
              "<table border=\"1\" class=\"dataframe\">\n",
              "  <thead>\n",
              "    <tr style=\"text-align: right;\">\n",
              "      <th></th>\n",
              "      <th>media_ci_R</th>\n",
              "      <th>dp_ci_R</th>\n",
              "      <th>CV_ci_R</th>\n",
              "    </tr>\n",
              "    <tr>\n",
              "      <th>Regiao</th>\n",
              "      <th></th>\n",
              "      <th></th>\n",
              "      <th></th>\n",
              "    </tr>\n",
              "  </thead>\n",
              "  <tbody>\n",
              "    <tr>\n",
              "      <th>5</th>\n",
              "      <td>79.833333</td>\n",
              "      <td>24.902842</td>\n",
              "      <td>0.311935</td>\n",
              "    </tr>\n",
              "  </tbody>\n",
              "</table>\n",
              "</div>"
            ],
            "text/plain": [
              "        media_ci_R    dp_ci_R   CV_ci_R\n",
              "Regiao                                 \n",
              "5        79.833333  24.902842  0.311935"
            ]
          },
          "metadata": {
            "tags": []
          },
          "execution_count": 53
        }
      ]
    },
    {
      "cell_type": "markdown",
      "metadata": {
        "id": "pktCH8iuJPMZ"
      },
      "source": [
        "### C - Concluintes Participantes"
      ]
    },
    {
      "cell_type": "code",
      "metadata": {
        "id": "Ij4HQdYmJb9Y",
        "outputId": "7417ff4a-6b8a-4ba1-e9ab-f0863ab03f37",
        "colab": {
          "base_uri": "https://localhost:8080/"
        }
      },
      "source": [
        "df = dfMedicinaC.groupby(['Regiao']).agg(media_cp_R=('Concluintes Participantes',np.mean),dp_cp_R=('Concluintes Participantes',np.std))\n",
        "df['CV_cp_R'] = df['dp_cp_R']/df['media_cp_R']\n",
        "print(df)"
      ],
      "execution_count": null,
      "outputs": [
        {
          "output_type": "stream",
          "text": [
            "        media_cp_R    dp_cp_R   CV_cp_R\n",
            "Regiao                                 \n",
            "1        73.937500  41.803459  0.565389\n",
            "2        83.384615  52.651593  0.631431\n",
            "3       100.333333  50.543967  0.503760\n",
            "4        76.129032  32.067369  0.421224\n",
            "5        75.833333  24.609065  0.324515\n"
          ],
          "name": "stdout"
        }
      ]
    },
    {
      "cell_type": "code",
      "metadata": {
        "id": "1ZFgYgmiClFM",
        "outputId": "cee0d30c-16be-4bd7-a96e-94ebd2d3d797",
        "colab": {
          "base_uri": "https://localhost:8080/",
          "height": 112
        }
      },
      "source": [
        "df[df['CV_cp_R']==min(df['CV_cp_R'])]"
      ],
      "execution_count": null,
      "outputs": [
        {
          "output_type": "execute_result",
          "data": {
            "text/html": [
              "<div>\n",
              "<style scoped>\n",
              "    .dataframe tbody tr th:only-of-type {\n",
              "        vertical-align: middle;\n",
              "    }\n",
              "\n",
              "    .dataframe tbody tr th {\n",
              "        vertical-align: top;\n",
              "    }\n",
              "\n",
              "    .dataframe thead th {\n",
              "        text-align: right;\n",
              "    }\n",
              "</style>\n",
              "<table border=\"1\" class=\"dataframe\">\n",
              "  <thead>\n",
              "    <tr style=\"text-align: right;\">\n",
              "      <th></th>\n",
              "      <th>media_cp_R</th>\n",
              "      <th>dp_cp_R</th>\n",
              "      <th>CV_cp_R</th>\n",
              "    </tr>\n",
              "    <tr>\n",
              "      <th>Regiao</th>\n",
              "      <th></th>\n",
              "      <th></th>\n",
              "      <th></th>\n",
              "    </tr>\n",
              "  </thead>\n",
              "  <tbody>\n",
              "    <tr>\n",
              "      <th>5</th>\n",
              "      <td>75.833333</td>\n",
              "      <td>24.609065</td>\n",
              "      <td>0.324515</td>\n",
              "    </tr>\n",
              "  </tbody>\n",
              "</table>\n",
              "</div>"
            ],
            "text/plain": [
              "        media_cp_R    dp_cp_R   CV_cp_R\n",
              "Regiao                                 \n",
              "5        75.833333  24.609065  0.324515"
            ]
          },
          "metadata": {
            "tags": []
          },
          "execution_count": 56
        }
      ]
    },
    {
      "cell_type": "markdown",
      "metadata": {
        "id": "r8trGAcDJ80k"
      },
      "source": [
        "### C - Variável Nota Padronizada - FG"
      ]
    },
    {
      "cell_type": "code",
      "metadata": {
        "id": "sbaTGWgVKIYx",
        "outputId": "c83c216b-a025-4da2-d8b3-16bb7db0a14e",
        "colab": {
          "base_uri": "https://localhost:8080/"
        }
      },
      "source": [
        "df = dfMedicinaC.groupby(['Regiao']).agg(media_fg_R=('Nota Padronizada - FG',np.mean),dp_fg_R=('Nota Padronizada - FG',np.std))\n",
        "df['CV_fg_R'] = df['dp_fg_R']/df['media_fg_R']\n",
        "print(df)"
      ],
      "execution_count": null,
      "outputs": [
        {
          "output_type": "stream",
          "text": [
            "        media_fg_R   dp_fg_R   CV_fg_R\n",
            "Regiao                                \n",
            "1         2.356935  1.271595  0.539512\n",
            "2         2.896809  0.946093  0.326598\n",
            "3         2.711669  1.023436  0.377419\n",
            "4         3.197517  0.839710  0.262613\n",
            "5         3.040652  0.625663  0.205766\n"
          ],
          "name": "stdout"
        }
      ]
    },
    {
      "cell_type": "code",
      "metadata": {
        "id": "8KluGkxECsDP",
        "outputId": "ed9ba0b0-e997-4db9-d736-8df3d22404be",
        "colab": {
          "base_uri": "https://localhost:8080/",
          "height": 112
        }
      },
      "source": [
        "df[df['CV_fg_R']==min(df['CV_fg_R'])]"
      ],
      "execution_count": null,
      "outputs": [
        {
          "output_type": "execute_result",
          "data": {
            "text/html": [
              "<div>\n",
              "<style scoped>\n",
              "    .dataframe tbody tr th:only-of-type {\n",
              "        vertical-align: middle;\n",
              "    }\n",
              "\n",
              "    .dataframe tbody tr th {\n",
              "        vertical-align: top;\n",
              "    }\n",
              "\n",
              "    .dataframe thead th {\n",
              "        text-align: right;\n",
              "    }\n",
              "</style>\n",
              "<table border=\"1\" class=\"dataframe\">\n",
              "  <thead>\n",
              "    <tr style=\"text-align: right;\">\n",
              "      <th></th>\n",
              "      <th>media_fg_R</th>\n",
              "      <th>dp_fg_R</th>\n",
              "      <th>CV_fg_R</th>\n",
              "    </tr>\n",
              "    <tr>\n",
              "      <th>Regiao</th>\n",
              "      <th></th>\n",
              "      <th></th>\n",
              "      <th></th>\n",
              "    </tr>\n",
              "  </thead>\n",
              "  <tbody>\n",
              "    <tr>\n",
              "      <th>5</th>\n",
              "      <td>3.040652</td>\n",
              "      <td>0.625663</td>\n",
              "      <td>0.205766</td>\n",
              "    </tr>\n",
              "  </tbody>\n",
              "</table>\n",
              "</div>"
            ],
            "text/plain": [
              "        media_fg_R   dp_fg_R   CV_fg_R\n",
              "Regiao                                \n",
              "5         3.040652  0.625663  0.205766"
            ]
          },
          "metadata": {
            "tags": []
          },
          "execution_count": 58
        }
      ]
    },
    {
      "cell_type": "markdown",
      "metadata": {
        "id": "_jHmmojGKhfA"
      },
      "source": [
        "### C - Variável Nota Padronizada - CE"
      ]
    },
    {
      "cell_type": "code",
      "metadata": {
        "id": "l3Hfn-hKKpjq",
        "outputId": "6ced2895-e9d8-499a-d68b-3cb8b6964674",
        "colab": {
          "base_uri": "https://localhost:8080/"
        }
      },
      "source": [
        "df = dfMedicinaC.groupby(['Regiao']).agg(media_ce_R=('Nota Padronizada - CE',np.mean),dp_ce_R=('Nota Padronizada - CE',np.std))\n",
        "df['CV_ce_R'] = df['dp_ce_R']/df['media_ce_R']\n",
        "print(df)"
      ],
      "execution_count": null,
      "outputs": [
        {
          "output_type": "stream",
          "text": [
            "        media_ce_R   dp_ce_R   CV_ce_R\n",
            "Regiao                                \n",
            "1         1.958728  0.998773  0.509909\n",
            "2         2.615184  0.705564  0.269795\n",
            "3         2.379903  0.893009  0.375229\n",
            "4         2.844126  0.634229  0.222996\n",
            "5         2.676164  0.828531  0.309597\n"
          ],
          "name": "stdout"
        }
      ]
    },
    {
      "cell_type": "code",
      "metadata": {
        "id": "jB3VQ-GfCzfI",
        "outputId": "b71f790c-eb4e-4d1c-fcdc-595ee6061c78",
        "colab": {
          "base_uri": "https://localhost:8080/",
          "height": 112
        }
      },
      "source": [
        "df[df['CV_ce_R']==min(df['CV_ce_R'])]"
      ],
      "execution_count": null,
      "outputs": [
        {
          "output_type": "execute_result",
          "data": {
            "text/html": [
              "<div>\n",
              "<style scoped>\n",
              "    .dataframe tbody tr th:only-of-type {\n",
              "        vertical-align: middle;\n",
              "    }\n",
              "\n",
              "    .dataframe tbody tr th {\n",
              "        vertical-align: top;\n",
              "    }\n",
              "\n",
              "    .dataframe thead th {\n",
              "        text-align: right;\n",
              "    }\n",
              "</style>\n",
              "<table border=\"1\" class=\"dataframe\">\n",
              "  <thead>\n",
              "    <tr style=\"text-align: right;\">\n",
              "      <th></th>\n",
              "      <th>media_ce_R</th>\n",
              "      <th>dp_ce_R</th>\n",
              "      <th>CV_ce_R</th>\n",
              "    </tr>\n",
              "    <tr>\n",
              "      <th>Regiao</th>\n",
              "      <th></th>\n",
              "      <th></th>\n",
              "      <th></th>\n",
              "    </tr>\n",
              "  </thead>\n",
              "  <tbody>\n",
              "    <tr>\n",
              "      <th>4</th>\n",
              "      <td>2.844126</td>\n",
              "      <td>0.634229</td>\n",
              "      <td>0.222996</td>\n",
              "    </tr>\n",
              "  </tbody>\n",
              "</table>\n",
              "</div>"
            ],
            "text/plain": [
              "        media_ce_R   dp_ce_R   CV_ce_R\n",
              "Regiao                                \n",
              "4         2.844126  0.634229  0.222996"
            ]
          },
          "metadata": {
            "tags": []
          },
          "execution_count": 60
        }
      ]
    },
    {
      "cell_type": "markdown",
      "metadata": {
        "id": "v7q3ttNULGqF"
      },
      "source": [
        "### C - Variável Conceito Enade (Contínuo)"
      ]
    },
    {
      "cell_type": "code",
      "metadata": {
        "id": "7MNAQBHaLMPz",
        "outputId": "c79fa3cd-bec3-4792-c2ea-bdc5edd281fc",
        "colab": {
          "base_uri": "https://localhost:8080/"
        }
      },
      "source": [
        "df = dfMedicinaC.groupby(['Regiao']).agg(media_CEC_R=('Conceito Enade (Contínuo)',np.mean),dp_CEC_R=('Conceito Enade (Contínuo)',np.std))\n",
        "df['CV_CEC_R'] = df['dp_CEC_R']/df['media_CEC_R']\n",
        "print(df)"
      ],
      "execution_count": null,
      "outputs": [
        {
          "output_type": "stream",
          "text": [
            "        media_CEC_R  dp_CEC_R  CV_CEC_R\n",
            "Regiao                                 \n",
            "1          2.058280  1.023794  0.497403\n",
            "2          2.685591  0.683669  0.254570\n",
            "3          2.462845  0.875891  0.355642\n",
            "4          2.932474  0.619170  0.211142\n",
            "5          2.767286  0.734972  0.265593\n"
          ],
          "name": "stdout"
        }
      ]
    },
    {
      "cell_type": "code",
      "metadata": {
        "id": "WBFkJ0FzC4rG",
        "outputId": "e8df50b6-185c-4ae2-fde1-fdbb15ae1125",
        "colab": {
          "base_uri": "https://localhost:8080/",
          "height": 112
        }
      },
      "source": [
        "df[df['CV_CEC_R']==min(df['CV_CEC_R'])]"
      ],
      "execution_count": null,
      "outputs": [
        {
          "output_type": "execute_result",
          "data": {
            "text/html": [
              "<div>\n",
              "<style scoped>\n",
              "    .dataframe tbody tr th:only-of-type {\n",
              "        vertical-align: middle;\n",
              "    }\n",
              "\n",
              "    .dataframe tbody tr th {\n",
              "        vertical-align: top;\n",
              "    }\n",
              "\n",
              "    .dataframe thead th {\n",
              "        text-align: right;\n",
              "    }\n",
              "</style>\n",
              "<table border=\"1\" class=\"dataframe\">\n",
              "  <thead>\n",
              "    <tr style=\"text-align: right;\">\n",
              "      <th></th>\n",
              "      <th>media_CEC_R</th>\n",
              "      <th>dp_CEC_R</th>\n",
              "      <th>CV_CEC_R</th>\n",
              "    </tr>\n",
              "    <tr>\n",
              "      <th>Regiao</th>\n",
              "      <th></th>\n",
              "      <th></th>\n",
              "      <th></th>\n",
              "    </tr>\n",
              "  </thead>\n",
              "  <tbody>\n",
              "    <tr>\n",
              "      <th>4</th>\n",
              "      <td>2.932474</td>\n",
              "      <td>0.61917</td>\n",
              "      <td>0.211142</td>\n",
              "    </tr>\n",
              "  </tbody>\n",
              "</table>\n",
              "</div>"
            ],
            "text/plain": [
              "        media_CEC_R  dp_CEC_R  CV_CEC_R\n",
              "Regiao                                 \n",
              "4          2.932474   0.61917  0.211142"
            ]
          },
          "metadata": {
            "tags": []
          },
          "execution_count": 63
        }
      ]
    },
    {
      "cell_type": "markdown",
      "metadata": {
        "id": "TevAbdMQLrQ3"
      },
      "source": [
        "### C - Variável Conceito Enade (Faixa)"
      ]
    },
    {
      "cell_type": "code",
      "metadata": {
        "id": "rtBWDlygL0Xj",
        "outputId": "abfd84ba-6d17-4e63-b42e-abe7bbbafe60",
        "colab": {
          "base_uri": "https://localhost:8080/"
        }
      },
      "source": [
        "df = dfMedicinaC.groupby(['Regiao']).agg(media_CEF_R=('Conceito Enade (Faixa)',np.mean),dp_CEF_R=('Conceito Enade (Faixa)',np.std))\n",
        "df['CV_CEF_R'] = df['dp_CEF_R']/df['media_CEF_R']\n",
        "print(df)"
      ],
      "execution_count": null,
      "outputs": [
        {
          "output_type": "stream",
          "text": [
            "        media_CEF_R  dp_CEF_R  CV_CEF_R\n",
            "Regiao                                 \n",
            "1          2.625000  1.087811  0.414404\n",
            "2          3.179487  0.756439  0.237912\n",
            "3          3.012821  0.875253  0.290509\n",
            "4          3.516129  0.625618  0.177928\n",
            "5          3.250000  0.753778  0.231932\n"
          ],
          "name": "stdout"
        }
      ]
    },
    {
      "cell_type": "code",
      "metadata": {
        "id": "XT0_B2gVDEbX",
        "outputId": "971c4462-dfc5-4baf-ac44-765fcdeca45e",
        "colab": {
          "base_uri": "https://localhost:8080/",
          "height": 112
        }
      },
      "source": [
        "df[df['CV_CEF_R']==min(df['CV_CEF_R'])]"
      ],
      "execution_count": null,
      "outputs": [
        {
          "output_type": "execute_result",
          "data": {
            "text/html": [
              "<div>\n",
              "<style scoped>\n",
              "    .dataframe tbody tr th:only-of-type {\n",
              "        vertical-align: middle;\n",
              "    }\n",
              "\n",
              "    .dataframe tbody tr th {\n",
              "        vertical-align: top;\n",
              "    }\n",
              "\n",
              "    .dataframe thead th {\n",
              "        text-align: right;\n",
              "    }\n",
              "</style>\n",
              "<table border=\"1\" class=\"dataframe\">\n",
              "  <thead>\n",
              "    <tr style=\"text-align: right;\">\n",
              "      <th></th>\n",
              "      <th>media_CEF_R</th>\n",
              "      <th>dp_CEF_R</th>\n",
              "      <th>CV_CEF_R</th>\n",
              "    </tr>\n",
              "    <tr>\n",
              "      <th>Regiao</th>\n",
              "      <th></th>\n",
              "      <th></th>\n",
              "      <th></th>\n",
              "    </tr>\n",
              "  </thead>\n",
              "  <tbody>\n",
              "    <tr>\n",
              "      <th>4</th>\n",
              "      <td>3.516129</td>\n",
              "      <td>0.625618</td>\n",
              "      <td>0.177928</td>\n",
              "    </tr>\n",
              "  </tbody>\n",
              "</table>\n",
              "</div>"
            ],
            "text/plain": [
              "        media_CEF_R  dp_CEF_R  CV_CEF_R\n",
              "Regiao                                 \n",
              "4          3.516129  0.625618  0.177928"
            ]
          },
          "metadata": {
            "tags": []
          },
          "execution_count": 65
        }
      ]
    },
    {
      "cell_type": "markdown",
      "metadata": {
        "id": "FH5_dgNbMuUN"
      },
      "source": [
        "### C- Verificar normalidade"
      ]
    },
    {
      "cell_type": "code",
      "metadata": {
        "id": "qxkkDWJzMx8q",
        "outputId": "47739635-67e7-4d89-9524-10d7f5e9f90a",
        "colab": {
          "base_uri": "https://localhost:8080/",
          "height": 1000
        }
      },
      "source": [
        "print('Concluintes Escritos')\n",
        "print('Norte:        '+normalidade(rNO['Concluintes Inscritos']))\n",
        "print('Nordeste:     '+normalidade(rNE['Concluintes Inscritos']))\n",
        "print('Sudeste:      '+normalidade(rSE['Concluintes Inscritos']))\n",
        "print('Sul:          '+normalidade(rSU['Concluintes Inscritos']))\n",
        "print('Centro-Oeste: '+normalidade(rCO['Concluintes Inscritos']))\n",
        "\n",
        "print()\n",
        "\n",
        "fig, ax = plt.subplots()\n",
        "stats.probplot(rNO['Concluintes Inscritos'], fit=True,   plot=ax)\n",
        "plt.title('Regiao Norte')\n",
        "#plt.show()\n",
        "\n",
        "fig, ax = plt.subplots()\n",
        "stats.probplot(rNE['Concluintes Inscritos'], fit=True,   plot=ax)\n",
        "plt.title('Regiao Nordeste')\n",
        "#plt.show()\n",
        "\n",
        "fig, ax = plt.subplots()\n",
        "stats.probplot(rSE['Concluintes Inscritos'], fit=True,   plot=ax)\n",
        "plt.title('Regiao Sudoeste')\n",
        "#plt.show()\n",
        "\n",
        "fig, ax = plt.subplots()\n",
        "stats.probplot(rSU['Concluintes Inscritos'], fit=True,   plot=ax)\n",
        "plt.title('Regiao Sul')\n",
        "#plt.show()\n",
        "\n",
        "fig, ax = plt.subplots()\n",
        "stats.probplot(rCO['Concluintes Inscritos'], fit=True,   plot=ax)\n",
        "plt.title('Regiao Centro-Oeste')\n",
        "#plt.show()\n",
        "\n",
        "fig, ax = plt.subplots()\n",
        "stats.probplot(rNO['Concluintes Inscritos'], fit=True,   plot=ax)\n",
        "#plt.show()\n",
        "\n",
        "plt.gca().yaxis.set_minor_formatter(NullFormatter())\n",
        "plt.subplots_adjust(top=0.92, bottom=0.08, left=0.10, right=0.95, hspace=0.25,wspace=0.35)\n",
        "plt.show()\n"
      ],
      "execution_count": null,
      "outputs": [
        {
          "output_type": "stream",
          "text": [
            "Concluintes Escritos\n",
            "Norte:        não normalizados\n",
            "Nordeste:     não normalizados\n",
            "Sudeste:      não normalizados\n",
            "Sul:          não normalizados\n",
            "Centro-Oeste: normalizados\n",
            "\n"
          ],
          "name": "stdout"
        },
        {
          "output_type": "display_data",
          "data": {
            "image/png": "[encoded data removed]",
            "text/plain": [
              "<Figure size 432x288 with 1 Axes>"
            ]
          },
          "metadata": {
            "tags": [],
            "needs_background": "light"
          }
        },
        {
          "output_type": "display_data",
          "data": {
            "image/png": "[encoded data removed]",
            "text/plain": [
              "<Figure size 432x288 with 1 Axes>"
            ]
          },
          "metadata": {
            "tags": [],
            "needs_background": "light"
          }
        },
        {
          "output_type": "display_data",
          "data": {
            "image/png": "[encoded data removed]",
            "text/plain": [
              "<Figure size 432x288 with 1 Axes>"
            ]
          },
          "metadata": {
            "tags": [],
            "needs_background": "light"
          }
        },
        {
          "output_type": "display_data",
          "data": {
            "image/png": "[encoded data removed]",
            "text/plain": [
              "<Figure size 432x288 with 1 Axes>"
            ]
          },
          "metadata": {
            "tags": [],
            "needs_background": "light"
          }
        },
        {
          "output_type": "display_data",
          "data": {
            "image/png": "[encoded data removed]",
            "text/plain": [
              "<Figure size 432x288 with 1 Axes>"
            ]
          },
          "metadata": {
            "tags": [],
            "needs_background": "light"
          }
        },
        {
          "output_type": "display_data",
          "data": {
            "image/png": "[encoded data removed]",
            "text/plain": [
              "<Figure size 432x288 with 1 Axes>"
            ]
          },
          "metadata": {
            "tags": [],
            "needs_background": "light"
          }
        }
      ]
    },
    {
      "cell_type": "code",
      "metadata": {
        "id": "tyjueEc3TuYV",
        "outputId": "878bdc11-a509-4298-936c-5baf31ea17b5",
        "colab": {
          "base_uri": "https://localhost:8080/",
          "height": 1000
        }
      },
      "source": [
        "print('Concluintes Participantes')\n",
        "print('Norte:        '+normalidade(rNO['Concluintes Participantes']))\n",
        "print('Nordeste:     '+normalidade(rNE['Concluintes Participantes']))\n",
        "print('Sudeste:      '+normalidade(rSE['Concluintes Participantes']))\n",
        "print('Sul:          '+normalidade(rSU['Concluintes Participantes']))\n",
        "print('Centro-Oeste: '+normalidade(rCO['Concluintes Participantes']))\n",
        "print()\n",
        "\n",
        "fig, ax = plt.subplots()\n",
        "stats.probplot(rNO['Concluintes Participantes'], fit=True,   plot=ax)\n",
        "plt.title('Regiao Norte')\n",
        "#plt.show()\n",
        "\n",
        "fig, ax = plt.subplots()\n",
        "stats.probplot(rNE['Concluintes Participantes'], fit=True,   plot=ax)\n",
        "plt.title('Regiao Nordeste')\n",
        "#plt.show()\n",
        "\n",
        "fig, ax = plt.subplots()\n",
        "stats.probplot(rSE['Concluintes Participantes'], fit=True,   plot=ax)\n",
        "plt.title('Regiao Sudoeste')\n",
        "#plt.show()\n",
        "\n",
        "fig, ax = plt.subplots()\n",
        "stats.probplot(rSU['Concluintes Participantes'], fit=True,   plot=ax)\n",
        "plt.title('Regiao Sul')\n",
        "#plt.show()\n",
        "\n",
        "fig, ax = plt.subplots()\n",
        "stats.probplot(rCO['Concluintes Participantes'], fit=True,   plot=ax)\n",
        "plt.title('Regiao Centro-Oeste')\n",
        "#plt.show()\n",
        "\n",
        "\n",
        "plt.gca().yaxis.set_minor_formatter(NullFormatter())\n",
        "plt.subplots_adjust(top=0.92, bottom=0.08, left=0.10, right=0.95, hspace=0.25,wspace=0.35)\n",
        "plt.show()"
      ],
      "execution_count": null,
      "outputs": [
        {
          "output_type": "stream",
          "text": [
            "Concluintes Participantes\n",
            "Norte:        não normalizados\n",
            "Nordeste:     não normalizados\n",
            "Sudeste:      não normalizados\n",
            "Sul:          não normalizados\n",
            "Centro-Oeste: normalizados\n",
            "\n"
          ],
          "name": "stdout"
        },
        {
          "output_type": "display_data",
          "data": {
            "image/png": "[encoded data removed]",
            "text/plain": [
              "<Figure size 432x288 with 1 Axes>"
            ]
          },
          "metadata": {
            "tags": [],
            "needs_background": "light"
          }
        },
        {
          "output_type": "display_data",
          "data": {
            "image/png": "[encoded data removed]",
            "text/plain": [
              "<Figure size 432x288 with 1 Axes>"
            ]
          },
          "metadata": {
            "tags": [],
            "needs_background": "light"
          }
        },
        {
          "output_type": "display_data",
          "data": {
            "image/png": "[encoded data removed]",
            "text/plain": [
              "<Figure size 432x288 with 1 Axes>"
            ]
          },
          "metadata": {
            "tags": [],
            "needs_background": "light"
          }
        },
        {
          "output_type": "display_data",
          "data": {
            "image/png": "[encoded data removed]",
            "text/plain": [
              "<Figure size 432x288 with 1 Axes>"
            ]
          },
          "metadata": {
            "tags": [],
            "needs_background": "light"
          }
        },
        {
          "output_type": "display_data",
          "data": {
            "image/png": "[encoded data removed]",
            "text/plain": [
              "<Figure size 432x288 with 1 Axes>"
            ]
          },
          "metadata": {
            "tags": [],
            "needs_background": "light"
          }
        }
      ]
    },
    {
      "cell_type": "code",
      "metadata": {
        "id": "1jk33h8bUPX5",
        "outputId": "4f02bc80-e3ae-4046-9d49-0730ceaa5d4d",
        "colab": {
          "base_uri": "https://localhost:8080/",
          "height": 1000
        }
      },
      "source": [
        "print('Variável Nota Padronizada - FG')\n",
        "print('Norte:        '+normalidade(rNO['Nota Padronizada - FG']))\n",
        "print('Nordeste:     '+normalidade(rNE['Nota Padronizada - FG']))\n",
        "print('Sudeste:      '+normalidade(rSE['Nota Padronizada - FG']))\n",
        "print('Sul:          '+normalidade(rSU['Nota Padronizada - FG']))\n",
        "print('Centro-Oeste: '+normalidade(rCO['Nota Padronizada - FG']))\n",
        "\n",
        "print()\n",
        "\n",
        "fig, ax = plt.subplots()\n",
        "stats.probplot(rNO['Nota Padronizada - FG'], fit=True,   plot=ax)\n",
        "plt.title('Regiao Norte')\n",
        "#plt.show()\n",
        "\n",
        "fig, ax = plt.subplots()\n",
        "stats.probplot(rNE['Nota Padronizada - FG'], fit=True,   plot=ax)\n",
        "plt.title('Regiao Nordeste')\n",
        "#plt.show()\n",
        "\n",
        "fig, ax = plt.subplots()\n",
        "stats.probplot(rSE['Nota Padronizada - FG'], fit=True,   plot=ax)\n",
        "plt.title('Regiao Sudoeste')\n",
        "#plt.show()\n",
        "\n",
        "fig, ax = plt.subplots()\n",
        "stats.probplot(rSU['Nota Padronizada - FG'], fit=True,   plot=ax)\n",
        "plt.title('Regiao Sul')\n",
        "#plt.show()\n",
        "\n",
        "fig, ax = plt.subplots()\n",
        "stats.probplot(rCO['Nota Padronizada - FG'], fit=True,   plot=ax)\n",
        "plt.title('Regiao Centro-Oeste')\n",
        "#plt.show()\n",
        "\n",
        "\n",
        "plt.gca().yaxis.set_minor_formatter(NullFormatter())\n",
        "plt.subplots_adjust(top=0.92, bottom=0.08, left=0.10, right=0.95, hspace=0.25,wspace=0.35)\n",
        "plt.show()"
      ],
      "execution_count": null,
      "outputs": [
        {
          "output_type": "stream",
          "text": [
            "Variável Nota Padronizada - FG\n",
            "Norte:        normalizados\n",
            "Nordeste:     não normalizados\n",
            "Sudeste:      não normalizados\n",
            "Sul:          normalizados\n",
            "Centro-Oeste: não normalizados\n",
            "\n"
          ],
          "name": "stdout"
        },
        {
          "output_type": "display_data",
          "data": {
            "image/png": "[encoded data removed]",
            "text/plain": [
              "<Figure size 432x288 with 1 Axes>"
            ]
          },
          "metadata": {
            "tags": [],
            "needs_background": "light"
          }
        },
        {
          "output_type": "display_data",
          "data": {
            "image/png": "[encoded data removed]",
            "text/plain": [
              "<Figure size 432x288 with 1 Axes>"
            ]
          },
          "metadata": {
            "tags": [],
            "needs_background": "light"
          }
        },
        {
          "output_type": "display_data",
          "data": {
            "image/png": "[encoded data removed]",
            "text/plain": [
              "<Figure size 432x288 with 1 Axes>"
            ]
          },
          "metadata": {
            "tags": [],
            "needs_background": "light"
          }
        },
        {
          "output_type": "display_data",
          "data": {
            "image/png": "[encoded data removed]",
            "text/plain": [
              "<Figure size 432x288 with 1 Axes>"
            ]
          },
          "metadata": {
            "tags": [],
            "needs_background": "light"
          }
        },
        {
          "output_type": "display_data",
          "data": {
            "image/png": "[encoded data removed]",
            "text/plain": [
              "<Figure size 432x288 with 1 Axes>"
            ]
          },
          "metadata": {
            "tags": [],
            "needs_background": "light"
          }
        }
      ]
    },
    {
      "cell_type": "code",
      "metadata": {
        "id": "w6B9qsCAUqJs",
        "outputId": "769a5176-950b-407a-a324-ca487c7146f2",
        "colab": {
          "base_uri": "https://localhost:8080/",
          "height": 1000
        }
      },
      "source": [
        "print('Variável Nota Padronizada - CE')\n",
        "print('Norte:        '+normalidade(rNO['Nota Padronizada - CE']))\n",
        "print('Nordeste:     '+normalidade(rNE['Nota Padronizada - CE']))\n",
        "print('Sudeste:      '+normalidade(rSE['Nota Padronizada - CE']))\n",
        "print('Sul:          '+normalidade(rSU['Nota Padronizada - CE']))\n",
        "print('Centro-Oeste: '+normalidade(rCO['Nota Padronizada - CE']))\n",
        "\n",
        "print()\n",
        "\n",
        "fig, ax = plt.subplots()\n",
        "stats.probplot(rNO['Nota Padronizada - CE'], fit=True,   plot=ax)\n",
        "plt.title('Regiao Norte')\n",
        "#plt.show()\n",
        "\n",
        "fig, ax = plt.subplots()\n",
        "stats.probplot(rNE['Nota Padronizada - CE'], fit=True,   plot=ax)\n",
        "plt.title('Regiao Nordeste')\n",
        "#plt.show()\n",
        "\n",
        "fig, ax = plt.subplots()\n",
        "stats.probplot(rSE['Nota Padronizada - CE'], fit=True,   plot=ax)\n",
        "plt.title('Regiao Sudoeste')\n",
        "#plt.show()\n",
        "\n",
        "fig, ax = plt.subplots()\n",
        "stats.probplot(rSU['Nota Padronizada - CE'], fit=True,   plot=ax)\n",
        "plt.title('Regiao Sul')\n",
        "#plt.show()\n",
        "\n",
        "fig, ax = plt.subplots()\n",
        "stats.probplot(rCO['Nota Padronizada - CE'], fit=True,   plot=ax)\n",
        "plt.title('Regiao Centro-Oeste')\n",
        "#plt.show()\n",
        "\n",
        "\n",
        "plt.gca().yaxis.set_minor_formatter(NullFormatter())\n",
        "plt.subplots_adjust(top=0.92, bottom=0.08, left=0.10, right=0.95, hspace=0.25,wspace=0.35)\n",
        "plt.show()"
      ],
      "execution_count": null,
      "outputs": [
        {
          "output_type": "stream",
          "text": [
            "Variável Nota Padronizada - CE\n",
            "Norte:        não normalizados\n",
            "Nordeste:     normalizados\n",
            "Sudeste:      não normalizados\n",
            "Sul:          não normalizados\n",
            "Centro-Oeste: normalizados\n",
            "\n"
          ],
          "name": "stdout"
        },
        {
          "output_type": "display_data",
          "data": {
            "image/png": "[encoded data removed]",
            "text/plain": [
              "<Figure size 432x288 with 1 Axes>"
            ]
          },
          "metadata": {
            "tags": [],
            "needs_background": "light"
          }
        },
        {
          "output_type": "display_data",
          "data": {
            "image/png": "[encoded data removed]",
            "text/plain": [
              "<Figure size 432x288 with 1 Axes>"
            ]
          },
          "metadata": {
            "tags": [],
            "needs_background": "light"
          }
        },
        {
          "output_type": "display_data",
          "data": {
            "image/png": "[encoded data removed]",
            "text/plain": [
              "<Figure size 432x288 with 1 Axes>"
            ]
          },
          "metadata": {
            "tags": [],
            "needs_background": "light"
          }
        },
        {
          "output_type": "display_data",
          "data": {
            "image/png": "[encoded data removed]",
            "text/plain": [
              "<Figure size 432x288 with 1 Axes>"
            ]
          },
          "metadata": {
            "tags": [],
            "needs_background": "light"
          }
        },
        {
          "output_type": "display_data",
          "data": {
            "image/png": "[encoded data removed]",
            "text/plain": [
              "<Figure size 432x288 with 1 Axes>"
            ]
          },
          "metadata": {
            "tags": [],
            "needs_background": "light"
          }
        }
      ]
    },
    {
      "cell_type": "code",
      "metadata": {
        "id": "VasFAig2U9f5",
        "outputId": "d3545d5c-1700-4816-83f6-6f5dccadb0fc",
        "colab": {
          "base_uri": "https://localhost:8080/",
          "height": 1000
        }
      },
      "source": [
        "print('Variável Conceito Enade (Contínuo)')\n",
        "print('Norte:        '+normalidade(rNO['Conceito Enade (Contínuo)']))\n",
        "print('Nordeste:     '+normalidade(rNE['Conceito Enade (Contínuo)']))\n",
        "print('Sudeste:      '+normalidade(rSE['Conceito Enade (Contínuo)']))\n",
        "print('Sul:          '+normalidade(rSU['Conceito Enade (Contínuo)']))\n",
        "print('Centro-Oeste: '+normalidade(rCO['Conceito Enade (Contínuo)']))\n",
        "\n",
        "print()\n",
        "\n",
        "fig, ax = plt.subplots()\n",
        "stats.probplot(rNO['Conceito Enade (Contínuo)'], fit=True,   plot=ax)\n",
        "plt.title('Regiao Norte')\n",
        "#plt.show()\n",
        "\n",
        "fig, ax = plt.subplots()\n",
        "stats.probplot(rNE['Conceito Enade (Contínuo)'], fit=True,   plot=ax)\n",
        "plt.title('Regiao Nordeste')\n",
        "#plt.show()\n",
        "\n",
        "fig, ax = plt.subplots()\n",
        "stats.probplot(rSE['Conceito Enade (Contínuo)'], fit=True,   plot=ax)\n",
        "plt.title('Regiao Sudoeste')\n",
        "#plt.show()\n",
        "\n",
        "fig, ax = plt.subplots()\n",
        "stats.probplot(rSU['Conceito Enade (Contínuo)'], fit=True,   plot=ax)\n",
        "plt.title('Regiao Sul')\n",
        "#plt.show()\n",
        "\n",
        "fig, ax = plt.subplots()\n",
        "stats.probplot(rCO['Conceito Enade (Contínuo)'], fit=True,   plot=ax)\n",
        "plt.title('Regiao Centro-Oeste')\n",
        "#plt.show()\n",
        "\n",
        "\n",
        "plt.gca().yaxis.set_minor_formatter(NullFormatter())\n",
        "plt.subplots_adjust(top=0.92, bottom=0.08, left=0.10, right=0.95, hspace=0.25,wspace=0.35)\n",
        "plt.show()"
      ],
      "execution_count": null,
      "outputs": [
        {
          "output_type": "stream",
          "text": [
            "Variável Conceito Enade (Contínuo)\n",
            "Norte:        normalizados\n",
            "Nordeste:     não normalizados\n",
            "Sudeste:      não normalizados\n",
            "Sul:          não normalizados\n",
            "Centro-Oeste: não normalizados\n",
            "\n"
          ],
          "name": "stdout"
        },
        {
          "output_type": "display_data",
          "data": {
            "image/png": "[encoded data removed]",
            "text/plain": [
              "<Figure size 432x288 with 1 Axes>"
            ]
          },
          "metadata": {
            "tags": [],
            "needs_background": "light"
          }
        },
        {
          "output_type": "display_data",
          "data": {
            "image/png": "[encoded data removed]",
            "text/plain": [
              "<Figure size 432x288 with 1 Axes>"
            ]
          },
          "metadata": {
            "tags": [],
            "needs_background": "light"
          }
        },
        {
          "output_type": "display_data",
          "data": {
            "image/png": "[encoded data removed]",
            "text/plain": [
              "<Figure size 432x288 with 1 Axes>"
            ]
          },
          "metadata": {
            "tags": [],
            "needs_background": "light"
          }
        },
        {
          "output_type": "display_data",
          "data": {
            "image/png": "[encoded data removed]",
            "text/plain": [
              "<Figure size 432x288 with 1 Axes>"
            ]
          },
          "metadata": {
            "tags": [],
            "needs_background": "light"
          }
        },
        {
          "output_type": "display_data",
          "data": {
            "image/png": "[encoded data removed]",
            "text/plain": [
              "<Figure size 432x288 with 1 Axes>"
            ]
          },
          "metadata": {
            "tags": [],
            "needs_background": "light"
          }
        }
      ]
    },
    {
      "cell_type": "code",
      "metadata": {
        "id": "qELfcWUbVymh",
        "outputId": "47731a64-4b3b-4114-a598-ebc194ec38ae",
        "colab": {
          "base_uri": "https://localhost:8080/",
          "height": 1000
        }
      },
      "source": [
        "print('Variável Conceito Enade (Faixa)')\n",
        "print('Norte:        '+normalidade(rNO['Conceito Enade (Faixa)']))\n",
        "print('Nordeste:     '+normalidade(rNE['Conceito Enade (Faixa)']))\n",
        "print('Sudeste:      '+normalidade(rSE['Conceito Enade (Faixa)']))\n",
        "print('Sul:          '+normalidade(rSU['Conceito Enade (Faixa)']))\n",
        "print('Centro-Oeste: '+normalidade(rCO['Conceito Enade (Faixa)']))\n",
        "\n",
        "print()\n",
        "\n",
        "fig, ax = plt.subplots()\n",
        "stats.probplot(rNO['Conceito Enade (Faixa)'], fit=True,   plot=ax)\n",
        "plt.title('Regiao Norte')\n",
        "#plt.show()\n",
        "\n",
        "fig, ax = plt.subplots()\n",
        "stats.probplot(rNE['Conceito Enade (Faixa)'], fit=True,   plot=ax)\n",
        "plt.title('Regiao Nordeste')\n",
        "#plt.show()\n",
        "\n",
        "fig, ax = plt.subplots()\n",
        "stats.probplot(rSE['Conceito Enade (Faixa)'], fit=True,   plot=ax)\n",
        "plt.title('Regiao Sudoeste')\n",
        "#plt.show()\n",
        "\n",
        "fig, ax = plt.subplots()\n",
        "stats.probplot(rSU['Conceito Enade (Faixa)'], fit=True,   plot=ax)\n",
        "plt.title('Regiao Sul')\n",
        "#plt.show()\n",
        "\n",
        "fig, ax = plt.subplots()\n",
        "stats.probplot(rCO['Conceito Enade (Faixa)'], fit=True,   plot=ax)\n",
        "plt.title('Regiao Centro-Oeste')\n",
        "#plt.show()\n",
        "\n",
        "\n",
        "plt.gca().yaxis.set_minor_formatter(NullFormatter())\n",
        "plt.subplots_adjust(top=0.92, bottom=0.08, left=0.10, right=0.95, hspace=0.25,wspace=0.35)\n",
        "plt.show()"
      ],
      "execution_count": null,
      "outputs": [
        {
          "output_type": "stream",
          "text": [
            "Variável Conceito Enade (Faixa)\n",
            "Norte:        não normalizados\n",
            "Nordeste:     não normalizados\n",
            "Sudeste:      não normalizados\n",
            "Sul:          não normalizados\n",
            "Centro-Oeste: não normalizados\n",
            "\n"
          ],
          "name": "stdout"
        },
        {
          "output_type": "display_data",
          "data": {
            "image/png": "[encoded data removed]",
            "text/plain": [
              "<Figure size 432x288 with 1 Axes>"
            ]
          },
          "metadata": {
            "tags": [],
            "needs_background": "light"
          }
        },
        {
          "output_type": "display_data",
          "data": {
            "image/png": "[encoded data removed]",
            "text/plain": [
              "<Figure size 432x288 with 1 Axes>"
            ]
          },
          "metadata": {
            "tags": [],
            "needs_background": "light"
          }
        },
        {
          "output_type": "display_data",
          "data": {
            "image/png": "[encoded data removed]",
            "text/plain": [
              "<Figure size 432x288 with 1 Axes>"
            ]
          },
          "metadata": {
            "tags": [],
            "needs_background": "light"
          }
        },
        {
          "output_type": "display_data",
          "data": {
            "image/png": "[encoded data removed]",
            "text/plain": [
              "<Figure size 432x288 with 1 Axes>"
            ]
          },
          "metadata": {
            "tags": [],
            "needs_background": "light"
          }
        },
        {
          "output_type": "display_data",
          "data": {
            "image/png": "[encoded data removed]",
            "text/plain": [
              "<Figure size 432x288 with 1 Axes>"
            ]
          },
          "metadata": {
            "tags": [],
            "needs_background": "light"
          }
        }
      ]
    },
    {
      "cell_type": "code",
      "metadata": {
        "id": "M4E5pakc3WyQ"
      },
      "source": [
        "ax = se.boxplot(x = 'Nota Padronizada - FG', data = rNO).set_title('Nota Padroniza FG - Regiao Norte')"
      ],
      "execution_count": null,
      "outputs": []
    },
    {
      "cell_type": "code",
      "metadata": {
        "id": "x9uyKoUg9prL"
      },
      "source": [
        "ax = se.boxplot(x = 'Nota Padronizada - FG', data = rNE).set_title('Nota Padroniza FG - Regiao Nordeste')"
      ],
      "execution_count": null,
      "outputs": []
    },
    {
      "cell_type": "code",
      "metadata": {
        "id": "sF3pcdhZ9qLm"
      },
      "source": [
        "ax = se.boxplot(x = 'Nota Padronizada - FG', data = rSE).set_title('Nota Padroniza FG - Regiao Sudeste')"
      ],
      "execution_count": null,
      "outputs": []
    },
    {
      "cell_type": "code",
      "metadata": {
        "id": "WLed86wD9qeX"
      },
      "source": [
        "ax = se.boxplot(x = 'Nota Padronizada - FG', data = rSU).set_title('Nota Padroniza FG - Regiao Sul')"
      ],
      "execution_count": null,
      "outputs": []
    },
    {
      "cell_type": "code",
      "metadata": {
        "id": "E2IVKmw39qtD"
      },
      "source": [
        "ax = se.boxplot(x = 'Nota Padronizada - FG', data = rCO).set_title('Nota Padroniza FG - Regiao Centro-Oeste')"
      ],
      "execution_count": null,
      "outputs": []
    },
    {
      "cell_type": "markdown",
      "metadata": {
        "id": "ZOQkX_cyrE9S"
      },
      "source": [
        "#**ITEM D**"
      ]
    },
    {
      "cell_type": "code",
      "metadata": {
        "id": "mf_4cfOXsLNU",
        "outputId": "62f1613d-f5a4-49b1-c4a3-995ba7d4e573",
        "colab": {
          "base_uri": "https://localhost:8080/",
          "height": 428
        }
      },
      "source": [
        "dfMedicina = dfConceito[dfConceito['Código da Área'] == 12]\n",
        "dfMedicina.head()"
      ],
      "execution_count": null,
      "outputs": [
        {
          "output_type": "execute_result",
          "data": {
            "text/html": [
              "<div>\n",
              "<style scoped>\n",
              "    .dataframe tbody tr th:only-of-type {\n",
              "        vertical-align: middle;\n",
              "    }\n",
              "\n",
              "    .dataframe tbody tr th {\n",
              "        vertical-align: top;\n",
              "    }\n",
              "\n",
              "    .dataframe thead th {\n",
              "        text-align: right;\n",
              "    }\n",
              "</style>\n",
              "<table border=\"1\" class=\"dataframe\">\n",
              "  <thead>\n",
              "    <tr style=\"text-align: right;\">\n",
              "      <th></th>\n",
              "      <th>Ano</th>\n",
              "      <th>Código da IES</th>\n",
              "      <th>Nome da IES</th>\n",
              "      <th>Sigla da IES</th>\n",
              "      <th>Organização Acadêmica</th>\n",
              "      <th>Categoria Administrativa</th>\n",
              "      <th>Código do Curso</th>\n",
              "      <th>Código da Área</th>\n",
              "      <th>Área de Enquadramento</th>\n",
              "      <th>Modalidade de Ensino</th>\n",
              "      <th>Código do Município</th>\n",
              "      <th>Município do Curso</th>\n",
              "      <th>Sigla da UF</th>\n",
              "      <th>Concluintes Inscritos</th>\n",
              "      <th>Concluintes Participantes</th>\n",
              "      <th>Nota Bruta - FG</th>\n",
              "      <th>Nota Padronizada - FG</th>\n",
              "      <th>Nota Bruta - CE</th>\n",
              "      <th>Nota Padronizada - CE</th>\n",
              "      <th>Conceito Enade (Contínuo)</th>\n",
              "      <th>Conceito Enade (Faixa)</th>\n",
              "    </tr>\n",
              "  </thead>\n",
              "  <tbody>\n",
              "    <tr>\n",
              "      <th>2</th>\n",
              "      <td>2016</td>\n",
              "      <td>1</td>\n",
              "      <td>UNIVERSIDADE FEDERAL DE MATO GROSSO</td>\n",
              "      <td>UFMT</td>\n",
              "      <td>Universidade</td>\n",
              "      <td>Pessoa Jurídica de Direito Público - Federal</td>\n",
              "      <td>12</td>\n",
              "      <td>12</td>\n",
              "      <td>MEDICINA</td>\n",
              "      <td>Educação Presencial</td>\n",
              "      <td>5103403</td>\n",
              "      <td>CUIABÁ</td>\n",
              "      <td>MT</td>\n",
              "      <td>35</td>\n",
              "      <td>33</td>\n",
              "      <td>63.166668</td>\n",
              "      <td>3.473179</td>\n",
              "      <td>68.506058</td>\n",
              "      <td>2.759319</td>\n",
              "      <td>2.937784</td>\n",
              "      <td>3</td>\n",
              "    </tr>\n",
              "    <tr>\n",
              "      <th>8</th>\n",
              "      <td>2016</td>\n",
              "      <td>2</td>\n",
              "      <td>UNIVERSIDADE DE BRASÍLIA</td>\n",
              "      <td>UNB</td>\n",
              "      <td>Universidade</td>\n",
              "      <td>Pessoa Jurídica de Direito Público - Federal</td>\n",
              "      <td>140</td>\n",
              "      <td>12</td>\n",
              "      <td>MEDICINA</td>\n",
              "      <td>Educação Presencial</td>\n",
              "      <td>5300108</td>\n",
              "      <td>BRASÍLIA</td>\n",
              "      <td>DF</td>\n",
              "      <td>89</td>\n",
              "      <td>85</td>\n",
              "      <td>63.005882</td>\n",
              "      <td>3.436836</td>\n",
              "      <td>68.930588</td>\n",
              "      <td>2.841475</td>\n",
              "      <td>2.990315</td>\n",
              "      <td>4</td>\n",
              "    </tr>\n",
              "    <tr>\n",
              "      <th>13</th>\n",
              "      <td>2016</td>\n",
              "      <td>3</td>\n",
              "      <td>UNIVERSIDADE FEDERAL DE SERGIPE</td>\n",
              "      <td>UFS</td>\n",
              "      <td>Universidade</td>\n",
              "      <td>Pessoa Jurídica de Direito Público - Federal</td>\n",
              "      <td>303</td>\n",
              "      <td>12</td>\n",
              "      <td>MEDICINA</td>\n",
              "      <td>Educação Presencial</td>\n",
              "      <td>2800308</td>\n",
              "      <td>ARACAJU</td>\n",
              "      <td>SE</td>\n",
              "      <td>53</td>\n",
              "      <td>53</td>\n",
              "      <td>59.494339</td>\n",
              "      <td>2.643099</td>\n",
              "      <td>67.986794</td>\n",
              "      <td>2.658829</td>\n",
              "      <td>2.654896</td>\n",
              "      <td>3</td>\n",
              "    </tr>\n",
              "    <tr>\n",
              "      <th>17</th>\n",
              "      <td>2016</td>\n",
              "      <td>4</td>\n",
              "      <td>UNIVERSIDADE FEDERAL DO AMAZONAS</td>\n",
              "      <td>UFAM</td>\n",
              "      <td>Universidade</td>\n",
              "      <td>Pessoa Jurídica de Direito Público - Federal</td>\n",
              "      <td>389</td>\n",
              "      <td>12</td>\n",
              "      <td>MEDICINA</td>\n",
              "      <td>Educação Presencial</td>\n",
              "      <td>1302603</td>\n",
              "      <td>MANAUS</td>\n",
              "      <td>AM</td>\n",
              "      <td>36</td>\n",
              "      <td>35</td>\n",
              "      <td>66.708572</td>\n",
              "      <td>4.273778</td>\n",
              "      <td>66.128571</td>\n",
              "      <td>2.299221</td>\n",
              "      <td>2.792860</td>\n",
              "      <td>3</td>\n",
              "    </tr>\n",
              "    <tr>\n",
              "      <th>21</th>\n",
              "      <td>2016</td>\n",
              "      <td>5</td>\n",
              "      <td>UNIVERSIDADE FEDERAL DO PIAUÍ</td>\n",
              "      <td>UFPI</td>\n",
              "      <td>Universidade</td>\n",
              "      <td>Pessoa Jurídica de Direito Público - Federal</td>\n",
              "      <td>484</td>\n",
              "      <td>12</td>\n",
              "      <td>MEDICINA</td>\n",
              "      <td>Educação Presencial</td>\n",
              "      <td>2211001</td>\n",
              "      <td>TERESINA</td>\n",
              "      <td>PI</td>\n",
              "      <td>45</td>\n",
              "      <td>45</td>\n",
              "      <td>63.433334</td>\n",
              "      <td>3.533455</td>\n",
              "      <td>72.671112</td>\n",
              "      <td>3.565352</td>\n",
              "      <td>3.557378</td>\n",
              "      <td>4</td>\n",
              "    </tr>\n",
              "  </tbody>\n",
              "</table>\n",
              "</div>"
            ],
            "text/plain": [
              "     Ano  Código da IES  ... Conceito Enade (Contínuo) Conceito Enade (Faixa)\n",
              "2   2016              1  ...                  2.937784                      3\n",
              "8   2016              2  ...                  2.990315                      4\n",
              "13  2016              3  ...                  2.654896                      3\n",
              "17  2016              4  ...                  2.792860                      3\n",
              "21  2016              5  ...                  3.557378                      4\n",
              "\n",
              "[5 rows x 21 columns]"
            ]
          },
          "metadata": {
            "tags": []
          },
          "execution_count": 34
        }
      ]
    },
    {
      "cell_type": "code",
      "metadata": {
        "id": "sR_hx5jcwkLH",
        "outputId": "d7ad806c-bda8-4f54-c013-83d7890fb498",
        "colab": {
          "base_uri": "https://localhost:8080/"
        }
      },
      "source": [
        "dfMedicina[\"Conceito Enade (Faixa)\"] = pd.to_numeric(dfMedicina['Conceito Enade (Faixa)'], errors='coerce')"
      ],
      "execution_count": null,
      "outputs": [
        {
          "output_type": "stream",
          "text": [
            "/usr/local/lib/python3.6/dist-packages/ipykernel_launcher.py:1: SettingWithCopyWarning: \n",
            "A value is trying to be set on a copy of a slice from a DataFrame.\n",
            "Try using .loc[row_indexer,col_indexer] = value instead\n",
            "\n",
            "See the caveats in the documentation: https://pandas.pydata.org/pandas-docs/stable/user_guide/indexing.html#returning-a-view-versus-a-copy\n",
            "  \"\"\"Entry point for launching an IPython kernel.\n"
          ],
          "name": "stderr"
        }
      ]
    },
    {
      "cell_type": "code",
      "metadata": {
        "id": "kSNO1hgrvtKM",
        "outputId": "c2f13f54-c53c-4bef-a0fc-96ebdc73d76f",
        "colab": {
          "base_uri": "https://localhost:8080/"
        }
      },
      "source": [
        "qtdMedicina = len(dfMedicina)\n",
        "print(\"Quantidade de Universidades com medicina: \", qtdMedicina)\n",
        "\n",
        "MediaConceitoEnade = dfMedicina['Conceito Enade (Faixa)'].mean() \n",
        "print(\"Média geral(Medicina) do conceito ENADE: \", round(MediaConceitoEnade,3))\n",
        "\n",
        "DesvioConceitoEnade = dfMedicina.loc[:,\"Conceito Enade (Faixa)\"].std()\n",
        "print(\"Desvio padrão geral(Medicina) do conceito ENADE: \", round(DesvioConceitoEnade,3))"
      ],
      "execution_count": null,
      "outputs": [
        {
          "output_type": "stream",
          "text": [
            "Quantidade de Universidades com medicina:  176\n",
            "Média geral(Medicina) do conceito ENADE:  3.119\n",
            "Desvio padrão geral(Medicina) do conceito ENADE:  0.85\n"
          ],
          "name": "stdout"
        }
      ]
    },
    {
      "cell_type": "code",
      "metadata": {
        "id": "lzfMdmz4rO4x",
        "outputId": "7f46097a-d5d8-4a3d-fa87-9f85c27546f0",
        "colab": {
          "base_uri": "https://localhost:8080/"
        }
      },
      "source": [
        "#Intervalo de Confiança ao nível de 95%;\n",
        "print(\"Intervalo de Confiança ao nível de 95% para média quando a variância é desconhecida\")\n",
        "inf,sup = t.interval(0.95, qtdMedicina-1, loc=MediaConceitoEnade, scale=DesvioConceitoEnade/np.sqrt(qtdMedicina))\n",
        "print ('Limite inferior 95%:', round(inf,3))\n",
        "print ('Limite superior 95%:', round(sup,3))\n"
      ],
      "execution_count": null,
      "outputs": [
        {
          "output_type": "stream",
          "text": [
            "Intervalo de Confiança ao nível de 95% para média quando a variância é desconhecida\n",
            "Limite inferior 95%: 2.993\n",
            "Limite superior 95%: 3.246\n"
          ],
          "name": "stdout"
        }
      ]
    },
    {
      "cell_type": "code",
      "metadata": {
        "id": "ufHxaBOMrP02",
        "outputId": "8f4fbb29-7575-4140-acb2-815a288a0787",
        "colab": {
          "base_uri": "https://localhost:8080/"
        }
      },
      "source": [
        "# Número de amostras, para ERRO máximo de 10%\n",
        "n = (t.ppf(0.025,qtdMedicina-1)**2)*(st.stdev(dfMedicina.iloc[:,20])**2)/(0.01**2)\n",
        "print(\"Tamanho da amostra =\",round(n))"
      ],
      "execution_count": null,
      "outputs": [
        {
          "output_type": "stream",
          "text": [
            "Tamanho da amostra = 28155.0\n"
          ],
          "name": "stdout"
        }
      ]
    },
    {
      "cell_type": "code",
      "metadata": {
        "id": "zxSgvAeH9vTx"
      },
      "source": [
        "import numpy as np\n",
        "import scipy.stats\n",
        "\n",
        "def mean_confidence_interval(data, confidence=0.95):\n",
        "    a = 1.0 * np.array(data)\n",
        "    n = len(a)\n",
        "    m, se = np.mean(a), scipy.stats.sem(a)\n",
        "    h = se * scipy.stats.t.ppf((1 + confidence) / 2., n-1)\n",
        "    tam_amostra = (t.ppf(0.025,n-1)**2)*(st.stdev(data)**2)/(0.01**2)\n",
        "    return 'Coluna[{}]: Média {}, I.C.[{}, {}], e número de amostras (c/ erro máximo de 10%) {}'.format(titulos[Coluna], round(m,4), round(m-h,4), round(m+h,4), round(tam_amostra,4))"
      ],
      "execution_count": null,
      "outputs": []
    },
    {
      "cell_type": "code",
      "metadata": {
        "id": "-b5z3MZUHAIe",
        "outputId": "ece4f35f-8b64-4c76-e821-5170ed5c8cfd",
        "colab": {
          "base_uri": "https://localhost:8080/"
        }
      },
      "source": [
        "titulos = list(dfMedicina.columns.values)\n",
        "i = 0\n",
        "while i < len(titulos):\n",
        "    print( \"[%d] = %s\"%(i, titulos[i]) )\n",
        "    i+=1"
      ],
      "execution_count": null,
      "outputs": [
        {
          "output_type": "stream",
          "text": [
            "[0] = Ano\n",
            "[1] = Código da IES\n",
            "[2] = Nome da IES\n",
            "[3] = Sigla da IES\n",
            "[4] = Organização Acadêmica\n",
            "[5] = Categoria Administrativa\n",
            "[6] = Código do Curso\n",
            "[7] = Código da Área\n",
            "[8] = Área de Enquadramento\n",
            "[9] = Modalidade de Ensino\n",
            "[10] = Código do Município\n",
            "[11] = Município do Curso\n",
            "[12] = Sigla da UF\n",
            "[13] = Concluintes Inscritos\n",
            "[14] = Concluintes Participantes\n",
            "[15] = Nota Bruta - FG\n",
            "[16] = Nota Padronizada - FG\n",
            "[17] = Nota Bruta - CE\n",
            "[18] = Nota Padronizada - CE\n",
            "[19] = Conceito Enade (Contínuo)\n",
            "[20] = Conceito Enade (Faixa)\n"
          ],
          "name": "stdout"
        }
      ]
    },
    {
      "cell_type": "code",
      "metadata": {
        "id": "w_yimQHP7DiD",
        "outputId": "e9a845e5-804c-4901-fae0-3344bb62cbab",
        "colab": {
          "base_uri": "https://localhost:8080/"
        }
      },
      "source": [
        "dfMedicina.iloc[:,19]"
      ],
      "execution_count": null,
      "outputs": [
        {
          "output_type": "execute_result",
          "data": {
            "text/plain": [
              "2       2.937784\n",
              "8       2.990315\n",
              "13      2.654896\n",
              "17      2.792860\n",
              "21      3.557378\n",
              "          ...   \n",
              "3833    2.660124\n",
              "4029    2.078226\n",
              "4185    2.786400\n",
              "4293    1.438373\n",
              "4295    2.447981\n",
              "Name: Conceito Enade (Contínuo), Length: 176, dtype: float64"
            ]
          },
          "metadata": {
            "tags": []
          },
          "execution_count": 47
        }
      ]
    },
    {
      "cell_type": "code",
      "metadata": {
        "id": "s6IxDHARIbpP",
        "outputId": "3d61da5e-c52e-4e96-fa9d-b0de046d0e2b",
        "colab": {
          "base_uri": "https://localhost:8080/",
          "height": 52
        }
      },
      "source": [
        "#@title Número da coluna desejada { output-height: 10, form-width: \"99%\" }\n",
        "Coluna = 20 #@param {type:\"integer\"}\n",
        "\n",
        "SAIDA = mean_confidence_interval(dfMedicina.iloc[:,Coluna])\n",
        "SAIDA"
      ],
      "execution_count": null,
      "outputs": [
        {
          "output_type": "execute_result",
          "data": {
            "application/vnd.google.colaboratory.intrinsic+json": {
              "type": "string"
            },
            "text/plain": [
              "'Coluna[Conceito Enade (Faixa)]: Média 3.1193, I.C.[2.9928, 3.2458], e número de amostras (c/ erro máximo de 10%) 28155.0775'"
            ]
          },
          "metadata": {
            "tags": []
          },
          "execution_count": 52
        }
      ]
    },
    {
      "cell_type": "code",
      "metadata": {
        "id": "IelRqw3b8g1R",
        "outputId": "ec725ed9-6de8-4a1a-f5d7-cf8d7a038bd1",
        "colab": {
          "base_uri": "https://localhost:8080/"
        }
      },
      "source": [
        "q10 = [25.2,26,26.4,27.1,28.2,28.4]\n",
        "q10"
      ],
      "execution_count": null,
      "outputs": [
        {
          "output_type": "execute_result",
          "data": {
            "text/plain": [
              "[25.2, 26, 26.4, 27.1, 28.2, 28.4]"
            ]
          },
          "metadata": {
            "tags": []
          },
          "execution_count": 54
        }
      ]
    },
    {
      "cell_type": "code",
      "metadata": {
        "id": "usDc-HpS87gE",
        "outputId": "731b6a72-08f9-4454-a90c-81e4f0a589f6",
        "colab": {
          "base_uri": "https://localhost:8080/",
          "height": 52
        }
      },
      "source": [
        "mean_confidence_interval(q10)"
      ],
      "execution_count": null,
      "outputs": [
        {
          "output_type": "execute_result",
          "data": {
            "application/vnd.google.colaboratory.intrinsic+json": {
              "type": "string"
            },
            "text/plain": [
              "'Coluna[Conceito Enade (Faixa)]: Média 26.8833, I.C.[25.5618, 28.2048], e número de amostras (c/ erro máximo de 10%) 104779.1246'"
            ]
          },
          "metadata": {
            "tags": []
          },
          "execution_count": 55
        }
      ]
    }
  ]
}