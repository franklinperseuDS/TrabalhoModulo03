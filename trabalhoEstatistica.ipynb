{
  "nbformat": 4,
  "nbformat_minor": 0,
  "metadata": {
    "colab": {
      "name": "trabalhoEstatistica.ipynb",
      "provenance": [],
      "collapsed_sections": [],
      "toc_visible": true,
      "include_colab_link": true
    },
    "kernelspec": {
      "name": "python3",
      "display_name": "Python 3"
    }
  },
  "cells": [
    {
      "cell_type": "markdown",
      "metadata": {
        "id": "view-in-github",
        "colab_type": "text"
      },
      "source": [
        "<a href=\"https://colab.research.google.com/github/franklinperseuDS/TrabalhoModulo03/blob/main/trabalhoEstatistica.ipynb\" target=\"_parent\"><img src=\"https://colab.research.google.com/assets/colab-badge.svg\" alt=\"Open In Colab\"/></a>"
      ]
    },
    {
      "cell_type": "code",
      "metadata": {
        "id": "iqydn_S4pqsc"
      },
      "source": [
        "# Pacotes necessários\n",
        "import pandas as pd\n",
        "import numpy as np\n",
        "import statistics as st\n",
        "import seaborn as se\n",
        "import statsmodels.stats.proportion as smp\n",
        "from scipy import stats\n",
        "from scipy.stats import t"
      ],
      "execution_count": 13,
      "outputs": []
    },
    {
      "cell_type": "code",
      "metadata": {
        "id": "82F7B9BiqH-_",
        "outputId": "3fc1e44e-c650-45c6-89ac-4208913d65bc",
        "colab": {
          "base_uri": "https://localhost:8080/"
        }
      },
      "source": [
        "from google.colab import drive\n",
        "drive.mount('/content/drive')"
      ],
      "execution_count": 14,
      "outputs": [
        {
          "output_type": "stream",
          "text": [
            "Drive already mounted at /content/drive; to attempt to forcibly remount, call drive.mount(\"/content/drive\", force_remount=True).\n"
          ],
          "name": "stdout"
        }
      ]
    },
    {
      "cell_type": "markdown",
      "metadata": {
        "id": "KWmtLulk4xso"
      },
      "source": [
        "#DataFrames"
      ]
    },
    {
      "cell_type": "code",
      "metadata": {
        "id": "EE3KvgF1sd94"
      },
      "source": [
        "\"\"\"dfMicroDados =  pd.read_csv('/content/drive/Shared drives/Trabalho Estátistica/MICRODADOS_ENADE_2016.csv',sep=';',decimal=',')\n",
        "dfMicroDados.shape\n",
        "\"\"\""
      ],
      "execution_count": 15,
      "outputs": []
    },
    {
      "cell_type": "code",
      "metadata": {
        "id": "pgUTDeY226aW"
      },
      "source": [
        "dfConceito = pd.read_excel('/content/drive/Shared drives/Trabalho Estátistica/conceito_enade2016.xlsx')"
      ],
      "execution_count": 16,
      "outputs": []
    },
    {
      "cell_type": "code",
      "metadata": {
        "id": "p6S8HmC9s1Rj",
        "outputId": "16fd5947-434a-4fda-88cc-87daa43bf0d8",
        "colab": {
          "base_uri": "https://localhost:8080/"
        }
      },
      "source": [
        "dfConceito.info()"
      ],
      "execution_count": 83,
      "outputs": [
        {
          "output_type": "stream",
          "text": [
            "<class 'pandas.core.frame.DataFrame'>\n",
            "RangeIndex: 4299 entries, 0 to 4298\n",
            "Data columns (total 21 columns):\n",
            " #   Column                     Non-Null Count  Dtype  \n",
            "---  ------                     --------------  -----  \n",
            " 0   Ano                        4299 non-null   int64  \n",
            " 1   Código da IES              4299 non-null   int64  \n",
            " 2   Nome da IES                4299 non-null   object \n",
            " 3   Sigla da IES               4299 non-null   object \n",
            " 4   Organização Acadêmica      4299 non-null   object \n",
            " 5   Categoria Administrativa   4299 non-null   object \n",
            " 6   CodCurso                   4299 non-null   int64  \n",
            " 7   Código da Área             4299 non-null   int64  \n",
            " 8   Área de Enquadramento      4299 non-null   object \n",
            " 9   Modalidade de Ensino       4299 non-null   object \n",
            " 10  Código do Município        4299 non-null   int64  \n",
            " 11  Município do Curso         4299 non-null   object \n",
            " 12  Sigla da UF                4299 non-null   object \n",
            " 13  Concluintes Inscritos      4299 non-null   int64  \n",
            " 14  Concluintes Participantes  4299 non-null   int64  \n",
            " 15  Nota Bruta - FG            4200 non-null   float64\n",
            " 16  Nota Padronizada - FG      4200 non-null   float64\n",
            " 17  Nota Bruta - CE            4200 non-null   float64\n",
            " 18  Nota Padronizada - CE      4200 non-null   float64\n",
            " 19  Conceito Enade (Contínuo)  4200 non-null   float64\n",
            " 20  Conceito Enade (Faixa)     4299 non-null   object \n",
            "dtypes: float64(5), int64(7), object(9)\n",
            "memory usage: 705.4+ KB\n"
          ],
          "name": "stdout"
        }
      ]
    },
    {
      "cell_type": "markdown",
      "metadata": {
        "id": "OU0beEPAbNSz"
      },
      "source": [
        "## Tratamento do Dataframe 'Conceito' para as seguintes colunas\n",
        " 1. codigo da IES \n",
        " 2. Sigla da IES \n",
        " 3. Organização Acadêmica \n",
        " 4. 'Município do Curso' \n",
        " 5. 'Sigla da UF' \n",
        " 6. Concluintes Inscritos \n",
        " 7. 'Concluintes Participantes \n",
        " 8. <s> 'Nota Bruta - FG', #* deixar por ultimo</s>\n",
        " 9. 'Nota Padronizada - FG' \n",
        " 10. <s> 'Nota Bruta - CE', #* deixar por ultimo </s>\n",
        " 11. 'Nota Padronizada - CE', \n",
        " 12. 'Conceito Enade (Contínuo)' \n",
        " 13. Conceito Enade (Faixa)\n",
        " 14. Código da Área\n",
        "\n",
        "\n"
      ]
    },
    {
      "cell_type": "code",
      "metadata": {
        "id": "hWLLrJN8aGRB"
      },
      "source": [
        "dfMedicinaC = dfConceito[dfConceito['Área de Enquadramento'] == 'MEDICINA'][['Código da Área','Código da IES','Sigla da IES','Município do Curso', 'Sigla da UF','Concluintes Inscritos', 'Concluintes Participantes','Nota Padronizada - FG','Nota Padronizada - CE','Conceito Enade (Contínuo)','Conceito Enade (Faixa)']]"
      ],
      "execution_count": 39,
      "outputs": []
    },
    {
      "cell_type": "code",
      "metadata": {
        "id": "4NHFjSXXn261"
      },
      "source": [
        "dfMedicinaC['Conceito Enade (Faixa)'] = dfMedicinaC['Conceito Enade (Faixa)'].astype(int)"
      ],
      "execution_count": 86,
      "outputs": []
    },
    {
      "cell_type": "code",
      "metadata": {
        "id": "GLCaOrDkdzgQ"
      },
      "source": [
        "dfMedicinaC = dfMedicinaC.reset_index()"
      ],
      "execution_count": 50,
      "outputs": []
    },
    {
      "cell_type": "code",
      "metadata": {
        "id": "RMzUABdXa-mH",
        "outputId": "4fef73d5-8e5f-4a53-bd3a-cd3e7503135c",
        "colab": {
          "base_uri": "https://localhost:8080/"
        }
      },
      "source": [
        "dfMedicinaC.info()"
      ],
      "execution_count": 84,
      "outputs": [
        {
          "output_type": "stream",
          "text": [
            "<class 'pandas.core.frame.DataFrame'>\n",
            "RangeIndex: 176 entries, 0 to 175\n",
            "Data columns (total 11 columns):\n",
            " #   Column                     Non-Null Count  Dtype  \n",
            "---  ------                     --------------  -----  \n",
            " 0   index                      176 non-null    int64  \n",
            " 1   Código da IES              176 non-null    int64  \n",
            " 2   Sigla da IES               176 non-null    object \n",
            " 3   Município do Curso         176 non-null    object \n",
            " 4   Sigla da UF                176 non-null    object \n",
            " 5   Concluintes Inscritos      176 non-null    int64  \n",
            " 6   Concluintes Participantes  176 non-null    int64  \n",
            " 7   Nota Padronizada - FG      176 non-null    float64\n",
            " 8   Nota Padronizada - CE      176 non-null    float64\n",
            " 9   Conceito Enade (Contínuo)  176 non-null    float64\n",
            " 10  Conceito Enade (Faixa)     176 non-null    object \n",
            "dtypes: float64(3), int64(4), object(4)\n",
            "memory usage: 15.2+ KB\n"
          ],
          "name": "stdout"
        }
      ]
    },
    {
      "cell_type": "code",
      "metadata": {
        "id": "EClgGAjLmYyg",
        "outputId": "88a4383b-b8e7-4a06-ed58-1d3223d4bf28",
        "colab": {
          "base_uri": "https://localhost:8080/",
          "height": 221
        }
      },
      "source": [
        "dfMedicinaC.head()"
      ],
      "execution_count": 75,
      "outputs": [
        {
          "output_type": "execute_result",
          "data": {
            "text/html": [
              "<div>\n",
              "<style scoped>\n",
              "    .dataframe tbody tr th:only-of-type {\n",
              "        vertical-align: middle;\n",
              "    }\n",
              "\n",
              "    .dataframe tbody tr th {\n",
              "        vertical-align: top;\n",
              "    }\n",
              "\n",
              "    .dataframe thead th {\n",
              "        text-align: right;\n",
              "    }\n",
              "</style>\n",
              "<table border=\"1\" class=\"dataframe\">\n",
              "  <thead>\n",
              "    <tr style=\"text-align: right;\">\n",
              "      <th></th>\n",
              "      <th>index</th>\n",
              "      <th>Código da IES</th>\n",
              "      <th>Sigla da IES</th>\n",
              "      <th>Município do Curso</th>\n",
              "      <th>Sigla da UF</th>\n",
              "      <th>Concluintes Inscritos</th>\n",
              "      <th>Concluintes Participantes</th>\n",
              "      <th>Nota Padronizada - FG</th>\n",
              "      <th>Nota Padronizada - CE</th>\n",
              "      <th>Conceito Enade (Contínuo)</th>\n",
              "      <th>Conceito Enade (Faixa)</th>\n",
              "    </tr>\n",
              "  </thead>\n",
              "  <tbody>\n",
              "    <tr>\n",
              "      <th>0</th>\n",
              "      <td>2</td>\n",
              "      <td>1</td>\n",
              "      <td>UFMT</td>\n",
              "      <td>CUIABÁ</td>\n",
              "      <td>MT</td>\n",
              "      <td>35</td>\n",
              "      <td>33</td>\n",
              "      <td>3.473179</td>\n",
              "      <td>2.759319</td>\n",
              "      <td>2.937784</td>\n",
              "      <td>3</td>\n",
              "    </tr>\n",
              "    <tr>\n",
              "      <th>1</th>\n",
              "      <td>8</td>\n",
              "      <td>2</td>\n",
              "      <td>UNB</td>\n",
              "      <td>BRASÍLIA</td>\n",
              "      <td>DF</td>\n",
              "      <td>89</td>\n",
              "      <td>85</td>\n",
              "      <td>3.436836</td>\n",
              "      <td>2.841475</td>\n",
              "      <td>2.990315</td>\n",
              "      <td>4</td>\n",
              "    </tr>\n",
              "    <tr>\n",
              "      <th>2</th>\n",
              "      <td>13</td>\n",
              "      <td>3</td>\n",
              "      <td>UFS</td>\n",
              "      <td>ARACAJU</td>\n",
              "      <td>SE</td>\n",
              "      <td>53</td>\n",
              "      <td>53</td>\n",
              "      <td>2.643099</td>\n",
              "      <td>2.658829</td>\n",
              "      <td>2.654896</td>\n",
              "      <td>3</td>\n",
              "    </tr>\n",
              "    <tr>\n",
              "      <th>3</th>\n",
              "      <td>17</td>\n",
              "      <td>4</td>\n",
              "      <td>UFAM</td>\n",
              "      <td>MANAUS</td>\n",
              "      <td>AM</td>\n",
              "      <td>36</td>\n",
              "      <td>35</td>\n",
              "      <td>4.273778</td>\n",
              "      <td>2.299221</td>\n",
              "      <td>2.792860</td>\n",
              "      <td>3</td>\n",
              "    </tr>\n",
              "    <tr>\n",
              "      <th>4</th>\n",
              "      <td>21</td>\n",
              "      <td>5</td>\n",
              "      <td>UFPI</td>\n",
              "      <td>TERESINA</td>\n",
              "      <td>PI</td>\n",
              "      <td>45</td>\n",
              "      <td>45</td>\n",
              "      <td>3.533455</td>\n",
              "      <td>3.565352</td>\n",
              "      <td>3.557378</td>\n",
              "      <td>4</td>\n",
              "    </tr>\n",
              "  </tbody>\n",
              "</table>\n",
              "</div>"
            ],
            "text/plain": [
              "   index  Código da IES  ... Conceito Enade (Contínuo) Conceito Enade (Faixa)\n",
              "0      2              1  ...                  2.937784                      3\n",
              "1      8              2  ...                  2.990315                      4\n",
              "2     13              3  ...                  2.654896                      3\n",
              "3     17              4  ...                  2.792860                      3\n",
              "4     21              5  ...                  3.557378                      4\n",
              "\n",
              "[5 rows x 11 columns]"
            ]
          },
          "metadata": {
            "tags": []
          },
          "execution_count": 75
        }
      ]
    },
    {
      "cell_type": "markdown",
      "metadata": {
        "id": "sO_24gA_9gfb"
      },
      "source": [
        "#ITEM A\n"
      ]
    },
    {
      "cell_type": "markdown",
      "metadata": {
        "id": "zrSpaAKehFxl"
      },
      "source": [
        "exemplos para se basear\n",
        "----box plot\n",
        "\n",
        "se.boxplot(bdenade['conceito']).set_title('Box-plot do conceito ENADE contínuo')\n",
        "\n",
        " ----gráfico de colunas\n",
        "\n",
        "categoriadm.plot.bar(color = 'gray')"
      ]
    },
    {
      "cell_type": "code",
      "metadata": {
        "id": "BY-ESSUclWtS",
        "outputId": "6cb492ed-bf32-4277-a2e0-5ec568ead27b",
        "colab": {
          "base_uri": "https://localhost:8080/",
          "height": 366
        }
      },
      "source": [
        "se.boxplot(dfMedicinaC['Nota Padronizada - CE']).set_title('Gráfico Box-plot do conceito ENADE Nota Pardonizada CE')"
      ],
      "execution_count": 68,
      "outputs": [
        {
          "output_type": "stream",
          "text": [
            "/usr/local/lib/python3.6/dist-packages/seaborn/_decorators.py:43: FutureWarning: Pass the following variable as a keyword arg: x. From version 0.12, the only valid positional argument will be `data`, and passing other arguments without an explicit keyword will result in an error or misinterpretation.\n",
            "  FutureWarning\n"
          ],
          "name": "stderr"
        },
        {
          "output_type": "execute_result",
          "data": {
            "text/plain": [
              "Text(0.5, 1.0, 'Gráfico Box-plot do conceito ENADE Nota Pardonizada CE')"
            ]
          },
          "metadata": {
            "tags": []
          },
          "execution_count": 68
        },
        {
          "output_type": "display_data",
          "data": {
            "image/png": "[encoded data removed]",
            "text/plain": [
              "<Figure size 432x288 with 1 Axes>"
            ]
          },
          "metadata": {
            "tags": [],
            "needs_background": "light"
          }
        }
      ]
    },
    {
      "cell_type": "code",
      "metadata": {
        "id": "eoCe2cQAj3d1",
        "outputId": "afe9c919-0676-4065-a0e5-b24fb389b059",
        "colab": {
          "base_uri": "https://localhost:8080/",
          "height": 366
        }
      },
      "source": [
        "se.boxplot(dfMedicinaC['Nota Padronizada - FG']).set_title('Gráfico Box-plot do conceito ENADE Nota Pardonizada FG')"
      ],
      "execution_count": 67,
      "outputs": [
        {
          "output_type": "stream",
          "text": [
            "/usr/local/lib/python3.6/dist-packages/seaborn/_decorators.py:43: FutureWarning: Pass the following variable as a keyword arg: x. From version 0.12, the only valid positional argument will be `data`, and passing other arguments without an explicit keyword will result in an error or misinterpretation.\n",
            "  FutureWarning\n"
          ],
          "name": "stderr"
        },
        {
          "output_type": "execute_result",
          "data": {
            "text/plain": [
              "Text(0.5, 1.0, 'Gráfico Box-plot do conceito ENADE Nota Pardonizada')"
            ]
          },
          "metadata": {
            "tags": []
          },
          "execution_count": 67
        },
        {
          "output_type": "display_data",
          "data": {
            "image/png": "[encoded data removed]",
            "text/plain": [
              "<Figure size 432x288 with 1 Axes>"
            ]
          },
          "metadata": {
            "tags": [],
            "needs_background": "light"
          }
        }
      ]
    },
    {
      "cell_type": "code",
      "metadata": {
        "id": "8VOGbErUmBAs",
        "outputId": "562ef7b1-ea48-40bc-8557-2451885763f8",
        "colab": {
          "base_uri": "https://localhost:8080/",
          "height": 35
        }
      },
      "source": [
        "dfMedicinaC['Conceito Enade (Faixa)'][0]"
      ],
      "execution_count": 78,
      "outputs": [
        {
          "output_type": "execute_result",
          "data": {
            "application/vnd.google.colaboratory.intrinsic+json": {
              "type": "string"
            },
            "text/plain": [
              "'3'"
            ]
          },
          "metadata": {
            "tags": []
          },
          "execution_count": 78
        }
      ]
    },
    {
      "cell_type": "code",
      "metadata": {
        "id": "vzXNF3Dflpv2",
        "outputId": "1c79a9e7-156e-4f10-b599-f8cac44821cd",
        "colab": {
          "base_uri": "https://localhost:8080/",
          "height": 502
        }
      },
      "source": [
        "#Conceito Enade (Faixa)\n",
        "se.boxplot(dfMedicinaC['Conceito Enade (Faixa)']).set_title('Conceito ENADE Faixa')\n",
        "dfMedicinaC['Conceito Enade (Faixa)'].describe()"
      ],
      "execution_count": 89,
      "outputs": [
        {
          "output_type": "stream",
          "text": [
            "/usr/local/lib/python3.6/dist-packages/seaborn/_decorators.py:43: FutureWarning: Pass the following variable as a keyword arg: x. From version 0.12, the only valid positional argument will be `data`, and passing other arguments without an explicit keyword will result in an error or misinterpretation.\n",
            "  FutureWarning\n"
          ],
          "name": "stderr"
        },
        {
          "output_type": "execute_result",
          "data": {
            "text/plain": [
              "count    176.000000\n",
              "mean       3.119318\n",
              "std        0.850191\n",
              "min        1.000000\n",
              "25%        3.000000\n",
              "50%        3.000000\n",
              "75%        4.000000\n",
              "max        5.000000\n",
              "Name: Conceito Enade (Faixa), dtype: float64"
            ]
          },
          "metadata": {
            "tags": []
          },
          "execution_count": 89
        },
        {
          "output_type": "display_data",
          "data": {
            "image/png": "[encoded data removed]",
            "text/plain": [
              "<Figure size 432x288 with 1 Axes>"
            ]
          },
          "metadata": {
            "tags": [],
            "needs_background": "light"
          }
        }
      ]
    },
    {
      "cell_type": "code",
      "metadata": {
        "id": "CsLKaaxhszbI",
        "outputId": "cfb8a933-3d56-4093-d275-c5954c40c52a",
        "colab": {
          "base_uri": "https://localhost:8080/",
          "height": 366
        }
      },
      "source": [
        "se.boxplot(dfMedicinaC['Conceito Enade (Contínuo)']).set_title('Gráfico Box-plot do conceito ENADE contínuo de Medicina')"
      ],
      "execution_count": 64,
      "outputs": [
        {
          "output_type": "stream",
          "text": [
            "/usr/local/lib/python3.6/dist-packages/seaborn/_decorators.py:43: FutureWarning: Pass the following variable as a keyword arg: x. From version 0.12, the only valid positional argument will be `data`, and passing other arguments without an explicit keyword will result in an error or misinterpretation.\n",
            "  FutureWarning\n"
          ],
          "name": "stderr"
        },
        {
          "output_type": "execute_result",
          "data": {
            "text/plain": [
              "Text(0.5, 1.0, 'Box-plot do conceito ENADE contínuo')"
            ]
          },
          "metadata": {
            "tags": []
          },
          "execution_count": 64
        },
        {
          "output_type": "display_data",
          "data": {
            "image/png": "[encoded data removed]",
            "text/plain": [
              "<Figure size 432x288 with 1 Axes>"
            ]
          },
          "metadata": {
            "tags": [],
            "needs_background": "light"
          }
        }
      ]
    },
    {
      "cell_type": "code",
      "metadata": {
        "id": "kp_LmBjhtMds"
      },
      "source": [
        ""
      ],
      "execution_count": 21,
      "outputs": []
    },
    {
      "cell_type": "code",
      "metadata": {
        "id": "747Xmy0on57T"
      },
      "source": [
        ""
      ],
      "execution_count": null,
      "outputs": []
    },
    {
      "cell_type": "markdown",
      "metadata": {
        "id": "sl7NFLvuesFE"
      },
      "source": [
        "CO_REGIAO_CURSO\n",
        "1 = Região Norte (NO)\n",
        "2 = Região Nordeste (NE)\n",
        "3 = Região Sudeste (SE)\n",
        "4 = Região Sul (SUL)\n",
        "5 = Região Centro-Oeste (CO)"
      ]
    },
    {
      "cell_type": "code",
      "metadata": {
        "id": "6F_gCvA2wQeN"
      },
      "source": [
        ""
      ],
      "execution_count": null,
      "outputs": []
    },
    {
      "cell_type": "markdown",
      "metadata": {
        "id": "ZOQkX_cyrE9S"
      },
      "source": [
        "#**ITEM D**"
      ]
    },
    {
      "cell_type": "code",
      "metadata": {
        "id": "mf_4cfOXsLNU",
        "outputId": "e2ef8cc4-f1e1-4639-c972-27f3a748172a",
        "colab": {
          "base_uri": "https://localhost:8080/",
          "height": 428
        }
      },
      "source": [
        "dfMedicina = dfConceito[dfConceito['Código da Área'] == 12]\n",
        "dfMedicina.head()"
      ],
      "execution_count": 52,
      "outputs": [
        {
          "output_type": "execute_result",
          "data": {
            "text/html": [
              "<div>\n",
              "<style scoped>\n",
              "    .dataframe tbody tr th:only-of-type {\n",
              "        vertical-align: middle;\n",
              "    }\n",
              "\n",
              "    .dataframe tbody tr th {\n",
              "        vertical-align: top;\n",
              "    }\n",
              "\n",
              "    .dataframe thead th {\n",
              "        text-align: right;\n",
              "    }\n",
              "</style>\n",
              "<table border=\"1\" class=\"dataframe\">\n",
              "  <thead>\n",
              "    <tr style=\"text-align: right;\">\n",
              "      <th></th>\n",
              "      <th>Ano</th>\n",
              "      <th>Código da IES</th>\n",
              "      <th>Nome da IES</th>\n",
              "      <th>Sigla da IES</th>\n",
              "      <th>Organização Acadêmica</th>\n",
              "      <th>Categoria Administrativa</th>\n",
              "      <th>CodCurso</th>\n",
              "      <th>Código da Área</th>\n",
              "      <th>Área de Enquadramento</th>\n",
              "      <th>Modalidade de Ensino</th>\n",
              "      <th>Código do Município</th>\n",
              "      <th>Município do Curso</th>\n",
              "      <th>Sigla da UF</th>\n",
              "      <th>Concluintes Inscritos</th>\n",
              "      <th>Concluintes Participantes</th>\n",
              "      <th>Nota Bruta - FG</th>\n",
              "      <th>Nota Padronizada - FG</th>\n",
              "      <th>Nota Bruta - CE</th>\n",
              "      <th>Nota Padronizada - CE</th>\n",
              "      <th>Conceito Enade (Contínuo)</th>\n",
              "      <th>Conceito Enade (Faixa)</th>\n",
              "    </tr>\n",
              "  </thead>\n",
              "  <tbody>\n",
              "    <tr>\n",
              "      <th>2</th>\n",
              "      <td>2016</td>\n",
              "      <td>1</td>\n",
              "      <td>UNIVERSIDADE FEDERAL DE MATO GROSSO</td>\n",
              "      <td>UFMT</td>\n",
              "      <td>Universidade</td>\n",
              "      <td>Pessoa Jurídica de Direito Público - Federal</td>\n",
              "      <td>12</td>\n",
              "      <td>12</td>\n",
              "      <td>MEDICINA</td>\n",
              "      <td>Educação Presencial</td>\n",
              "      <td>5103403</td>\n",
              "      <td>CUIABÁ</td>\n",
              "      <td>MT</td>\n",
              "      <td>35</td>\n",
              "      <td>33</td>\n",
              "      <td>63.166668</td>\n",
              "      <td>3.473179</td>\n",
              "      <td>68.506058</td>\n",
              "      <td>2.759319</td>\n",
              "      <td>2.937784</td>\n",
              "      <td>3</td>\n",
              "    </tr>\n",
              "    <tr>\n",
              "      <th>8</th>\n",
              "      <td>2016</td>\n",
              "      <td>2</td>\n",
              "      <td>UNIVERSIDADE DE BRASÍLIA</td>\n",
              "      <td>UNB</td>\n",
              "      <td>Universidade</td>\n",
              "      <td>Pessoa Jurídica de Direito Público - Federal</td>\n",
              "      <td>140</td>\n",
              "      <td>12</td>\n",
              "      <td>MEDICINA</td>\n",
              "      <td>Educação Presencial</td>\n",
              "      <td>5300108</td>\n",
              "      <td>BRASÍLIA</td>\n",
              "      <td>DF</td>\n",
              "      <td>89</td>\n",
              "      <td>85</td>\n",
              "      <td>63.005882</td>\n",
              "      <td>3.436836</td>\n",
              "      <td>68.930588</td>\n",
              "      <td>2.841475</td>\n",
              "      <td>2.990315</td>\n",
              "      <td>4</td>\n",
              "    </tr>\n",
              "    <tr>\n",
              "      <th>13</th>\n",
              "      <td>2016</td>\n",
              "      <td>3</td>\n",
              "      <td>UNIVERSIDADE FEDERAL DE SERGIPE</td>\n",
              "      <td>UFS</td>\n",
              "      <td>Universidade</td>\n",
              "      <td>Pessoa Jurídica de Direito Público - Federal</td>\n",
              "      <td>303</td>\n",
              "      <td>12</td>\n",
              "      <td>MEDICINA</td>\n",
              "      <td>Educação Presencial</td>\n",
              "      <td>2800308</td>\n",
              "      <td>ARACAJU</td>\n",
              "      <td>SE</td>\n",
              "      <td>53</td>\n",
              "      <td>53</td>\n",
              "      <td>59.494339</td>\n",
              "      <td>2.643099</td>\n",
              "      <td>67.986794</td>\n",
              "      <td>2.658829</td>\n",
              "      <td>2.654896</td>\n",
              "      <td>3</td>\n",
              "    </tr>\n",
              "    <tr>\n",
              "      <th>17</th>\n",
              "      <td>2016</td>\n",
              "      <td>4</td>\n",
              "      <td>UNIVERSIDADE FEDERAL DO AMAZONAS</td>\n",
              "      <td>UFAM</td>\n",
              "      <td>Universidade</td>\n",
              "      <td>Pessoa Jurídica de Direito Público - Federal</td>\n",
              "      <td>389</td>\n",
              "      <td>12</td>\n",
              "      <td>MEDICINA</td>\n",
              "      <td>Educação Presencial</td>\n",
              "      <td>1302603</td>\n",
              "      <td>MANAUS</td>\n",
              "      <td>AM</td>\n",
              "      <td>36</td>\n",
              "      <td>35</td>\n",
              "      <td>66.708572</td>\n",
              "      <td>4.273778</td>\n",
              "      <td>66.128571</td>\n",
              "      <td>2.299221</td>\n",
              "      <td>2.792860</td>\n",
              "      <td>3</td>\n",
              "    </tr>\n",
              "    <tr>\n",
              "      <th>21</th>\n",
              "      <td>2016</td>\n",
              "      <td>5</td>\n",
              "      <td>UNIVERSIDADE FEDERAL DO PIAUÍ</td>\n",
              "      <td>UFPI</td>\n",
              "      <td>Universidade</td>\n",
              "      <td>Pessoa Jurídica de Direito Público - Federal</td>\n",
              "      <td>484</td>\n",
              "      <td>12</td>\n",
              "      <td>MEDICINA</td>\n",
              "      <td>Educação Presencial</td>\n",
              "      <td>2211001</td>\n",
              "      <td>TERESINA</td>\n",
              "      <td>PI</td>\n",
              "      <td>45</td>\n",
              "      <td>45</td>\n",
              "      <td>63.433334</td>\n",
              "      <td>3.533455</td>\n",
              "      <td>72.671112</td>\n",
              "      <td>3.565352</td>\n",
              "      <td>3.557378</td>\n",
              "      <td>4</td>\n",
              "    </tr>\n",
              "  </tbody>\n",
              "</table>\n",
              "</div>"
            ],
            "text/plain": [
              "     Ano  Código da IES  ... Conceito Enade (Contínuo) Conceito Enade (Faixa)\n",
              "2   2016              1  ...                  2.937784                      3\n",
              "8   2016              2  ...                  2.990315                      4\n",
              "13  2016              3  ...                  2.654896                      3\n",
              "17  2016              4  ...                  2.792860                      3\n",
              "21  2016              5  ...                  3.557378                      4\n",
              "\n",
              "[5 rows x 21 columns]"
            ]
          },
          "metadata": {
            "tags": []
          },
          "execution_count": 52
        }
      ]
    },
    {
      "cell_type": "code",
      "metadata": {
        "id": "sR_hx5jcwkLH"
      },
      "source": [
        "dfMedicina[\"Conceito Enade (Faixa)\"] = pd.to_numeric(dfMedicina['Conceito Enade (Faixa)'], errors='coerce')"
      ],
      "execution_count": null,
      "outputs": []
    },
    {
      "cell_type": "code",
      "metadata": {
        "id": "kSNO1hgrvtKM"
      },
      "source": [
        "qtdMedicina = len(dfMedicina)\n",
        "print(\"Quantidade de Universidades com medicina: \", qtdMedicina)\n",
        "\n",
        "MediaConceitoEnade = dfMedicina['Conceito Enade (Faixa)'].mean() \n",
        "print(\"Média geral(Medicina) do conceito ENADE: \", round(MediaConceitoEnade,3))\n",
        "\n",
        "DesvioConceitoEnade = dfMedicina.loc[:,\"Conceito Enade (Faixa)\"].std()\n",
        "print(\"Desvio padrão geral(Medicina) do conceito ENADE: \", round(DesvioConceitoEnade,3))"
      ],
      "execution_count": null,
      "outputs": []
    },
    {
      "cell_type": "code",
      "metadata": {
        "id": "lzfMdmz4rO4x"
      },
      "source": [
        "#Intervalo de Confiança ao nível de 95%;\n",
        "print(\"Intervalo de Confiança ao nível de 95% para média quando a variância é desconhecida\")\n",
        "inf,sup = t.interval(0.95, qtdMedicina-1, loc=MediaConceitoEnade, scale=DesvioConceitoEnade/np.sqrt(qtdMedicina))\n",
        "print ('Limite inferior 95%:', round(inf,3))\n",
        "print ('Limite superior 95%:', round(sup,3))\n"
      ],
      "execution_count": null,
      "outputs": []
    },
    {
      "cell_type": "code",
      "metadata": {
        "id": "ufHxaBOMrP02"
      },
      "source": [
        "# Número de amostras, para ERRO máximo de 10%\n",
        "n = (t.ppf(0.025,qtdMedicina-1)**2)*(st.stdev(x)**2)/(0.01**2)\n",
        "print(\"Tamanho da amostra =\",round(n))"
      ],
      "execution_count": null,
      "outputs": []
    },
    {
      "cell_type": "code",
      "metadata": {
        "id": "zxSgvAeH9vTx"
      },
      "source": [
        "import numpy as np\n",
        "import scipy.stats\n",
        "\n",
        "def mean_confidence_interval(data, confidence=0.95):\n",
        "    a = 1.0 * np.array(data)\n",
        "    n = len(a)\n",
        "    m, se = np.mean(a), scipy.stats.sem(a)\n",
        "    h = se * scipy.stats.t.ppf((1 + confidence) / 2., n-1)\n",
        "    return m, m-h, m+h"
      ],
      "execution_count": null,
      "outputs": []
    },
    {
      "cell_type": "code",
      "metadata": {
        "id": "0XmRx-ODDFxB"
      },
      "source": [
        "dfMedicina.iloc[:,20]"
      ],
      "execution_count": null,
      "outputs": []
    },
    {
      "cell_type": "code",
      "metadata": {
        "id": "CiVQ-d1V_gDd"
      },
      "source": [
        "mean_confidence_interval(dfMedicina.iloc[:100,20])"
      ],
      "execution_count": null,
      "outputs": []
    }
  ]
}