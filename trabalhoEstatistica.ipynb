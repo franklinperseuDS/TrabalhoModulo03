{
  "nbformat": 4,
  "nbformat_minor": 0,
  "metadata": {
    "colab": {
      "name": "trabalhoEstatistica.ipynb",
      "provenance": [],
      "collapsed_sections": [
        "Bg9hB4jo8kdN",
        "oP6B_UguPHXe"
      ],
      "toc_visible": true
    },
    "kernelspec": {
      "name": "python3",
      "display_name": "Python 3"
    }
  },
  "cells": [
    {
      "cell_type": "code",
      "metadata": {
        "id": "iqydn_S4pqsc"
      },
      "source": [
        "# Pacotes necessários\n",
        "import pandas as pd\n",
        "import numpy as np\n",
        "import statistics as st\n",
        "import seaborn as se\n",
        "import statsmodels.stats.proportion as smp\n",
        "from scipy import stats\n",
        "from scipy.stats import t"
      ],
      "execution_count": 223,
      "outputs": []
    },
    {
      "cell_type": "code",
      "metadata": {
        "id": "82F7B9BiqH-_",
        "outputId": "8318192e-8dd8-419b-f358-dae789cf7190",
        "colab": {
          "base_uri": "https://localhost:8080/"
        }
      },
      "source": [
        "from google.colab import drive\n",
        "drive.mount('/content/drive')"
      ],
      "execution_count": 224,
      "outputs": [
        {
          "output_type": "stream",
          "text": [
            "Drive already mounted at /content/drive; to attempt to forcibly remount, call drive.mount(\"/content/drive\", force_remount=True).\n"
          ],
          "name": "stdout"
        }
      ]
    },
    {
      "cell_type": "markdown",
      "metadata": {
        "id": "KWmtLulk4xso"
      },
      "source": [
        "#DataFrames"
      ]
    },
    {
      "cell_type": "code",
      "metadata": {
        "id": "EE3KvgF1sd94",
        "outputId": "585eb02a-9fa5-4a27-b940-8493d6636475",
        "colab": {
          "base_uri": "https://localhost:8080/",
          "height": 53
        }
      },
      "source": [
        "\"\"\"dfMicroDados =  pd.read_csv('/content/drive/Shared drives/Trabalho Estátistica/MICRODADOS_ENADE_2016.csv',sep=';',decimal=',')\n",
        "dfMicroDados.shape\n",
        "\"\"\""
      ],
      "execution_count": 225,
      "outputs": [
        {
          "output_type": "execute_result",
          "data": {
            "application/vnd.google.colaboratory.intrinsic+json": {
              "type": "string"
            },
            "text/plain": [
              "\"dfMicroDados =  pd.read_csv('/content/drive/Shared drives/Trabalho Estátistica/MICRODADOS_ENADE_2016.csv',sep=';',decimal=',')\\ndfMicroDados.shape\\n\""
            ]
          },
          "metadata": {
            "tags": []
          },
          "execution_count": 225
        }
      ]
    },
    {
      "cell_type": "code",
      "metadata": {
        "id": "pgUTDeY226aW"
      },
      "source": [
        "dfConceito = pd.read_excel('/content/drive/Shared drives/Trabalho Estátistica/conceito_enade2016.xlsx')"
      ],
      "execution_count": 226,
      "outputs": []
    },
    {
      "cell_type": "code",
      "metadata": {
        "id": "p6S8HmC9s1Rj",
        "outputId": "26d8d226-2f2e-46a5-a63b-e57ec04c3ac6",
        "colab": {
          "base_uri": "https://localhost:8080/"
        }
      },
      "source": [
        "dfConceito.info()"
      ],
      "execution_count": 227,
      "outputs": [
        {
          "output_type": "stream",
          "text": [
            "<class 'pandas.core.frame.DataFrame'>\n",
            "RangeIndex: 4299 entries, 0 to 4298\n",
            "Data columns (total 21 columns):\n",
            " #   Column                     Non-Null Count  Dtype  \n",
            "---  ------                     --------------  -----  \n",
            " 0   Ano                        4299 non-null   int64  \n",
            " 1   Código da IES              4299 non-null   int64  \n",
            " 2   Nome da IES                4299 non-null   object \n",
            " 3   Sigla da IES               4299 non-null   object \n",
            " 4   Organização Acadêmica      4299 non-null   object \n",
            " 5   Categoria Administrativa   4299 non-null   object \n",
            " 6   Código do Curso            4299 non-null   int64  \n",
            " 7   Código da Área             4299 non-null   int64  \n",
            " 8   Área de Enquadramento      4299 non-null   object \n",
            " 9   Modalidade de Ensino       4299 non-null   object \n",
            " 10  Código do Município        4299 non-null   int64  \n",
            " 11  Município do Curso         4299 non-null   object \n",
            " 12  Sigla da UF                4299 non-null   object \n",
            " 13  Concluintes Inscritos      4299 non-null   int64  \n",
            " 14  Concluintes Participantes  4299 non-null   int64  \n",
            " 15  Nota Bruta - FG            4200 non-null   float64\n",
            " 16  Nota Padronizada - FG      4200 non-null   float64\n",
            " 17  Nota Bruta - CE            4200 non-null   float64\n",
            " 18  Nota Padronizada - CE      4200 non-null   float64\n",
            " 19  Conceito Enade (Contínuo)  4200 non-null   float64\n",
            " 20  Conceito Enade (Faixa)     4299 non-null   object \n",
            "dtypes: float64(5), int64(7), object(9)\n",
            "memory usage: 705.4+ KB\n"
          ],
          "name": "stdout"
        }
      ]
    },
    {
      "cell_type": "markdown",
      "metadata": {
        "id": "OU0beEPAbNSz"
      },
      "source": [
        "## Tratamento do Dataframe 'Conceito' para as seguintes colunas\n",
        " 1. codigo da IES \n",
        " 2. Sigla da IES \n",
        " 3. Organização Acadêmica \n",
        " 4. 'Município do Curso' \n",
        " 5. 'Sigla da UF' \n",
        " 6. Concluintes Inscritos \n",
        " 7. 'Concluintes Participantes \n",
        " 8. <s> 'Nota Bruta - FG', #* deixar por ultimo</s>\n",
        " 9. 'Nota Padronizada - FG' \n",
        " 10. <s> 'Nota Bruta - CE', #* deixar por ultimo </s>\n",
        " 11. 'Nota Padronizada - CE', \n",
        " 12. 'Conceito Enade (Contínuo)' \n",
        " 13. Conceito Enade (Faixa)\n",
        " 14. Código da Área\n",
        "\n",
        "\n"
      ]
    },
    {
      "cell_type": "code",
      "metadata": {
        "id": "hWLLrJN8aGRB"
      },
      "source": [
        "dfMedicinaC = dfConceito[dfConceito['Área de Enquadramento'] == 'MEDICINA'][['Código da Área','Código da IES','Sigla da IES','Município do Curso', 'Sigla da UF','Concluintes Inscritos', 'Concluintes Participantes','Nota Padronizada - FG','Nota Padronizada - CE','Conceito Enade (Contínuo)','Conceito Enade (Faixa)']]"
      ],
      "execution_count": 228,
      "outputs": []
    },
    {
      "cell_type": "code",
      "metadata": {
        "id": "4NHFjSXXn261"
      },
      "source": [
        "dfMedicinaC['Conceito Enade (Faixa)'] = dfMedicinaC['Conceito Enade (Faixa)'].astype(int)"
      ],
      "execution_count": 229,
      "outputs": []
    },
    {
      "cell_type": "code",
      "metadata": {
        "id": "GLCaOrDkdzgQ"
      },
      "source": [
        "dfMedicinaC = dfMedicinaC.reset_index()"
      ],
      "execution_count": 230,
      "outputs": []
    },
    {
      "cell_type": "markdown",
      "metadata": {
        "id": "t1PkMRUY5KoG"
      },
      "source": [
        "## Montando uma coluna de regiões\n",
        "1 = Região Norte (NO)\n",
        "norte = ['RO','AC','AM','RR' ,'PA' , 'AP' ,'TO']\n",
        "\n",
        "2 = Região Nordeste (NE)\n",
        "nordeste = ['MA','PI','CE','RN','PB','PE','AL','SE','BA']\n",
        "\n",
        "3 = Região Sudeste (SE)\n",
        "sudeste = ['MG','ES','RJ,'SP']\n",
        "\n",
        "4 = Região Sul (SUL)\n",
        "sul = ['PR','SC','RS']\n",
        "\n",
        "5 = Região Centro-Oeste (CO)\n",
        "CentroOeste = ['MS','MT','GO','DF']"
      ]
    },
    {
      "cell_type": "code",
      "metadata": {
        "id": "5Mm5FpYK7ZiY"
      },
      "source": [
        "norte = ['RO','AC','AM','RR' ,'PA' , 'AP' ,'TO']\n",
        "nordeste = ['MA','PI','CE','RN','PB','PE','AL','SE','BA']\n",
        "sudeste = ['MG','ES','RJ','SP']\n",
        "sul = ['PR','SC','RS']\n",
        "centroOeste = ['MS','MT','GO','DF']"
      ],
      "execution_count": 231,
      "outputs": []
    },
    {
      "cell_type": "code",
      "metadata": {
        "id": "xFqdIFjhKFGW"
      },
      "source": [
        "dfMedicinaC['Regiao'] = np.nan"
      ],
      "execution_count": 232,
      "outputs": []
    },
    {
      "cell_type": "code",
      "metadata": {
        "id": "DGPT1npCJgn-",
        "outputId": "1468aa83-5d1d-46b4-fd8b-91fa0280706b",
        "colab": {
          "base_uri": "https://localhost:8080/",
          "height": 313
        }
      },
      "source": [
        "dfMedicinaC['Regiao'] = dfMedicinaC['Regiao'].astype(int)"
      ],
      "execution_count": 233,
      "outputs": [
        {
          "output_type": "error",
          "ename": "ValueError",
          "evalue": "ignored",
          "traceback": [
            "\u001b[0;31m---------------------------------------------------------------------------\u001b[0m",
            "\u001b[0;31mValueError\u001b[0m                                Traceback (most recent call last)",
            "\u001b[0;32m<ipython-input-233-80cb3af6c317>\u001b[0m in \u001b[0;36m<module>\u001b[0;34m()\u001b[0m\n\u001b[0;32m----> 1\u001b[0;31m \u001b[0mdfMedicinaC\u001b[0m\u001b[0;34m[\u001b[0m\u001b[0;34m'Regiao'\u001b[0m\u001b[0;34m]\u001b[0m \u001b[0;34m=\u001b[0m \u001b[0mdfMedicinaC\u001b[0m\u001b[0;34m[\u001b[0m\u001b[0;34m'Regiao'\u001b[0m\u001b[0;34m]\u001b[0m\u001b[0;34m.\u001b[0m\u001b[0mastype\u001b[0m\u001b[0;34m(\u001b[0m\u001b[0mint\u001b[0m\u001b[0;34m)\u001b[0m\u001b[0;34m\u001b[0m\u001b[0;34m\u001b[0m\u001b[0m\n\u001b[0m",
            "\u001b[0;32m/usr/local/lib/python3.6/dist-packages/pandas/core/generic.py\u001b[0m in \u001b[0;36mastype\u001b[0;34m(self, dtype, copy, errors)\u001b[0m\n\u001b[1;32m   5544\u001b[0m         \u001b[0;32melse\u001b[0m\u001b[0;34m:\u001b[0m\u001b[0;34m\u001b[0m\u001b[0;34m\u001b[0m\u001b[0m\n\u001b[1;32m   5545\u001b[0m             \u001b[0;31m# else, only a single dtype is given\u001b[0m\u001b[0;34m\u001b[0m\u001b[0;34m\u001b[0m\u001b[0;34m\u001b[0m\u001b[0m\n\u001b[0;32m-> 5546\u001b[0;31m             \u001b[0mnew_data\u001b[0m \u001b[0;34m=\u001b[0m \u001b[0mself\u001b[0m\u001b[0;34m.\u001b[0m\u001b[0m_mgr\u001b[0m\u001b[0;34m.\u001b[0m\u001b[0mastype\u001b[0m\u001b[0;34m(\u001b[0m\u001b[0mdtype\u001b[0m\u001b[0;34m=\u001b[0m\u001b[0mdtype\u001b[0m\u001b[0;34m,\u001b[0m \u001b[0mcopy\u001b[0m\u001b[0;34m=\u001b[0m\u001b[0mcopy\u001b[0m\u001b[0;34m,\u001b[0m \u001b[0merrors\u001b[0m\u001b[0;34m=\u001b[0m\u001b[0merrors\u001b[0m\u001b[0;34m,\u001b[0m\u001b[0;34m)\u001b[0m\u001b[0;34m\u001b[0m\u001b[0;34m\u001b[0m\u001b[0m\n\u001b[0m\u001b[1;32m   5547\u001b[0m             \u001b[0;32mreturn\u001b[0m \u001b[0mself\u001b[0m\u001b[0;34m.\u001b[0m\u001b[0m_constructor\u001b[0m\u001b[0;34m(\u001b[0m\u001b[0mnew_data\u001b[0m\u001b[0;34m)\u001b[0m\u001b[0;34m.\u001b[0m\u001b[0m__finalize__\u001b[0m\u001b[0;34m(\u001b[0m\u001b[0mself\u001b[0m\u001b[0;34m,\u001b[0m \u001b[0mmethod\u001b[0m\u001b[0;34m=\u001b[0m\u001b[0;34m\"astype\"\u001b[0m\u001b[0;34m)\u001b[0m\u001b[0;34m\u001b[0m\u001b[0;34m\u001b[0m\u001b[0m\n\u001b[1;32m   5548\u001b[0m \u001b[0;34m\u001b[0m\u001b[0m\n",
            "\u001b[0;32m/usr/local/lib/python3.6/dist-packages/pandas/core/internals/managers.py\u001b[0m in \u001b[0;36mastype\u001b[0;34m(self, dtype, copy, errors)\u001b[0m\n\u001b[1;32m    593\u001b[0m         \u001b[0mself\u001b[0m\u001b[0;34m,\u001b[0m \u001b[0mdtype\u001b[0m\u001b[0;34m,\u001b[0m \u001b[0mcopy\u001b[0m\u001b[0;34m:\u001b[0m \u001b[0mbool\u001b[0m \u001b[0;34m=\u001b[0m \u001b[0;32mFalse\u001b[0m\u001b[0;34m,\u001b[0m \u001b[0merrors\u001b[0m\u001b[0;34m:\u001b[0m \u001b[0mstr\u001b[0m \u001b[0;34m=\u001b[0m \u001b[0;34m\"raise\"\u001b[0m\u001b[0;34m\u001b[0m\u001b[0;34m\u001b[0m\u001b[0m\n\u001b[1;32m    594\u001b[0m     ) -> \"BlockManager\":\n\u001b[0;32m--> 595\u001b[0;31m         \u001b[0;32mreturn\u001b[0m \u001b[0mself\u001b[0m\u001b[0;34m.\u001b[0m\u001b[0mapply\u001b[0m\u001b[0;34m(\u001b[0m\u001b[0;34m\"astype\"\u001b[0m\u001b[0;34m,\u001b[0m \u001b[0mdtype\u001b[0m\u001b[0;34m=\u001b[0m\u001b[0mdtype\u001b[0m\u001b[0;34m,\u001b[0m \u001b[0mcopy\u001b[0m\u001b[0;34m=\u001b[0m\u001b[0mcopy\u001b[0m\u001b[0;34m,\u001b[0m \u001b[0merrors\u001b[0m\u001b[0;34m=\u001b[0m\u001b[0merrors\u001b[0m\u001b[0;34m)\u001b[0m\u001b[0;34m\u001b[0m\u001b[0;34m\u001b[0m\u001b[0m\n\u001b[0m\u001b[1;32m    596\u001b[0m \u001b[0;34m\u001b[0m\u001b[0m\n\u001b[1;32m    597\u001b[0m     def convert(\n",
            "\u001b[0;32m/usr/local/lib/python3.6/dist-packages/pandas/core/internals/managers.py\u001b[0m in \u001b[0;36mapply\u001b[0;34m(self, f, align_keys, **kwargs)\u001b[0m\n\u001b[1;32m    404\u001b[0m                 \u001b[0mapplied\u001b[0m \u001b[0;34m=\u001b[0m \u001b[0mb\u001b[0m\u001b[0;34m.\u001b[0m\u001b[0mapply\u001b[0m\u001b[0;34m(\u001b[0m\u001b[0mf\u001b[0m\u001b[0;34m,\u001b[0m \u001b[0;34m**\u001b[0m\u001b[0mkwargs\u001b[0m\u001b[0;34m)\u001b[0m\u001b[0;34m\u001b[0m\u001b[0;34m\u001b[0m\u001b[0m\n\u001b[1;32m    405\u001b[0m             \u001b[0;32melse\u001b[0m\u001b[0;34m:\u001b[0m\u001b[0;34m\u001b[0m\u001b[0;34m\u001b[0m\u001b[0m\n\u001b[0;32m--> 406\u001b[0;31m                 \u001b[0mapplied\u001b[0m \u001b[0;34m=\u001b[0m \u001b[0mgetattr\u001b[0m\u001b[0;34m(\u001b[0m\u001b[0mb\u001b[0m\u001b[0;34m,\u001b[0m \u001b[0mf\u001b[0m\u001b[0;34m)\u001b[0m\u001b[0;34m(\u001b[0m\u001b[0;34m**\u001b[0m\u001b[0mkwargs\u001b[0m\u001b[0;34m)\u001b[0m\u001b[0;34m\u001b[0m\u001b[0;34m\u001b[0m\u001b[0m\n\u001b[0m\u001b[1;32m    407\u001b[0m             \u001b[0mresult_blocks\u001b[0m \u001b[0;34m=\u001b[0m \u001b[0m_extend_blocks\u001b[0m\u001b[0;34m(\u001b[0m\u001b[0mapplied\u001b[0m\u001b[0;34m,\u001b[0m \u001b[0mresult_blocks\u001b[0m\u001b[0;34m)\u001b[0m\u001b[0;34m\u001b[0m\u001b[0;34m\u001b[0m\u001b[0m\n\u001b[1;32m    408\u001b[0m \u001b[0;34m\u001b[0m\u001b[0m\n",
            "\u001b[0;32m/usr/local/lib/python3.6/dist-packages/pandas/core/internals/blocks.py\u001b[0m in \u001b[0;36mastype\u001b[0;34m(self, dtype, copy, errors)\u001b[0m\n\u001b[1;32m    593\u001b[0m             \u001b[0mvals1d\u001b[0m \u001b[0;34m=\u001b[0m \u001b[0mvalues\u001b[0m\u001b[0;34m.\u001b[0m\u001b[0mravel\u001b[0m\u001b[0;34m(\u001b[0m\u001b[0;34m)\u001b[0m\u001b[0;34m\u001b[0m\u001b[0;34m\u001b[0m\u001b[0m\n\u001b[1;32m    594\u001b[0m             \u001b[0;32mtry\u001b[0m\u001b[0;34m:\u001b[0m\u001b[0;34m\u001b[0m\u001b[0;34m\u001b[0m\u001b[0m\n\u001b[0;32m--> 595\u001b[0;31m                 \u001b[0mvalues\u001b[0m \u001b[0;34m=\u001b[0m \u001b[0mastype_nansafe\u001b[0m\u001b[0;34m(\u001b[0m\u001b[0mvals1d\u001b[0m\u001b[0;34m,\u001b[0m \u001b[0mdtype\u001b[0m\u001b[0;34m,\u001b[0m \u001b[0mcopy\u001b[0m\u001b[0;34m=\u001b[0m\u001b[0;32mTrue\u001b[0m\u001b[0;34m)\u001b[0m\u001b[0;34m\u001b[0m\u001b[0;34m\u001b[0m\u001b[0m\n\u001b[0m\u001b[1;32m    596\u001b[0m             \u001b[0;32mexcept\u001b[0m \u001b[0;34m(\u001b[0m\u001b[0mValueError\u001b[0m\u001b[0;34m,\u001b[0m \u001b[0mTypeError\u001b[0m\u001b[0;34m)\u001b[0m\u001b[0;34m:\u001b[0m\u001b[0;34m\u001b[0m\u001b[0;34m\u001b[0m\u001b[0m\n\u001b[1;32m    597\u001b[0m                 \u001b[0;31m# e.g. astype_nansafe can fail on object-dtype of strings\u001b[0m\u001b[0;34m\u001b[0m\u001b[0;34m\u001b[0m\u001b[0;34m\u001b[0m\u001b[0m\n",
            "\u001b[0;32m/usr/local/lib/python3.6/dist-packages/pandas/core/dtypes/cast.py\u001b[0m in \u001b[0;36mastype_nansafe\u001b[0;34m(arr, dtype, copy, skipna)\u001b[0m\n\u001b[1;32m    966\u001b[0m \u001b[0;34m\u001b[0m\u001b[0m\n\u001b[1;32m    967\u001b[0m         \u001b[0;32mif\u001b[0m \u001b[0;32mnot\u001b[0m \u001b[0mnp\u001b[0m\u001b[0;34m.\u001b[0m\u001b[0misfinite\u001b[0m\u001b[0;34m(\u001b[0m\u001b[0marr\u001b[0m\u001b[0;34m)\u001b[0m\u001b[0;34m.\u001b[0m\u001b[0mall\u001b[0m\u001b[0;34m(\u001b[0m\u001b[0;34m)\u001b[0m\u001b[0;34m:\u001b[0m\u001b[0;34m\u001b[0m\u001b[0;34m\u001b[0m\u001b[0m\n\u001b[0;32m--> 968\u001b[0;31m             \u001b[0;32mraise\u001b[0m \u001b[0mValueError\u001b[0m\u001b[0;34m(\u001b[0m\u001b[0;34m\"Cannot convert non-finite values (NA or inf) to integer\"\u001b[0m\u001b[0;34m)\u001b[0m\u001b[0;34m\u001b[0m\u001b[0;34m\u001b[0m\u001b[0m\n\u001b[0m\u001b[1;32m    969\u001b[0m \u001b[0;34m\u001b[0m\u001b[0m\n\u001b[1;32m    970\u001b[0m     \u001b[0;32melif\u001b[0m \u001b[0mis_object_dtype\u001b[0m\u001b[0;34m(\u001b[0m\u001b[0marr\u001b[0m\u001b[0;34m)\u001b[0m\u001b[0;34m:\u001b[0m\u001b[0;34m\u001b[0m\u001b[0;34m\u001b[0m\u001b[0m\n",
            "\u001b[0;31mValueError\u001b[0m: Cannot convert non-finite values (NA or inf) to integer"
          ]
        }
      ]
    },
    {
      "cell_type": "code",
      "metadata": {
        "id": "s9oSrGsHAEKn"
      },
      "source": [
        "condicao = [np.isin(dfMedicinaC['Sigla da UF'], norte),\n",
        "            np.isin(dfMedicinaC['Sigla da UF'], nordeste),\n",
        "            np.isin(dfMedicinaC['Sigla da UF'], sudeste),\n",
        "            np.isin(dfMedicinaC['Sigla da UF'], sul),\n",
        "           np.isin(dfMedicinaC['Sigla da UF'],  centroOeste)]\n",
        "\n",
        "resultados = [1,2,3,4,5]\n",
        "\n",
        "dfMedicinaC['Regiao'] = np.select(condicao, resultados)"
      ],
      "execution_count": 234,
      "outputs": []
    },
    {
      "cell_type": "code",
      "metadata": {
        "id": "RMzUABdXa-mH",
        "outputId": "590d2e23-2f25-48f6-d51f-e9e8a1380c2a",
        "colab": {
          "base_uri": "https://localhost:8080/"
        }
      },
      "source": [
        "dfMedicinaC.info()"
      ],
      "execution_count": 235,
      "outputs": [
        {
          "output_type": "stream",
          "text": [
            "<class 'pandas.core.frame.DataFrame'>\n",
            "RangeIndex: 176 entries, 0 to 175\n",
            "Data columns (total 13 columns):\n",
            " #   Column                     Non-Null Count  Dtype  \n",
            "---  ------                     --------------  -----  \n",
            " 0   index                      176 non-null    int64  \n",
            " 1   Código da Área             176 non-null    int64  \n",
            " 2   Código da IES              176 non-null    int64  \n",
            " 3   Sigla da IES               176 non-null    object \n",
            " 4   Município do Curso         176 non-null    object \n",
            " 5   Sigla da UF                176 non-null    object \n",
            " 6   Concluintes Inscritos      176 non-null    int64  \n",
            " 7   Concluintes Participantes  176 non-null    int64  \n",
            " 8   Nota Padronizada - FG      176 non-null    float64\n",
            " 9   Nota Padronizada - CE      176 non-null    float64\n",
            " 10  Conceito Enade (Contínuo)  176 non-null    float64\n",
            " 11  Conceito Enade (Faixa)     176 non-null    int64  \n",
            " 12  Regiao                     176 non-null    int64  \n",
            "dtypes: float64(3), int64(7), object(3)\n",
            "memory usage: 18.0+ KB\n"
          ],
          "name": "stdout"
        }
      ]
    },
    {
      "cell_type": "code",
      "metadata": {
        "id": "EClgGAjLmYyg",
        "outputId": "cc301645-b2f2-4fc4-c447-77a52a7a9296",
        "colab": {
          "base_uri": "https://localhost:8080/",
          "height": 241
        }
      },
      "source": [
        "dfMedicinaC.head()"
      ],
      "execution_count": 236,
      "outputs": [
        {
          "output_type": "execute_result",
          "data": {
            "text/html": [
              "<div>\n",
              "<style scoped>\n",
              "    .dataframe tbody tr th:only-of-type {\n",
              "        vertical-align: middle;\n",
              "    }\n",
              "\n",
              "    .dataframe tbody tr th {\n",
              "        vertical-align: top;\n",
              "    }\n",
              "\n",
              "    .dataframe thead th {\n",
              "        text-align: right;\n",
              "    }\n",
              "</style>\n",
              "<table border=\"1\" class=\"dataframe\">\n",
              "  <thead>\n",
              "    <tr style=\"text-align: right;\">\n",
              "      <th></th>\n",
              "      <th>index</th>\n",
              "      <th>Código da Área</th>\n",
              "      <th>Código da IES</th>\n",
              "      <th>Sigla da IES</th>\n",
              "      <th>Município do Curso</th>\n",
              "      <th>Sigla da UF</th>\n",
              "      <th>Concluintes Inscritos</th>\n",
              "      <th>Concluintes Participantes</th>\n",
              "      <th>Nota Padronizada - FG</th>\n",
              "      <th>Nota Padronizada - CE</th>\n",
              "      <th>Conceito Enade (Contínuo)</th>\n",
              "      <th>Conceito Enade (Faixa)</th>\n",
              "      <th>Regiao</th>\n",
              "    </tr>\n",
              "  </thead>\n",
              "  <tbody>\n",
              "    <tr>\n",
              "      <th>0</th>\n",
              "      <td>2</td>\n",
              "      <td>12</td>\n",
              "      <td>1</td>\n",
              "      <td>UFMT</td>\n",
              "      <td>CUIABÁ</td>\n",
              "      <td>MT</td>\n",
              "      <td>35</td>\n",
              "      <td>33</td>\n",
              "      <td>3.473179</td>\n",
              "      <td>2.759319</td>\n",
              "      <td>2.937784</td>\n",
              "      <td>3</td>\n",
              "      <td>5</td>\n",
              "    </tr>\n",
              "    <tr>\n",
              "      <th>1</th>\n",
              "      <td>8</td>\n",
              "      <td>12</td>\n",
              "      <td>2</td>\n",
              "      <td>UNB</td>\n",
              "      <td>BRASÍLIA</td>\n",
              "      <td>DF</td>\n",
              "      <td>89</td>\n",
              "      <td>85</td>\n",
              "      <td>3.436836</td>\n",
              "      <td>2.841475</td>\n",
              "      <td>2.990315</td>\n",
              "      <td>4</td>\n",
              "      <td>5</td>\n",
              "    </tr>\n",
              "    <tr>\n",
              "      <th>2</th>\n",
              "      <td>13</td>\n",
              "      <td>12</td>\n",
              "      <td>3</td>\n",
              "      <td>UFS</td>\n",
              "      <td>ARACAJU</td>\n",
              "      <td>SE</td>\n",
              "      <td>53</td>\n",
              "      <td>53</td>\n",
              "      <td>2.643099</td>\n",
              "      <td>2.658829</td>\n",
              "      <td>2.654896</td>\n",
              "      <td>3</td>\n",
              "      <td>2</td>\n",
              "    </tr>\n",
              "    <tr>\n",
              "      <th>3</th>\n",
              "      <td>17</td>\n",
              "      <td>12</td>\n",
              "      <td>4</td>\n",
              "      <td>UFAM</td>\n",
              "      <td>MANAUS</td>\n",
              "      <td>AM</td>\n",
              "      <td>36</td>\n",
              "      <td>35</td>\n",
              "      <td>4.273778</td>\n",
              "      <td>2.299221</td>\n",
              "      <td>2.792860</td>\n",
              "      <td>3</td>\n",
              "      <td>1</td>\n",
              "    </tr>\n",
              "    <tr>\n",
              "      <th>4</th>\n",
              "      <td>21</td>\n",
              "      <td>12</td>\n",
              "      <td>5</td>\n",
              "      <td>UFPI</td>\n",
              "      <td>TERESINA</td>\n",
              "      <td>PI</td>\n",
              "      <td>45</td>\n",
              "      <td>45</td>\n",
              "      <td>3.533455</td>\n",
              "      <td>3.565352</td>\n",
              "      <td>3.557378</td>\n",
              "      <td>4</td>\n",
              "      <td>2</td>\n",
              "    </tr>\n",
              "  </tbody>\n",
              "</table>\n",
              "</div>"
            ],
            "text/plain": [
              "   index  Código da Área  ...  Conceito Enade (Faixa) Regiao\n",
              "0      2              12  ...                       3      5\n",
              "1      8              12  ...                       4      5\n",
              "2     13              12  ...                       3      2\n",
              "3     17              12  ...                       3      1\n",
              "4     21              12  ...                       4      2\n",
              "\n",
              "[5 rows x 13 columns]"
            ]
          },
          "metadata": {
            "tags": []
          },
          "execution_count": 236
        }
      ]
    },
    {
      "cell_type": "markdown",
      "metadata": {
        "id": "sO_24gA_9gfb"
      },
      "source": [
        "#ITEM A\n"
      ]
    },
    {
      "cell_type": "markdown",
      "metadata": {
        "id": "zrSpaAKehFxl"
      },
      "source": [
        "exemplos para se basear\n",
        "----box plot\n",
        "\n",
        "se.boxplot(bdenade['conceito']).set_title('Box-plot do conceito ENADE contínuo')\n",
        "\n",
        " ----gráfico de colunas\n",
        "\n",
        "categoriadm.plot.bar(color = 'gray')"
      ]
    },
    {
      "cell_type": "code",
      "metadata": {
        "id": "BY-ESSUclWtS",
        "outputId": "c4e46ac4-668a-4728-839a-9438ee4bc894",
        "colab": {
          "base_uri": "https://localhost:8080/",
          "height": 0
        }
      },
      "source": [
        "se.boxplot(dfMedicinaC['Nota Padronizada - CE']).set_title('Gráfico Box-plot do conceito ENADE Nota Pardonizada CE')"
      ],
      "execution_count": 237,
      "outputs": [
        {
          "output_type": "stream",
          "text": [
            "/usr/local/lib/python3.6/dist-packages/seaborn/_decorators.py:43: FutureWarning: Pass the following variable as a keyword arg: x. From version 0.12, the only valid positional argument will be `data`, and passing other arguments without an explicit keyword will result in an error or misinterpretation.\n",
            "  FutureWarning\n"
          ],
          "name": "stderr"
        },
        {
          "output_type": "execute_result",
          "data": {
            "text/plain": [
              "Text(0.5, 1.0, 'Gráfico Box-plot do conceito ENADE Nota Pardonizada CE')"
            ]
          },
          "metadata": {
            "tags": []
          },
          "execution_count": 237
        },
        {
          "output_type": "display_data",
          "data": {
            "image/png": "[encoded data removed]",
            "text/plain": [
              "<Figure size 432x288 with 1 Axes>"
            ]
          },
          "metadata": {
            "tags": [],
            "needs_background": "light"
          }
        }
      ]
    },
    {
      "cell_type": "code",
      "metadata": {
        "id": "eoCe2cQAj3d1",
        "outputId": "1613570b-a1c9-49dc-cb69-7cc0bc62bf94",
        "colab": {
          "base_uri": "https://localhost:8080/",
          "height": 0
        }
      },
      "source": [
        "se.boxplot(dfMedicinaC['Nota Padronizada - FG']).set_title('Gráfico Box-plot do conceito ENADE Nota Pardonizada FG')"
      ],
      "execution_count": 238,
      "outputs": [
        {
          "output_type": "stream",
          "text": [
            "/usr/local/lib/python3.6/dist-packages/seaborn/_decorators.py:43: FutureWarning: Pass the following variable as a keyword arg: x. From version 0.12, the only valid positional argument will be `data`, and passing other arguments without an explicit keyword will result in an error or misinterpretation.\n",
            "  FutureWarning\n"
          ],
          "name": "stderr"
        },
        {
          "output_type": "execute_result",
          "data": {
            "text/plain": [
              "Text(0.5, 1.0, 'Gráfico Box-plot do conceito ENADE Nota Pardonizada FG')"
            ]
          },
          "metadata": {
            "tags": []
          },
          "execution_count": 238
        },
        {
          "output_type": "display_data",
          "data": {
            "image/png": "[encoded data removed]",
            "text/plain": [
              "<Figure size 432x288 with 1 Axes>"
            ]
          },
          "metadata": {
            "tags": [],
            "needs_background": "light"
          }
        }
      ]
    },
    {
      "cell_type": "code",
      "metadata": {
        "id": "8VOGbErUmBAs",
        "outputId": "8287ccdd-076e-4d4b-c687-0dd12fffc2cf",
        "colab": {
          "base_uri": "https://localhost:8080/"
        }
      },
      "source": [
        "dfMedicinaC['Conceito Enade (Faixa)'][0]"
      ],
      "execution_count": 239,
      "outputs": [
        {
          "output_type": "execute_result",
          "data": {
            "text/plain": [
              "3"
            ]
          },
          "metadata": {
            "tags": []
          },
          "execution_count": 239
        }
      ]
    },
    {
      "cell_type": "code",
      "metadata": {
        "id": "vzXNF3Dflpv2",
        "outputId": "0d6e31dc-f16b-4eec-b2c4-de7540a3dc60",
        "colab": {
          "base_uri": "https://localhost:8080/",
          "height": 0
        }
      },
      "source": [
        "#Conceito Enade (Faixa)\n",
        "se.boxplot(dfMedicinaC['Conceito Enade (Faixa)']).set_title('Conceito ENADE Faixa')\n",
        "dfMedicinaC['Conceito Enade (Faixa)'].describe()"
      ],
      "execution_count": 240,
      "outputs": [
        {
          "output_type": "stream",
          "text": [
            "/usr/local/lib/python3.6/dist-packages/seaborn/_decorators.py:43: FutureWarning: Pass the following variable as a keyword arg: x. From version 0.12, the only valid positional argument will be `data`, and passing other arguments without an explicit keyword will result in an error or misinterpretation.\n",
            "  FutureWarning\n"
          ],
          "name": "stderr"
        },
        {
          "output_type": "execute_result",
          "data": {
            "text/plain": [
              "count    176.000000\n",
              "mean       3.119318\n",
              "std        0.850191\n",
              "min        1.000000\n",
              "25%        3.000000\n",
              "50%        3.000000\n",
              "75%        4.000000\n",
              "max        5.000000\n",
              "Name: Conceito Enade (Faixa), dtype: float64"
            ]
          },
          "metadata": {
            "tags": []
          },
          "execution_count": 240
        },
        {
          "output_type": "display_data",
          "data": {
            "image/png": "[encoded data removed]",
            "text/plain": [
              "<Figure size 432x288 with 1 Axes>"
            ]
          },
          "metadata": {
            "tags": [],
            "needs_background": "light"
          }
        }
      ]
    },
    {
      "cell_type": "code",
      "metadata": {
        "id": "CsLKaaxhszbI",
        "outputId": "ecf5a8b2-a51a-4238-8dbb-12566d94299c",
        "colab": {
          "base_uri": "https://localhost:8080/",
          "height": 0
        }
      },
      "source": [
        "se.boxplot(dfMedicinaC['Conceito Enade (Contínuo)']).set_title('Gráfico Box-plot do conceito ENADE contínuo de Medicina')"
      ],
      "execution_count": 241,
      "outputs": [
        {
          "output_type": "stream",
          "text": [
            "/usr/local/lib/python3.6/dist-packages/seaborn/_decorators.py:43: FutureWarning: Pass the following variable as a keyword arg: x. From version 0.12, the only valid positional argument will be `data`, and passing other arguments without an explicit keyword will result in an error or misinterpretation.\n",
            "  FutureWarning\n"
          ],
          "name": "stderr"
        },
        {
          "output_type": "execute_result",
          "data": {
            "text/plain": [
              "Text(0.5, 1.0, 'Gráfico Box-plot do conceito ENADE contínuo de Medicina')"
            ]
          },
          "metadata": {
            "tags": []
          },
          "execution_count": 241
        },
        {
          "output_type": "display_data",
          "data": {
            "image/png": "[encoded data removed]",
            "text/plain": [
              "<Figure size 432x288 with 1 Axes>"
            ]
          },
          "metadata": {
            "tags": [],
            "needs_background": "light"
          }
        }
      ]
    },
    {
      "cell_type": "markdown",
      "metadata": {
        "id": "sl7NFLvuesFE"
      },
      "source": [
        "\n",
        "\n",
        "```\n",
        "# This is formatted as code\n",
        "```\n",
        "\n",
        "CO_REGIAO_CURSO\n",
        "1 = Região Norte (NO)\n",
        "2 = Região Nordeste (NE)\n",
        "3 = Região Sudeste (SE)\n",
        "4 = Região Sul (SUL)\n",
        "5 = Região Centro-Oeste (CO)"
      ]
    },
    {
      "cell_type": "code",
      "metadata": {
        "id": "6F_gCvA2wQeN"
      },
      "source": [
        ""
      ],
      "execution_count": 241,
      "outputs": []
    },
    {
      "cell_type": "markdown",
      "metadata": {
        "id": "x24a1XvjyqkO"
      },
      "source": [
        "# **ITEM B**\n"
      ]
    },
    {
      "cell_type": "code",
      "metadata": {
        "id": "Y_rakocvy9HR",
        "outputId": "2ae29e4c-7bba-4885-a5f0-990765e2b871",
        "colab": {
          "base_uri": "https://localhost:8080/",
          "height": 0
        }
      },
      "source": [
        "dfMedicinaC.head()"
      ],
      "execution_count": 242,
      "outputs": [
        {
          "output_type": "execute_result",
          "data": {
            "text/html": [
              "<div>\n",
              "<style scoped>\n",
              "    .dataframe tbody tr th:only-of-type {\n",
              "        vertical-align: middle;\n",
              "    }\n",
              "\n",
              "    .dataframe tbody tr th {\n",
              "        vertical-align: top;\n",
              "    }\n",
              "\n",
              "    .dataframe thead th {\n",
              "        text-align: right;\n",
              "    }\n",
              "</style>\n",
              "<table border=\"1\" class=\"dataframe\">\n",
              "  <thead>\n",
              "    <tr style=\"text-align: right;\">\n",
              "      <th></th>\n",
              "      <th>index</th>\n",
              "      <th>Código da Área</th>\n",
              "      <th>Código da IES</th>\n",
              "      <th>Sigla da IES</th>\n",
              "      <th>Município do Curso</th>\n",
              "      <th>Sigla da UF</th>\n",
              "      <th>Concluintes Inscritos</th>\n",
              "      <th>Concluintes Participantes</th>\n",
              "      <th>Nota Padronizada - FG</th>\n",
              "      <th>Nota Padronizada - CE</th>\n",
              "      <th>Conceito Enade (Contínuo)</th>\n",
              "      <th>Conceito Enade (Faixa)</th>\n",
              "      <th>Regiao</th>\n",
              "    </tr>\n",
              "  </thead>\n",
              "  <tbody>\n",
              "    <tr>\n",
              "      <th>0</th>\n",
              "      <td>2</td>\n",
              "      <td>12</td>\n",
              "      <td>1</td>\n",
              "      <td>UFMT</td>\n",
              "      <td>CUIABÁ</td>\n",
              "      <td>MT</td>\n",
              "      <td>35</td>\n",
              "      <td>33</td>\n",
              "      <td>3.473179</td>\n",
              "      <td>2.759319</td>\n",
              "      <td>2.937784</td>\n",
              "      <td>3</td>\n",
              "      <td>5</td>\n",
              "    </tr>\n",
              "    <tr>\n",
              "      <th>1</th>\n",
              "      <td>8</td>\n",
              "      <td>12</td>\n",
              "      <td>2</td>\n",
              "      <td>UNB</td>\n",
              "      <td>BRASÍLIA</td>\n",
              "      <td>DF</td>\n",
              "      <td>89</td>\n",
              "      <td>85</td>\n",
              "      <td>3.436836</td>\n",
              "      <td>2.841475</td>\n",
              "      <td>2.990315</td>\n",
              "      <td>4</td>\n",
              "      <td>5</td>\n",
              "    </tr>\n",
              "    <tr>\n",
              "      <th>2</th>\n",
              "      <td>13</td>\n",
              "      <td>12</td>\n",
              "      <td>3</td>\n",
              "      <td>UFS</td>\n",
              "      <td>ARACAJU</td>\n",
              "      <td>SE</td>\n",
              "      <td>53</td>\n",
              "      <td>53</td>\n",
              "      <td>2.643099</td>\n",
              "      <td>2.658829</td>\n",
              "      <td>2.654896</td>\n",
              "      <td>3</td>\n",
              "      <td>2</td>\n",
              "    </tr>\n",
              "    <tr>\n",
              "      <th>3</th>\n",
              "      <td>17</td>\n",
              "      <td>12</td>\n",
              "      <td>4</td>\n",
              "      <td>UFAM</td>\n",
              "      <td>MANAUS</td>\n",
              "      <td>AM</td>\n",
              "      <td>36</td>\n",
              "      <td>35</td>\n",
              "      <td>4.273778</td>\n",
              "      <td>2.299221</td>\n",
              "      <td>2.792860</td>\n",
              "      <td>3</td>\n",
              "      <td>1</td>\n",
              "    </tr>\n",
              "    <tr>\n",
              "      <th>4</th>\n",
              "      <td>21</td>\n",
              "      <td>12</td>\n",
              "      <td>5</td>\n",
              "      <td>UFPI</td>\n",
              "      <td>TERESINA</td>\n",
              "      <td>PI</td>\n",
              "      <td>45</td>\n",
              "      <td>45</td>\n",
              "      <td>3.533455</td>\n",
              "      <td>3.565352</td>\n",
              "      <td>3.557378</td>\n",
              "      <td>4</td>\n",
              "      <td>2</td>\n",
              "    </tr>\n",
              "  </tbody>\n",
              "</table>\n",
              "</div>"
            ],
            "text/plain": [
              "   index  Código da Área  ...  Conceito Enade (Faixa) Regiao\n",
              "0      2              12  ...                       3      5\n",
              "1      8              12  ...                       4      5\n",
              "2     13              12  ...                       3      2\n",
              "3     17              12  ...                       3      1\n",
              "4     21              12  ...                       4      2\n",
              "\n",
              "[5 rows x 13 columns]"
            ]
          },
          "metadata": {
            "tags": []
          },
          "execution_count": 242
        }
      ]
    },
    {
      "cell_type": "code",
      "metadata": {
        "id": "wwstCH814Vjn"
      },
      "source": [
        "# cria variáveis para as colunas\n",
        "conc_inscritos = dfMedicinaC['Concluintes Inscritos']\n",
        "conc_participantes = dfMedicinaC['Concluintes Participantes']\n",
        "nota_fg = dfMedicinaC['Nota Padronizada - FG']\n",
        "nota_ce = dfMedicinaC['Nota Padronizada - CE']\n",
        "conceito_cont = dfMedicinaC['Conceito Enade (Contínuo)']\n",
        "conceito_faixa = dfMedicinaC['Conceito Enade (Faixa)']"
      ],
      "execution_count": 243,
      "outputs": []
    },
    {
      "cell_type": "code",
      "metadata": {
        "id": "P3t_ulaaFeUC"
      },
      "source": [
        "# função para calcular simetria\n",
        "def calc_simetria(media, mediana):\n",
        "  if (media > mediana):\n",
        "    return 'ASSIMÉTRICA POSITIVA'\n",
        "  elif (media < mediana):\n",
        "    return 'ASSIMÉTRICA NEGATIVA'\n",
        "  else:\n",
        "    return 'SIMÉTRICA'"
      ],
      "execution_count": 244,
      "outputs": []
    },
    {
      "cell_type": "markdown",
      "metadata": {
        "id": "Bg9hB4jo8kdN"
      },
      "source": [
        "## **B - Variável 'Concluintes Inscritos'**"
      ]
    },
    {
      "cell_type": "code",
      "metadata": {
        "id": "qPrjWvIy9UK_",
        "outputId": "34d6bd9c-066c-4ed0-8635-1d1e000417a2",
        "colab": {
          "base_uri": "https://localhost:8080/"
        }
      },
      "source": [
        "# Info\n",
        "conc_inscritos.describe()"
      ],
      "execution_count": 245,
      "outputs": [
        {
          "output_type": "execute_result",
          "data": {
            "text/plain": [
              "count    176.000000\n",
              "mean      90.017045\n",
              "std       48.043370\n",
              "min       20.000000\n",
              "25%       55.750000\n",
              "50%       84.000000\n",
              "75%      108.000000\n",
              "max      308.000000\n",
              "Name: Concluintes Inscritos, dtype: float64"
            ]
          },
          "metadata": {
            "tags": []
          },
          "execution_count": 245
        }
      ]
    },
    {
      "cell_type": "code",
      "metadata": {
        "id": "opWs7PU9-d1I",
        "outputId": "f81decef-5c08-496e-cc55-726062ce6bfe",
        "colab": {
          "base_uri": "https://localhost:8080/"
        }
      },
      "source": [
        "# Criar lista\n",
        "inscritos_array = np.array(conc_inscritos, dtype = float)\n",
        "print (inscritos_array)"
      ],
      "execution_count": 246,
      "outputs": [
        {
          "output_type": "stream",
          "text": [
            "[ 35.  89.  53.  36.  45.  86. 165.  63.  77.  87.  83. 133.  95.  68.\n",
            " 163.  48. 106.  86.  42.  65.  75. 102.  62.  84. 166. 105.  71. 308.\n",
            "  77.  85.  93.  96. 105.  47. 148. 114.  55.  76. 102. 108. 174.  88.\n",
            "  89.  64. 127.  95.  89. 169.  99.  98.  75. 178.  86. 160. 159.  88.\n",
            " 305. 154.  42.  70. 114.  73. 276. 132.  98. 131. 102.  84. 256. 121.\n",
            "  75.  44.  95.  84. 117. 160.  63.  87.  25. 133.  53. 217. 109.  47.\n",
            "  68.  82.  62.  64.  50.  82. 106.  56. 108.  74. 101.  85.  64.  37.\n",
            "  52.  41.  74.  36.  60.  59.  69. 129.  82. 109.  52. 117.  30. 167.\n",
            "  52. 101.  33.  72.  36.  50.  28.  88.  28.  99.  87. 173.  47. 138.\n",
            " 119. 117.  81. 113.  88.  97.  31. 102.  61.  94.  77.  93. 109.  81.\n",
            " 146.  54.  75. 144.  34. 120.  39. 139.  58. 119.  54.  96.  50.  98.\n",
            "  74.  63. 110.  74.  75. 104. 105.  51.  49. 124.  76.  44.  30.  38.\n",
            "  29.  46.  20.  27.  35.  54.  85.  84.]\n"
          ],
          "name": "stdout"
        }
      ]
    },
    {
      "cell_type": "code",
      "metadata": {
        "id": "DWTGVRF28sVo",
        "outputId": "5f268ced-531e-4423-92bd-63536fbcae50",
        "colab": {
          "base_uri": "https://localhost:8080/"
        }
      },
      "source": [
        "# Média\n",
        "ci_media = st.mean(inscritos_array)\n",
        "ci_media"
      ],
      "execution_count": 247,
      "outputs": [
        {
          "output_type": "execute_result",
          "data": {
            "text/plain": [
              "90.01704545454545"
            ]
          },
          "metadata": {
            "tags": []
          },
          "execution_count": 247
        }
      ]
    },
    {
      "cell_type": "code",
      "metadata": {
        "id": "bxgzbLzH_NHs",
        "outputId": "69938fb3-64b2-4a1c-bf42-fea2ba8bfb7f",
        "colab": {
          "base_uri": "https://localhost:8080/"
        }
      },
      "source": [
        "# Mediana\n",
        "ci_mediana = st.median(inscritos_array)\n",
        "ci_mediana"
      ],
      "execution_count": 248,
      "outputs": [
        {
          "output_type": "execute_result",
          "data": {
            "text/plain": [
              "84.0"
            ]
          },
          "metadata": {
            "tags": []
          },
          "execution_count": 248
        }
      ]
    },
    {
      "cell_type": "code",
      "metadata": {
        "id": "2b3igjw-_uOV",
        "outputId": "e39676a8-4de5-43b9-e19d-929b1f06616a",
        "colab": {
          "base_uri": "https://localhost:8080/"
        }
      },
      "source": [
        "# Moda\n",
        "ci_moda = st.mode(inscritos_array) # st.multimode(inscritos_array)\n",
        "ci_moda"
      ],
      "execution_count": 249,
      "outputs": [
        {
          "output_type": "execute_result",
          "data": {
            "text/plain": [
              "75.0"
            ]
          },
          "metadata": {
            "tags": []
          },
          "execution_count": 249
        }
      ]
    },
    {
      "cell_type": "code",
      "metadata": {
        "id": "CrAc8qe-Axyz",
        "outputId": "0f029596-7181-468c-a2d3-a9d2854abfc9",
        "colab": {
          "base_uri": "https://localhost:8080/"
        }
      },
      "source": [
        "# Desvio-padrão\n",
        "ci_desvio_padrao = np.std(inscritos_array)\n",
        "ci_desvio_padrao"
      ],
      "execution_count": 250,
      "outputs": [
        {
          "output_type": "execute_result",
          "data": {
            "text/plain": [
              "47.906688946493844"
            ]
          },
          "metadata": {
            "tags": []
          },
          "execution_count": 250
        }
      ]
    },
    {
      "cell_type": "code",
      "metadata": {
        "id": "HGe1LK6_BcJa",
        "outputId": "70b125d3-289e-4f46-8eb6-fe120334e46f",
        "colab": {
          "base_uri": "https://localhost:8080/"
        }
      },
      "source": [
        "# Coeficiente de variação\n",
        "ci_coef_variacao = np.var(inscritos_array)\n",
        "ci_coef_variacao"
      ],
      "execution_count": 251,
      "outputs": [
        {
          "output_type": "execute_result",
          "data": {
            "text/plain": [
              "2295.0508458161157"
            ]
          },
          "metadata": {
            "tags": []
          },
          "execution_count": 251
        }
      ]
    },
    {
      "cell_type": "code",
      "metadata": {
        "id": "FfLL1h2RB2Kk",
        "outputId": "1906cd0d-b7a7-4035-e2e3-f7faebafcc40",
        "colab": {
          "base_uri": "https://localhost:8080/",
          "height": 0
        }
      },
      "source": [
        "# Simetria\n",
        "print(\"A variável é\", calc_simetria(ci_media, ci_mediana))\n",
        "print()\n",
        "se.boxplot(x = conc_inscritos).set_title('Gráfico Box-plot dos concluintes inscritos')"
      ],
      "execution_count": 252,
      "outputs": [
        {
          "output_type": "stream",
          "text": [
            "A variável é ASSIMÉTRICA POSITIVA\n",
            "\n"
          ],
          "name": "stdout"
        },
        {
          "output_type": "execute_result",
          "data": {
            "text/plain": [
              "Text(0.5, 1.0, 'Gráfico Box-plot dos concluintes inscritos')"
            ]
          },
          "metadata": {
            "tags": []
          },
          "execution_count": 252
        },
        {
          "output_type": "display_data",
          "data": {
            "image/png": "[encoded data removed]",
            "text/plain": [
              "<Figure size 432x288 with 1 Axes>"
            ]
          },
          "metadata": {
            "tags": [],
            "needs_background": "light"
          }
        }
      ]
    },
    {
      "cell_type": "markdown",
      "metadata": {
        "id": "oP6B_UguPHXe"
      },
      "source": [
        "## **B - Variável 'Concluintes Participantes'**"
      ]
    },
    {
      "cell_type": "code",
      "metadata": {
        "id": "RMI1gurCPHXg",
        "outputId": "32e1d615-3365-4059-f64e-497df1bb28a1",
        "colab": {
          "base_uri": "https://localhost:8080/"
        }
      },
      "source": [
        "# Info\n",
        "conc_participantes.describe()"
      ],
      "execution_count": 253,
      "outputs": [
        {
          "output_type": "execute_result",
          "data": {
            "text/plain": [
              "count    176.000000\n",
              "mean      88.244318\n",
              "std       47.072740\n",
              "min       18.000000\n",
              "25%       54.750000\n",
              "50%       83.500000\n",
              "75%      106.250000\n",
              "max      303.000000\n",
              "Name: Concluintes Participantes, dtype: float64"
            ]
          },
          "metadata": {
            "tags": []
          },
          "execution_count": 253
        }
      ]
    },
    {
      "cell_type": "code",
      "metadata": {
        "id": "DkIaNF6TPHXs",
        "outputId": "7cfe255b-779e-492a-9ebf-26bcfeb79a19",
        "colab": {
          "base_uri": "https://localhost:8080/"
        }
      },
      "source": [
        "# Criar lista\n",
        "participantes_array = np.array(conc_participantes, dtype = float)\n",
        "print (participantes_array)"
      ],
      "execution_count": 254,
      "outputs": [
        {
          "output_type": "stream",
          "text": [
            "[ 33.  85.  53.  35.  45.  86. 164.  63.  77.  87.  83. 133.  93.  68.\n",
            " 162.  47. 106.  86.  42.  65.  75. 102.  62.  83. 163. 105.  71. 297.\n",
            "  77.  85.  91.  94. 103.  46. 146. 113.  55.  76. 102. 107. 172.  88.\n",
            "  88.  64. 126.  95.  88. 167.  95.  97.  75. 167.  84. 156. 155.  87.\n",
            " 303. 149.  41.  69. 111.  72. 275. 129.  98. 126. 101.  84. 254. 116.\n",
            "  75.  44.  95.  84. 117. 157.  62.  85.  24. 133.  53. 217. 106.  37.\n",
            "  65.  81.  61.  64.  48.  82. 104.  53. 108.  74.  65.  84.  64.  37.\n",
            "  52.  39.  74.  34.  60.  59.  68. 127.  82. 108.  52. 115.  30. 164.\n",
            "  48.  97.  27.  71.  36.  50.  28.  88.  28.  98.  83. 117.  47. 138.\n",
            " 118. 117.  79. 110.  88.  96.  31. 101.  61.  94.  76.  92. 107.  75.\n",
            " 142.  54.  75. 142.  34. 120.  38. 139.  58. 116.  53.  96.  49.  96.\n",
            "  72.  61. 107.  72.  73. 104. 105.  51.  49. 124.  75.  43.  30.  37.\n",
            "  29.  45.  18.  26.  34.  53.  85.  84.]\n"
          ],
          "name": "stdout"
        }
      ]
    },
    {
      "cell_type": "code",
      "metadata": {
        "id": "-MFh-kbLPHXz",
        "outputId": "88a56127-4af7-4636-ddbe-811743bde4bc",
        "colab": {
          "base_uri": "https://localhost:8080/"
        }
      },
      "source": [
        "# Média\n",
        "cp_media = st.mean(participantes_array)\n",
        "cp_media"
      ],
      "execution_count": 255,
      "outputs": [
        {
          "output_type": "execute_result",
          "data": {
            "text/plain": [
              "88.24431818181819"
            ]
          },
          "metadata": {
            "tags": []
          },
          "execution_count": 255
        }
      ]
    },
    {
      "cell_type": "code",
      "metadata": {
        "id": "mGFvfWqKPHX6",
        "outputId": "8777a0c0-492b-41a7-b13a-24dc8df60d94",
        "colab": {
          "base_uri": "https://localhost:8080/"
        }
      },
      "source": [
        "# Mediana\n",
        "cp_mediana = st.median(participantes_array)\n",
        "cp_mediana"
      ],
      "execution_count": 256,
      "outputs": [
        {
          "output_type": "execute_result",
          "data": {
            "text/plain": [
              "83.5"
            ]
          },
          "metadata": {
            "tags": []
          },
          "execution_count": 256
        }
      ]
    },
    {
      "cell_type": "code",
      "metadata": {
        "id": "NOfNmGO2PHX_",
        "outputId": "9375c7cd-e256-4343-eef2-ff748c33a3a4",
        "colab": {
          "base_uri": "https://localhost:8080/"
        }
      },
      "source": [
        "# Moda\n",
        "cp_moda = st.mode(participantes_array) # st.multimode(participantes_array)\n",
        "cp_moda"
      ],
      "execution_count": 257,
      "outputs": [
        {
          "output_type": "execute_result",
          "data": {
            "text/plain": [
              "75.0"
            ]
          },
          "metadata": {
            "tags": []
          },
          "execution_count": 257
        }
      ]
    },
    {
      "cell_type": "code",
      "metadata": {
        "id": "Mafpj2-lPHYG",
        "outputId": "44c3e9c8-1d33-4026-eb9c-afb23a035582",
        "colab": {
          "base_uri": "https://localhost:8080/"
        }
      },
      "source": [
        "# Desvio-padrão\n",
        "cp_desvio_padrao = np.std(participantes_array)\n",
        "cp_desvio_padrao"
      ],
      "execution_count": 258,
      "outputs": [
        {
          "output_type": "execute_result",
          "data": {
            "text/plain": [
              "46.93881984696711"
            ]
          },
          "metadata": {
            "tags": []
          },
          "execution_count": 258
        }
      ]
    },
    {
      "cell_type": "code",
      "metadata": {
        "id": "e1m4AkJXPHYL",
        "outputId": "8b6a8da3-8d1c-4c63-fc4b-dfe3526155ab",
        "colab": {
          "base_uri": "https://localhost:8080/"
        }
      },
      "source": [
        "# Coeficiente de variação\n",
        "cp_coef_variacao = np.var(participantes_array)\n",
        "cp_coef_variacao"
      ],
      "execution_count": 259,
      "outputs": [
        {
          "output_type": "execute_result",
          "data": {
            "text/plain": [
              "2203.252808626033"
            ]
          },
          "metadata": {
            "tags": []
          },
          "execution_count": 259
        }
      ]
    },
    {
      "cell_type": "code",
      "metadata": {
        "id": "MZn1Z_mfPHYX",
        "outputId": "0ffface4-6553-489b-e869-915ef7bc773b",
        "colab": {
          "base_uri": "https://localhost:8080/",
          "height": 0
        }
      },
      "source": [
        "# Simetria\n",
        "print(\"A variável é\", calc_simetria(cp_media, cp_mediana))\n",
        "print()\n",
        "se.boxplot(x = conc_participantes).set_title('Gráfico Box-plot dos concluintes participantes')"
      ],
      "execution_count": 260,
      "outputs": [
        {
          "output_type": "stream",
          "text": [
            "A variável é ASSIMÉTRICA POSITIVA\n",
            "\n"
          ],
          "name": "stdout"
        },
        {
          "output_type": "execute_result",
          "data": {
            "text/plain": [
              "Text(0.5, 1.0, 'Gráfico Box-plot dos concluintes participantes')"
            ]
          },
          "metadata": {
            "tags": []
          },
          "execution_count": 260
        },
        {
          "output_type": "display_data",
          "data": {
            "image/png": "[encoded data removed]",
            "text/plain": [
              "<Figure size 432x288 with 1 Axes>"
            ]
          },
          "metadata": {
            "tags": [],
            "needs_background": "light"
          }
        }
      ]
    },
    {
      "cell_type": "markdown",
      "metadata": {
        "id": "xqgMKmLnV7Pn"
      },
      "source": [
        "## **B - Variável 'Nota Padronizada - FG'**"
      ]
    },
    {
      "cell_type": "code",
      "metadata": {
        "id": "vY09m19tV7Pr",
        "outputId": "7d7e12db-78d4-45d8-934b-8e0b3e9d157a",
        "colab": {
          "base_uri": "https://localhost:8080/"
        }
      },
      "source": [
        "# Info\n",
        "nota_fg.describe()"
      ],
      "execution_count": 261,
      "outputs": [
        {
          "output_type": "execute_result",
          "data": {
            "text/plain": [
              "count    176.000000\n",
              "mean       2.828452\n",
              "std        0.996981\n",
              "min        0.000000\n",
              "25%        2.242636\n",
              "50%        2.977254\n",
              "75%        3.548844\n",
              "max        5.000000\n",
              "Name: Nota Padronizada - FG, dtype: float64"
            ]
          },
          "metadata": {
            "tags": []
          },
          "execution_count": 261
        }
      ]
    },
    {
      "cell_type": "code",
      "metadata": {
        "id": "WxW-k3k8V7P6",
        "outputId": "16b87d2d-4a54-42ac-db47-cd91169b2123",
        "colab": {
          "base_uri": "https://localhost:8080/"
        }
      },
      "source": [
        "# Criar lista\n",
        "nota_fg_array = np.array(nota_fg, dtype = float)\n",
        "print (nota_fg_array)"
      ],
      "execution_count": 262,
      "outputs": [
        {
          "output_type": "stream",
          "text": [
            "[3.47317886 3.43683553 2.64309859 4.27377844 3.53345513 3.6155467\n",
            " 3.73100781 2.95544744 3.12844872 3.8083353  1.17650294 2.34815121\n",
            " 2.70246696 3.13268328 2.35611176 1.6219244  3.68244004 3.08015537\n",
            " 5.         2.69793153 3.31646037 2.09945273 4.45923138 2.72880125\n",
            " 1.77323651 3.82471824 3.0464685  2.29657173 3.55292749 3.46502352\n",
            " 0.         3.68342471 3.77039051 3.54852414 3.23408604 3.83377028\n",
            " 1.65721583 4.04342556 1.6799562  1.28435707 1.87322581 2.34154105\n",
            " 2.25164008 3.08656192 2.81336761 2.21562266 3.25493383 3.3976078\n",
            " 3.45739603 3.93022251 4.21276999 2.57575536 3.28938961 2.94373178\n",
            " 2.35140634 2.57604766 4.46714211 4.29565716 4.28452015 2.85927701\n",
            " 3.38418913 3.53094339 3.41471076 4.12921    3.95308304 3.39245152\n",
            " 3.30413604 3.03052354 2.96723628 2.84449863 2.95811701 3.96052766\n",
            " 3.94135094 2.92826891 3.53867102 3.53729391 4.0556469  3.39295745\n",
            " 1.78449833 2.45114231 3.54980373 1.10368502 1.42847264 1.76222527\n",
            " 0.60831112 0.93096644 2.61584616 2.47732306 2.380198   2.2628727\n",
            " 1.11798036 2.75227904 2.43173623 3.03841496 2.70558143 2.99769473\n",
            " 0.00646279 3.2699492  1.29468    3.7757194  1.94977486 2.11252809\n",
            " 3.70712662 3.93776584 2.05601907 1.42289126 2.91121173 1.54454339\n",
            " 3.67371392 2.11958075 0.56635022 2.67401075 2.82002759 1.18516183\n",
            " 3.91604185 2.73447418 2.63370442 4.00195217 1.59653771 3.47968554\n",
            " 2.48453856 1.65812111 2.62558699 3.14784098 0.98902243 1.83081126\n",
            " 2.34650874 3.60319734 1.17170799 0.79416704 3.39826131 2.72843575\n",
            " 3.85695457 3.12867808 2.02111053 3.35879731 4.04045057 1.00684285\n",
            " 3.15116501 2.99428272 1.71205735 1.83232117 1.92377424 2.93201709\n",
            " 2.90764451 0.40642911 2.62118006 2.3783381  3.40082145 2.99414992\n",
            " 3.71869111 3.07902741 1.33751893 3.16214323 2.55333567 3.72490644\n",
            " 2.30004215 1.20308208 4.14643621 3.06971765 3.20042777 1.61790705\n",
            " 3.17394948 1.99288261 4.2359767  3.69623613 3.88381076 4.68725967\n",
            " 4.00839186 4.32307529 3.86497545 2.58265328 3.4740653  2.98727179\n",
            " 1.97265136 4.13971758]\n"
          ],
          "name": "stdout"
        }
      ]
    },
    {
      "cell_type": "code",
      "metadata": {
        "id": "vvvVMj11V7QD",
        "outputId": "0de480ee-babd-4f6e-c964-c5236fc75655",
        "colab": {
          "base_uri": "https://localhost:8080/"
        }
      },
      "source": [
        "# Média\n",
        "fg_media = st.mean(nota_fg_array)\n",
        "fg_media"
      ],
      "execution_count": 263,
      "outputs": [
        {
          "output_type": "execute_result",
          "data": {
            "text/plain": [
              "2.8284516279077665"
            ]
          },
          "metadata": {
            "tags": []
          },
          "execution_count": 263
        }
      ]
    },
    {
      "cell_type": "code",
      "metadata": {
        "id": "SdP6xlOrV7QL",
        "outputId": "399e1c4c-eebb-43bf-ab89-03aad49cf9e0",
        "colab": {
          "base_uri": "https://localhost:8080/"
        }
      },
      "source": [
        "# Mediana\n",
        "fg_mediana = st.median(nota_fg_array)\n",
        "fg_mediana"
      ],
      "execution_count": 264,
      "outputs": [
        {
          "output_type": "execute_result",
          "data": {
            "text/plain": [
              "2.977254033088684"
            ]
          },
          "metadata": {
            "tags": []
          },
          "execution_count": 264
        }
      ]
    },
    {
      "cell_type": "code",
      "metadata": {
        "id": "S8cEw6aAV7QR",
        "outputId": "ba42ddd4-3526-41d1-91d3-374642423a79",
        "colab": {
          "base_uri": "https://localhost:8080/"
        }
      },
      "source": [
        "# Moda\n",
        "#fg_moda = st.mode(nota_fg_array) # st.multimode(nota_fg_array)\n",
        "#fg_moda\n",
        "print('Não tem moda, pois nenhum valor se repete.')"
      ],
      "execution_count": 265,
      "outputs": [
        {
          "output_type": "stream",
          "text": [
            "Não tem moda, pois nenhum valor se repete.\n"
          ],
          "name": "stdout"
        }
      ]
    },
    {
      "cell_type": "code",
      "metadata": {
        "id": "yZEVJFyiV7QY",
        "outputId": "53c2e5f9-8dc9-4fb8-d1a9-25cc5bcde27b",
        "colab": {
          "base_uri": "https://localhost:8080/"
        }
      },
      "source": [
        "# Desvio-padrão\n",
        "fg_desvio_padrao = np.std(nota_fg_array)\n",
        "fg_desvio_padrao"
      ],
      "execution_count": 266,
      "outputs": [
        {
          "output_type": "execute_result",
          "data": {
            "text/plain": [
              "0.9941442094201961"
            ]
          },
          "metadata": {
            "tags": []
          },
          "execution_count": 266
        }
      ]
    },
    {
      "cell_type": "code",
      "metadata": {
        "id": "do3T3Mj0V7Qd",
        "outputId": "91012eb0-a5ba-4a7d-f362-4c938e5485fd",
        "colab": {
          "base_uri": "https://localhost:8080/"
        }
      },
      "source": [
        "# Coeficiente de variação\n",
        "fg_coef_variacao = np.var(nota_fg_array)\n",
        "fg_coef_variacao"
      ],
      "execution_count": 267,
      "outputs": [
        {
          "output_type": "execute_result",
          "data": {
            "text/plain": [
              "0.9883227091237068"
            ]
          },
          "metadata": {
            "tags": []
          },
          "execution_count": 267
        }
      ]
    },
    {
      "cell_type": "code",
      "metadata": {
        "id": "W5rAh6O4V7Qk",
        "outputId": "2d94d0bf-184d-4896-c545-11ed35bd3328",
        "colab": {
          "base_uri": "https://localhost:8080/",
          "height": 0
        }
      },
      "source": [
        "# Simetria\n",
        "print(\"A variável é\", calc_simetria(fg_media, fg_mediana))\n",
        "print()\n",
        "se.boxplot(x = nota_fg, ).set_title('Gráfico Box-plot da nota padronizada (FG)')"
      ],
      "execution_count": 268,
      "outputs": [
        {
          "output_type": "stream",
          "text": [
            "A variável é ASSIMÉTRICA NEGATIVA\n",
            "\n"
          ],
          "name": "stdout"
        },
        {
          "output_type": "execute_result",
          "data": {
            "text/plain": [
              "Text(0.5, 1.0, 'Gráfico Box-plot da nota padronizada (FG)')"
            ]
          },
          "metadata": {
            "tags": []
          },
          "execution_count": 268
        },
        {
          "output_type": "display_data",
          "data": {
            "image/png": "[encoded data removed]",
            "text/plain": [
              "<Figure size 432x288 with 1 Axes>"
            ]
          },
          "metadata": {
            "tags": [],
            "needs_background": "light"
          }
        }
      ]
    },
    {
      "cell_type": "markdown",
      "metadata": {
        "id": "Px9TQxNpXxYa"
      },
      "source": [
        "## **B - Variável 'Nota Padronizada - CE'**"
      ]
    },
    {
      "cell_type": "code",
      "metadata": {
        "id": "ayXrmZxOXxYe",
        "outputId": "9e459775-81a7-45d5-a797-24ed4941b2e7",
        "colab": {
          "base_uri": "https://localhost:8080/"
        }
      },
      "source": [
        "# Info\n",
        "nota_ce.describe()"
      ],
      "execution_count": 269,
      "outputs": [
        {
          "output_type": "execute_result",
          "data": {
            "text/plain": [
              "count    176.000000\n",
              "mean       2.495717\n",
              "std        0.846080\n",
              "min        0.000000\n",
              "25%        1.952655\n",
              "50%        2.626382\n",
              "75%        3.070857\n",
              "max        5.000000\n",
              "Name: Nota Padronizada - CE, dtype: float64"
            ]
          },
          "metadata": {
            "tags": []
          },
          "execution_count": 269
        }
      ]
    },
    {
      "cell_type": "code",
      "metadata": {
        "id": "1-fjZ2PeXxYq",
        "outputId": "62fcfe46-431c-48dc-b2ce-6066e871c487",
        "colab": {
          "base_uri": "https://localhost:8080/"
        }
      },
      "source": [
        "# Criar lista\n",
        "nota_ce_array = np.array(nota_ce, dtype = float)\n",
        "print (nota_ce_array)"
      ],
      "execution_count": 270,
      "outputs": [
        {
          "output_type": "stream",
          "text": [
            "[2.75931883 2.84147501 2.65882921 2.2992208  3.56535172 3.06598282\n",
            " 3.64575529 2.48782849 2.9122107  2.61489558 2.25731874 2.19285655\n",
            " 3.40343118 3.98303246 2.37575912 1.56653988 3.72776842 3.24960446\n",
            " 3.445153   1.5776577  3.01746631 2.30222988 3.8787055  2.29439116\n",
            " 2.35483623 3.06815171 2.42506838 1.31799817 2.59503436 2.18053842\n",
            " 0.         3.14622116 3.26919699 3.1085906  2.69319677 3.74065924\n",
            " 1.03544188 2.98248005 2.31987357 2.29803228 1.91092169 1.80988443\n",
            " 2.55274844 3.07897115 2.72834992 2.2818768  1.36236298 3.53015137\n",
            " 3.01909637 3.76366711 2.37961555 1.70188272 3.40506554 3.30038285\n",
            " 2.79772449 2.79062271 3.20746469 3.5118463  2.9398694  3.04506588\n",
            " 2.26474977 2.89522552 2.67018175 3.33646464 2.91098976 3.38724899\n",
            " 3.75545955 2.83117819 3.28210568 2.91980433 3.12661362 3.21600318\n",
            " 3.23848963 2.27733374 2.36713052 2.47661328 3.15174747 3.37127233\n",
            " 2.68235087 2.81722116 3.61512327 1.52673519 1.95940864 2.89413595\n",
            " 0.         0.9593398  2.62363195 2.6870873  2.37755156 2.97857332\n",
            " 1.40813839 2.36927581 2.74882841 1.85381949 2.70961666 1.511307\n",
            " 0.         3.69960928 0.         3.14916229 0.993689   2.80140376\n",
            " 2.62913179 3.25441766 2.19066978 0.9580797  3.48904967 1.82708669\n",
            " 3.38337326 1.93239236 2.06146455 2.01426363 2.19854379 0.18828344\n",
            " 4.00816011 1.99959207 2.77696109 3.0999074  1.61290598 2.46060538\n",
            " 3.04704857 1.83140898 2.82016659 2.108109   0.67098248 1.07281554\n",
            " 1.229316   2.9807806  1.45615435 1.71857703 1.98339522 1.80444217\n",
            " 3.41737175 2.87732649 1.72581315 2.7799685  2.87324095 0.89002061\n",
            " 2.30164957 2.37187457 2.01758122 2.26502156 3.00869465 2.53246045\n",
            " 3.71494532 1.59942877 1.82108855 2.44224405 3.02307248 3.66153145\n",
            " 3.37522912 2.93614721 1.92797327 3.03895617 1.78972626 2.07351995\n",
            " 2.2016325  1.75854707 2.79446435 1.83854103 1.78776777 1.8785665\n",
            " 2.26091099 2.13793659 3.13100028 3.11863923 2.52656341 2.76128531\n",
            " 3.13718367 5.         1.85719025 2.68594742 1.61294651 2.71944237\n",
            " 1.26027966 1.88406849]\n"
          ],
          "name": "stdout"
        }
      ]
    },
    {
      "cell_type": "code",
      "metadata": {
        "id": "qyDyKrfCXxYy",
        "outputId": "6f672d84-d93e-49af-9509-041ee11db210",
        "colab": {
          "base_uri": "https://localhost:8080/"
        }
      },
      "source": [
        "# Média\n",
        "ce_media = st.mean(nota_ce_array)\n",
        "ce_media"
      ],
      "execution_count": 271,
      "outputs": [
        {
          "output_type": "execute_result",
          "data": {
            "text/plain": [
              "2.4957169226624747"
            ]
          },
          "metadata": {
            "tags": []
          },
          "execution_count": 271
        }
      ]
    },
    {
      "cell_type": "code",
      "metadata": {
        "id": "N9TKPiXqXxY4",
        "outputId": "befc9215-502b-432f-8ad3-bbef25e0a5b5",
        "colab": {
          "base_uri": "https://localhost:8080/"
        }
      },
      "source": [
        "# Mediana\n",
        "ce_mediana = st.median(nota_ce_array)\n",
        "ce_mediana"
      ],
      "execution_count": 272,
      "outputs": [
        {
          "output_type": "execute_result",
          "data": {
            "text/plain": [
              "2.6263818740844727"
            ]
          },
          "metadata": {
            "tags": []
          },
          "execution_count": 272
        }
      ]
    },
    {
      "cell_type": "code",
      "metadata": {
        "id": "-mzWa-W6XxY-",
        "outputId": "499688d1-3e02-4de3-cead-217dbc27591a",
        "colab": {
          "base_uri": "https://localhost:8080/"
        }
      },
      "source": [
        "# Moda\n",
        "ce_moda = st.mode(nota_ce_array) # st.multimode(nota_ce_array)\n",
        "ce_moda"
      ],
      "execution_count": 273,
      "outputs": [
        {
          "output_type": "execute_result",
          "data": {
            "text/plain": [
              "0.0"
            ]
          },
          "metadata": {
            "tags": []
          },
          "execution_count": 273
        }
      ]
    },
    {
      "cell_type": "code",
      "metadata": {
        "id": "kHqCRrqnXxZF",
        "outputId": "b2c541ec-a79d-4a86-92e3-888f891ccc56",
        "colab": {
          "base_uri": "https://localhost:8080/"
        }
      },
      "source": [
        "# Desvio-padrão\n",
        "ce_desvio_padrao = np.std(nota_ce_array)\n",
        "ce_desvio_padrao"
      ],
      "execution_count": 274,
      "outputs": [
        {
          "output_type": "execute_result",
          "data": {
            "text/plain": [
              "0.8436729646970291"
            ]
          },
          "metadata": {
            "tags": []
          },
          "execution_count": 274
        }
      ]
    },
    {
      "cell_type": "code",
      "metadata": {
        "id": "6KCaxelKXxZK",
        "outputId": "137cf7a1-c524-4d8c-b40b-caaa53fdbb7e",
        "colab": {
          "base_uri": "https://localhost:8080/"
        }
      },
      "source": [
        "# Coeficiente de variação\n",
        "ce_coef_variacao = np.var(nota_ce_array)\n",
        "ce_coef_variacao"
      ],
      "execution_count": 275,
      "outputs": [
        {
          "output_type": "execute_result",
          "data": {
            "text/plain": [
              "0.7117840713606746"
            ]
          },
          "metadata": {
            "tags": []
          },
          "execution_count": 275
        }
      ]
    },
    {
      "cell_type": "code",
      "metadata": {
        "id": "V2-qyDrAXxZT",
        "outputId": "824779cc-2da9-4bc4-ca53-898d29775fb9",
        "colab": {
          "base_uri": "https://localhost:8080/",
          "height": 0
        }
      },
      "source": [
        "# Simetria\n",
        "print(\"A variável é\", calc_simetria(ce_media, ce_mediana))\n",
        "print()\n",
        "se.boxplot(x = nota_ce).set_title('Gráfico Box-plot da nota padronizada (CE)')"
      ],
      "execution_count": 276,
      "outputs": [
        {
          "output_type": "stream",
          "text": [
            "A variável é ASSIMÉTRICA NEGATIVA\n",
            "\n"
          ],
          "name": "stdout"
        },
        {
          "output_type": "execute_result",
          "data": {
            "text/plain": [
              "Text(0.5, 1.0, 'Gráfico Box-plot da nota padronizada (CE)')"
            ]
          },
          "metadata": {
            "tags": []
          },
          "execution_count": 276
        },
        {
          "output_type": "display_data",
          "data": {
            "image/png": "[encoded data removed]",
            "text/plain": [
              "<Figure size 432x288 with 1 Axes>"
            ]
          },
          "metadata": {
            "tags": [],
            "needs_background": "light"
          }
        }
      ]
    },
    {
      "cell_type": "markdown",
      "metadata": {
        "id": "HEfy2AYBYWfs"
      },
      "source": [
        "## **B - Variável 'Conceito Enade - Contínuo'**"
      ]
    },
    {
      "cell_type": "code",
      "metadata": {
        "id": "4eHsAkR0YWfv",
        "outputId": "5640751c-caa4-4495-c56f-76c106bec8f8",
        "colab": {
          "base_uri": "https://localhost:8080/"
        }
      },
      "source": [
        "# Info\n",
        "conceito_cont.describe()"
      ],
      "execution_count": 277,
      "outputs": [
        {
          "output_type": "execute_result",
          "data": {
            "text/plain": [
              "count    176.000000\n",
              "mean       2.578901\n",
              "std        0.828536\n",
              "min        0.000000\n",
              "25%        2.095811\n",
              "50%        2.677850\n",
              "75%        3.208237\n",
              "max        4.830769\n",
              "Name: Conceito Enade (Contínuo), dtype: float64"
            ]
          },
          "metadata": {
            "tags": []
          },
          "execution_count": 277
        }
      ]
    },
    {
      "cell_type": "code",
      "metadata": {
        "id": "UVuGE75RYWf-",
        "outputId": "14132ae1-f065-4e0b-a91d-fdcfbd621fb5",
        "colab": {
          "base_uri": "https://localhost:8080/"
        }
      },
      "source": [
        "# Criar lista\n",
        "conceito_cont_array = np.array(conceito_cont, dtype = float)\n",
        "print (conceito_cont_array)"
      ],
      "execution_count": 278,
      "outputs": [
        {
          "output_type": "stream",
          "text": [
            "[2.93778372e+00 2.99031520e+00 2.65489650e+00 2.79286027e+00\n",
            " 3.55737758e+00 3.20337391e+00 3.66706848e+00 2.60473323e+00\n",
            " 2.96627021e+00 2.91325545e+00 1.98711479e+00 2.23168015e+00\n",
            " 3.22819018e+00 3.77044511e+00 2.37084723e+00 1.58038604e+00\n",
            " 3.71643639e+00 3.20724225e+00 3.83386469e+00 1.85772610e+00\n",
            " 3.09221482e+00 2.25153565e+00 4.02383709e+00 2.40299368e+00\n",
            " 2.20943642e+00 3.25729322e+00 2.58041835e+00 1.56264162e+00\n",
            " 2.83450770e+00 2.50165963e+00 0.00000000e+00 3.28052211e+00\n",
            " 3.39449549e+00 3.21857405e+00 2.82841921e+00 3.76393700e+00\n",
            " 1.19088531e+00 3.24771643e+00 2.15989423e+00 2.04461336e+00\n",
            " 1.90149772e+00 1.94279861e+00 2.47747135e+00 3.08086872e+00\n",
            " 2.74960423e+00 2.26531315e+00 1.83550572e+00 3.49701548e+00\n",
            " 3.12867117e+00 3.80530596e+00 2.83790421e+00 1.92035091e+00\n",
            " 3.37614655e+00 3.21122003e+00 2.68614483e+00 2.73697901e+00\n",
            " 3.52238417e+00 3.70779896e+00 3.27603197e+00 2.99861860e+00\n",
            " 2.54460955e+00 3.05415487e+00 2.85631394e+00 3.53465104e+00\n",
            " 3.17151308e+00 3.38854957e+00 3.64262867e+00 2.88101459e+00\n",
            " 3.20338821e+00 2.90097785e+00 3.08448935e+00 3.40213442e+00\n",
            " 3.41420507e+00 2.44006753e+00 2.66001558e+00 2.74178338e+00\n",
            " 3.37772226e+00 3.37669373e+00 2.45788765e+00 2.72570133e+00\n",
            " 3.59879351e+00 1.42097259e+00 1.82667470e+00 2.61115837e+00\n",
            " 1.52077779e-01 9.52246428e-01 2.62168550e+00 2.63464618e+00\n",
            " 2.37821317e+00 2.79964828e+00 1.33559895e+00 2.46502662e+00\n",
            " 2.66955543e+00 2.14996839e+00 2.70860791e+00 1.88290393e+00\n",
            " 1.61569752e-03 3.59219432e+00 3.23670000e-01 3.30580163e+00\n",
            " 1.23271048e+00 2.62918472e+00 2.89863062e+00 3.42525482e+00\n",
            " 2.15700722e+00 1.07428265e+00 3.34459019e+00 1.75645089e+00\n",
            " 3.45595837e+00 1.97918940e+00 1.68768597e+00 2.17920041e+00\n",
            " 2.35391474e+00 4.37503040e-01 3.98513055e+00 2.18331265e+00\n",
            " 2.74114704e+00 3.32541847e+00 1.60881388e+00 2.71537542e+00\n",
            " 2.90642118e+00 1.78808701e+00 2.77152157e+00 2.36804199e+00\n",
            " 7.50492454e-01 1.26231444e+00 1.50861418e+00 3.13638473e+00\n",
            " 1.38504279e+00 1.48747456e+00 2.33711171e+00 2.03544044e+00\n",
            " 3.52726746e+00 2.94016433e+00 1.79963756e+00 2.92467570e+00\n",
            " 3.16504335e+00 9.19226170e-01 2.51402855e+00 2.52747655e+00\n",
            " 1.94120026e+00 2.15684652e+00 2.73746443e+00 2.63234949e+00\n",
            " 3.51312017e+00 1.30117881e+00 2.02111149e+00 2.42626762e+00\n",
            " 3.11750984e+00 3.49468613e+00 3.46109462e+00 2.97186732e+00\n",
            " 1.78035975e+00 3.06975293e+00 1.98062861e+00 2.48636651e+00\n",
            " 2.22623491e+00 1.61968088e+00 3.13245726e+00 2.14633512e+00\n",
            " 2.14093280e+00 1.81340170e+00 2.48917055e+00 2.10167313e+00\n",
            " 3.40724444e+00 3.26303840e+00 2.86587524e+00 3.24277878e+00\n",
            " 3.35498571e+00 4.83076859e+00 2.35913658e+00 2.66012383e+00\n",
            " 2.07822609e+00 2.78639984e+00 1.43837261e+00 2.44798088e+00]\n"
          ],
          "name": "stdout"
        }
      ]
    },
    {
      "cell_type": "code",
      "metadata": {
        "id": "Ah-UOKZ-YWgH",
        "outputId": "1af9ff85-b331-4f82-d5ff-8f547c578dac",
        "colab": {
          "base_uri": "https://localhost:8080/"
        }
      },
      "source": [
        "# Média\n",
        "cc_media = st.mean(conceito_cont_array)\n",
        "cc_media"
      ],
      "execution_count": 279,
      "outputs": [
        {
          "output_type": "execute_result",
          "data": {
            "text/plain": [
              "2.578900598381138"
            ]
          },
          "metadata": {
            "tags": []
          },
          "execution_count": 279
        }
      ]
    },
    {
      "cell_type": "code",
      "metadata": {
        "id": "27bJVWraYWgO",
        "outputId": "fd9a77f0-c15c-4e20-948d-3839b5700db7",
        "colab": {
          "base_uri": "https://localhost:8080/"
        }
      },
      "source": [
        "# Mediana\n",
        "cc_mediana = st.median(conceito_cont_array)\n",
        "cc_mediana"
      ],
      "execution_count": 280,
      "outputs": [
        {
          "output_type": "execute_result",
          "data": {
            "text/plain": [
              "2.677850127220154"
            ]
          },
          "metadata": {
            "tags": []
          },
          "execution_count": 280
        }
      ]
    },
    {
      "cell_type": "code",
      "metadata": {
        "id": "oCCwQGi9YWgT",
        "outputId": "cc9fa4ce-1c02-442d-da6a-972d6f4ac303",
        "colab": {
          "base_uri": "https://localhost:8080/"
        }
      },
      "source": [
        "# Moda\n",
        "#cc_moda = st.mode(conceito_cont_array) # st.multimode(conceito_cont_array)\n",
        "#cc_moda\n",
        "print('Não tem moda, pois nenhum valor se repete.')"
      ],
      "execution_count": 281,
      "outputs": [
        {
          "output_type": "stream",
          "text": [
            "Não tem moda, pois nenhum valor se repete.\n"
          ],
          "name": "stdout"
        }
      ]
    },
    {
      "cell_type": "code",
      "metadata": {
        "id": "7MTFm3vWYWgc",
        "outputId": "520f848d-6b05-4f82-8fc6-c3c44b68e7ca",
        "colab": {
          "base_uri": "https://localhost:8080/"
        }
      },
      "source": [
        "# Desvio-padrão\n",
        "cc_desvio_padrao = np.std(conceito_cont_array)\n",
        "cc_desvio_padrao"
      ],
      "execution_count": 282,
      "outputs": [
        {
          "output_type": "execute_result",
          "data": {
            "text/plain": [
              "0.8261789579417299"
            ]
          },
          "metadata": {
            "tags": []
          },
          "execution_count": 282
        }
      ]
    },
    {
      "cell_type": "code",
      "metadata": {
        "id": "hbkW191IYWgi",
        "outputId": "d9755c0c-150b-458b-b202-f895078cde87",
        "colab": {
          "base_uri": "https://localhost:8080/"
        }
      },
      "source": [
        "# Coeficiente de variação\n",
        "cc_coef_variacao = np.var(conceito_cont_array)\n",
        "cc_coef_variacao"
      ],
      "execution_count": 283,
      "outputs": [
        {
          "output_type": "execute_result",
          "data": {
            "text/plain": [
              "0.6825716705456827"
            ]
          },
          "metadata": {
            "tags": []
          },
          "execution_count": 283
        }
      ]
    },
    {
      "cell_type": "code",
      "metadata": {
        "id": "1-dyTkuwYWgo",
        "outputId": "8e95415b-91b8-42b4-a480-90e5c7296abf",
        "colab": {
          "base_uri": "https://localhost:8080/",
          "height": 0
        }
      },
      "source": [
        "# Simetria\n",
        "print(\"A variável é\", calc_simetria(cc_media, cc_mediana))\n",
        "print()\n",
        "se.boxplot(x = conceito_cont).set_title('Gráfico Box-plot da Conceito Endade (Contínuo)')"
      ],
      "execution_count": 284,
      "outputs": [
        {
          "output_type": "stream",
          "text": [
            "A variável é ASSIMÉTRICA NEGATIVA\n",
            "\n"
          ],
          "name": "stdout"
        },
        {
          "output_type": "execute_result",
          "data": {
            "text/plain": [
              "Text(0.5, 1.0, 'Gráfico Box-plot da Conceito Endade (Contínuo)')"
            ]
          },
          "metadata": {
            "tags": []
          },
          "execution_count": 284
        },
        {
          "output_type": "display_data",
          "data": {
            "image/png": "[encoded data removed]",
            "text/plain": [
              "<Figure size 432x288 with 1 Axes>"
            ]
          },
          "metadata": {
            "tags": [],
            "needs_background": "light"
          }
        }
      ]
    },
    {
      "cell_type": "markdown",
      "metadata": {
        "id": "QlvQIFP4aMm3"
      },
      "source": [
        "## **B - Variável 'Conceito Enade - Faixa'**"
      ]
    },
    {
      "cell_type": "code",
      "metadata": {
        "id": "OvBM3zg7aMm6",
        "outputId": "a4035bc0-0c2c-4cc4-c42a-84ee1a8b419e",
        "colab": {
          "base_uri": "https://localhost:8080/"
        }
      },
      "source": [
        "# Info\n",
        "conceito_faixa.describe()"
      ],
      "execution_count": 285,
      "outputs": [
        {
          "output_type": "execute_result",
          "data": {
            "text/plain": [
              "count    176.000000\n",
              "mean       3.119318\n",
              "std        0.850191\n",
              "min        1.000000\n",
              "25%        3.000000\n",
              "50%        3.000000\n",
              "75%        4.000000\n",
              "max        5.000000\n",
              "Name: Conceito Enade (Faixa), dtype: float64"
            ]
          },
          "metadata": {
            "tags": []
          },
          "execution_count": 285
        }
      ]
    },
    {
      "cell_type": "code",
      "metadata": {
        "id": "J_OicJvdaMnG",
        "outputId": "5ae7f381-d02a-4966-cd49-92c8086f3425",
        "colab": {
          "base_uri": "https://localhost:8080/"
        }
      },
      "source": [
        "# Criar lista\n",
        "conceito_faixa_array = np.array(conceito_faixa, dtype = float)\n",
        "print (conceito_faixa_array)"
      ],
      "execution_count": 286,
      "outputs": [
        {
          "output_type": "stream",
          "text": [
            "[3. 4. 3. 3. 4. 4. 4. 3. 4. 3. 3. 3. 4. 4. 3. 2. 4. 4. 4. 2. 4. 3. 5. 3.\n",
            " 3. 4. 3. 2. 3. 3. 1. 4. 4. 4. 3. 4. 2. 4. 3. 3. 2. 2. 3. 4. 3. 3. 2. 4.\n",
            " 4. 4. 3. 2. 4. 4. 3. 3. 4. 4. 4. 4. 3. 4. 3. 4. 4. 4. 4. 3. 4. 3. 4. 4.\n",
            " 4. 3. 3. 3. 4. 4. 3. 3. 4. 2. 2. 3. 1. 2. 3. 3. 3. 3. 2. 3. 3. 3. 3. 2.\n",
            " 1. 4. 1. 4. 2. 3. 3. 4. 3. 2. 4. 2. 4. 3. 2. 3. 3. 1. 5. 3. 3. 4. 2. 3.\n",
            " 3. 2. 3. 3. 1. 2. 2. 4. 2. 2. 3. 3. 4. 3. 2. 3. 4. 1. 3. 3. 2. 3. 3. 3.\n",
            " 4. 2. 3. 3. 4. 4. 4. 4. 2. 4. 3. 3. 3. 2. 4. 3. 3. 2. 3. 3. 4. 4. 3. 4.\n",
            " 4. 5. 3. 3. 3. 3. 2. 3.]\n"
          ],
          "name": "stdout"
        }
      ]
    },
    {
      "cell_type": "code",
      "metadata": {
        "id": "lIGE5tb0aMnQ",
        "outputId": "cab581cf-3c19-4487-b32a-74b7351adb0a",
        "colab": {
          "base_uri": "https://localhost:8080/"
        }
      },
      "source": [
        "# Média\n",
        "cf_media = st.mean(conceito_faixa_array)\n",
        "cf_media"
      ],
      "execution_count": 287,
      "outputs": [
        {
          "output_type": "execute_result",
          "data": {
            "text/plain": [
              "3.1193181818181817"
            ]
          },
          "metadata": {
            "tags": []
          },
          "execution_count": 287
        }
      ]
    },
    {
      "cell_type": "code",
      "metadata": {
        "id": "raV8JZCkaMnW",
        "outputId": "54ce6052-c4ac-4245-b92e-12cfd4445ef4",
        "colab": {
          "base_uri": "https://localhost:8080/"
        }
      },
      "source": [
        "# Mediana\n",
        "cf_mediana = st.median(conceito_faixa_array)\n",
        "cf_mediana"
      ],
      "execution_count": 288,
      "outputs": [
        {
          "output_type": "execute_result",
          "data": {
            "text/plain": [
              "3.0"
            ]
          },
          "metadata": {
            "tags": []
          },
          "execution_count": 288
        }
      ]
    },
    {
      "cell_type": "code",
      "metadata": {
        "id": "Rpy6U44UaMnc",
        "outputId": "eef69e58-cc3b-43dc-9d11-5e7f84e0e13d",
        "colab": {
          "base_uri": "https://localhost:8080/"
        }
      },
      "source": [
        "# Moda\n",
        "cf_moda = st.mode(conceito_faixa_array) # st.multimode(conceito_faixa_array)\n",
        "cf_moda"
      ],
      "execution_count": 289,
      "outputs": [
        {
          "output_type": "execute_result",
          "data": {
            "text/plain": [
              "3.0"
            ]
          },
          "metadata": {
            "tags": []
          },
          "execution_count": 289
        }
      ]
    },
    {
      "cell_type": "code",
      "metadata": {
        "id": "E0jjMacdaMni",
        "outputId": "f7f3cb46-58c2-4ab7-865d-35de6af2853e",
        "colab": {
          "base_uri": "https://localhost:8080/"
        }
      },
      "source": [
        "# Desvio-padrão\n",
        "cf_desvio_padrao = np.std(conceito_faixa_array)\n",
        "cf_desvio_padrao"
      ],
      "execution_count": 290,
      "outputs": [
        {
          "output_type": "execute_result",
          "data": {
            "text/plain": [
              "0.8477722081680603"
            ]
          },
          "metadata": {
            "tags": []
          },
          "execution_count": 290
        }
      ]
    },
    {
      "cell_type": "code",
      "metadata": {
        "id": "zAwwlO9xaMno",
        "outputId": "92ed60b7-e4f4-4ab7-d309-8470f9f76c89",
        "colab": {
          "base_uri": "https://localhost:8080/"
        }
      },
      "source": [
        "# Coeficiente de variação\n",
        "cf_coef_variacao = np.var(conceito_faixa_array)\n",
        "cf_coef_variacao"
      ],
      "execution_count": 291,
      "outputs": [
        {
          "output_type": "execute_result",
          "data": {
            "text/plain": [
              "0.7187177169421489"
            ]
          },
          "metadata": {
            "tags": []
          },
          "execution_count": 291
        }
      ]
    },
    {
      "cell_type": "code",
      "metadata": {
        "id": "kfeTXUbEaMnt",
        "outputId": "bc644164-569f-4833-d2e8-c4b6816630ec",
        "colab": {
          "base_uri": "https://localhost:8080/",
          "height": 0
        }
      },
      "source": [
        "# Simetria\n",
        "print(\"A variável é\", calc_simetria(cf_media, cf_mediana))\n",
        "print()\n",
        "se.boxplot(x = conceito_faixa).set_title('Gráfico Box-plot da Conceito Endade (Faixa)')"
      ],
      "execution_count": 292,
      "outputs": [
        {
          "output_type": "stream",
          "text": [
            "A variável é ASSIMÉTRICA POSITIVA\n",
            "\n"
          ],
          "name": "stdout"
        },
        {
          "output_type": "execute_result",
          "data": {
            "text/plain": [
              "Text(0.5, 1.0, 'Gráfico Box-plot da Conceito Endade (Faixa)')"
            ]
          },
          "metadata": {
            "tags": []
          },
          "execution_count": 292
        },
        {
          "output_type": "display_data",
          "data": {
            "image/png": "[encoded data removed]",
            "text/plain": [
              "<Figure size 432x288 with 1 Axes>"
            ]
          },
          "metadata": {
            "tags": [],
            "needs_background": "light"
          }
        }
      ]
    },
    {
      "cell_type": "markdown",
      "metadata": {
        "id": "ZOQkX_cyrE9S"
      },
      "source": [
        "#**ITEM D**"
      ]
    },
    {
      "cell_type": "code",
      "metadata": {
        "id": "mf_4cfOXsLNU",
        "outputId": "11c8d569-ce33-4f85-ccab-44f740a26103",
        "colab": {
          "base_uri": "https://localhost:8080/",
          "height": 435
        }
      },
      "source": [
        "dfMedicina = dfConceito[dfConceito['Código da Área'] == 12]\n",
        "dfMedicina.head()"
      ],
      "execution_count": 293,
      "outputs": [
        {
          "output_type": "execute_result",
          "data": {
            "text/html": [
              "<div>\n",
              "<style scoped>\n",
              "    .dataframe tbody tr th:only-of-type {\n",
              "        vertical-align: middle;\n",
              "    }\n",
              "\n",
              "    .dataframe tbody tr th {\n",
              "        vertical-align: top;\n",
              "    }\n",
              "\n",
              "    .dataframe thead th {\n",
              "        text-align: right;\n",
              "    }\n",
              "</style>\n",
              "<table border=\"1\" class=\"dataframe\">\n",
              "  <thead>\n",
              "    <tr style=\"text-align: right;\">\n",
              "      <th></th>\n",
              "      <th>Ano</th>\n",
              "      <th>Código da IES</th>\n",
              "      <th>Nome da IES</th>\n",
              "      <th>Sigla da IES</th>\n",
              "      <th>Organização Acadêmica</th>\n",
              "      <th>Categoria Administrativa</th>\n",
              "      <th>Código do Curso</th>\n",
              "      <th>Código da Área</th>\n",
              "      <th>Área de Enquadramento</th>\n",
              "      <th>Modalidade de Ensino</th>\n",
              "      <th>Código do Município</th>\n",
              "      <th>Município do Curso</th>\n",
              "      <th>Sigla da UF</th>\n",
              "      <th>Concluintes Inscritos</th>\n",
              "      <th>Concluintes Participantes</th>\n",
              "      <th>Nota Bruta - FG</th>\n",
              "      <th>Nota Padronizada - FG</th>\n",
              "      <th>Nota Bruta - CE</th>\n",
              "      <th>Nota Padronizada - CE</th>\n",
              "      <th>Conceito Enade (Contínuo)</th>\n",
              "      <th>Conceito Enade (Faixa)</th>\n",
              "    </tr>\n",
              "  </thead>\n",
              "  <tbody>\n",
              "    <tr>\n",
              "      <th>2</th>\n",
              "      <td>2016</td>\n",
              "      <td>1</td>\n",
              "      <td>UNIVERSIDADE FEDERAL DE MATO GROSSO</td>\n",
              "      <td>UFMT</td>\n",
              "      <td>Universidade</td>\n",
              "      <td>Pessoa Jurídica de Direito Público - Federal</td>\n",
              "      <td>12</td>\n",
              "      <td>12</td>\n",
              "      <td>MEDICINA</td>\n",
              "      <td>Educação Presencial</td>\n",
              "      <td>5103403</td>\n",
              "      <td>CUIABÁ</td>\n",
              "      <td>MT</td>\n",
              "      <td>35</td>\n",
              "      <td>33</td>\n",
              "      <td>63.166668</td>\n",
              "      <td>3.473179</td>\n",
              "      <td>68.506058</td>\n",
              "      <td>2.759319</td>\n",
              "      <td>2.937784</td>\n",
              "      <td>3</td>\n",
              "    </tr>\n",
              "    <tr>\n",
              "      <th>8</th>\n",
              "      <td>2016</td>\n",
              "      <td>2</td>\n",
              "      <td>UNIVERSIDADE DE BRASÍLIA</td>\n",
              "      <td>UNB</td>\n",
              "      <td>Universidade</td>\n",
              "      <td>Pessoa Jurídica de Direito Público - Federal</td>\n",
              "      <td>140</td>\n",
              "      <td>12</td>\n",
              "      <td>MEDICINA</td>\n",
              "      <td>Educação Presencial</td>\n",
              "      <td>5300108</td>\n",
              "      <td>BRASÍLIA</td>\n",
              "      <td>DF</td>\n",
              "      <td>89</td>\n",
              "      <td>85</td>\n",
              "      <td>63.005882</td>\n",
              "      <td>3.436836</td>\n",
              "      <td>68.930588</td>\n",
              "      <td>2.841475</td>\n",
              "      <td>2.990315</td>\n",
              "      <td>4</td>\n",
              "    </tr>\n",
              "    <tr>\n",
              "      <th>13</th>\n",
              "      <td>2016</td>\n",
              "      <td>3</td>\n",
              "      <td>UNIVERSIDADE FEDERAL DE SERGIPE</td>\n",
              "      <td>UFS</td>\n",
              "      <td>Universidade</td>\n",
              "      <td>Pessoa Jurídica de Direito Público - Federal</td>\n",
              "      <td>303</td>\n",
              "      <td>12</td>\n",
              "      <td>MEDICINA</td>\n",
              "      <td>Educação Presencial</td>\n",
              "      <td>2800308</td>\n",
              "      <td>ARACAJU</td>\n",
              "      <td>SE</td>\n",
              "      <td>53</td>\n",
              "      <td>53</td>\n",
              "      <td>59.494339</td>\n",
              "      <td>2.643099</td>\n",
              "      <td>67.986794</td>\n",
              "      <td>2.658829</td>\n",
              "      <td>2.654896</td>\n",
              "      <td>3</td>\n",
              "    </tr>\n",
              "    <tr>\n",
              "      <th>17</th>\n",
              "      <td>2016</td>\n",
              "      <td>4</td>\n",
              "      <td>UNIVERSIDADE FEDERAL DO AMAZONAS</td>\n",
              "      <td>UFAM</td>\n",
              "      <td>Universidade</td>\n",
              "      <td>Pessoa Jurídica de Direito Público - Federal</td>\n",
              "      <td>389</td>\n",
              "      <td>12</td>\n",
              "      <td>MEDICINA</td>\n",
              "      <td>Educação Presencial</td>\n",
              "      <td>1302603</td>\n",
              "      <td>MANAUS</td>\n",
              "      <td>AM</td>\n",
              "      <td>36</td>\n",
              "      <td>35</td>\n",
              "      <td>66.708572</td>\n",
              "      <td>4.273778</td>\n",
              "      <td>66.128571</td>\n",
              "      <td>2.299221</td>\n",
              "      <td>2.792860</td>\n",
              "      <td>3</td>\n",
              "    </tr>\n",
              "    <tr>\n",
              "      <th>21</th>\n",
              "      <td>2016</td>\n",
              "      <td>5</td>\n",
              "      <td>UNIVERSIDADE FEDERAL DO PIAUÍ</td>\n",
              "      <td>UFPI</td>\n",
              "      <td>Universidade</td>\n",
              "      <td>Pessoa Jurídica de Direito Público - Federal</td>\n",
              "      <td>484</td>\n",
              "      <td>12</td>\n",
              "      <td>MEDICINA</td>\n",
              "      <td>Educação Presencial</td>\n",
              "      <td>2211001</td>\n",
              "      <td>TERESINA</td>\n",
              "      <td>PI</td>\n",
              "      <td>45</td>\n",
              "      <td>45</td>\n",
              "      <td>63.433334</td>\n",
              "      <td>3.533455</td>\n",
              "      <td>72.671112</td>\n",
              "      <td>3.565352</td>\n",
              "      <td>3.557378</td>\n",
              "      <td>4</td>\n",
              "    </tr>\n",
              "  </tbody>\n",
              "</table>\n",
              "</div>"
            ],
            "text/plain": [
              "     Ano  Código da IES  ... Conceito Enade (Contínuo) Conceito Enade (Faixa)\n",
              "2   2016              1  ...                  2.937784                      3\n",
              "8   2016              2  ...                  2.990315                      4\n",
              "13  2016              3  ...                  2.654896                      3\n",
              "17  2016              4  ...                  2.792860                      3\n",
              "21  2016              5  ...                  3.557378                      4\n",
              "\n",
              "[5 rows x 21 columns]"
            ]
          },
          "metadata": {
            "tags": []
          },
          "execution_count": 293
        }
      ]
    },
    {
      "cell_type": "code",
      "metadata": {
        "id": "sR_hx5jcwkLH",
        "outputId": "e20bba16-67fe-4134-8510-2f16db0cc4f6",
        "colab": {
          "base_uri": "https://localhost:8080/"
        }
      },
      "source": [
        "dfMedicina[\"Conceito Enade (Faixa)\"] = pd.to_numeric(dfMedicina['Conceito Enade (Faixa)'], errors='coerce')"
      ],
      "execution_count": 294,
      "outputs": [
        {
          "output_type": "stream",
          "text": [
            "/usr/local/lib/python3.6/dist-packages/ipykernel_launcher.py:1: SettingWithCopyWarning: \n",
            "A value is trying to be set on a copy of a slice from a DataFrame.\n",
            "Try using .loc[row_indexer,col_indexer] = value instead\n",
            "\n",
            "See the caveats in the documentation: https://pandas.pydata.org/pandas-docs/stable/user_guide/indexing.html#returning-a-view-versus-a-copy\n",
            "  \"\"\"Entry point for launching an IPython kernel.\n"
          ],
          "name": "stderr"
        }
      ]
    },
    {
      "cell_type": "code",
      "metadata": {
        "id": "kSNO1hgrvtKM",
        "outputId": "821fd0c9-ce97-48fd-deb0-b84cf6b6b261",
        "colab": {
          "base_uri": "https://localhost:8080/"
        }
      },
      "source": [
        "qtdMedicina = len(dfMedicina)\n",
        "print(\"Quantidade de Universidades com medicina: \", qtdMedicina)\n",
        "\n",
        "MediaConceitoEnade = dfMedicina['Conceito Enade (Faixa)'].mean() \n",
        "print(\"Média geral(Medicina) do conceito ENADE: \", round(MediaConceitoEnade,3))\n",
        "\n",
        "DesvioConceitoEnade = dfMedicina.loc[:,\"Conceito Enade (Faixa)\"].std()\n",
        "print(\"Desvio padrão geral(Medicina) do conceito ENADE: \", round(DesvioConceitoEnade,3))"
      ],
      "execution_count": 295,
      "outputs": [
        {
          "output_type": "stream",
          "text": [
            "Quantidade de Universidades com medicina:  176\n",
            "Média geral(Medicina) do conceito ENADE:  3.119\n",
            "Desvio padrão geral(Medicina) do conceito ENADE:  0.85\n"
          ],
          "name": "stdout"
        }
      ]
    },
    {
      "cell_type": "code",
      "metadata": {
        "id": "lzfMdmz4rO4x",
        "outputId": "b922e2d5-3432-4c83-b947-cd7a3f39be4a",
        "colab": {
          "base_uri": "https://localhost:8080/"
        }
      },
      "source": [
        "#Intervalo de Confiança ao nível de 95%;\n",
        "print(\"Intervalo de Confiança ao nível de 95% para média quando a variância é desconhecida\")\n",
        "inf,sup = t.interval(0.95, qtdMedicina-1, loc=MediaConceitoEnade, scale=DesvioConceitoEnade/np.sqrt(qtdMedicina))\n",
        "print ('Limite inferior 95%:', round(inf,3))\n",
        "print ('Limite superior 95%:', round(sup,3))\n"
      ],
      "execution_count": 296,
      "outputs": [
        {
          "output_type": "stream",
          "text": [
            "Intervalo de Confiança ao nível de 95% para média quando a variância é desconhecida\n",
            "Limite inferior 95%: 2.993\n",
            "Limite superior 95%: 3.246\n"
          ],
          "name": "stdout"
        }
      ]
    },
    {
      "cell_type": "code",
      "metadata": {
        "id": "ufHxaBOMrP02",
        "outputId": "a70f02e8-acdd-42bc-c3d9-54e53f6e208a",
        "colab": {
          "base_uri": "https://localhost:8080/",
          "height": 202
        }
      },
      "source": [
        "# Número de amostras, para ERRO máximo de 10%\n",
        "n = (t.ppf(0.025,qtdMedicina-1)**2)*(st.stdev(x)**2)/(0.01**2)\n",
        "print(\"Tamanho da amostra =\",round(n))"
      ],
      "execution_count": 297,
      "outputs": [
        {
          "output_type": "error",
          "ename": "NameError",
          "evalue": "ignored",
          "traceback": [
            "\u001b[0;31m---------------------------------------------------------------------------\u001b[0m",
            "\u001b[0;31mNameError\u001b[0m                                 Traceback (most recent call last)",
            "\u001b[0;32m<ipython-input-297-557cc0b7f2e0>\u001b[0m in \u001b[0;36m<module>\u001b[0;34m()\u001b[0m\n\u001b[1;32m      1\u001b[0m \u001b[0;31m# Número de amostras, para ERRO máximo de 10%\u001b[0m\u001b[0;34m\u001b[0m\u001b[0;34m\u001b[0m\u001b[0;34m\u001b[0m\u001b[0m\n\u001b[0;32m----> 2\u001b[0;31m \u001b[0mn\u001b[0m \u001b[0;34m=\u001b[0m \u001b[0;34m(\u001b[0m\u001b[0mt\u001b[0m\u001b[0;34m.\u001b[0m\u001b[0mppf\u001b[0m\u001b[0;34m(\u001b[0m\u001b[0;36m0.025\u001b[0m\u001b[0;34m,\u001b[0m\u001b[0mqtdMedicina\u001b[0m\u001b[0;34m-\u001b[0m\u001b[0;36m1\u001b[0m\u001b[0;34m)\u001b[0m\u001b[0;34m**\u001b[0m\u001b[0;36m2\u001b[0m\u001b[0;34m)\u001b[0m\u001b[0;34m*\u001b[0m\u001b[0;34m(\u001b[0m\u001b[0mst\u001b[0m\u001b[0;34m.\u001b[0m\u001b[0mstdev\u001b[0m\u001b[0;34m(\u001b[0m\u001b[0mx\u001b[0m\u001b[0;34m)\u001b[0m\u001b[0;34m**\u001b[0m\u001b[0;36m2\u001b[0m\u001b[0;34m)\u001b[0m\u001b[0;34m/\u001b[0m\u001b[0;34m(\u001b[0m\u001b[0;36m0.01\u001b[0m\u001b[0;34m**\u001b[0m\u001b[0;36m2\u001b[0m\u001b[0;34m)\u001b[0m\u001b[0;34m\u001b[0m\u001b[0;34m\u001b[0m\u001b[0m\n\u001b[0m\u001b[1;32m      3\u001b[0m \u001b[0mprint\u001b[0m\u001b[0;34m(\u001b[0m\u001b[0;34m\"Tamanho da amostra =\"\u001b[0m\u001b[0;34m,\u001b[0m\u001b[0mround\u001b[0m\u001b[0;34m(\u001b[0m\u001b[0mn\u001b[0m\u001b[0;34m)\u001b[0m\u001b[0;34m)\u001b[0m\u001b[0;34m\u001b[0m\u001b[0;34m\u001b[0m\u001b[0m\n",
            "\u001b[0;31mNameError\u001b[0m: name 'x' is not defined"
          ]
        }
      ]
    },
    {
      "cell_type": "code",
      "metadata": {
        "id": "zxSgvAeH9vTx"
      },
      "source": [
        "import numpy as np\n",
        "import scipy.stats\n",
        "\n",
        "def mean_confidence_interval(data, confidence=0.95):\n",
        "    a = 1.0 * np.array(data)\n",
        "    n = len(a)\n",
        "    m, se = np.mean(a), scipy.stats.sem(a)\n",
        "    h = se * scipy.stats.t.ppf((1 + confidence) / 2., n-1)\n",
        "    return m, m-h, m+h"
      ],
      "execution_count": null,
      "outputs": []
    },
    {
      "cell_type": "code",
      "metadata": {
        "id": "0XmRx-ODDFxB"
      },
      "source": [
        "dfMedicina.iloc[:,20]"
      ],
      "execution_count": null,
      "outputs": []
    },
    {
      "cell_type": "code",
      "metadata": {
        "id": "CiVQ-d1V_gDd"
      },
      "source": [
        "mean_confidence_interval(dfMedicina.iloc[:100,20])"
      ],
      "execution_count": null,
      "outputs": []
    }
  ]
}