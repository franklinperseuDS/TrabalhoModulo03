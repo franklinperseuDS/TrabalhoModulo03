{
  "nbformat": 4,
  "nbformat_minor": 0,
  "metadata": {
    "colab": {
      "name": "trabalhoEstatistica.ipynb",
      "provenance": [],
      "collapsed_sections": [
        "DpUcO7lWA2p3",
        "KXs-zhgDIezV",
        "KXo5yBP8OTeB",
        "93l3jsgiQVTb",
        "E3AlzWX3Sxsc",
        "z-Uv2f0nRRqq"
      ],
      "include_colab_link": true
    },
    "kernelspec": {
      "name": "python3",
      "display_name": "Python 3"
    }
  },
  "cells": [
    {
      "cell_type": "markdown",
      "metadata": {
        "id": "view-in-github",
        "colab_type": "text"
      },
      "source": [
        "<a href=\"https://colab.research.google.com/github/franklinperseuDS/TrabalhoModulo03/blob/main/trabalhoEstatistica.ipynb\" target=\"_parent\"><img src=\"https://colab.research.google.com/assets/colab-badge.svg\" alt=\"Open In Colab\"/></a>"
      ]
    },
    {
      "cell_type": "code",
      "metadata": {
        "id": "iqydn_S4pqsc",
        "outputId": "237bbd36-3f7b-4f9d-bf4a-b4cbe81c3e90",
        "colab": {
          "base_uri": "https://localhost:8080/"
        }
      },
      "source": [
        "# Pacotes necessários\n",
        "import pandas as pd\n",
        "import numpy as np\n",
        "import statistics as st\n",
        "import seaborn as se\n",
        "import statsmodels.stats.proportion as smp\n",
        "from scipy import stats\n",
        "from scipy.stats import t\n",
        "import matplotlib.pyplot as plt"
      ],
      "execution_count": 1,
      "outputs": [
        {
          "output_type": "stream",
          "text": [
            "/usr/local/lib/python3.6/dist-packages/statsmodels/tools/_testing.py:19: FutureWarning: pandas.util.testing is deprecated. Use the functions in the public API at pandas.testing instead.\n",
            "  import pandas.util.testing as tm\n"
          ],
          "name": "stderr"
        }
      ]
    },
    {
      "cell_type": "code",
      "metadata": {
        "id": "2A0nZXWizHAG",
        "outputId": "5173a607-ae41-4101-a49d-94952cba7bb3",
        "colab": {
          "base_uri": "https://localhost:8080/"
        }
      },
      "source": [
        "soma = 0\n",
        "\n",
        "for impa in range(10):\n",
        "    impa \n",
        "print(soma)\n"
      ],
      "execution_count": 2,
      "outputs": [
        {
          "output_type": "stream",
          "text": [
            "0\n"
          ],
          "name": "stdout"
        }
      ]
    },
    {
      "cell_type": "code",
      "metadata": {
        "id": "qRwqAsjxyHqk",
        "outputId": "2ca2d6fe-d160-428a-f528-d8363c0152f4",
        "colab": {
          "base_uri": "https://localhost:8080/",
          "height": 282
        }
      },
      "source": [
        "plt.plot([0,1,2],[0,1,4],'rd-')"
      ],
      "execution_count": 3,
      "outputs": [
        {
          "output_type": "execute_result",
          "data": {
            "text/plain": [
              "[<matplotlib.lines.Line2D at 0x7f5621d372e8>]"
            ]
          },
          "metadata": {
            "tags": []
          },
          "execution_count": 3
        },
        {
          "output_type": "display_data",
          "data": {
            "image/png": "[encoded data removed]",
            "text/plain": [
              "<Figure size 432x288 with 1 Axes>"
            ]
          },
          "metadata": {
            "tags": [],
            "needs_background": "light"
          }
        }
      ]
    },
    {
      "cell_type": "code",
      "metadata": {
        "id": "82F7B9BiqH-_",
        "outputId": "7337421d-0d67-4f1c-d50c-84e9fb6f3d1b",
        "colab": {
          "base_uri": "https://localhost:8080/"
        }
      },
      "source": [
        "from google.colab import drive\n",
        "drive.mount('/content/drive')"
      ],
      "execution_count": 4,
      "outputs": [
        {
          "output_type": "stream",
          "text": [
            "Mounted at /content/drive\n"
          ],
          "name": "stdout"
        }
      ]
    },
    {
      "cell_type": "markdown",
      "metadata": {
        "id": "KWmtLulk4xso"
      },
      "source": [
        "#DataFrames"
      ]
    },
    {
      "cell_type": "code",
      "metadata": {
        "id": "EE3KvgF1sd94",
        "outputId": "382bc87d-8384-4d73-fe48-afdbd2a03901",
        "colab": {
          "base_uri": "https://localhost:8080/",
          "height": 35
        }
      },
      "source": [
        "\"\"\"dfMicroDados =  pd.read_csv('/content/drive/Shared drives/Trabalho Estátistica/MICRODADOS_ENADE_2016.csv',sep=';',decimal=',')\n",
        "dfMicroDados.shape\n",
        "\"\"\""
      ],
      "execution_count": 5,
      "outputs": [
        {
          "output_type": "execute_result",
          "data": {
            "application/vnd.google.colaboratory.intrinsic+json": {
              "type": "string"
            },
            "text/plain": [
              "\"dfMicroDados =  pd.read_csv('/content/drive/Shared drives/Trabalho Estátistica/MICRODADOS_ENADE_2016.csv',sep=';',decimal=',')\\ndfMicroDados.shape\\n\""
            ]
          },
          "metadata": {
            "tags": []
          },
          "execution_count": 5
        }
      ]
    },
    {
      "cell_type": "code",
      "metadata": {
        "id": "pgUTDeY226aW"
      },
      "source": [
        "dfConceito = pd.read_excel('/content/drive/Shared drives/Trabalho Estátistica/conceito_enade2016.xlsx')"
      ],
      "execution_count": 6,
      "outputs": []
    },
    {
      "cell_type": "code",
      "metadata": {
        "id": "p6S8HmC9s1Rj",
        "outputId": "6f847599-3518-43ce-f2d1-d5e853c64f5e",
        "colab": {
          "base_uri": "https://localhost:8080/"
        }
      },
      "source": [
        "dfConceito.info()"
      ],
      "execution_count": 7,
      "outputs": [
        {
          "output_type": "stream",
          "text": [
            "<class 'pandas.core.frame.DataFrame'>\n",
            "RangeIndex: 4299 entries, 0 to 4298\n",
            "Data columns (total 21 columns):\n",
            " #   Column                     Non-Null Count  Dtype  \n",
            "---  ------                     --------------  -----  \n",
            " 0   Ano                        4299 non-null   int64  \n",
            " 1   Código da IES              4299 non-null   int64  \n",
            " 2   Nome da IES                4299 non-null   object \n",
            " 3   Sigla da IES               4299 non-null   object \n",
            " 4   Organização Acadêmica      4299 non-null   object \n",
            " 5   Categoria Administrativa   4299 non-null   object \n",
            " 6   Código do Curso            4299 non-null   int64  \n",
            " 7   Código da Área             4299 non-null   int64  \n",
            " 8   Área de Enquadramento      4299 non-null   object \n",
            " 9   Modalidade de Ensino       4299 non-null   object \n",
            " 10  Código do Município        4299 non-null   int64  \n",
            " 11  Município do Curso         4299 non-null   object \n",
            " 12  Sigla da UF                4299 non-null   object \n",
            " 13  Concluintes Inscritos      4299 non-null   int64  \n",
            " 14  Concluintes Participantes  4299 non-null   int64  \n",
            " 15  Nota Bruta - FG            4200 non-null   float64\n",
            " 16  Nota Padronizada - FG      4200 non-null   float64\n",
            " 17  Nota Bruta - CE            4200 non-null   float64\n",
            " 18  Nota Padronizada - CE      4200 non-null   float64\n",
            " 19  Conceito Enade (Contínuo)  4200 non-null   float64\n",
            " 20  Conceito Enade (Faixa)     4299 non-null   object \n",
            "dtypes: float64(5), int64(7), object(9)\n",
            "memory usage: 705.4+ KB\n"
          ],
          "name": "stdout"
        }
      ]
    },
    {
      "cell_type": "markdown",
      "metadata": {
        "id": "OU0beEPAbNSz"
      },
      "source": [
        "## Tratamento do Dataframe 'Conceito' para as seguintes colunas\n",
        " 1. codigo da IES \n",
        " 2. Sigla da IES \n",
        " 3. Organização Acadêmica \n",
        " 4. 'Município do Curso' \n",
        " 5. 'Sigla da UF' \n",
        " 6. Concluintes Inscritos \n",
        " 7. 'Concluintes Participantes \n",
        " 8. <s> 'Nota Bruta - FG', #* deixar por ultimo</s>\n",
        " 9. 'Nota Padronizada - FG' \n",
        " 10. <s> 'Nota Bruta - CE', #* deixar por ultimo </s>\n",
        " 11. 'Nota Padronizada - CE', \n",
        " 12. 'Conceito Enade (Contínuo)' \n",
        " 13. Conceito Enade (Faixa)\n",
        " 14. Código da Área\n",
        "\n",
        "\n"
      ]
    },
    {
      "cell_type": "code",
      "metadata": {
        "id": "hWLLrJN8aGRB"
      },
      "source": [
        "dfMedicinaC = dfConceito[dfConceito['Área de Enquadramento'] == 'MEDICINA'][['Código da Área','Código da IES','Sigla da IES','Município do Curso', 'Sigla da UF','Concluintes Inscritos', 'Concluintes Participantes','Nota Padronizada - FG','Nota Padronizada - CE','Conceito Enade (Contínuo)','Conceito Enade (Faixa)']]"
      ],
      "execution_count": 8,
      "outputs": []
    },
    {
      "cell_type": "code",
      "metadata": {
        "id": "4NHFjSXXn261"
      },
      "source": [
        "dfMedicinaC['Conceito Enade (Faixa)'] = dfMedicinaC['Conceito Enade (Faixa)'].astype(int)"
      ],
      "execution_count": 9,
      "outputs": []
    },
    {
      "cell_type": "code",
      "metadata": {
        "id": "GLCaOrDkdzgQ"
      },
      "source": [
        "dfMedicinaC = dfMedicinaC.reset_index()"
      ],
      "execution_count": 10,
      "outputs": []
    },
    {
      "cell_type": "markdown",
      "metadata": {
        "id": "t1PkMRUY5KoG"
      },
      "source": [
        "## Montando uma coluna de regiões\n",
        "1 = Região Norte (NO)\n",
        "norte = ['RO','AC','AM','RR' ,'PA' , 'AP' ,'TO']\n",
        "\n",
        "2 = Região Nordeste (NE)\n",
        "nordeste = ['MA','PI','CE','RN','PB','PE','AL','SE','BA']\n",
        "\n",
        "3 = Região Sudeste (SE)\n",
        "sudeste = ['MG','ES','RJ,'SP']\n",
        "\n",
        "4 = Região Sul (SUL)\n",
        "sul = ['PR','SC','RS']\n",
        "\n",
        "5 = Região Centro-Oeste (CO)\n",
        "CentroOeste = ['MS','MT','GO','DF']"
      ]
    },
    {
      "cell_type": "code",
      "metadata": {
        "id": "5Mm5FpYK7ZiY"
      },
      "source": [
        "norte = ['RO','AC','AM','RR' ,'PA' , 'AP' ,'TO']\n",
        "nordeste = ['MA','PI','CE','RN','PB','PE','AL','SE','BA']\n",
        "sudeste = ['MG','ES','RJ','SP']\n",
        "sul = ['PR','SC','RS']\n",
        "centroOeste = ['MS','MT','GO','DF']"
      ],
      "execution_count": 11,
      "outputs": []
    },
    {
      "cell_type": "code",
      "metadata": {
        "id": "xFqdIFjhKFGW"
      },
      "source": [
        "dfMedicinaC['Regiao'] = np.nan"
      ],
      "execution_count": 12,
      "outputs": []
    },
    {
      "cell_type": "code",
      "metadata": {
        "id": "DGPT1npCJgn-"
      },
      "source": [
        "#dfMedicinaC['Regiao'] = dfMedicinaC['Regiao'].astype(int)"
      ],
      "execution_count": null,
      "outputs": []
    },
    {
      "cell_type": "code",
      "metadata": {
        "id": "s9oSrGsHAEKn"
      },
      "source": [
        "condicao = [np.isin(dfMedicinaC['Sigla da UF'], norte),\n",
        "            np.isin(dfMedicinaC['Sigla da UF'], nordeste),\n",
        "            np.isin(dfMedicinaC['Sigla da UF'], sudeste),\n",
        "            np.isin(dfMedicinaC['Sigla da UF'], sul),\n",
        "           np.isin(dfMedicinaC['Sigla da UF'],  centroOeste)]\n",
        "\n",
        "resultados = [1,2,3,4,5]\n",
        "\n",
        "dfMedicinaC['Regiao'] = np.select(condicao, resultados)"
      ],
      "execution_count": 14,
      "outputs": []
    },
    {
      "cell_type": "code",
      "metadata": {
        "id": "EClgGAjLmYyg",
        "outputId": "6796c82d-b7cb-4a56-ace3-f6f24ebef594",
        "colab": {
          "base_uri": "https://localhost:8080/",
          "height": 238
        }
      },
      "source": [
        "dfMedicinaC.head()"
      ],
      "execution_count": 16,
      "outputs": [
        {
          "output_type": "execute_result",
          "data": {
            "text/html": [
              "<div>\n",
              "<style scoped>\n",
              "    .dataframe tbody tr th:only-of-type {\n",
              "        vertical-align: middle;\n",
              "    }\n",
              "\n",
              "    .dataframe tbody tr th {\n",
              "        vertical-align: top;\n",
              "    }\n",
              "\n",
              "    .dataframe thead th {\n",
              "        text-align: right;\n",
              "    }\n",
              "</style>\n",
              "<table border=\"1\" class=\"dataframe\">\n",
              "  <thead>\n",
              "    <tr style=\"text-align: right;\">\n",
              "      <th></th>\n",
              "      <th>index</th>\n",
              "      <th>Código da Área</th>\n",
              "      <th>Código da IES</th>\n",
              "      <th>Sigla da IES</th>\n",
              "      <th>Município do Curso</th>\n",
              "      <th>Sigla da UF</th>\n",
              "      <th>Concluintes Inscritos</th>\n",
              "      <th>Concluintes Participantes</th>\n",
              "      <th>Nota Padronizada - FG</th>\n",
              "      <th>Nota Padronizada - CE</th>\n",
              "      <th>Conceito Enade (Contínuo)</th>\n",
              "      <th>Conceito Enade (Faixa)</th>\n",
              "      <th>Regiao</th>\n",
              "    </tr>\n",
              "  </thead>\n",
              "  <tbody>\n",
              "    <tr>\n",
              "      <th>0</th>\n",
              "      <td>2</td>\n",
              "      <td>12</td>\n",
              "      <td>1</td>\n",
              "      <td>UFMT</td>\n",
              "      <td>CUIABÁ</td>\n",
              "      <td>MT</td>\n",
              "      <td>35</td>\n",
              "      <td>33</td>\n",
              "      <td>3.473179</td>\n",
              "      <td>2.759319</td>\n",
              "      <td>2.937784</td>\n",
              "      <td>3</td>\n",
              "      <td>5</td>\n",
              "    </tr>\n",
              "    <tr>\n",
              "      <th>1</th>\n",
              "      <td>8</td>\n",
              "      <td>12</td>\n",
              "      <td>2</td>\n",
              "      <td>UNB</td>\n",
              "      <td>BRASÍLIA</td>\n",
              "      <td>DF</td>\n",
              "      <td>89</td>\n",
              "      <td>85</td>\n",
              "      <td>3.436836</td>\n",
              "      <td>2.841475</td>\n",
              "      <td>2.990315</td>\n",
              "      <td>4</td>\n",
              "      <td>5</td>\n",
              "    </tr>\n",
              "    <tr>\n",
              "      <th>2</th>\n",
              "      <td>13</td>\n",
              "      <td>12</td>\n",
              "      <td>3</td>\n",
              "      <td>UFS</td>\n",
              "      <td>ARACAJU</td>\n",
              "      <td>SE</td>\n",
              "      <td>53</td>\n",
              "      <td>53</td>\n",
              "      <td>2.643099</td>\n",
              "      <td>2.658829</td>\n",
              "      <td>2.654896</td>\n",
              "      <td>3</td>\n",
              "      <td>2</td>\n",
              "    </tr>\n",
              "    <tr>\n",
              "      <th>3</th>\n",
              "      <td>17</td>\n",
              "      <td>12</td>\n",
              "      <td>4</td>\n",
              "      <td>UFAM</td>\n",
              "      <td>MANAUS</td>\n",
              "      <td>AM</td>\n",
              "      <td>36</td>\n",
              "      <td>35</td>\n",
              "      <td>4.273778</td>\n",
              "      <td>2.299221</td>\n",
              "      <td>2.792860</td>\n",
              "      <td>3</td>\n",
              "      <td>1</td>\n",
              "    </tr>\n",
              "    <tr>\n",
              "      <th>4</th>\n",
              "      <td>21</td>\n",
              "      <td>12</td>\n",
              "      <td>5</td>\n",
              "      <td>UFPI</td>\n",
              "      <td>TERESINA</td>\n",
              "      <td>PI</td>\n",
              "      <td>45</td>\n",
              "      <td>45</td>\n",
              "      <td>3.533455</td>\n",
              "      <td>3.565352</td>\n",
              "      <td>3.557378</td>\n",
              "      <td>4</td>\n",
              "      <td>2</td>\n",
              "    </tr>\n",
              "  </tbody>\n",
              "</table>\n",
              "</div>"
            ],
            "text/plain": [
              "   index  Código da Área  ...  Conceito Enade (Faixa) Regiao\n",
              "0      2              12  ...                       3      5\n",
              "1      8              12  ...                       4      5\n",
              "2     13              12  ...                       3      2\n",
              "3     17              12  ...                       3      1\n",
              "4     21              12  ...                       4      2\n",
              "\n",
              "[5 rows x 13 columns]"
            ]
          },
          "metadata": {
            "tags": []
          },
          "execution_count": 16
        }
      ]
    },
    {
      "cell_type": "code",
      "metadata": {
        "id": "XKJ1-nqsjOmc",
        "outputId": "1aa10974-a1b2-46b8-f749-83da2e674a31",
        "colab": {
          "base_uri": "https://localhost:8080/"
        }
      },
      "source": [
        "#Celula para verificar colunas\n"
      ],
      "execution_count": 133,
      "outputs": [
        {
          "output_type": "stream",
          "text": [
            "Número de inscritos por região:\n",
            "1. Norte = 16\n",
            "2. Norte = 39\n",
            "3. Norte = 78\n",
            "4. Norte = 31\n",
            "5. Norte = 12\n"
          ],
          "name": "stdout"
        }
      ]
    },
    {
      "cell_type": "markdown",
      "metadata": {
        "id": "sO_24gA_9gfb"
      },
      "source": [
        "#ITEM A\n"
      ]
    },
    {
      "cell_type": "markdown",
      "metadata": {
        "id": "1PDhVSkpeidB"
      },
      "source": [
        "##Notas Gerais\n"
      ]
    },
    {
      "cell_type": "code",
      "metadata": {
        "id": "BY-ESSUclWtS",
        "outputId": "47bff4f6-2796-4eb8-eb50-f2e02b5ab52e",
        "colab": {
          "base_uri": "https://localhost:8080/",
          "height": 366
        }
      },
      "source": [
        "se.boxplot(dfMedicinaC['Nota Padronizada - CE']).set_title('Gráfico Box-plot do conceito ENADE Nota Pardonizada CE')"
      ],
      "execution_count": 17,
      "outputs": [
        {
          "output_type": "stream",
          "text": [
            "/usr/local/lib/python3.6/dist-packages/seaborn/_decorators.py:43: FutureWarning: Pass the following variable as a keyword arg: x. From version 0.12, the only valid positional argument will be `data`, and passing other arguments without an explicit keyword will result in an error or misinterpretation.\n",
            "  FutureWarning\n"
          ],
          "name": "stderr"
        },
        {
          "output_type": "execute_result",
          "data": {
            "text/plain": [
              "Text(0.5, 1.0, 'Gráfico Box-plot do conceito ENADE Nota Pardonizada CE')"
            ]
          },
          "metadata": {
            "tags": []
          },
          "execution_count": 17
        },
        {
          "output_type": "display_data",
          "data": {
            "image/png": "[encoded data removed]",
            "text/plain": [
              "<Figure size 432x288 with 1 Axes>"
            ]
          },
          "metadata": {
            "tags": [],
            "needs_background": "light"
          }
        }
      ]
    },
    {
      "cell_type": "code",
      "metadata": {
        "id": "eoCe2cQAj3d1",
        "outputId": "b1bfb79a-4e3c-4b59-9ccc-fdaac5a8eeff",
        "colab": {
          "base_uri": "https://localhost:8080/",
          "height": 366
        }
      },
      "source": [
        "se.boxplot(dfMedicinaC['Nota Padronizada - FG']).set_title('Gráfico Box-plot do conceito ENADE Nota Pardonizada FG')"
      ],
      "execution_count": 18,
      "outputs": [
        {
          "output_type": "stream",
          "text": [
            "/usr/local/lib/python3.6/dist-packages/seaborn/_decorators.py:43: FutureWarning: Pass the following variable as a keyword arg: x. From version 0.12, the only valid positional argument will be `data`, and passing other arguments without an explicit keyword will result in an error or misinterpretation.\n",
            "  FutureWarning\n"
          ],
          "name": "stderr"
        },
        {
          "output_type": "execute_result",
          "data": {
            "text/plain": [
              "Text(0.5, 1.0, 'Gráfico Box-plot do conceito ENADE Nota Pardonizada FG')"
            ]
          },
          "metadata": {
            "tags": []
          },
          "execution_count": 18
        },
        {
          "output_type": "display_data",
          "data": {
            "image/png": "[encoded data removed]",
            "text/plain": [
              "<Figure size 432x288 with 1 Axes>"
            ]
          },
          "metadata": {
            "tags": [],
            "needs_background": "light"
          }
        }
      ]
    },
    {
      "cell_type": "code",
      "metadata": {
        "id": "8VOGbErUmBAs",
        "outputId": "8650b336-0ef2-422f-bfee-7339baccec4d",
        "colab": {
          "base_uri": "https://localhost:8080/"
        }
      },
      "source": [
        "dfMedicinaC['Conceito Enade (Faixa)'][0]"
      ],
      "execution_count": 19,
      "outputs": [
        {
          "output_type": "execute_result",
          "data": {
            "text/plain": [
              "3"
            ]
          },
          "metadata": {
            "tags": []
          },
          "execution_count": 19
        }
      ]
    },
    {
      "cell_type": "code",
      "metadata": {
        "id": "vzXNF3Dflpv2",
        "outputId": "0ff4603c-c3b3-4dbf-9ca4-5927d64eab6a",
        "colab": {
          "base_uri": "https://localhost:8080/",
          "height": 502
        }
      },
      "source": [
        "#Conceito Enade (Faixa)\n",
        "se.boxplot(dfMedicinaC['Conceito Enade (Faixa)']).set_title('Conceito ENADE Faixa')\n",
        "dfMedicinaC['Conceito Enade (Faixa)'].describe()"
      ],
      "execution_count": 20,
      "outputs": [
        {
          "output_type": "stream",
          "text": [
            "/usr/local/lib/python3.6/dist-packages/seaborn/_decorators.py:43: FutureWarning: Pass the following variable as a keyword arg: x. From version 0.12, the only valid positional argument will be `data`, and passing other arguments without an explicit keyword will result in an error or misinterpretation.\n",
            "  FutureWarning\n"
          ],
          "name": "stderr"
        },
        {
          "output_type": "execute_result",
          "data": {
            "text/plain": [
              "count    176.000000\n",
              "mean       3.119318\n",
              "std        0.850191\n",
              "min        1.000000\n",
              "25%        3.000000\n",
              "50%        3.000000\n",
              "75%        4.000000\n",
              "max        5.000000\n",
              "Name: Conceito Enade (Faixa), dtype: float64"
            ]
          },
          "metadata": {
            "tags": []
          },
          "execution_count": 20
        },
        {
          "output_type": "display_data",
          "data": {
            "image/png": "[encoded data removed]",
            "text/plain": [
              "<Figure size 432x288 with 1 Axes>"
            ]
          },
          "metadata": {
            "tags": [],
            "needs_background": "light"
          }
        }
      ]
    },
    {
      "cell_type": "code",
      "metadata": {
        "id": "CsLKaaxhszbI",
        "outputId": "ff51ad54-2475-4b0e-8924-34688b45cc97",
        "colab": {
          "base_uri": "https://localhost:8080/",
          "height": 366
        }
      },
      "source": [
        "se.boxplot(dfMedicinaC['Conceito Enade (Contínuo)']).set_title('Gráfico Box-plot do conceito ENADE contínuo de Medicina')"
      ],
      "execution_count": 21,
      "outputs": [
        {
          "output_type": "stream",
          "text": [
            "/usr/local/lib/python3.6/dist-packages/seaborn/_decorators.py:43: FutureWarning: Pass the following variable as a keyword arg: x. From version 0.12, the only valid positional argument will be `data`, and passing other arguments without an explicit keyword will result in an error or misinterpretation.\n",
            "  FutureWarning\n"
          ],
          "name": "stderr"
        },
        {
          "output_type": "execute_result",
          "data": {
            "text/plain": [
              "Text(0.5, 1.0, 'Gráfico Box-plot do conceito ENADE contínuo de Medicina')"
            ]
          },
          "metadata": {
            "tags": []
          },
          "execution_count": 21
        },
        {
          "output_type": "display_data",
          "data": {
            "image/png": "[encoded data removed]",
            "text/plain": [
              "<Figure size 432x288 with 1 Axes>"
            ]
          },
          "metadata": {
            "tags": [],
            "needs_background": "light"
          }
        }
      ]
    },
    {
      "cell_type": "markdown",
      "metadata": {
        "id": "sl7NFLvuesFE"
      },
      "source": [
        "## Gráficos por Região\n",
        "\n",
        "\n",
        "\n",
        "CO_REGIAO_CURSO\n",
        "1. = Região Norte (NO)\n",
        "2. = Região Nordeste (NE)\n",
        "3. = Região Centro-Oeste (CO)\n",
        "4. = Região Sul (SUL)\n",
        "5. =  Região Sudeste (SE)"
      ]
    },
    {
      "cell_type": "code",
      "metadata": {
        "id": "fIfmfDDkl8Hj",
        "outputId": "762cfd33-34f5-4515-86a6-476ab89c50c1",
        "colab": {
          "base_uri": "https://localhost:8080/"
        }
      },
      "source": [
        "contagemNorte = dfMedicinaC['Município do Curso'].loc[dfMedicinaC['Regiao'] == 1].count()\n",
        "contagemNordeste = dfMedicinaC['Município do Curso'].loc[dfMedicinaC['Regiao'] == 2].count()\n",
        "contagemSudeste = dfMedicinaC['Município do Curso'].loc[dfMedicinaC['Regiao'] == 3].count()\n",
        "contagemSul = dfMedicinaC['Município do Curso'].loc[dfMedicinaC['Regiao'] == 4].count()\n",
        "contagemCentroOeste=dfMedicinaC['Município do Curso'].loc[dfMedicinaC['Regiao'] == 5].count()\n",
        "\n",
        "print ('Número de inscritos por região:')\n",
        "print (f'1. Norte = {contagemNorte}')\n",
        "print (f'2. Nordeste = {contagemNordeste}')\n",
        "print (f'3. Sudeste = {contagemSudeste}')\n",
        "print (f'4. Sul = {contagemSul}')\n",
        "print (f'5. Centro-Oeste = {contagemCentroOeste}')\n",
        "print(f'Total = {contagemNorte + contagemNordeste + contagemSudeste + contagemSul + contagemCentroOeste}')"
      ],
      "execution_count": 136,
      "outputs": [
        {
          "output_type": "stream",
          "text": [
            "Número de inscritos por região:\n",
            "1. Norte = 16\n",
            "2. Nordeste = 39\n",
            "3. Sudeste = 78\n",
            "4. Sul = 31\n",
            "5. Centro-Oeste = 12\n",
            "Total = 176\n"
          ],
          "name": "stdout"
        }
      ]
    },
    {
      "cell_type": "markdown",
      "metadata": {
        "id": "XvRnhtA2gcBg"
      },
      "source": [
        "###Boxsplot - Nota Padronizada FG"
      ]
    },
    {
      "cell_type": "code",
      "metadata": {
        "id": "Y9Z1BNKce1PT",
        "outputId": "7b96b206-3f12-46cd-dd0b-709a7a45b316",
        "colab": {
          "base_uri": "https://localhost:8080/",
          "height": 366
        }
      },
      "source": [
        "se.boxplot(dfMedicinaC.where(dfMedicinaC['Regiao'] == 1)['Nota Padronizada - FG']).set_title(\"Nota Padronizda FG - Região Norte\")"
      ],
      "execution_count": 106,
      "outputs": [
        {
          "output_type": "stream",
          "text": [
            "/usr/local/lib/python3.6/dist-packages/seaborn/_decorators.py:43: FutureWarning: Pass the following variable as a keyword arg: x. From version 0.12, the only valid positional argument will be `data`, and passing other arguments without an explicit keyword will result in an error or misinterpretation.\n",
            "  FutureWarning\n"
          ],
          "name": "stderr"
        },
        {
          "output_type": "execute_result",
          "data": {
            "text/plain": [
              "Text(0.5, 1.0, 'Nota Padronizda FG - Região Norte')"
            ]
          },
          "metadata": {
            "tags": []
          },
          "execution_count": 106
        },
        {
          "output_type": "display_data",
          "data": {
            "image/png": "[encoded data removed]",
            "text/plain": [
              "<Figure size 432x288 with 1 Axes>"
            ]
          },
          "metadata": {
            "tags": [],
            "needs_background": "light"
          }
        }
      ]
    },
    {
      "cell_type": "code",
      "metadata": {
        "id": "rF4aQds7e0nN",
        "outputId": "740749a3-d7e5-4208-9007-c9ed6a9c0da0",
        "colab": {
          "base_uri": "https://localhost:8080/",
          "height": 366
        }
      },
      "source": [
        "se.boxplot(dfMedicinaC.where(dfMedicinaC['Regiao'] == 2)['Nota Padronizada - FG']).set_title(\"Nota Padronizda FG - Região Nordeste\")"
      ],
      "execution_count": 107,
      "outputs": [
        {
          "output_type": "stream",
          "text": [
            "/usr/local/lib/python3.6/dist-packages/seaborn/_decorators.py:43: FutureWarning: Pass the following variable as a keyword arg: x. From version 0.12, the only valid positional argument will be `data`, and passing other arguments without an explicit keyword will result in an error or misinterpretation.\n",
            "  FutureWarning\n"
          ],
          "name": "stderr"
        },
        {
          "output_type": "execute_result",
          "data": {
            "text/plain": [
              "Text(0.5, 1.0, 'Nota Padronizda FG - Região Nordeste')"
            ]
          },
          "metadata": {
            "tags": []
          },
          "execution_count": 107
        },
        {
          "output_type": "display_data",
          "data": {
            "image/png": "[encoded data removed]",
            "text/plain": [
              "<Figure size 432x288 with 1 Axes>"
            ]
          },
          "metadata": {
            "tags": [],
            "needs_background": "light"
          }
        }
      ]
    },
    {
      "cell_type": "code",
      "metadata": {
        "id": "33ntVzIOe0CG",
        "outputId": "4af6e81e-09b2-40e0-f4bf-e47a36e84f7a",
        "colab": {
          "base_uri": "https://localhost:8080/",
          "height": 366
        }
      },
      "source": [
        "se.boxplot(dfMedicinaC.where(dfMedicinaC['Regiao'] == 3)['Nota Padronizada - FG']).set_title(\"Nota Padronizda FG -  Região Centro-Oeste\")"
      ],
      "execution_count": 108,
      "outputs": [
        {
          "output_type": "stream",
          "text": [
            "/usr/local/lib/python3.6/dist-packages/seaborn/_decorators.py:43: FutureWarning: Pass the following variable as a keyword arg: x. From version 0.12, the only valid positional argument will be `data`, and passing other arguments without an explicit keyword will result in an error or misinterpretation.\n",
            "  FutureWarning\n"
          ],
          "name": "stderr"
        },
        {
          "output_type": "execute_result",
          "data": {
            "text/plain": [
              "Text(0.5, 1.0, 'Nota Padronizda FG -  Região Centro-Oeste')"
            ]
          },
          "metadata": {
            "tags": []
          },
          "execution_count": 108
        },
        {
          "output_type": "display_data",
          "data": {
            "image/png": "[encoded data removed]",
            "text/plain": [
              "<Figure size 432x288 with 1 Axes>"
            ]
          },
          "metadata": {
            "tags": [],
            "needs_background": "light"
          }
        }
      ]
    },
    {
      "cell_type": "code",
      "metadata": {
        "id": "tRBMJmM5eznf",
        "outputId": "4644cc58-a43e-46f7-cbdf-ff95d2bf4cdb",
        "colab": {
          "base_uri": "https://localhost:8080/",
          "height": 366
        }
      },
      "source": [
        "se.boxplot(dfMedicinaC.where(dfMedicinaC['Regiao'] == 4)['Nota Padronizada - FG']).set_title(\"Nota Padronizda FG - Região Sul\")"
      ],
      "execution_count": 109,
      "outputs": [
        {
          "output_type": "stream",
          "text": [
            "/usr/local/lib/python3.6/dist-packages/seaborn/_decorators.py:43: FutureWarning: Pass the following variable as a keyword arg: x. From version 0.12, the only valid positional argument will be `data`, and passing other arguments without an explicit keyword will result in an error or misinterpretation.\n",
            "  FutureWarning\n"
          ],
          "name": "stderr"
        },
        {
          "output_type": "execute_result",
          "data": {
            "text/plain": [
              "Text(0.5, 1.0, 'Nota Padronizda FG - Região Sul')"
            ]
          },
          "metadata": {
            "tags": []
          },
          "execution_count": 109
        },
        {
          "output_type": "display_data",
          "data": {
            "image/png": "[encoded data removed]",
            "text/plain": [
              "<Figure size 432x288 with 1 Axes>"
            ]
          },
          "metadata": {
            "tags": [],
            "needs_background": "light"
          }
        }
      ]
    },
    {
      "cell_type": "code",
      "metadata": {
        "id": "6F_gCvA2wQeN",
        "outputId": "43282790-960f-4c8c-bf60-bf079b27cb74",
        "colab": {
          "base_uri": "https://localhost:8080/",
          "height": 366
        }
      },
      "source": [
        "se.boxplot(dfMedicinaC.where(dfMedicinaC['Regiao'] == 5)['Nota Padronizada - FG']).set_title(\"Nota Padronizda FG - Região Sudeste\")"
      ],
      "execution_count": 110,
      "outputs": [
        {
          "output_type": "stream",
          "text": [
            "/usr/local/lib/python3.6/dist-packages/seaborn/_decorators.py:43: FutureWarning: Pass the following variable as a keyword arg: x. From version 0.12, the only valid positional argument will be `data`, and passing other arguments without an explicit keyword will result in an error or misinterpretation.\n",
            "  FutureWarning\n"
          ],
          "name": "stderr"
        },
        {
          "output_type": "execute_result",
          "data": {
            "text/plain": [
              "Text(0.5, 1.0, 'Nota Padronizda FG - Região Sudeste')"
            ]
          },
          "metadata": {
            "tags": []
          },
          "execution_count": 110
        },
        {
          "output_type": "display_data",
          "data": {
            "image/png": "[encoded data removed]",
            "text/plain": [
              "<Figure size 432x288 with 1 Axes>"
            ]
          },
          "metadata": {
            "tags": [],
            "needs_background": "light"
          }
        }
      ]
    },
    {
      "cell_type": "markdown",
      "metadata": {
        "id": "QtRH-Rn1hHAo"
      },
      "source": [
        "##Histograma - Nota Padronizada - FG"
      ]
    },
    {
      "cell_type": "code",
      "metadata": {
        "id": "2RsskVZBhNT-",
        "outputId": "15403909-13a5-48fb-893e-8e2c7e29996a",
        "colab": {
          "base_uri": "https://localhost:8080/",
          "height": 312
        }
      },
      "source": [
        "se.histplot(data= dfMedicinaC.where(dfMedicinaC['Regiao'] == 1), x='Nota Padronizada - FG', stat='frequency').set_title(\"Nota Padronizda FG - Região Norte\")"
      ],
      "execution_count": 112,
      "outputs": [
        {
          "output_type": "execute_result",
          "data": {
            "text/plain": [
              "Text(0.5, 1.0, 'Nota Padronizda FG - Região Sudeste')"
            ]
          },
          "metadata": {
            "tags": []
          },
          "execution_count": 112
        },
        {
          "output_type": "display_data",
          "data": {
            "image/png": "[encoded data removed]",
            "text/plain": [
              "<Figure size 432x288 with 1 Axes>"
            ]
          },
          "metadata": {
            "tags": [],
            "needs_background": "light"
          }
        }
      ]
    },
    {
      "cell_type": "code",
      "metadata": {
        "id": "WwpUvAddhNnw",
        "outputId": "dc1daf8d-dd40-488c-bfd8-637676831481",
        "colab": {
          "base_uri": "https://localhost:8080/",
          "height": 312
        }
      },
      "source": [
        "se.histplot(data= dfMedicinaC.where(dfMedicinaC['Regiao'] == 2), x='Nota Padronizada - FG', stat='frequency').set_title(\"Nota Padronizda FG - Região Nordeste\")"
      ],
      "execution_count": 113,
      "outputs": [
        {
          "output_type": "execute_result",
          "data": {
            "text/plain": [
              "Text(0.5, 1.0, 'Nota Padronizda FG - Região Nordeste')"
            ]
          },
          "metadata": {
            "tags": []
          },
          "execution_count": 113
        },
        {
          "output_type": "display_data",
          "data": {
            "image/png": "[encoded data removed]",
            "text/plain": [
              "<Figure size 432x288 with 1 Axes>"
            ]
          },
          "metadata": {
            "tags": [],
            "needs_background": "light"
          }
        }
      ]
    },
    {
      "cell_type": "code",
      "metadata": {
        "id": "afnzzTGFhN8L",
        "outputId": "906adc33-5d37-42c1-89f7-b81229445f68",
        "colab": {
          "base_uri": "https://localhost:8080/",
          "height": 312
        }
      },
      "source": [
        "se.histplot(data= dfMedicinaC.where(dfMedicinaC['Regiao'] == 3), x='Nota Padronizada - FG', stat='frequency').set_title(\"Nota Padronizda FG - Regiao Centro-Oeste\")"
      ],
      "execution_count": 114,
      "outputs": [
        {
          "output_type": "execute_result",
          "data": {
            "text/plain": [
              "Text(0.5, 1.0, 'Nota Padronizda FG - Regiao Centro-Oeste')"
            ]
          },
          "metadata": {
            "tags": []
          },
          "execution_count": 114
        },
        {
          "output_type": "display_data",
          "data": {
            "image/png": "[encoded data removed]",
            "text/plain": [
              "<Figure size 432x288 with 1 Axes>"
            ]
          },
          "metadata": {
            "tags": [],
            "needs_background": "light"
          }
        }
      ]
    },
    {
      "cell_type": "code",
      "metadata": {
        "id": "Yk3eEo2XhOQt",
        "outputId": "c29ecdf9-b9ca-4bc4-981b-ca786cdb1199",
        "colab": {
          "base_uri": "https://localhost:8080/",
          "height": 312
        }
      },
      "source": [
        "se.histplot(data= dfMedicinaC.where(dfMedicinaC['Regiao'] == 4), x='Nota Padronizada - FG', stat='frequency').set_title(\"Nota Padronizda FG - Região Sul\")"
      ],
      "execution_count": 115,
      "outputs": [
        {
          "output_type": "execute_result",
          "data": {
            "text/plain": [
              "Text(0.5, 1.0, 'Nota Padronizda FG - Região Sul')"
            ]
          },
          "metadata": {
            "tags": []
          },
          "execution_count": 115
        },
        {
          "output_type": "display_data",
          "data": {
            "image/png": "[encoded data removed]",
            "text/plain": [
              "<Figure size 432x288 with 1 Axes>"
            ]
          },
          "metadata": {
            "tags": [],
            "needs_background": "light"
          }
        }
      ]
    },
    {
      "cell_type": "code",
      "metadata": {
        "id": "E3XpduaAhOg1",
        "outputId": "09581974-4904-4a58-81b9-782dbfb9e4c9",
        "colab": {
          "base_uri": "https://localhost:8080/",
          "height": 312
        }
      },
      "source": [
        "se.histplot(data= dfMedicinaC.where(dfMedicinaC['Regiao'] == 5), x='Nota Padronizada - FG', stat='frequency').set_title(\"Nota Padronizda FG - Região Sudeste\")"
      ],
      "execution_count": 116,
      "outputs": [
        {
          "output_type": "execute_result",
          "data": {
            "text/plain": [
              "Text(0.5, 1.0, 'Nota Padronizda FG - Região Sudeste')"
            ]
          },
          "metadata": {
            "tags": []
          },
          "execution_count": 116
        },
        {
          "output_type": "display_data",
          "data": {
            "image/png": "[encoded data removed]",
            "text/plain": [
              "<Figure size 432x288 with 1 Axes>"
            ]
          },
          "metadata": {
            "tags": [],
            "needs_background": "light"
          }
        }
      ]
    },
    {
      "cell_type": "markdown",
      "metadata": {
        "id": "x24a1XvjyqkO"
      },
      "source": [
        "# **ITEM B**\n"
      ]
    },
    {
      "cell_type": "code",
      "metadata": {
        "id": "Y_rakocvy9HR",
        "outputId": "9e63c995-bba1-4854-c8c4-7b199e900a62",
        "colab": {
          "base_uri": "https://localhost:8080/",
          "height": 238
        }
      },
      "source": [
        "dfMedicinaC.head()"
      ],
      "execution_count": 22,
      "outputs": [
        {
          "output_type": "execute_result",
          "data": {
            "text/html": [
              "<div>\n",
              "<style scoped>\n",
              "    .dataframe tbody tr th:only-of-type {\n",
              "        vertical-align: middle;\n",
              "    }\n",
              "\n",
              "    .dataframe tbody tr th {\n",
              "        vertical-align: top;\n",
              "    }\n",
              "\n",
              "    .dataframe thead th {\n",
              "        text-align: right;\n",
              "    }\n",
              "</style>\n",
              "<table border=\"1\" class=\"dataframe\">\n",
              "  <thead>\n",
              "    <tr style=\"text-align: right;\">\n",
              "      <th></th>\n",
              "      <th>index</th>\n",
              "      <th>Código da Área</th>\n",
              "      <th>Código da IES</th>\n",
              "      <th>Sigla da IES</th>\n",
              "      <th>Município do Curso</th>\n",
              "      <th>Sigla da UF</th>\n",
              "      <th>Concluintes Inscritos</th>\n",
              "      <th>Concluintes Participantes</th>\n",
              "      <th>Nota Padronizada - FG</th>\n",
              "      <th>Nota Padronizada - CE</th>\n",
              "      <th>Conceito Enade (Contínuo)</th>\n",
              "      <th>Conceito Enade (Faixa)</th>\n",
              "      <th>Regiao</th>\n",
              "    </tr>\n",
              "  </thead>\n",
              "  <tbody>\n",
              "    <tr>\n",
              "      <th>0</th>\n",
              "      <td>2</td>\n",
              "      <td>12</td>\n",
              "      <td>1</td>\n",
              "      <td>UFMT</td>\n",
              "      <td>CUIABÁ</td>\n",
              "      <td>MT</td>\n",
              "      <td>35</td>\n",
              "      <td>33</td>\n",
              "      <td>3.473179</td>\n",
              "      <td>2.759319</td>\n",
              "      <td>2.937784</td>\n",
              "      <td>3</td>\n",
              "      <td>5</td>\n",
              "    </tr>\n",
              "    <tr>\n",
              "      <th>1</th>\n",
              "      <td>8</td>\n",
              "      <td>12</td>\n",
              "      <td>2</td>\n",
              "      <td>UNB</td>\n",
              "      <td>BRASÍLIA</td>\n",
              "      <td>DF</td>\n",
              "      <td>89</td>\n",
              "      <td>85</td>\n",
              "      <td>3.436836</td>\n",
              "      <td>2.841475</td>\n",
              "      <td>2.990315</td>\n",
              "      <td>4</td>\n",
              "      <td>5</td>\n",
              "    </tr>\n",
              "    <tr>\n",
              "      <th>2</th>\n",
              "      <td>13</td>\n",
              "      <td>12</td>\n",
              "      <td>3</td>\n",
              "      <td>UFS</td>\n",
              "      <td>ARACAJU</td>\n",
              "      <td>SE</td>\n",
              "      <td>53</td>\n",
              "      <td>53</td>\n",
              "      <td>2.643099</td>\n",
              "      <td>2.658829</td>\n",
              "      <td>2.654896</td>\n",
              "      <td>3</td>\n",
              "      <td>2</td>\n",
              "    </tr>\n",
              "    <tr>\n",
              "      <th>3</th>\n",
              "      <td>17</td>\n",
              "      <td>12</td>\n",
              "      <td>4</td>\n",
              "      <td>UFAM</td>\n",
              "      <td>MANAUS</td>\n",
              "      <td>AM</td>\n",
              "      <td>36</td>\n",
              "      <td>35</td>\n",
              "      <td>4.273778</td>\n",
              "      <td>2.299221</td>\n",
              "      <td>2.792860</td>\n",
              "      <td>3</td>\n",
              "      <td>1</td>\n",
              "    </tr>\n",
              "    <tr>\n",
              "      <th>4</th>\n",
              "      <td>21</td>\n",
              "      <td>12</td>\n",
              "      <td>5</td>\n",
              "      <td>UFPI</td>\n",
              "      <td>TERESINA</td>\n",
              "      <td>PI</td>\n",
              "      <td>45</td>\n",
              "      <td>45</td>\n",
              "      <td>3.533455</td>\n",
              "      <td>3.565352</td>\n",
              "      <td>3.557378</td>\n",
              "      <td>4</td>\n",
              "      <td>2</td>\n",
              "    </tr>\n",
              "  </tbody>\n",
              "</table>\n",
              "</div>"
            ],
            "text/plain": [
              "   index  Código da Área  ...  Conceito Enade (Faixa) Regiao\n",
              "0      2              12  ...                       3      5\n",
              "1      8              12  ...                       4      5\n",
              "2     13              12  ...                       3      2\n",
              "3     17              12  ...                       3      1\n",
              "4     21              12  ...                       4      2\n",
              "\n",
              "[5 rows x 13 columns]"
            ]
          },
          "metadata": {
            "tags": []
          },
          "execution_count": 22
        }
      ]
    },
    {
      "cell_type": "code",
      "metadata": {
        "id": "wwstCH814Vjn"
      },
      "source": [
        "# cria variáveis para as colunas\n",
        "conc_inscritos = dfMedicinaC['Concluintes Inscritos']\n",
        "conc_participantes = dfMedicinaC['Concluintes Participantes']\n",
        "nota_fg = dfMedicinaC['Nota Padronizada - FG']\n",
        "nota_ce = dfMedicinaC['Nota Padronizada - CE']\n",
        "conceito_cont = dfMedicinaC['Conceito Enade (Contínuo)']\n",
        "conceito_faixa = dfMedicinaC['Conceito Enade (Faixa)']"
      ],
      "execution_count": 23,
      "outputs": []
    },
    {
      "cell_type": "code",
      "metadata": {
        "id": "P3t_ulaaFeUC"
      },
      "source": [
        "# função para calcular simetria\n",
        "def calc_simetria(media, mediana, moda):\n",
        "  if (media > mediana):\n",
        "    return 'ASSIMÉTRICA POSITIVA'\n",
        "  elif (media < mediana):\n",
        "    return 'ASSIMÉTRICA NEGATIVA'\n",
        "  else:\n",
        "    return 'SIMÉTRICA'"
      ],
      "execution_count": 24,
      "outputs": []
    },
    {
      "cell_type": "markdown",
      "metadata": {
        "id": "Bg9hB4jo8kdN"
      },
      "source": [
        "## **B - Variável 'Concluintes Inscritos'**"
      ]
    },
    {
      "cell_type": "code",
      "metadata": {
        "id": "qPrjWvIy9UK_",
        "outputId": "77270a0f-065c-4310-939d-479fe234c3da",
        "colab": {
          "base_uri": "https://localhost:8080/"
        }
      },
      "source": [
        "# Info\n",
        "conc_inscritos.describe()"
      ],
      "execution_count": 25,
      "outputs": [
        {
          "output_type": "execute_result",
          "data": {
            "text/plain": [
              "count    176.000000\n",
              "mean      90.017045\n",
              "std       48.043370\n",
              "min       20.000000\n",
              "25%       55.750000\n",
              "50%       84.000000\n",
              "75%      108.000000\n",
              "max      308.000000\n",
              "Name: Concluintes Inscritos, dtype: float64"
            ]
          },
          "metadata": {
            "tags": []
          },
          "execution_count": 25
        }
      ]
    },
    {
      "cell_type": "code",
      "metadata": {
        "id": "opWs7PU9-d1I",
        "outputId": "cc6608f4-dcee-4bf7-e233-e35cf1ed8ea3",
        "colab": {
          "base_uri": "https://localhost:8080/"
        }
      },
      "source": [
        "# Criar lista\n",
        "inscritos_array = np.array(conc_inscritos, dtype = float)\n",
        "print (inscritos_array)"
      ],
      "execution_count": 26,
      "outputs": [
        {
          "output_type": "stream",
          "text": [
            "[ 35.  89.  53.  36.  45.  86. 165.  63.  77.  87.  83. 133.  95.  68.\n",
            " 163.  48. 106.  86.  42.  65.  75. 102.  62.  84. 166. 105.  71. 308.\n",
            "  77.  85.  93.  96. 105.  47. 148. 114.  55.  76. 102. 108. 174.  88.\n",
            "  89.  64. 127.  95.  89. 169.  99.  98.  75. 178.  86. 160. 159.  88.\n",
            " 305. 154.  42.  70. 114.  73. 276. 132.  98. 131. 102.  84. 256. 121.\n",
            "  75.  44.  95.  84. 117. 160.  63.  87.  25. 133.  53. 217. 109.  47.\n",
            "  68.  82.  62.  64.  50.  82. 106.  56. 108.  74. 101.  85.  64.  37.\n",
            "  52.  41.  74.  36.  60.  59.  69. 129.  82. 109.  52. 117.  30. 167.\n",
            "  52. 101.  33.  72.  36.  50.  28.  88.  28.  99.  87. 173.  47. 138.\n",
            " 119. 117.  81. 113.  88.  97.  31. 102.  61.  94.  77.  93. 109.  81.\n",
            " 146.  54.  75. 144.  34. 120.  39. 139.  58. 119.  54.  96.  50.  98.\n",
            "  74.  63. 110.  74.  75. 104. 105.  51.  49. 124.  76.  44.  30.  38.\n",
            "  29.  46.  20.  27.  35.  54.  85.  84.]\n"
          ],
          "name": "stdout"
        }
      ]
    },
    {
      "cell_type": "code",
      "metadata": {
        "id": "DWTGVRF28sVo",
        "outputId": "3ea4605c-eaf7-4242-f3a9-03e15470d470",
        "colab": {
          "base_uri": "https://localhost:8080/"
        }
      },
      "source": [
        "# Média\n",
        "ci_media = st.mean(inscritos_array)\n",
        "ci_media"
      ],
      "execution_count": 27,
      "outputs": [
        {
          "output_type": "execute_result",
          "data": {
            "text/plain": [
              "90.01704545454545"
            ]
          },
          "metadata": {
            "tags": []
          },
          "execution_count": 27
        }
      ]
    },
    {
      "cell_type": "code",
      "metadata": {
        "id": "bxgzbLzH_NHs",
        "outputId": "33a8ba4f-4361-4135-c9f4-4214d27a95b7",
        "colab": {
          "base_uri": "https://localhost:8080/"
        }
      },
      "source": [
        "# Mediana\n",
        "ci_mediana = st.median(inscritos_array)\n",
        "ci_mediana"
      ],
      "execution_count": 28,
      "outputs": [
        {
          "output_type": "execute_result",
          "data": {
            "text/plain": [
              "84.0"
            ]
          },
          "metadata": {
            "tags": []
          },
          "execution_count": 28
        }
      ]
    },
    {
      "cell_type": "code",
      "metadata": {
        "id": "2b3igjw-_uOV",
        "outputId": "58e57da6-82e8-44c6-f714-68f63ce80e67",
        "colab": {
          "base_uri": "https://localhost:8080/"
        }
      },
      "source": [
        "# Moda\n",
        "ci_moda = st.mode(inscritos_array) # st.multimode(inscritos_array)\n",
        "ci_moda"
      ],
      "execution_count": 29,
      "outputs": [
        {
          "output_type": "execute_result",
          "data": {
            "text/plain": [
              "75.0"
            ]
          },
          "metadata": {
            "tags": []
          },
          "execution_count": 29
        }
      ]
    },
    {
      "cell_type": "code",
      "metadata": {
        "id": "CrAc8qe-Axyz",
        "outputId": "0b9145c6-a232-4c03-eda3-53641c4c28f9",
        "colab": {
          "base_uri": "https://localhost:8080/"
        }
      },
      "source": [
        "# Desvio-padrão\n",
        "ci_desvio_padrao = np.std(inscritos_array)\n",
        "ci_desvio_padrao"
      ],
      "execution_count": 30,
      "outputs": [
        {
          "output_type": "execute_result",
          "data": {
            "text/plain": [
              "47.906688946493844"
            ]
          },
          "metadata": {
            "tags": []
          },
          "execution_count": 30
        }
      ]
    },
    {
      "cell_type": "code",
      "metadata": {
        "id": "HGe1LK6_BcJa",
        "outputId": "82300c0e-df05-4f11-9954-527cfe7df3f9",
        "colab": {
          "base_uri": "https://localhost:8080/"
        }
      },
      "source": [
        "# Coeficiente de variação\n",
        "#ci_coef_variacao = np.var(inscritos_array)\n",
        "ci_coef_variacao = ci_desvio_padrao/ci_media\n",
        "cv_ci = ci_coef_variacao\n",
        "cv_ci"
      ],
      "execution_count": 31,
      "outputs": [
        {
          "output_type": "execute_result",
          "data": {
            "text/plain": [
              "0.5321957492004619"
            ]
          },
          "metadata": {
            "tags": []
          },
          "execution_count": 31
        }
      ]
    },
    {
      "cell_type": "code",
      "metadata": {
        "id": "FfLL1h2RB2Kk",
        "outputId": "c6d8d284-59b5-4a8e-aeea-1d0c515cb237",
        "colab": {
          "base_uri": "https://localhost:8080/",
          "height": 346
        }
      },
      "source": [
        "# Simetria\n",
        "print(\"A variável é\", calc_simetria(ci_media, ci_mediana, ci_moda))\n",
        "print()\n",
        "se.boxplot(x = dfMedicinaC['Concluintes Inscritos'], ).set_title('Gráfico Box-plot dos concluintes inscritos')"
      ],
      "execution_count": 32,
      "outputs": [
        {
          "output_type": "stream",
          "text": [
            "A variável é ASSIMÉTRICA POSITIVA\n",
            "\n"
          ],
          "name": "stdout"
        },
        {
          "output_type": "execute_result",
          "data": {
            "text/plain": [
              "Text(0.5, 1.0, 'Gráfico Box-plot dos concluintes inscritos')"
            ]
          },
          "metadata": {
            "tags": []
          },
          "execution_count": 32
        },
        {
          "output_type": "display_data",
          "data": {
            "image/png": "[encoded data removed]",
            "text/plain": [
              "<Figure size 432x288 with 1 Axes>"
            ]
          },
          "metadata": {
            "tags": [],
            "needs_background": "light"
          }
        }
      ]
    },
    {
      "cell_type": "markdown",
      "metadata": {
        "id": "oP6B_UguPHXe"
      },
      "source": [
        "## **B - Variável 'Concluintes Participantes'**"
      ]
    },
    {
      "cell_type": "code",
      "metadata": {
        "id": "RMI1gurCPHXg",
        "outputId": "814aa90c-83d9-4a1e-a2bc-7e97e8f8daeb",
        "colab": {
          "base_uri": "https://localhost:8080/"
        }
      },
      "source": [
        "# Info\n",
        "conc_participantes.describe()"
      ],
      "execution_count": 33,
      "outputs": [
        {
          "output_type": "execute_result",
          "data": {
            "text/plain": [
              "count    176.000000\n",
              "mean      88.244318\n",
              "std       47.072740\n",
              "min       18.000000\n",
              "25%       54.750000\n",
              "50%       83.500000\n",
              "75%      106.250000\n",
              "max      303.000000\n",
              "Name: Concluintes Participantes, dtype: float64"
            ]
          },
          "metadata": {
            "tags": []
          },
          "execution_count": 33
        }
      ]
    },
    {
      "cell_type": "code",
      "metadata": {
        "id": "DkIaNF6TPHXs",
        "outputId": "860a3b14-2e47-424a-dcb3-14b901a8de14",
        "colab": {
          "base_uri": "https://localhost:8080/"
        }
      },
      "source": [
        "# Criar lista\n",
        "participantes_array = np.array(conc_participantes, dtype = float)\n",
        "print (participantes_array)"
      ],
      "execution_count": 34,
      "outputs": [
        {
          "output_type": "stream",
          "text": [
            "[ 33.  85.  53.  35.  45.  86. 164.  63.  77.  87.  83. 133.  93.  68.\n",
            " 162.  47. 106.  86.  42.  65.  75. 102.  62.  83. 163. 105.  71. 297.\n",
            "  77.  85.  91.  94. 103.  46. 146. 113.  55.  76. 102. 107. 172.  88.\n",
            "  88.  64. 126.  95.  88. 167.  95.  97.  75. 167.  84. 156. 155.  87.\n",
            " 303. 149.  41.  69. 111.  72. 275. 129.  98. 126. 101.  84. 254. 116.\n",
            "  75.  44.  95.  84. 117. 157.  62.  85.  24. 133.  53. 217. 106.  37.\n",
            "  65.  81.  61.  64.  48.  82. 104.  53. 108.  74.  65.  84.  64.  37.\n",
            "  52.  39.  74.  34.  60.  59.  68. 127.  82. 108.  52. 115.  30. 164.\n",
            "  48.  97.  27.  71.  36.  50.  28.  88.  28.  98.  83. 117.  47. 138.\n",
            " 118. 117.  79. 110.  88.  96.  31. 101.  61.  94.  76.  92. 107.  75.\n",
            " 142.  54.  75. 142.  34. 120.  38. 139.  58. 116.  53.  96.  49.  96.\n",
            "  72.  61. 107.  72.  73. 104. 105.  51.  49. 124.  75.  43.  30.  37.\n",
            "  29.  45.  18.  26.  34.  53.  85.  84.]\n"
          ],
          "name": "stdout"
        }
      ]
    },
    {
      "cell_type": "code",
      "metadata": {
        "id": "-MFh-kbLPHXz",
        "outputId": "c64def1d-6be4-4418-d641-faf42a2ad1bc",
        "colab": {
          "base_uri": "https://localhost:8080/"
        }
      },
      "source": [
        "# Média\n",
        "cp_media = st.mean(participantes_array)\n",
        "cp_media"
      ],
      "execution_count": 35,
      "outputs": [
        {
          "output_type": "execute_result",
          "data": {
            "text/plain": [
              "88.24431818181819"
            ]
          },
          "metadata": {
            "tags": []
          },
          "execution_count": 35
        }
      ]
    },
    {
      "cell_type": "code",
      "metadata": {
        "id": "mGFvfWqKPHX6",
        "outputId": "fcb00cbc-f6b1-4bad-8818-d4863452eb4c",
        "colab": {
          "base_uri": "https://localhost:8080/"
        }
      },
      "source": [
        "# Mediana\n",
        "cp_mediana = st.median(participantes_array)\n",
        "cp_mediana"
      ],
      "execution_count": 36,
      "outputs": [
        {
          "output_type": "execute_result",
          "data": {
            "text/plain": [
              "83.5"
            ]
          },
          "metadata": {
            "tags": []
          },
          "execution_count": 36
        }
      ]
    },
    {
      "cell_type": "code",
      "metadata": {
        "id": "NOfNmGO2PHX_",
        "outputId": "0a750473-3b8b-4000-aa48-dac36e1df45d",
        "colab": {
          "base_uri": "https://localhost:8080/"
        }
      },
      "source": [
        "# Moda\n",
        "cp_moda = st.mode(participantes_array) # st.multimode(inscritos_array)\n",
        "cp_moda"
      ],
      "execution_count": 37,
      "outputs": [
        {
          "output_type": "execute_result",
          "data": {
            "text/plain": [
              "75.0"
            ]
          },
          "metadata": {
            "tags": []
          },
          "execution_count": 37
        }
      ]
    },
    {
      "cell_type": "code",
      "metadata": {
        "id": "Mafpj2-lPHYG",
        "outputId": "7fd2ebef-7f8f-421c-a288-afc5bcc595f8",
        "colab": {
          "base_uri": "https://localhost:8080/"
        }
      },
      "source": [
        "# Desvio-padrão\n",
        "cp_desvio_padrao = np.std(participantes_array)\n",
        "cp_desvio_padrao"
      ],
      "execution_count": 38,
      "outputs": [
        {
          "output_type": "execute_result",
          "data": {
            "text/plain": [
              "46.93881984696711"
            ]
          },
          "metadata": {
            "tags": []
          },
          "execution_count": 38
        }
      ]
    },
    {
      "cell_type": "code",
      "metadata": {
        "id": "e1m4AkJXPHYL",
        "outputId": "d690033b-6227-4735-b6a7-c25aaa6fe707",
        "colab": {
          "base_uri": "https://localhost:8080/"
        }
      },
      "source": [
        "# Coeficiente de variação\n",
        "#cp_coef_variacao = np.var(participantes_array)\n",
        "cp_coef_variacao = cp_desvio_padrao/cp_media\n",
        "cv_cp = cp_coef_variacao\n",
        "cp_coef_variacao\n"
      ],
      "execution_count": 39,
      "outputs": [
        {
          "output_type": "execute_result",
          "data": {
            "text/plain": [
              "0.5319188908033101"
            ]
          },
          "metadata": {
            "tags": []
          },
          "execution_count": 39
        }
      ]
    },
    {
      "cell_type": "code",
      "metadata": {
        "id": "MZn1Z_mfPHYX"
      },
      "source": [
        "# Simetria\n",
        "print(\"A variável é\", calc_simetria(media, mediana, moda))\n",
        "print()\n",
        "se.boxplot(x = dfMedicinaC['Concluintes Participantes'], ).set_title('Gráfico Box-plot dos concluintes participantes')"
      ],
      "execution_count": null,
      "outputs": []
    },
    {
      "cell_type": "markdown",
      "metadata": {
        "id": "-eoyHXfX3UGc"
      },
      "source": [
        "# ITEM C"
      ]
    },
    {
      "cell_type": "markdown",
      "metadata": {
        "id": "DpUcO7lWA2p3"
      },
      "source": [
        "## C - Variável Nota Padronizada - FG"
      ]
    },
    {
      "cell_type": "code",
      "metadata": {
        "id": "AwMjpPMBAvFE"
      },
      "source": [
        "notaFG_array = np.array(nota_fg, dtype = float)\n",
        "print (notaFG_array)"
      ],
      "execution_count": null,
      "outputs": []
    },
    {
      "cell_type": "code",
      "metadata": {
        "id": "q8RYmSkjBuHW",
        "outputId": "d62a6c8c-84c7-4864-c292-f0398fd4e3a6",
        "colab": {
          "base_uri": "https://localhost:8080/"
        }
      },
      "source": [
        "# Média\n",
        "fg_media = st.mean(notaFG_array)\n",
        "fg_media"
      ],
      "execution_count": 42,
      "outputs": [
        {
          "output_type": "execute_result",
          "data": {
            "text/plain": [
              "2.8284516279077665"
            ]
          },
          "metadata": {
            "tags": []
          },
          "execution_count": 42
        }
      ]
    },
    {
      "cell_type": "code",
      "metadata": {
        "id": "6OfzLonrHe2i",
        "outputId": "eb50befd-f84a-487a-f63a-4c2d25d5b8ae",
        "colab": {
          "base_uri": "https://localhost:8080/"
        }
      },
      "source": [
        "# Mediana\n",
        "fg_mediana = st.median(notaFG_array)\n",
        "fg_mediana"
      ],
      "execution_count": 43,
      "outputs": [
        {
          "output_type": "execute_result",
          "data": {
            "text/plain": [
              "2.977254033088684"
            ]
          },
          "metadata": {
            "tags": []
          },
          "execution_count": 43
        }
      ]
    },
    {
      "cell_type": "code",
      "metadata": {
        "id": "UsppKA08He_C",
        "outputId": "3047725c-1b5c-45e7-f6b2-7fc3033be2b8",
        "colab": {
          "base_uri": "https://localhost:8080/",
          "height": 316
        }
      },
      "source": [
        "# Moda\n",
        "fg_moda = st.mode(notaFG_array) # st.multimode(inscritos_array)\n",
        "fg_moda"
      ],
      "execution_count": 44,
      "outputs": [
        {
          "output_type": "error",
          "ename": "StatisticsError",
          "evalue": "ignored",
          "traceback": [
            "\u001b[0;31m---------------------------------------------------------------------------\u001b[0m",
            "\u001b[0;31mStatisticsError\u001b[0m                           Traceback (most recent call last)",
            "\u001b[0;32m<ipython-input-44-190b17486c34>\u001b[0m in \u001b[0;36m<module>\u001b[0;34m()\u001b[0m\n\u001b[1;32m      1\u001b[0m \u001b[0;31m# Moda\u001b[0m\u001b[0;34m\u001b[0m\u001b[0;34m\u001b[0m\u001b[0;34m\u001b[0m\u001b[0m\n\u001b[0;32m----> 2\u001b[0;31m \u001b[0mfg_moda\u001b[0m \u001b[0;34m=\u001b[0m \u001b[0mst\u001b[0m\u001b[0;34m.\u001b[0m\u001b[0mmode\u001b[0m\u001b[0;34m(\u001b[0m\u001b[0mnotaFG_array\u001b[0m\u001b[0;34m)\u001b[0m \u001b[0;31m# st.multimode(inscritos_array)\u001b[0m\u001b[0;34m\u001b[0m\u001b[0;34m\u001b[0m\u001b[0m\n\u001b[0m\u001b[1;32m      3\u001b[0m \u001b[0mfg_moda\u001b[0m\u001b[0;34m\u001b[0m\u001b[0;34m\u001b[0m\u001b[0m\n",
            "\u001b[0;32m/usr/lib/python3.6/statistics.py\u001b[0m in \u001b[0;36mmode\u001b[0;34m(data)\u001b[0m\n\u001b[1;32m    505\u001b[0m     \u001b[0;32melif\u001b[0m \u001b[0mtable\u001b[0m\u001b[0;34m:\u001b[0m\u001b[0;34m\u001b[0m\u001b[0;34m\u001b[0m\u001b[0m\n\u001b[1;32m    506\u001b[0m         raise StatisticsError(\n\u001b[0;32m--> 507\u001b[0;31m                 \u001b[0;34m'no unique mode; found %d equally common values'\u001b[0m \u001b[0;34m%\u001b[0m \u001b[0mlen\u001b[0m\u001b[0;34m(\u001b[0m\u001b[0mtable\u001b[0m\u001b[0;34m)\u001b[0m\u001b[0;34m\u001b[0m\u001b[0;34m\u001b[0m\u001b[0m\n\u001b[0m\u001b[1;32m    508\u001b[0m                 )\n\u001b[1;32m    509\u001b[0m     \u001b[0;32melse\u001b[0m\u001b[0;34m:\u001b[0m\u001b[0;34m\u001b[0m\u001b[0;34m\u001b[0m\u001b[0m\n",
            "\u001b[0;31mStatisticsError\u001b[0m: no unique mode; found 176 equally common values"
          ]
        }
      ]
    },
    {
      "cell_type": "code",
      "metadata": {
        "id": "wkW2yEwvCHqn",
        "outputId": "122c198e-6511-4d5b-bb17-52bc874bdcd5",
        "colab": {
          "base_uri": "https://localhost:8080/"
        }
      },
      "source": [
        "# Desvio Padrao\n",
        "fg_std = np.std(notaFG_array)\n",
        "fg_std"
      ],
      "execution_count": 45,
      "outputs": [
        {
          "output_type": "execute_result",
          "data": {
            "text/plain": [
              "0.9941442094201961"
            ]
          },
          "metadata": {
            "tags": []
          },
          "execution_count": 45
        }
      ]
    },
    {
      "cell_type": "code",
      "metadata": {
        "id": "yRm6oJYiCb7k",
        "outputId": "b0d715bc-fa3a-44a6-a6d0-c84924ab6de1",
        "colab": {
          "base_uri": "https://localhost:8080/"
        }
      },
      "source": [
        "# Coeficiente de variação\n",
        "fg_coef_variacao = fg_std/fg_media\n",
        "cv_fg = fg_coef_variacao\n",
        "fg_coef_variacao"
      ],
      "execution_count": 46,
      "outputs": [
        {
          "output_type": "execute_result",
          "data": {
            "text/plain": [
              "0.35148001104603455"
            ]
          },
          "metadata": {
            "tags": []
          },
          "execution_count": 46
        }
      ]
    },
    {
      "cell_type": "code",
      "metadata": {
        "id": "SLTCfHTDC37t",
        "outputId": "dff414a9-c3ad-49cc-88e0-95a3631a3ae7",
        "colab": {
          "base_uri": "https://localhost:8080/",
          "height": 312
        }
      },
      "source": [
        "# Simetria\n",
        "se.boxplot(x = dfMedicinaC['Nota Padronizada - FG'], ).set_title('Gráfico Box-plot das Notas Padronizadas FG')"
      ],
      "execution_count": 47,
      "outputs": [
        {
          "output_type": "execute_result",
          "data": {
            "text/plain": [
              "Text(0.5, 1.0, 'Gráfico Box-plot das Notas Padronizadas FG')"
            ]
          },
          "metadata": {
            "tags": []
          },
          "execution_count": 47
        },
        {
          "output_type": "display_data",
          "data": {
            "image/png": "[encoded data removed]",
            "text/plain": [
              "<Figure size 432x288 with 1 Axes>"
            ]
          },
          "metadata": {
            "tags": [],
            "needs_background": "light"
          }
        }
      ]
    },
    {
      "cell_type": "markdown",
      "metadata": {
        "id": "KXs-zhgDIezV"
      },
      "source": [
        "## C - Variável Nota Padronizada - CE"
      ]
    },
    {
      "cell_type": "code",
      "metadata": {
        "id": "xNuQd4xVI3EE",
        "outputId": "7ac04743-8ec1-43c1-b441-8348bfde9ab6",
        "colab": {
          "base_uri": "https://localhost:8080/"
        }
      },
      "source": [
        "notaCE_array = np.array(nota_ce, dtype = float)\n",
        "print (notaCE_array)"
      ],
      "execution_count": 48,
      "outputs": [
        {
          "output_type": "stream",
          "text": [
            "[2.75931883 2.84147501 2.65882921 2.2992208  3.56535172 3.06598282\n",
            " 3.64575529 2.48782849 2.9122107  2.61489558 2.25731874 2.19285655\n",
            " 3.40343118 3.98303246 2.37575912 1.56653988 3.72776842 3.24960446\n",
            " 3.445153   1.5776577  3.01746631 2.30222988 3.8787055  2.29439116\n",
            " 2.35483623 3.06815171 2.42506838 1.31799817 2.59503436 2.18053842\n",
            " 0.         3.14622116 3.26919699 3.1085906  2.69319677 3.74065924\n",
            " 1.03544188 2.98248005 2.31987357 2.29803228 1.91092169 1.80988443\n",
            " 2.55274844 3.07897115 2.72834992 2.2818768  1.36236298 3.53015137\n",
            " 3.01909637 3.76366711 2.37961555 1.70188272 3.40506554 3.30038285\n",
            " 2.79772449 2.79062271 3.20746469 3.5118463  2.9398694  3.04506588\n",
            " 2.26474977 2.89522552 2.67018175 3.33646464 2.91098976 3.38724899\n",
            " 3.75545955 2.83117819 3.28210568 2.91980433 3.12661362 3.21600318\n",
            " 3.23848963 2.27733374 2.36713052 2.47661328 3.15174747 3.37127233\n",
            " 2.68235087 2.81722116 3.61512327 1.52673519 1.95940864 2.89413595\n",
            " 0.         0.9593398  2.62363195 2.6870873  2.37755156 2.97857332\n",
            " 1.40813839 2.36927581 2.74882841 1.85381949 2.70961666 1.511307\n",
            " 0.         3.69960928 0.         3.14916229 0.993689   2.80140376\n",
            " 2.62913179 3.25441766 2.19066978 0.9580797  3.48904967 1.82708669\n",
            " 3.38337326 1.93239236 2.06146455 2.01426363 2.19854379 0.18828344\n",
            " 4.00816011 1.99959207 2.77696109 3.0999074  1.61290598 2.46060538\n",
            " 3.04704857 1.83140898 2.82016659 2.108109   0.67098248 1.07281554\n",
            " 1.229316   2.9807806  1.45615435 1.71857703 1.98339522 1.80444217\n",
            " 3.41737175 2.87732649 1.72581315 2.7799685  2.87324095 0.89002061\n",
            " 2.30164957 2.37187457 2.01758122 2.26502156 3.00869465 2.53246045\n",
            " 3.71494532 1.59942877 1.82108855 2.44224405 3.02307248 3.66153145\n",
            " 3.37522912 2.93614721 1.92797327 3.03895617 1.78972626 2.07351995\n",
            " 2.2016325  1.75854707 2.79446435 1.83854103 1.78776777 1.8785665\n",
            " 2.26091099 2.13793659 3.13100028 3.11863923 2.52656341 2.76128531\n",
            " 3.13718367 5.         1.85719025 2.68594742 1.61294651 2.71944237\n",
            " 1.26027966 1.88406849]\n"
          ],
          "name": "stdout"
        }
      ]
    },
    {
      "cell_type": "code",
      "metadata": {
        "id": "adFfnRfBI61-",
        "outputId": "20f0ffed-21db-442c-c3ce-0888b1f852ee",
        "colab": {
          "base_uri": "https://localhost:8080/"
        }
      },
      "source": [
        "# Média\n",
        "ce_media = st.mean(notaCE_array)\n",
        "ce_media"
      ],
      "execution_count": 49,
      "outputs": [
        {
          "output_type": "execute_result",
          "data": {
            "text/plain": [
              "2.4957169226624747"
            ]
          },
          "metadata": {
            "tags": []
          },
          "execution_count": 49
        }
      ]
    },
    {
      "cell_type": "code",
      "metadata": {
        "id": "BM3XMFv1I7Gs",
        "outputId": "70a36f74-b6e0-42b0-c647-67efcf712374",
        "colab": {
          "base_uri": "https://localhost:8080/"
        }
      },
      "source": [
        "# Mediana\n",
        "ce_mediana = st.median(notaCE_array)\n",
        "ce_mediana"
      ],
      "execution_count": 50,
      "outputs": [
        {
          "output_type": "execute_result",
          "data": {
            "text/plain": [
              "2.6263818740844727"
            ]
          },
          "metadata": {
            "tags": []
          },
          "execution_count": 50
        }
      ]
    },
    {
      "cell_type": "code",
      "metadata": {
        "id": "Biqvo6zVI7XC",
        "outputId": "a33301aa-265f-479e-b560-b2a40be8d5d8",
        "colab": {
          "base_uri": "https://localhost:8080/"
        }
      },
      "source": [
        "# Moda\n",
        "ce_moda = st.mode(notaCE_array) # st.multimode(inscritos_array)\n",
        "ce_moda"
      ],
      "execution_count": 51,
      "outputs": [
        {
          "output_type": "execute_result",
          "data": {
            "text/plain": [
              "0.0"
            ]
          },
          "metadata": {
            "tags": []
          },
          "execution_count": 51
        }
      ]
    },
    {
      "cell_type": "code",
      "metadata": {
        "id": "VEC9nt4FI7nx",
        "outputId": "2f10ebe5-27b9-440a-be16-d7d6c8a53176",
        "colab": {
          "base_uri": "https://localhost:8080/"
        }
      },
      "source": [
        "# Desvio Padrao\n",
        "ce_std = np.std(notaCE_array)\n",
        "ce_std"
      ],
      "execution_count": 52,
      "outputs": [
        {
          "output_type": "execute_result",
          "data": {
            "text/plain": [
              "0.8436729646970291"
            ]
          },
          "metadata": {
            "tags": []
          },
          "execution_count": 52
        }
      ]
    },
    {
      "cell_type": "code",
      "metadata": {
        "id": "PdAxziRII72W",
        "outputId": "9309569a-0205-4861-e2c3-3370023ba445",
        "colab": {
          "base_uri": "https://localhost:8080/"
        }
      },
      "source": [
        "# Coeficiente de variação\n",
        "ce_coef_variacao = ce_std/ce_media\n",
        "cv_ce = ce_coef_variacao\n",
        "cv_ce"
      ],
      "execution_count": 53,
      "outputs": [
        {
          "output_type": "execute_result",
          "data": {
            "text/plain": [
              "0.33804834075371976"
            ]
          },
          "metadata": {
            "tags": []
          },
          "execution_count": 53
        }
      ]
    },
    {
      "cell_type": "code",
      "metadata": {
        "id": "waogF23jJa8-",
        "outputId": "9a923bac-4372-4d89-9ea1-48f9542a945b",
        "colab": {
          "base_uri": "https://localhost:8080/",
          "height": 312
        }
      },
      "source": [
        "se.boxplot(x = dfMedicinaC['Nota Padronizada - CE'], ).set_title('Gráfico Box-plot das Notas Padronizadas CE')"
      ],
      "execution_count": 54,
      "outputs": [
        {
          "output_type": "execute_result",
          "data": {
            "text/plain": [
              "Text(0.5, 1.0, 'Gráfico Box-plot das Notas Padronizadas CE')"
            ]
          },
          "metadata": {
            "tags": []
          },
          "execution_count": 54
        },
        {
          "output_type": "display_data",
          "data": {
            "image/png": "[encoded data removed]",
            "text/plain": [
              "<Figure size 432x288 with 1 Axes>"
            ]
          },
          "metadata": {
            "tags": [],
            "needs_background": "light"
          }
        }
      ]
    },
    {
      "cell_type": "markdown",
      "metadata": {
        "id": "KXo5yBP8OTeB"
      },
      "source": [
        "## C - Variável Conceito Enade (Contínuo)"
      ]
    },
    {
      "cell_type": "code",
      "metadata": {
        "id": "KqA_9STZOWcA",
        "outputId": "97e5cda7-d756-4a87-e444-9ea3144532d3",
        "colab": {
          "base_uri": "https://localhost:8080/"
        }
      },
      "source": [
        "CEC_array = np.array(conceito_cont, dtype = float)\n",
        "print (CEC_array)"
      ],
      "execution_count": 55,
      "outputs": [
        {
          "output_type": "stream",
          "text": [
            "[2.93778372e+00 2.99031520e+00 2.65489650e+00 2.79286027e+00\n",
            " 3.55737758e+00 3.20337391e+00 3.66706848e+00 2.60473323e+00\n",
            " 2.96627021e+00 2.91325545e+00 1.98711479e+00 2.23168015e+00\n",
            " 3.22819018e+00 3.77044511e+00 2.37084723e+00 1.58038604e+00\n",
            " 3.71643639e+00 3.20724225e+00 3.83386469e+00 1.85772610e+00\n",
            " 3.09221482e+00 2.25153565e+00 4.02383709e+00 2.40299368e+00\n",
            " 2.20943642e+00 3.25729322e+00 2.58041835e+00 1.56264162e+00\n",
            " 2.83450770e+00 2.50165963e+00 0.00000000e+00 3.28052211e+00\n",
            " 3.39449549e+00 3.21857405e+00 2.82841921e+00 3.76393700e+00\n",
            " 1.19088531e+00 3.24771643e+00 2.15989423e+00 2.04461336e+00\n",
            " 1.90149772e+00 1.94279861e+00 2.47747135e+00 3.08086872e+00\n",
            " 2.74960423e+00 2.26531315e+00 1.83550572e+00 3.49701548e+00\n",
            " 3.12867117e+00 3.80530596e+00 2.83790421e+00 1.92035091e+00\n",
            " 3.37614655e+00 3.21122003e+00 2.68614483e+00 2.73697901e+00\n",
            " 3.52238417e+00 3.70779896e+00 3.27603197e+00 2.99861860e+00\n",
            " 2.54460955e+00 3.05415487e+00 2.85631394e+00 3.53465104e+00\n",
            " 3.17151308e+00 3.38854957e+00 3.64262867e+00 2.88101459e+00\n",
            " 3.20338821e+00 2.90097785e+00 3.08448935e+00 3.40213442e+00\n",
            " 3.41420507e+00 2.44006753e+00 2.66001558e+00 2.74178338e+00\n",
            " 3.37772226e+00 3.37669373e+00 2.45788765e+00 2.72570133e+00\n",
            " 3.59879351e+00 1.42097259e+00 1.82667470e+00 2.61115837e+00\n",
            " 1.52077779e-01 9.52246428e-01 2.62168550e+00 2.63464618e+00\n",
            " 2.37821317e+00 2.79964828e+00 1.33559895e+00 2.46502662e+00\n",
            " 2.66955543e+00 2.14996839e+00 2.70860791e+00 1.88290393e+00\n",
            " 1.61569752e-03 3.59219432e+00 3.23670000e-01 3.30580163e+00\n",
            " 1.23271048e+00 2.62918472e+00 2.89863062e+00 3.42525482e+00\n",
            " 2.15700722e+00 1.07428265e+00 3.34459019e+00 1.75645089e+00\n",
            " 3.45595837e+00 1.97918940e+00 1.68768597e+00 2.17920041e+00\n",
            " 2.35391474e+00 4.37503040e-01 3.98513055e+00 2.18331265e+00\n",
            " 2.74114704e+00 3.32541847e+00 1.60881388e+00 2.71537542e+00\n",
            " 2.90642118e+00 1.78808701e+00 2.77152157e+00 2.36804199e+00\n",
            " 7.50492454e-01 1.26231444e+00 1.50861418e+00 3.13638473e+00\n",
            " 1.38504279e+00 1.48747456e+00 2.33711171e+00 2.03544044e+00\n",
            " 3.52726746e+00 2.94016433e+00 1.79963756e+00 2.92467570e+00\n",
            " 3.16504335e+00 9.19226170e-01 2.51402855e+00 2.52747655e+00\n",
            " 1.94120026e+00 2.15684652e+00 2.73746443e+00 2.63234949e+00\n",
            " 3.51312017e+00 1.30117881e+00 2.02111149e+00 2.42626762e+00\n",
            " 3.11750984e+00 3.49468613e+00 3.46109462e+00 2.97186732e+00\n",
            " 1.78035975e+00 3.06975293e+00 1.98062861e+00 2.48636651e+00\n",
            " 2.22623491e+00 1.61968088e+00 3.13245726e+00 2.14633512e+00\n",
            " 2.14093280e+00 1.81340170e+00 2.48917055e+00 2.10167313e+00\n",
            " 3.40724444e+00 3.26303840e+00 2.86587524e+00 3.24277878e+00\n",
            " 3.35498571e+00 4.83076859e+00 2.35913658e+00 2.66012383e+00\n",
            " 2.07822609e+00 2.78639984e+00 1.43837261e+00 2.44798088e+00]\n"
          ],
          "name": "stdout"
        }
      ]
    },
    {
      "cell_type": "code",
      "metadata": {
        "id": "sEGO0WZbOXUQ",
        "outputId": "fc846c7e-86f7-4612-85be-4167c023ee07",
        "colab": {
          "base_uri": "https://localhost:8080/"
        }
      },
      "source": [
        "# Média\n",
        "cec_media = st.mean(CEC_array)\n",
        "cec_media"
      ],
      "execution_count": 56,
      "outputs": [
        {
          "output_type": "execute_result",
          "data": {
            "text/plain": [
              "2.578900598381138"
            ]
          },
          "metadata": {
            "tags": []
          },
          "execution_count": 56
        }
      ]
    },
    {
      "cell_type": "code",
      "metadata": {
        "id": "vRUPMVgsOXkI",
        "outputId": "d9fe9011-6e13-4ade-b6db-c737b5c66279",
        "colab": {
          "base_uri": "https://localhost:8080/"
        }
      },
      "source": [
        "# Mediana\n",
        "cec_mediana = st.median(CEC_array)\n",
        "cec_mediana"
      ],
      "execution_count": 57,
      "outputs": [
        {
          "output_type": "execute_result",
          "data": {
            "text/plain": [
              "2.677850127220154"
            ]
          },
          "metadata": {
            "tags": []
          },
          "execution_count": 57
        }
      ]
    },
    {
      "cell_type": "code",
      "metadata": {
        "id": "0ig_jushOX53",
        "outputId": "9f23d748-8cba-4a9f-f656-d59763b7db6f",
        "colab": {
          "base_uri": "https://localhost:8080/",
          "height": 316
        }
      },
      "source": [
        "# Moda\n",
        "cec_moda = st.mode(CEC_array) # st.multimode(inscritos_array)\n",
        "cec_moda"
      ],
      "execution_count": 58,
      "outputs": [
        {
          "output_type": "error",
          "ename": "StatisticsError",
          "evalue": "ignored",
          "traceback": [
            "\u001b[0;31m---------------------------------------------------------------------------\u001b[0m",
            "\u001b[0;31mStatisticsError\u001b[0m                           Traceback (most recent call last)",
            "\u001b[0;32m<ipython-input-58-412cb4431f9f>\u001b[0m in \u001b[0;36m<module>\u001b[0;34m()\u001b[0m\n\u001b[1;32m      1\u001b[0m \u001b[0;31m# Moda\u001b[0m\u001b[0;34m\u001b[0m\u001b[0;34m\u001b[0m\u001b[0;34m\u001b[0m\u001b[0m\n\u001b[0;32m----> 2\u001b[0;31m \u001b[0mcec_moda\u001b[0m \u001b[0;34m=\u001b[0m \u001b[0mst\u001b[0m\u001b[0;34m.\u001b[0m\u001b[0mmode\u001b[0m\u001b[0;34m(\u001b[0m\u001b[0mCEC_array\u001b[0m\u001b[0;34m)\u001b[0m \u001b[0;31m# st.multimode(inscritos_array)\u001b[0m\u001b[0;34m\u001b[0m\u001b[0;34m\u001b[0m\u001b[0m\n\u001b[0m\u001b[1;32m      3\u001b[0m \u001b[0mcec_moda\u001b[0m\u001b[0;34m\u001b[0m\u001b[0;34m\u001b[0m\u001b[0m\n",
            "\u001b[0;32m/usr/lib/python3.6/statistics.py\u001b[0m in \u001b[0;36mmode\u001b[0;34m(data)\u001b[0m\n\u001b[1;32m    505\u001b[0m     \u001b[0;32melif\u001b[0m \u001b[0mtable\u001b[0m\u001b[0;34m:\u001b[0m\u001b[0;34m\u001b[0m\u001b[0;34m\u001b[0m\u001b[0m\n\u001b[1;32m    506\u001b[0m         raise StatisticsError(\n\u001b[0;32m--> 507\u001b[0;31m                 \u001b[0;34m'no unique mode; found %d equally common values'\u001b[0m \u001b[0;34m%\u001b[0m \u001b[0mlen\u001b[0m\u001b[0;34m(\u001b[0m\u001b[0mtable\u001b[0m\u001b[0;34m)\u001b[0m\u001b[0;34m\u001b[0m\u001b[0;34m\u001b[0m\u001b[0m\n\u001b[0m\u001b[1;32m    508\u001b[0m                 )\n\u001b[1;32m    509\u001b[0m     \u001b[0;32melse\u001b[0m\u001b[0;34m:\u001b[0m\u001b[0;34m\u001b[0m\u001b[0;34m\u001b[0m\u001b[0m\n",
            "\u001b[0;31mStatisticsError\u001b[0m: no unique mode; found 176 equally common values"
          ]
        }
      ]
    },
    {
      "cell_type": "code",
      "metadata": {
        "id": "c-Ol6uJIOYND",
        "outputId": "0afb2de3-c657-4665-9ed5-4ef1ac639c9c",
        "colab": {
          "base_uri": "https://localhost:8080/"
        }
      },
      "source": [
        "# Desvio Padrao\n",
        "cec_std = np.std(CEC_array)\n",
        "cec_std"
      ],
      "execution_count": 59,
      "outputs": [
        {
          "output_type": "execute_result",
          "data": {
            "text/plain": [
              "0.8261789579417299"
            ]
          },
          "metadata": {
            "tags": []
          },
          "execution_count": 59
        }
      ]
    },
    {
      "cell_type": "code",
      "metadata": {
        "id": "HEXSMBI3OY1L",
        "outputId": "8c154036-5791-4c4e-855d-a5b918077b3b",
        "colab": {
          "base_uri": "https://localhost:8080/"
        }
      },
      "source": [
        "# Coeficiente de variação\n",
        "ce_coef_variacao = cec_std/cec_media\n",
        "cv_ce = ce_coef_variacao\n",
        "ce_coef_variacao"
      ],
      "execution_count": 60,
      "outputs": [
        {
          "output_type": "execute_result",
          "data": {
            "text/plain": [
              "0.3203609159889102"
            ]
          },
          "metadata": {
            "tags": []
          },
          "execution_count": 60
        }
      ]
    },
    {
      "cell_type": "code",
      "metadata": {
        "id": "AlS-1FBJOZQ1",
        "outputId": "657b128c-9e3f-4a09-993b-01c1d4222e9e",
        "colab": {
          "base_uri": "https://localhost:8080/",
          "height": 312
        }
      },
      "source": [
        "se.boxplot(x = dfMedicinaC['Conceito Enade (Contínuo)'], ).set_title('Gráfico Box-plot da Variável Conceito Enade (Contínuo)')"
      ],
      "execution_count": 61,
      "outputs": [
        {
          "output_type": "execute_result",
          "data": {
            "text/plain": [
              "Text(0.5, 1.0, 'Gráfico Box-plot da Variável Conceito Enade (Contínuo)')"
            ]
          },
          "metadata": {
            "tags": []
          },
          "execution_count": 61
        },
        {
          "output_type": "display_data",
          "data": {
            "image/png": "[encoded data removed]",
            "text/plain": [
              "<Figure size 432x288 with 1 Axes>"
            ]
          },
          "metadata": {
            "tags": [],
            "needs_background": "light"
          }
        }
      ]
    },
    {
      "cell_type": "markdown",
      "metadata": {
        "id": "93l3jsgiQVTb"
      },
      "source": [
        "## C - Variável Conceito Enade (Faixa)"
      ]
    },
    {
      "cell_type": "code",
      "metadata": {
        "id": "h-NyJW3KQ2NQ",
        "outputId": "4bbdcebf-80ce-4334-bc6f-1d5e9e57f826",
        "colab": {
          "base_uri": "https://localhost:8080/"
        }
      },
      "source": [
        "CEF_array = np.array(conceito_faixa, dtype = float)\n",
        "print (CEF_array)"
      ],
      "execution_count": 62,
      "outputs": [
        {
          "output_type": "stream",
          "text": [
            "[3. 4. 3. 3. 4. 4. 4. 3. 4. 3. 3. 3. 4. 4. 3. 2. 4. 4. 4. 2. 4. 3. 5. 3.\n",
            " 3. 4. 3. 2. 3. 3. 1. 4. 4. 4. 3. 4. 2. 4. 3. 3. 2. 2. 3. 4. 3. 3. 2. 4.\n",
            " 4. 4. 3. 2. 4. 4. 3. 3. 4. 4. 4. 4. 3. 4. 3. 4. 4. 4. 4. 3. 4. 3. 4. 4.\n",
            " 4. 3. 3. 3. 4. 4. 3. 3. 4. 2. 2. 3. 1. 2. 3. 3. 3. 3. 2. 3. 3. 3. 3. 2.\n",
            " 1. 4. 1. 4. 2. 3. 3. 4. 3. 2. 4. 2. 4. 3. 2. 3. 3. 1. 5. 3. 3. 4. 2. 3.\n",
            " 3. 2. 3. 3. 1. 2. 2. 4. 2. 2. 3. 3. 4. 3. 2. 3. 4. 1. 3. 3. 2. 3. 3. 3.\n",
            " 4. 2. 3. 3. 4. 4. 4. 4. 2. 4. 3. 3. 3. 2. 4. 3. 3. 2. 3. 3. 4. 4. 3. 4.\n",
            " 4. 5. 3. 3. 3. 3. 2. 3.]\n"
          ],
          "name": "stdout"
        }
      ]
    },
    {
      "cell_type": "code",
      "metadata": {
        "id": "4ZAsEw2BQ2pM",
        "outputId": "f2eb5c48-7e65-4a51-94a4-6d37a9eba299",
        "colab": {
          "base_uri": "https://localhost:8080/"
        }
      },
      "source": [
        "# Média\n",
        "cef_media = st.mean(CEF_array)\n",
        "cef_media"
      ],
      "execution_count": 63,
      "outputs": [
        {
          "output_type": "execute_result",
          "data": {
            "text/plain": [
              "3.1193181818181817"
            ]
          },
          "metadata": {
            "tags": []
          },
          "execution_count": 63
        }
      ]
    },
    {
      "cell_type": "code",
      "metadata": {
        "id": "p1yv3nhDQ22m",
        "outputId": "522e0576-7831-4a11-dae5-8d2183f5d6d4",
        "colab": {
          "base_uri": "https://localhost:8080/"
        }
      },
      "source": [
        "# Mediana\n",
        "cef_mediana = st.median(CEF_array)\n",
        "cef_mediana"
      ],
      "execution_count": 64,
      "outputs": [
        {
          "output_type": "execute_result",
          "data": {
            "text/plain": [
              "3.0"
            ]
          },
          "metadata": {
            "tags": []
          },
          "execution_count": 64
        }
      ]
    },
    {
      "cell_type": "code",
      "metadata": {
        "id": "yb3DGLrAQ3Eb",
        "outputId": "70978a77-6d8e-4b23-e442-70d4081825cb",
        "colab": {
          "base_uri": "https://localhost:8080/"
        }
      },
      "source": [
        "# Moda\n",
        "cef_moda = st.mode(CEF_array) # st.multimode(inscritos_array)\n",
        "cef_moda"
      ],
      "execution_count": 65,
      "outputs": [
        {
          "output_type": "execute_result",
          "data": {
            "text/plain": [
              "3.0"
            ]
          },
          "metadata": {
            "tags": []
          },
          "execution_count": 65
        }
      ]
    },
    {
      "cell_type": "code",
      "metadata": {
        "id": "3eVtXFGXQ3dp",
        "outputId": "52db8cb4-4306-4616-c12b-61a95b8f5ef2",
        "colab": {
          "base_uri": "https://localhost:8080/"
        }
      },
      "source": [
        "# Desvio Padrao\n",
        "cef_std = np.std(CEF_array)\n",
        "cef_std"
      ],
      "execution_count": 66,
      "outputs": [
        {
          "output_type": "execute_result",
          "data": {
            "text/plain": [
              "0.8477722081680603"
            ]
          },
          "metadata": {
            "tags": []
          },
          "execution_count": 66
        }
      ]
    },
    {
      "cell_type": "code",
      "metadata": {
        "id": "SOufalVvQ3sq",
        "outputId": "50205fa6-abc2-4064-8e38-70aac18d68ba",
        "colab": {
          "base_uri": "https://localhost:8080/"
        }
      },
      "source": [
        "# Coeficiente de variação\n",
        "ce_coef_variacao = cef_std/cef_media\n",
        "cv_cef = ce_coef_variacao\n",
        "cv_cef"
      ],
      "execution_count": 67,
      "outputs": [
        {
          "output_type": "execute_result",
          "data": {
            "text/plain": [
              "0.2717812543489592"
            ]
          },
          "metadata": {
            "tags": []
          },
          "execution_count": 67
        }
      ]
    },
    {
      "cell_type": "code",
      "metadata": {
        "id": "XVthyLnkQ378",
        "outputId": "aebade9c-7cab-4429-a456-ace2ccbc3399",
        "colab": {
          "base_uri": "https://localhost:8080/",
          "height": 0
        }
      },
      "source": [
        "se.boxplot(x = dfMedicinaC['Conceito Enade (Faixa)'], ).set_title('Gráfico Box-plot da Variável Conceito Enade (Faixa)')"
      ],
      "execution_count": 68,
      "outputs": [
        {
          "output_type": "execute_result",
          "data": {
            "text/plain": [
              "Text(0.5, 1.0, 'Gráfico Box-plot da Variável Conceito Enade (Faixa)')"
            ]
          },
          "metadata": {
            "tags": []
          },
          "execution_count": 68
        },
        {
          "output_type": "display_data",
          "data": {
            "image/png": "[encoded data removed]",
            "text/plain": [
              "<Figure size 432x288 with 1 Axes>"
            ]
          },
          "metadata": {
            "tags": [],
            "needs_background": "light"
          }
        }
      ]
    },
    {
      "cell_type": "code",
      "metadata": {
        "id": "264DpZ2pZE4J"
      },
      "source": [
        ""
      ],
      "execution_count": 68,
      "outputs": []
    },
    {
      "cell_type": "markdown",
      "metadata": {
        "id": "E3AlzWX3Sxsc"
      },
      "source": [
        "## C- Verificar normalidade"
      ]
    },
    {
      "cell_type": "code",
      "metadata": {
        "id": "Fw75Lw7DTd4G"
      },
      "source": [
        "#funçao que verifica normalidade\n",
        "# função para calcular simetria\n",
        "def normalidade(h):\n",
        "  h0 = stats.shapiro(h)\n",
        "  if (h0[1] > 0.5):\n",
        "    return 'normalizados'\n",
        "  else:\n",
        "    return 'não normalizados'"
      ],
      "execution_count": 69,
      "outputs": []
    },
    {
      "cell_type": "code",
      "metadata": {
        "id": "ijUvd66fVt8i",
        "outputId": "f89caf0c-d3c9-48fa-84c4-fcf2c878c238",
        "colab": {
          "base_uri": "https://localhost:8080/"
        }
      },
      "source": [
        "print('Valores de conc_inscritos são ', normalidade(conc_inscritos))\n",
        "print('Valores de conc_participantes são ', normalidade(conc_participantes))\n",
        "print('Valores de nota_fg são ', normalidade(nota_fg))\n",
        "print('Valores de nota_ce são ', normalidade(nota_ce))\n",
        "print('Valores de conceito_cont são ', normalidade(conceito_cont))\n",
        "print('Valores de conceito_faixa são ', normalidade(conceito_faixa))\n"
      ],
      "execution_count": 70,
      "outputs": [
        {
          "output_type": "stream",
          "text": [
            "Valores de conc_inscritos são  não normalizados\n",
            "Valores de conc_participantes são  não normalizados\n",
            "Valores de nota_fg são  não normalizados\n",
            "Valores de nota_ce são  não normalizados\n",
            "Valores de conceito_cont são  não normalizados\n",
            "Valores de conceito_faixa são  não normalizados\n"
          ],
          "name": "stdout"
        }
      ]
    },
    {
      "cell_type": "markdown",
      "metadata": {
        "id": "z-Uv2f0nRRqq"
      },
      "source": [
        "## Por Regiões"
      ]
    },
    {
      "cell_type": "code",
      "metadata": {
        "id": "Eu8unKxS5VMz"
      },
      "source": [
        "rNO = dfMedicinaC.loc[dfMedicinaC['Regiao'] == 1]\n",
        "rNE = dfMedicinaC.loc[dfMedicinaC['Regiao'] == 2]\n",
        "rSE = dfMedicinaC.loc[dfMedicinaC['Regiao'] == 3]\n",
        "rSU = dfMedicinaC.loc[dfMedicinaC['Regiao'] == 4]\n",
        "rCO = dfMedicinaC.loc[dfMedicinaC['Regiao'] == 5]"
      ],
      "execution_count": 71,
      "outputs": []
    },
    {
      "cell_type": "code",
      "metadata": {
        "id": "M4E5pakc3WyQ",
        "outputId": "bca54b2d-ce81-43e6-8ec7-41903620d81f",
        "colab": {
          "base_uri": "https://localhost:8080/",
          "height": 295
        }
      },
      "source": [
        "ax = se.boxplot(x = 'Nota Padronizada - FG', data = rNO).set_title('Nota Padroniza FG - Regiao Norte')"
      ],
      "execution_count": 72,
      "outputs": [
        {
          "output_type": "display_data",
          "data": {
            "image/png": "[encoded data removed]",
            "text/plain": [
              "<Figure size 432x288 with 1 Axes>"
            ]
          },
          "metadata": {
            "tags": [],
            "needs_background": "light"
          }
        }
      ]
    },
    {
      "cell_type": "code",
      "metadata": {
        "id": "x9uyKoUg9prL",
        "outputId": "05568a31-87eb-4354-8b61-fe979b6f8024",
        "colab": {
          "base_uri": "https://localhost:8080/",
          "height": 295
        }
      },
      "source": [
        "ax = se.boxplot(x = 'Nota Padronizada - FG', data = rNE).set_title('Nota Padroniza FG - Regiao Nordeste')"
      ],
      "execution_count": 73,
      "outputs": [
        {
          "output_type": "display_data",
          "data": {
            "image/png": "[encoded data removed]",
            "text/plain": [
              "<Figure size 432x288 with 1 Axes>"
            ]
          },
          "metadata": {
            "tags": [],
            "needs_background": "light"
          }
        }
      ]
    },
    {
      "cell_type": "code",
      "metadata": {
        "id": "sF3pcdhZ9qLm",
        "outputId": "1fa92380-fbaa-434a-e5cf-d25003dd7947",
        "colab": {
          "base_uri": "https://localhost:8080/",
          "height": 295
        }
      },
      "source": [
        "ax = se.boxplot(x = 'Nota Padronizada - FG', data = rSE).set_title('Nota Padroniza FG - Regiao Sudeste')"
      ],
      "execution_count": 111,
      "outputs": [
        {
          "output_type": "display_data",
          "data": {
            "image/png": "[encoded data removed]",
            "text/plain": [
              "<Figure size 432x288 with 1 Axes>"
            ]
          },
          "metadata": {
            "tags": [],
            "needs_background": "light"
          }
        }
      ]
    },
    {
      "cell_type": "code",
      "metadata": {
        "id": "WLed86wD9qeX",
        "outputId": "1b60b1a9-ae36-4c46-e62d-bde52d395f2c",
        "colab": {
          "base_uri": "https://localhost:8080/",
          "height": 295
        }
      },
      "source": [
        "ax = se.boxplot(x = 'Nota Padronizada - FG', data = rSU).set_title('Nota Padroniza FG - Regiao Sul')"
      ],
      "execution_count": 75,
      "outputs": [
        {
          "output_type": "display_data",
          "data": {
            "image/png": "[encoded data removed]",
            "text/plain": [
              "<Figure size 432x288 with 1 Axes>"
            ]
          },
          "metadata": {
            "tags": [],
            "needs_background": "light"
          }
        }
      ]
    },
    {
      "cell_type": "code",
      "metadata": {
        "id": "E2IVKmw39qtD",
        "outputId": "4adfcadc-42ba-4d6a-93db-ceb255cc7a14",
        "colab": {
          "base_uri": "https://localhost:8080/",
          "height": 295
        }
      },
      "source": [
        "ax = se.boxplot(x = 'Nota Padronizada - FG', data = rCO).set_title('Nota Padroniza FG - Regiao Centro-Oeste')"
      ],
      "execution_count": 76,
      "outputs": [
        {
          "output_type": "display_data",
          "data": {
            "image/png": "[encoded data removed]",
            "text/plain": [
              "<Figure size 432x288 with 1 Axes>"
            ]
          },
          "metadata": {
            "tags": [],
            "needs_background": "light"
          }
        }
      ]
    },
    {
      "cell_type": "markdown",
      "metadata": {
        "id": "ZOQkX_cyrE9S"
      },
      "source": [
        "#**ITEM D**"
      ]
    },
    {
      "cell_type": "code",
      "metadata": {
        "id": "mf_4cfOXsLNU",
        "outputId": "fcb6788f-1139-44d9-bad1-2cfddbb40478",
        "colab": {
          "base_uri": "https://localhost:8080/",
          "height": 428
        }
      },
      "source": [
        "dfMedicina = dfConceito[dfConceito['Código da Área'] == 12]\n",
        "dfMedicina.head()"
      ],
      "execution_count": 77,
      "outputs": [
        {
          "output_type": "execute_result",
          "data": {
            "text/html": [
              "<div>\n",
              "<style scoped>\n",
              "    .dataframe tbody tr th:only-of-type {\n",
              "        vertical-align: middle;\n",
              "    }\n",
              "\n",
              "    .dataframe tbody tr th {\n",
              "        vertical-align: top;\n",
              "    }\n",
              "\n",
              "    .dataframe thead th {\n",
              "        text-align: right;\n",
              "    }\n",
              "</style>\n",
              "<table border=\"1\" class=\"dataframe\">\n",
              "  <thead>\n",
              "    <tr style=\"text-align: right;\">\n",
              "      <th></th>\n",
              "      <th>Ano</th>\n",
              "      <th>Código da IES</th>\n",
              "      <th>Nome da IES</th>\n",
              "      <th>Sigla da IES</th>\n",
              "      <th>Organização Acadêmica</th>\n",
              "      <th>Categoria Administrativa</th>\n",
              "      <th>Código do Curso</th>\n",
              "      <th>Código da Área</th>\n",
              "      <th>Área de Enquadramento</th>\n",
              "      <th>Modalidade de Ensino</th>\n",
              "      <th>Código do Município</th>\n",
              "      <th>Município do Curso</th>\n",
              "      <th>Sigla da UF</th>\n",
              "      <th>Concluintes Inscritos</th>\n",
              "      <th>Concluintes Participantes</th>\n",
              "      <th>Nota Bruta - FG</th>\n",
              "      <th>Nota Padronizada - FG</th>\n",
              "      <th>Nota Bruta - CE</th>\n",
              "      <th>Nota Padronizada - CE</th>\n",
              "      <th>Conceito Enade (Contínuo)</th>\n",
              "      <th>Conceito Enade (Faixa)</th>\n",
              "    </tr>\n",
              "  </thead>\n",
              "  <tbody>\n",
              "    <tr>\n",
              "      <th>2</th>\n",
              "      <td>2016</td>\n",
              "      <td>1</td>\n",
              "      <td>UNIVERSIDADE FEDERAL DE MATO GROSSO</td>\n",
              "      <td>UFMT</td>\n",
              "      <td>Universidade</td>\n",
              "      <td>Pessoa Jurídica de Direito Público - Federal</td>\n",
              "      <td>12</td>\n",
              "      <td>12</td>\n",
              "      <td>MEDICINA</td>\n",
              "      <td>Educação Presencial</td>\n",
              "      <td>5103403</td>\n",
              "      <td>CUIABÁ</td>\n",
              "      <td>MT</td>\n",
              "      <td>35</td>\n",
              "      <td>33</td>\n",
              "      <td>63.166668</td>\n",
              "      <td>3.473179</td>\n",
              "      <td>68.506058</td>\n",
              "      <td>2.759319</td>\n",
              "      <td>2.937784</td>\n",
              "      <td>3</td>\n",
              "    </tr>\n",
              "    <tr>\n",
              "      <th>8</th>\n",
              "      <td>2016</td>\n",
              "      <td>2</td>\n",
              "      <td>UNIVERSIDADE DE BRASÍLIA</td>\n",
              "      <td>UNB</td>\n",
              "      <td>Universidade</td>\n",
              "      <td>Pessoa Jurídica de Direito Público - Federal</td>\n",
              "      <td>140</td>\n",
              "      <td>12</td>\n",
              "      <td>MEDICINA</td>\n",
              "      <td>Educação Presencial</td>\n",
              "      <td>5300108</td>\n",
              "      <td>BRASÍLIA</td>\n",
              "      <td>DF</td>\n",
              "      <td>89</td>\n",
              "      <td>85</td>\n",
              "      <td>63.005882</td>\n",
              "      <td>3.436836</td>\n",
              "      <td>68.930588</td>\n",
              "      <td>2.841475</td>\n",
              "      <td>2.990315</td>\n",
              "      <td>4</td>\n",
              "    </tr>\n",
              "    <tr>\n",
              "      <th>13</th>\n",
              "      <td>2016</td>\n",
              "      <td>3</td>\n",
              "      <td>UNIVERSIDADE FEDERAL DE SERGIPE</td>\n",
              "      <td>UFS</td>\n",
              "      <td>Universidade</td>\n",
              "      <td>Pessoa Jurídica de Direito Público - Federal</td>\n",
              "      <td>303</td>\n",
              "      <td>12</td>\n",
              "      <td>MEDICINA</td>\n",
              "      <td>Educação Presencial</td>\n",
              "      <td>2800308</td>\n",
              "      <td>ARACAJU</td>\n",
              "      <td>SE</td>\n",
              "      <td>53</td>\n",
              "      <td>53</td>\n",
              "      <td>59.494339</td>\n",
              "      <td>2.643099</td>\n",
              "      <td>67.986794</td>\n",
              "      <td>2.658829</td>\n",
              "      <td>2.654896</td>\n",
              "      <td>3</td>\n",
              "    </tr>\n",
              "    <tr>\n",
              "      <th>17</th>\n",
              "      <td>2016</td>\n",
              "      <td>4</td>\n",
              "      <td>UNIVERSIDADE FEDERAL DO AMAZONAS</td>\n",
              "      <td>UFAM</td>\n",
              "      <td>Universidade</td>\n",
              "      <td>Pessoa Jurídica de Direito Público - Federal</td>\n",
              "      <td>389</td>\n",
              "      <td>12</td>\n",
              "      <td>MEDICINA</td>\n",
              "      <td>Educação Presencial</td>\n",
              "      <td>1302603</td>\n",
              "      <td>MANAUS</td>\n",
              "      <td>AM</td>\n",
              "      <td>36</td>\n",
              "      <td>35</td>\n",
              "      <td>66.708572</td>\n",
              "      <td>4.273778</td>\n",
              "      <td>66.128571</td>\n",
              "      <td>2.299221</td>\n",
              "      <td>2.792860</td>\n",
              "      <td>3</td>\n",
              "    </tr>\n",
              "    <tr>\n",
              "      <th>21</th>\n",
              "      <td>2016</td>\n",
              "      <td>5</td>\n",
              "      <td>UNIVERSIDADE FEDERAL DO PIAUÍ</td>\n",
              "      <td>UFPI</td>\n",
              "      <td>Universidade</td>\n",
              "      <td>Pessoa Jurídica de Direito Público - Federal</td>\n",
              "      <td>484</td>\n",
              "      <td>12</td>\n",
              "      <td>MEDICINA</td>\n",
              "      <td>Educação Presencial</td>\n",
              "      <td>2211001</td>\n",
              "      <td>TERESINA</td>\n",
              "      <td>PI</td>\n",
              "      <td>45</td>\n",
              "      <td>45</td>\n",
              "      <td>63.433334</td>\n",
              "      <td>3.533455</td>\n",
              "      <td>72.671112</td>\n",
              "      <td>3.565352</td>\n",
              "      <td>3.557378</td>\n",
              "      <td>4</td>\n",
              "    </tr>\n",
              "  </tbody>\n",
              "</table>\n",
              "</div>"
            ],
            "text/plain": [
              "     Ano  Código da IES  ... Conceito Enade (Contínuo) Conceito Enade (Faixa)\n",
              "2   2016              1  ...                  2.937784                      3\n",
              "8   2016              2  ...                  2.990315                      4\n",
              "13  2016              3  ...                  2.654896                      3\n",
              "17  2016              4  ...                  2.792860                      3\n",
              "21  2016              5  ...                  3.557378                      4\n",
              "\n",
              "[5 rows x 21 columns]"
            ]
          },
          "metadata": {
            "tags": []
          },
          "execution_count": 77
        }
      ]
    },
    {
      "cell_type": "code",
      "metadata": {
        "id": "sR_hx5jcwkLH",
        "outputId": "e712b61c-fe2d-406e-dadb-2572ab586435",
        "colab": {
          "base_uri": "https://localhost:8080/"
        }
      },
      "source": [
        "dfMedicina[\"Conceito Enade (Faixa)\"] = pd.to_numeric(dfMedicina['Conceito Enade (Faixa)'], errors='coerce')"
      ],
      "execution_count": 78,
      "outputs": [
        {
          "output_type": "stream",
          "text": [
            "/usr/local/lib/python3.6/dist-packages/ipykernel_launcher.py:1: SettingWithCopyWarning: \n",
            "A value is trying to be set on a copy of a slice from a DataFrame.\n",
            "Try using .loc[row_indexer,col_indexer] = value instead\n",
            "\n",
            "See the caveats in the documentation: https://pandas.pydata.org/pandas-docs/stable/user_guide/indexing.html#returning-a-view-versus-a-copy\n",
            "  \"\"\"Entry point for launching an IPython kernel.\n"
          ],
          "name": "stderr"
        }
      ]
    },
    {
      "cell_type": "code",
      "metadata": {
        "id": "kSNO1hgrvtKM",
        "outputId": "d243b0ef-7180-4515-c393-66978b792bb7",
        "colab": {
          "base_uri": "https://localhost:8080/"
        }
      },
      "source": [
        "qtdMedicina = len(dfMedicina)\n",
        "print(\"Quantidade de Universidades com medicina: \", qtdMedicina)\n",
        "\n",
        "MediaConceitoEnade = dfMedicina['Conceito Enade (Faixa)'].mean() \n",
        "print(\"Média geral(Medicina) do conceito ENADE: \", round(MediaConceitoEnade,3))\n",
        "\n",
        "DesvioConceitoEnade = dfMedicina.loc[:,\"Conceito Enade (Faixa)\"].std()\n",
        "print(\"Desvio padrão geral(Medicina) do conceito ENADE: \", round(DesvioConceitoEnade,3))"
      ],
      "execution_count": 79,
      "outputs": [
        {
          "output_type": "stream",
          "text": [
            "Quantidade de Universidades com medicina:  176\n",
            "Média geral(Medicina) do conceito ENADE:  3.119\n",
            "Desvio padrão geral(Medicina) do conceito ENADE:  0.85\n"
          ],
          "name": "stdout"
        }
      ]
    },
    {
      "cell_type": "code",
      "metadata": {
        "id": "lzfMdmz4rO4x",
        "outputId": "7eb1371d-45f8-4a20-bc40-caa5fe31bf71",
        "colab": {
          "base_uri": "https://localhost:8080/"
        }
      },
      "source": [
        "#Intervalo de Confiança ao nível de 95%;\n",
        "print(\"Intervalo de Confiança ao nível de 95% para média quando a variância é desconhecida\")\n",
        "inf,sup = t.interval(0.95, qtdMedicina-1, loc=MediaConceitoEnade, scale=DesvioConceitoEnade/np.sqrt(qtdMedicina))\n",
        "print ('Limite inferior 95%:', round(inf,3))\n",
        "print ('Limite superior 95%:', round(sup,3))\n"
      ],
      "execution_count": 80,
      "outputs": [
        {
          "output_type": "stream",
          "text": [
            "Intervalo de Confiança ao nível de 95% para média quando a variância é desconhecida\n",
            "Limite inferior 95%: 2.993\n",
            "Limite superior 95%: 3.246\n"
          ],
          "name": "stdout"
        }
      ]
    },
    {
      "cell_type": "code",
      "metadata": {
        "id": "ufHxaBOMrP02",
        "outputId": "5322f2dd-786a-4996-d76f-e715a2a0257b",
        "colab": {
          "base_uri": "https://localhost:8080/"
        }
      },
      "source": [
        "# Número de amostras, para ERRO máximo de 10%\n",
        "n = (t.ppf(0.025,qtdMedicina-1)**2)*(st.stdev(dfMedicina.iloc[:,20])**2)/(0.01**2)\n",
        "print(\"Tamanho da amostra =\",round(n))"
      ],
      "execution_count": 81,
      "outputs": [
        {
          "output_type": "stream",
          "text": [
            "Tamanho da amostra = 28155.0\n"
          ],
          "name": "stdout"
        }
      ]
    },
    {
      "cell_type": "code",
      "metadata": {
        "id": "zxSgvAeH9vTx"
      },
      "source": [
        "import numpy as np\n",
        "import scipy.stats\n",
        "\n",
        "def mean_confidence_interval(data, confidence=0.95):\n",
        "    a = 1.0 * np.array(data)\n",
        "    n = len(a)\n",
        "    m, se = np.mean(a), scipy.stats.sem(a)\n",
        "    h = se * scipy.stats.t.ppf((1 + confidence) / 2., n-1)\n",
        "    tam_amostra = (t.ppf(0.025,n-1)**2)*(st.stdev(data)**2)/(0.01**2)\n",
        "    return 'Coluna[{}]: Média {}, I.C.[{}, {}], e número de amostras (c/ erro máximo de 10%) {}'.format(titulo[Coluna], round(m,4), round(m-h,4), round(m+h,4), round(tam_amostra,4))"
      ],
      "execution_count": 82,
      "outputs": []
    },
    {
      "cell_type": "code",
      "metadata": {
        "id": "-b5z3MZUHAIe",
        "outputId": "f0d76665-0822-4d9b-ba02-0cce5a2522af",
        "colab": {
          "base_uri": "https://localhost:8080/"
        }
      },
      "source": [
        "titulos = list(dfMedicina.columns.values)\n",
        "i = 0\n",
        "while i < len(titulos):\n",
        "    print( \"[%d] = %s\"%(i, titulos[i]) )\n",
        "    i+=1"
      ],
      "execution_count": 83,
      "outputs": [
        {
          "output_type": "stream",
          "text": [
            "[0] = Ano\n",
            "[1] = Código da IES\n",
            "[2] = Nome da IES\n",
            "[3] = Sigla da IES\n",
            "[4] = Organização Acadêmica\n",
            "[5] = Categoria Administrativa\n",
            "[6] = Código do Curso\n",
            "[7] = Código da Área\n",
            "[8] = Área de Enquadramento\n",
            "[9] = Modalidade de Ensino\n",
            "[10] = Código do Município\n",
            "[11] = Município do Curso\n",
            "[12] = Sigla da UF\n",
            "[13] = Concluintes Inscritos\n",
            "[14] = Concluintes Participantes\n",
            "[15] = Nota Bruta - FG\n",
            "[16] = Nota Padronizada - FG\n",
            "[17] = Nota Bruta - CE\n",
            "[18] = Nota Padronizada - CE\n",
            "[19] = Conceito Enade (Contínuo)\n",
            "[20] = Conceito Enade (Faixa)\n"
          ],
          "name": "stdout"
        }
      ]
    },
    {
      "cell_type": "code",
      "metadata": {
        "id": "s6IxDHARIbpP",
        "outputId": "29eb9986-21fe-4e34-c4bb-51fcc7716af2",
        "colab": {
          "base_uri": "https://localhost:8080/",
          "height": 316
        }
      },
      "source": [
        "#@title Número da coluna desejada { output-height: 10, form-width: \"99%\" }\n",
        "Coluna =  20#@param {type:\"integer\"}\n",
        "\n",
        "\n",
        "\n",
        "SAIDA = mean_confidence_interval(dfMedicina.iloc[:,Coluna])\n",
        "SAIDA"
      ],
      "execution_count": 84,
      "outputs": [
        {
          "output_type": "error",
          "ename": "NameError",
          "evalue": "ignored",
          "traceback": [
            "\u001b[0;31m---------------------------------------------------------------------------\u001b[0m",
            "\u001b[0;31mNameError\u001b[0m                                 Traceback (most recent call last)",
            "\u001b[0;32m<ipython-input-84-e2d26dd865af>\u001b[0m in \u001b[0;36m<module>\u001b[0;34m()\u001b[0m\n\u001b[1;32m      4\u001b[0m \u001b[0;34m\u001b[0m\u001b[0m\n\u001b[1;32m      5\u001b[0m \u001b[0;34m\u001b[0m\u001b[0m\n\u001b[0;32m----> 6\u001b[0;31m \u001b[0mSAIDA\u001b[0m \u001b[0;34m=\u001b[0m \u001b[0mmean_confidence_interval\u001b[0m\u001b[0;34m(\u001b[0m\u001b[0mdfMedicina\u001b[0m\u001b[0;34m.\u001b[0m\u001b[0miloc\u001b[0m\u001b[0;34m[\u001b[0m\u001b[0;34m:\u001b[0m\u001b[0;34m,\u001b[0m\u001b[0mColuna\u001b[0m\u001b[0;34m]\u001b[0m\u001b[0;34m)\u001b[0m\u001b[0;34m\u001b[0m\u001b[0;34m\u001b[0m\u001b[0m\n\u001b[0m\u001b[1;32m      7\u001b[0m \u001b[0mSAIDA\u001b[0m\u001b[0;34m\u001b[0m\u001b[0;34m\u001b[0m\u001b[0m\n",
            "\u001b[0;32m<ipython-input-82-91093130f60d>\u001b[0m in \u001b[0;36mmean_confidence_interval\u001b[0;34m(data, confidence)\u001b[0m\n\u001b[1;32m      8\u001b[0m     \u001b[0mh\u001b[0m \u001b[0;34m=\u001b[0m \u001b[0mse\u001b[0m \u001b[0;34m*\u001b[0m \u001b[0mscipy\u001b[0m\u001b[0;34m.\u001b[0m\u001b[0mstats\u001b[0m\u001b[0;34m.\u001b[0m\u001b[0mt\u001b[0m\u001b[0;34m.\u001b[0m\u001b[0mppf\u001b[0m\u001b[0;34m(\u001b[0m\u001b[0;34m(\u001b[0m\u001b[0;36m1\u001b[0m \u001b[0;34m+\u001b[0m \u001b[0mconfidence\u001b[0m\u001b[0;34m)\u001b[0m \u001b[0;34m/\u001b[0m \u001b[0;36m2.\u001b[0m\u001b[0;34m,\u001b[0m \u001b[0mn\u001b[0m\u001b[0;34m-\u001b[0m\u001b[0;36m1\u001b[0m\u001b[0;34m)\u001b[0m\u001b[0;34m\u001b[0m\u001b[0;34m\u001b[0m\u001b[0m\n\u001b[1;32m      9\u001b[0m     \u001b[0mtam_amostra\u001b[0m \u001b[0;34m=\u001b[0m \u001b[0;34m(\u001b[0m\u001b[0mt\u001b[0m\u001b[0;34m.\u001b[0m\u001b[0mppf\u001b[0m\u001b[0;34m(\u001b[0m\u001b[0;36m0.025\u001b[0m\u001b[0;34m,\u001b[0m\u001b[0mn\u001b[0m\u001b[0;34m-\u001b[0m\u001b[0;36m1\u001b[0m\u001b[0;34m)\u001b[0m\u001b[0;34m**\u001b[0m\u001b[0;36m2\u001b[0m\u001b[0;34m)\u001b[0m\u001b[0;34m*\u001b[0m\u001b[0;34m(\u001b[0m\u001b[0mst\u001b[0m\u001b[0;34m.\u001b[0m\u001b[0mstdev\u001b[0m\u001b[0;34m(\u001b[0m\u001b[0mdata\u001b[0m\u001b[0;34m)\u001b[0m\u001b[0;34m**\u001b[0m\u001b[0;36m2\u001b[0m\u001b[0;34m)\u001b[0m\u001b[0;34m/\u001b[0m\u001b[0;34m(\u001b[0m\u001b[0;36m0.01\u001b[0m\u001b[0;34m**\u001b[0m\u001b[0;36m2\u001b[0m\u001b[0;34m)\u001b[0m\u001b[0;34m\u001b[0m\u001b[0;34m\u001b[0m\u001b[0m\n\u001b[0;32m---> 10\u001b[0;31m     \u001b[0;32mreturn\u001b[0m \u001b[0;34m'Coluna[{}]: Média {}, I.C.[{}, {}], e número de amostras (c/ erro máximo de 10%) {}'\u001b[0m\u001b[0;34m.\u001b[0m\u001b[0mformat\u001b[0m\u001b[0;34m(\u001b[0m\u001b[0mtitulo\u001b[0m\u001b[0;34m[\u001b[0m\u001b[0mColuna\u001b[0m\u001b[0;34m]\u001b[0m\u001b[0;34m,\u001b[0m \u001b[0mround\u001b[0m\u001b[0;34m(\u001b[0m\u001b[0mm\u001b[0m\u001b[0;34m,\u001b[0m\u001b[0;36m4\u001b[0m\u001b[0;34m)\u001b[0m\u001b[0;34m,\u001b[0m \u001b[0mround\u001b[0m\u001b[0;34m(\u001b[0m\u001b[0mm\u001b[0m\u001b[0;34m-\u001b[0m\u001b[0mh\u001b[0m\u001b[0;34m,\u001b[0m\u001b[0;36m4\u001b[0m\u001b[0;34m)\u001b[0m\u001b[0;34m,\u001b[0m \u001b[0mround\u001b[0m\u001b[0;34m(\u001b[0m\u001b[0mm\u001b[0m\u001b[0;34m+\u001b[0m\u001b[0mh\u001b[0m\u001b[0;34m,\u001b[0m\u001b[0;36m4\u001b[0m\u001b[0;34m)\u001b[0m\u001b[0;34m,\u001b[0m \u001b[0mround\u001b[0m\u001b[0;34m(\u001b[0m\u001b[0mtam_amostra\u001b[0m\u001b[0;34m,\u001b[0m\u001b[0;36m4\u001b[0m\u001b[0;34m)\u001b[0m\u001b[0;34m)\u001b[0m\u001b[0;34m\u001b[0m\u001b[0;34m\u001b[0m\u001b[0m\n\u001b[0m",
            "\u001b[0;31mNameError\u001b[0m: name 'titulo' is not defined"
          ]
        }
      ]
    }
  ]
}