{
  "nbformat": 4,
  "nbformat_minor": 0,
  "metadata": {
    "colab": {
      "name": "trabalhoEstatistica.ipynb",
      "provenance": [],
      "collapsed_sections": [
        "Bg9hB4jo8kdN",
        "oP6B_UguPHXe"
      ],
      "toc_visible": true
    },
    "kernelspec": {
      "name": "python3",
      "display_name": "Python 3"
    }
  },
  "cells": [
    {
      "cell_type": "code",
      "metadata": {
        "id": "iqydn_S4pqsc",
        "outputId": "e37b140e-4a95-425b-b37f-4a5c55970e7b",
        "colab": {
          "base_uri": "https://localhost:8080/"
        }
      },
      "source": [
        "# Pacotes necessários\n",
        "import pandas as pd\n",
        "import numpy as np\n",
        "import statistics as st\n",
        "import seaborn as se\n",
        "import statsmodels.stats.proportion as smp\n",
        "from scipy import stats\n",
        "from scipy.stats import t"
      ],
      "execution_count": 2,
      "outputs": [
        {
          "output_type": "stream",
          "text": [
            "/usr/local/lib/python3.6/dist-packages/statsmodels/tools/_testing.py:19: FutureWarning: pandas.util.testing is deprecated. Use the functions in the public API at pandas.testing instead.\n",
            "  import pandas.util.testing as tm\n"
          ],
          "name": "stderr"
        }
      ]
    },
    {
      "cell_type": "code",
      "metadata": {
        "id": "82F7B9BiqH-_",
        "outputId": "443784f9-f245-4cf9-8f0d-104c6fcc83f7",
        "colab": {
          "base_uri": "https://localhost:8080/"
        }
      },
      "source": [
        "from google.colab import drive\n",
        "drive.mount('/content/drive')"
      ],
      "execution_count": 3,
      "outputs": [
        {
          "output_type": "stream",
          "text": [
            "Mounted at /content/drive\n"
          ],
          "name": "stdout"
        }
      ]
    },
    {
      "cell_type": "markdown",
      "metadata": {
        "id": "KWmtLulk4xso"
      },
      "source": [
        "#DataFrames"
      ]
    },
    {
      "cell_type": "code",
      "metadata": {
        "id": "EE3KvgF1sd94"
      },
      "source": [
        "\"\"\"dfMicroDados =  pd.read_csv('/content/drive/Shared drives/Trabalho Estátistica/MICRODADOS_ENADE_2016.csv',sep=';',decimal=',')\n",
        "dfMicroDados.shape\n",
        "\"\"\""
      ],
      "execution_count": null,
      "outputs": []
    },
    {
      "cell_type": "code",
      "metadata": {
        "id": "pgUTDeY226aW"
      },
      "source": [
        "dfConceito = pd.read_excel('/content/drive/Shared drives/Trabalho Estátistica/conceito_enade2016.xlsx')"
      ],
      "execution_count": 4,
      "outputs": []
    },
    {
      "cell_type": "code",
      "metadata": {
        "id": "p6S8HmC9s1Rj",
        "outputId": "7cfd4fbf-012b-4208-d1a5-363045aa06a1",
        "colab": {
          "base_uri": "https://localhost:8080/"
        }
      },
      "source": [
        "dfConceito.info()"
      ],
      "execution_count": 5,
      "outputs": [
        {
          "output_type": "stream",
          "text": [
            "<class 'pandas.core.frame.DataFrame'>\n",
            "RangeIndex: 4299 entries, 0 to 4298\n",
            "Data columns (total 21 columns):\n",
            " #   Column                     Non-Null Count  Dtype  \n",
            "---  ------                     --------------  -----  \n",
            " 0   Ano                        4299 non-null   int64  \n",
            " 1   Código da IES              4299 non-null   int64  \n",
            " 2   Nome da IES                4299 non-null   object \n",
            " 3   Sigla da IES               4299 non-null   object \n",
            " 4   Organização Acadêmica      4299 non-null   object \n",
            " 5   Categoria Administrativa   4299 non-null   object \n",
            " 6   Código do Curso            4299 non-null   int64  \n",
            " 7   Código da Área             4299 non-null   int64  \n",
            " 8   Área de Enquadramento      4299 non-null   object \n",
            " 9   Modalidade de Ensino       4299 non-null   object \n",
            " 10  Código do Município        4299 non-null   int64  \n",
            " 11  Município do Curso         4299 non-null   object \n",
            " 12  Sigla da UF                4299 non-null   object \n",
            " 13  Concluintes Inscritos      4299 non-null   int64  \n",
            " 14  Concluintes Participantes  4299 non-null   int64  \n",
            " 15  Nota Bruta - FG            4200 non-null   float64\n",
            " 16  Nota Padronizada - FG      4200 non-null   float64\n",
            " 17  Nota Bruta - CE            4200 non-null   float64\n",
            " 18  Nota Padronizada - CE      4200 non-null   float64\n",
            " 19  Conceito Enade (Contínuo)  4200 non-null   float64\n",
            " 20  Conceito Enade (Faixa)     4299 non-null   object \n",
            "dtypes: float64(5), int64(7), object(9)\n",
            "memory usage: 705.4+ KB\n"
          ],
          "name": "stdout"
        }
      ]
    },
    {
      "cell_type": "markdown",
      "metadata": {
        "id": "OU0beEPAbNSz"
      },
      "source": [
        "## Tratamento do Dataframe 'Conceito' para as seguintes colunas\n",
        " 1. codigo da IES \n",
        " 2. Sigla da IES \n",
        " 3. Organização Acadêmica \n",
        " 4. 'Município do Curso' \n",
        " 5. 'Sigla da UF' \n",
        " 6. Concluintes Inscritos \n",
        " 7. 'Concluintes Participantes \n",
        " 8. <s> 'Nota Bruta - FG', #* deixar por ultimo</s>\n",
        " 9. 'Nota Padronizada - FG' \n",
        " 10. <s> 'Nota Bruta - CE', #* deixar por ultimo </s>\n",
        " 11. 'Nota Padronizada - CE', \n",
        " 12. 'Conceito Enade (Contínuo)' \n",
        " 13. Conceito Enade (Faixa)\n",
        " 14. Código da Área\n",
        "\n",
        "\n"
      ]
    },
    {
      "cell_type": "code",
      "metadata": {
        "id": "hWLLrJN8aGRB"
      },
      "source": [
        "dfMedicinaC = dfConceito[dfConceito['Área de Enquadramento'] == 'MEDICINA'][['Código da Área','Código da IES','Sigla da IES','Município do Curso', 'Sigla da UF','Concluintes Inscritos', 'Concluintes Participantes','Nota Padronizada - FG','Nota Padronizada - CE','Conceito Enade (Contínuo)','Conceito Enade (Faixa)']]"
      ],
      "execution_count": 6,
      "outputs": []
    },
    {
      "cell_type": "code",
      "metadata": {
        "id": "4NHFjSXXn261"
      },
      "source": [
        "dfMedicinaC['Conceito Enade (Faixa)'] = dfMedicinaC['Conceito Enade (Faixa)'].astype(int)"
      ],
      "execution_count": 7,
      "outputs": []
    },
    {
      "cell_type": "code",
      "metadata": {
        "id": "GLCaOrDkdzgQ"
      },
      "source": [
        "dfMedicinaC = dfMedicinaC.reset_index()"
      ],
      "execution_count": 8,
      "outputs": []
    },
    {
      "cell_type": "markdown",
      "metadata": {
        "id": "t1PkMRUY5KoG"
      },
      "source": [
        "## Montando uma coluna de regiões\n",
        "1 = Região Norte (NO)\n",
        "norte = ['RO','AC','AM','RR' ,'PA' , 'AP' ,'TO']\n",
        "\n",
        "2 = Região Nordeste (NE)\n",
        "nordeste = ['MA','PI','CE','RN','PB','PE','AL','SE','BA']\n",
        "\n",
        "3 = Região Sudeste (SE)\n",
        "sudeste = ['MG','ES','RJ,'SP']\n",
        "\n",
        "4 = Região Sul (SUL)\n",
        "sul = ['PR','SC','RS']\n",
        "\n",
        "5 = Região Centro-Oeste (CO)\n",
        "CentroOeste = ['MS','MT','GO','DF']"
      ]
    },
    {
      "cell_type": "code",
      "metadata": {
        "id": "5Mm5FpYK7ZiY"
      },
      "source": [
        "norte = ['RO','AC','AM','RR' ,'PA' , 'AP' ,'TO']\n",
        "nordeste = ['MA','PI','CE','RN','PB','PE','AL','SE','BA']\n",
        "sudeste = ['MG','ES','RJ','SP']\n",
        "sul = ['PR','SC','RS']\n",
        "centroOeste = ['MS','MT','GO','DF']"
      ],
      "execution_count": 9,
      "outputs": []
    },
    {
      "cell_type": "code",
      "metadata": {
        "id": "xFqdIFjhKFGW"
      },
      "source": [
        "dfMedicinaC['Regiao'] = np.nan"
      ],
      "execution_count": 10,
      "outputs": []
    },
    {
      "cell_type": "code",
      "metadata": {
        "id": "DGPT1npCJgn-",
        "outputId": "dc4d5ce7-287d-4af5-e356-9b446f9025aa",
        "colab": {
          "base_uri": "https://localhost:8080/",
          "height": 313
        }
      },
      "source": [
        "dfMedicinaC['Regiao'] = dfMedicinaC['Regiao'].astype(int)"
      ],
      "execution_count": 11,
      "outputs": [
        {
          "output_type": "error",
          "ename": "ValueError",
          "evalue": "ignored",
          "traceback": [
            "\u001b[0;31m---------------------------------------------------------------------------\u001b[0m",
            "\u001b[0;31mValueError\u001b[0m                                Traceback (most recent call last)",
            "\u001b[0;32m<ipython-input-11-80cb3af6c317>\u001b[0m in \u001b[0;36m<module>\u001b[0;34m()\u001b[0m\n\u001b[0;32m----> 1\u001b[0;31m \u001b[0mdfMedicinaC\u001b[0m\u001b[0;34m[\u001b[0m\u001b[0;34m'Regiao'\u001b[0m\u001b[0;34m]\u001b[0m \u001b[0;34m=\u001b[0m \u001b[0mdfMedicinaC\u001b[0m\u001b[0;34m[\u001b[0m\u001b[0;34m'Regiao'\u001b[0m\u001b[0;34m]\u001b[0m\u001b[0;34m.\u001b[0m\u001b[0mastype\u001b[0m\u001b[0;34m(\u001b[0m\u001b[0mint\u001b[0m\u001b[0;34m)\u001b[0m\u001b[0;34m\u001b[0m\u001b[0;34m\u001b[0m\u001b[0m\n\u001b[0m",
            "\u001b[0;32m/usr/local/lib/python3.6/dist-packages/pandas/core/generic.py\u001b[0m in \u001b[0;36mastype\u001b[0;34m(self, dtype, copy, errors)\u001b[0m\n\u001b[1;32m   5544\u001b[0m         \u001b[0;32melse\u001b[0m\u001b[0;34m:\u001b[0m\u001b[0;34m\u001b[0m\u001b[0;34m\u001b[0m\u001b[0m\n\u001b[1;32m   5545\u001b[0m             \u001b[0;31m# else, only a single dtype is given\u001b[0m\u001b[0;34m\u001b[0m\u001b[0;34m\u001b[0m\u001b[0;34m\u001b[0m\u001b[0m\n\u001b[0;32m-> 5546\u001b[0;31m             \u001b[0mnew_data\u001b[0m \u001b[0;34m=\u001b[0m \u001b[0mself\u001b[0m\u001b[0;34m.\u001b[0m\u001b[0m_mgr\u001b[0m\u001b[0;34m.\u001b[0m\u001b[0mastype\u001b[0m\u001b[0;34m(\u001b[0m\u001b[0mdtype\u001b[0m\u001b[0;34m=\u001b[0m\u001b[0mdtype\u001b[0m\u001b[0;34m,\u001b[0m \u001b[0mcopy\u001b[0m\u001b[0;34m=\u001b[0m\u001b[0mcopy\u001b[0m\u001b[0;34m,\u001b[0m \u001b[0merrors\u001b[0m\u001b[0;34m=\u001b[0m\u001b[0merrors\u001b[0m\u001b[0;34m,\u001b[0m\u001b[0;34m)\u001b[0m\u001b[0;34m\u001b[0m\u001b[0;34m\u001b[0m\u001b[0m\n\u001b[0m\u001b[1;32m   5547\u001b[0m             \u001b[0;32mreturn\u001b[0m \u001b[0mself\u001b[0m\u001b[0;34m.\u001b[0m\u001b[0m_constructor\u001b[0m\u001b[0;34m(\u001b[0m\u001b[0mnew_data\u001b[0m\u001b[0;34m)\u001b[0m\u001b[0;34m.\u001b[0m\u001b[0m__finalize__\u001b[0m\u001b[0;34m(\u001b[0m\u001b[0mself\u001b[0m\u001b[0;34m,\u001b[0m \u001b[0mmethod\u001b[0m\u001b[0;34m=\u001b[0m\u001b[0;34m\"astype\"\u001b[0m\u001b[0;34m)\u001b[0m\u001b[0;34m\u001b[0m\u001b[0;34m\u001b[0m\u001b[0m\n\u001b[1;32m   5548\u001b[0m \u001b[0;34m\u001b[0m\u001b[0m\n",
            "\u001b[0;32m/usr/local/lib/python3.6/dist-packages/pandas/core/internals/managers.py\u001b[0m in \u001b[0;36mastype\u001b[0;34m(self, dtype, copy, errors)\u001b[0m\n\u001b[1;32m    593\u001b[0m         \u001b[0mself\u001b[0m\u001b[0;34m,\u001b[0m \u001b[0mdtype\u001b[0m\u001b[0;34m,\u001b[0m \u001b[0mcopy\u001b[0m\u001b[0;34m:\u001b[0m \u001b[0mbool\u001b[0m \u001b[0;34m=\u001b[0m \u001b[0;32mFalse\u001b[0m\u001b[0;34m,\u001b[0m \u001b[0merrors\u001b[0m\u001b[0;34m:\u001b[0m \u001b[0mstr\u001b[0m \u001b[0;34m=\u001b[0m \u001b[0;34m\"raise\"\u001b[0m\u001b[0;34m\u001b[0m\u001b[0;34m\u001b[0m\u001b[0m\n\u001b[1;32m    594\u001b[0m     ) -> \"BlockManager\":\n\u001b[0;32m--> 595\u001b[0;31m         \u001b[0;32mreturn\u001b[0m \u001b[0mself\u001b[0m\u001b[0;34m.\u001b[0m\u001b[0mapply\u001b[0m\u001b[0;34m(\u001b[0m\u001b[0;34m\"astype\"\u001b[0m\u001b[0;34m,\u001b[0m \u001b[0mdtype\u001b[0m\u001b[0;34m=\u001b[0m\u001b[0mdtype\u001b[0m\u001b[0;34m,\u001b[0m \u001b[0mcopy\u001b[0m\u001b[0;34m=\u001b[0m\u001b[0mcopy\u001b[0m\u001b[0;34m,\u001b[0m \u001b[0merrors\u001b[0m\u001b[0;34m=\u001b[0m\u001b[0merrors\u001b[0m\u001b[0;34m)\u001b[0m\u001b[0;34m\u001b[0m\u001b[0;34m\u001b[0m\u001b[0m\n\u001b[0m\u001b[1;32m    596\u001b[0m \u001b[0;34m\u001b[0m\u001b[0m\n\u001b[1;32m    597\u001b[0m     def convert(\n",
            "\u001b[0;32m/usr/local/lib/python3.6/dist-packages/pandas/core/internals/managers.py\u001b[0m in \u001b[0;36mapply\u001b[0;34m(self, f, align_keys, **kwargs)\u001b[0m\n\u001b[1;32m    404\u001b[0m                 \u001b[0mapplied\u001b[0m \u001b[0;34m=\u001b[0m \u001b[0mb\u001b[0m\u001b[0;34m.\u001b[0m\u001b[0mapply\u001b[0m\u001b[0;34m(\u001b[0m\u001b[0mf\u001b[0m\u001b[0;34m,\u001b[0m \u001b[0;34m**\u001b[0m\u001b[0mkwargs\u001b[0m\u001b[0;34m)\u001b[0m\u001b[0;34m\u001b[0m\u001b[0;34m\u001b[0m\u001b[0m\n\u001b[1;32m    405\u001b[0m             \u001b[0;32melse\u001b[0m\u001b[0;34m:\u001b[0m\u001b[0;34m\u001b[0m\u001b[0;34m\u001b[0m\u001b[0m\n\u001b[0;32m--> 406\u001b[0;31m                 \u001b[0mapplied\u001b[0m \u001b[0;34m=\u001b[0m \u001b[0mgetattr\u001b[0m\u001b[0;34m(\u001b[0m\u001b[0mb\u001b[0m\u001b[0;34m,\u001b[0m \u001b[0mf\u001b[0m\u001b[0;34m)\u001b[0m\u001b[0;34m(\u001b[0m\u001b[0;34m**\u001b[0m\u001b[0mkwargs\u001b[0m\u001b[0;34m)\u001b[0m\u001b[0;34m\u001b[0m\u001b[0;34m\u001b[0m\u001b[0m\n\u001b[0m\u001b[1;32m    407\u001b[0m             \u001b[0mresult_blocks\u001b[0m \u001b[0;34m=\u001b[0m \u001b[0m_extend_blocks\u001b[0m\u001b[0;34m(\u001b[0m\u001b[0mapplied\u001b[0m\u001b[0;34m,\u001b[0m \u001b[0mresult_blocks\u001b[0m\u001b[0;34m)\u001b[0m\u001b[0;34m\u001b[0m\u001b[0;34m\u001b[0m\u001b[0m\n\u001b[1;32m    408\u001b[0m \u001b[0;34m\u001b[0m\u001b[0m\n",
            "\u001b[0;32m/usr/local/lib/python3.6/dist-packages/pandas/core/internals/blocks.py\u001b[0m in \u001b[0;36mastype\u001b[0;34m(self, dtype, copy, errors)\u001b[0m\n\u001b[1;32m    593\u001b[0m             \u001b[0mvals1d\u001b[0m \u001b[0;34m=\u001b[0m \u001b[0mvalues\u001b[0m\u001b[0;34m.\u001b[0m\u001b[0mravel\u001b[0m\u001b[0;34m(\u001b[0m\u001b[0;34m)\u001b[0m\u001b[0;34m\u001b[0m\u001b[0;34m\u001b[0m\u001b[0m\n\u001b[1;32m    594\u001b[0m             \u001b[0;32mtry\u001b[0m\u001b[0;34m:\u001b[0m\u001b[0;34m\u001b[0m\u001b[0;34m\u001b[0m\u001b[0m\n\u001b[0;32m--> 595\u001b[0;31m                 \u001b[0mvalues\u001b[0m \u001b[0;34m=\u001b[0m \u001b[0mastype_nansafe\u001b[0m\u001b[0;34m(\u001b[0m\u001b[0mvals1d\u001b[0m\u001b[0;34m,\u001b[0m \u001b[0mdtype\u001b[0m\u001b[0;34m,\u001b[0m \u001b[0mcopy\u001b[0m\u001b[0;34m=\u001b[0m\u001b[0;32mTrue\u001b[0m\u001b[0;34m)\u001b[0m\u001b[0;34m\u001b[0m\u001b[0;34m\u001b[0m\u001b[0m\n\u001b[0m\u001b[1;32m    596\u001b[0m             \u001b[0;32mexcept\u001b[0m \u001b[0;34m(\u001b[0m\u001b[0mValueError\u001b[0m\u001b[0;34m,\u001b[0m \u001b[0mTypeError\u001b[0m\u001b[0;34m)\u001b[0m\u001b[0;34m:\u001b[0m\u001b[0;34m\u001b[0m\u001b[0;34m\u001b[0m\u001b[0m\n\u001b[1;32m    597\u001b[0m                 \u001b[0;31m# e.g. astype_nansafe can fail on object-dtype of strings\u001b[0m\u001b[0;34m\u001b[0m\u001b[0;34m\u001b[0m\u001b[0;34m\u001b[0m\u001b[0m\n",
            "\u001b[0;32m/usr/local/lib/python3.6/dist-packages/pandas/core/dtypes/cast.py\u001b[0m in \u001b[0;36mastype_nansafe\u001b[0;34m(arr, dtype, copy, skipna)\u001b[0m\n\u001b[1;32m    966\u001b[0m \u001b[0;34m\u001b[0m\u001b[0m\n\u001b[1;32m    967\u001b[0m         \u001b[0;32mif\u001b[0m \u001b[0;32mnot\u001b[0m \u001b[0mnp\u001b[0m\u001b[0;34m.\u001b[0m\u001b[0misfinite\u001b[0m\u001b[0;34m(\u001b[0m\u001b[0marr\u001b[0m\u001b[0;34m)\u001b[0m\u001b[0;34m.\u001b[0m\u001b[0mall\u001b[0m\u001b[0;34m(\u001b[0m\u001b[0;34m)\u001b[0m\u001b[0;34m:\u001b[0m\u001b[0;34m\u001b[0m\u001b[0;34m\u001b[0m\u001b[0m\n\u001b[0;32m--> 968\u001b[0;31m             \u001b[0;32mraise\u001b[0m \u001b[0mValueError\u001b[0m\u001b[0;34m(\u001b[0m\u001b[0;34m\"Cannot convert non-finite values (NA or inf) to integer\"\u001b[0m\u001b[0;34m)\u001b[0m\u001b[0;34m\u001b[0m\u001b[0;34m\u001b[0m\u001b[0m\n\u001b[0m\u001b[1;32m    969\u001b[0m \u001b[0;34m\u001b[0m\u001b[0m\n\u001b[1;32m    970\u001b[0m     \u001b[0;32melif\u001b[0m \u001b[0mis_object_dtype\u001b[0m\u001b[0;34m(\u001b[0m\u001b[0marr\u001b[0m\u001b[0;34m)\u001b[0m\u001b[0;34m:\u001b[0m\u001b[0;34m\u001b[0m\u001b[0;34m\u001b[0m\u001b[0m\n",
            "\u001b[0;31mValueError\u001b[0m: Cannot convert non-finite values (NA or inf) to integer"
          ]
        }
      ]
    },
    {
      "cell_type": "code",
      "metadata": {
        "id": "s9oSrGsHAEKn"
      },
      "source": [
        "condicao = [np.isin(dfMedicinaC['Sigla da UF'], norte),\n",
        "            np.isin(dfMedicinaC['Sigla da UF'], nordeste),\n",
        "            np.isin(dfMedicinaC['Sigla da UF'], sudeste),\n",
        "            np.isin(dfMedicinaC['Sigla da UF'], sul),\n",
        "           np.isin(dfMedicinaC['Sigla da UF'],  centroOeste)]\n",
        "\n",
        "resultados = [1,2,3,4,5]\n",
        "\n",
        "dfMedicinaC['Regiao'] = np.select(condicao, resultados)"
      ],
      "execution_count": 12,
      "outputs": []
    },
    {
      "cell_type": "code",
      "metadata": {
        "id": "RMzUABdXa-mH",
        "outputId": "8f0b88a7-aa6e-4da2-fb1f-6800e020b9ee",
        "colab": {
          "base_uri": "https://localhost:8080/"
        }
      },
      "source": [
        "dfMedicinaC.info()"
      ],
      "execution_count": 13,
      "outputs": [
        {
          "output_type": "stream",
          "text": [
            "<class 'pandas.core.frame.DataFrame'>\n",
            "RangeIndex: 176 entries, 0 to 175\n",
            "Data columns (total 13 columns):\n",
            " #   Column                     Non-Null Count  Dtype  \n",
            "---  ------                     --------------  -----  \n",
            " 0   index                      176 non-null    int64  \n",
            " 1   Código da Área             176 non-null    int64  \n",
            " 2   Código da IES              176 non-null    int64  \n",
            " 3   Sigla da IES               176 non-null    object \n",
            " 4   Município do Curso         176 non-null    object \n",
            " 5   Sigla da UF                176 non-null    object \n",
            " 6   Concluintes Inscritos      176 non-null    int64  \n",
            " 7   Concluintes Participantes  176 non-null    int64  \n",
            " 8   Nota Padronizada - FG      176 non-null    float64\n",
            " 9   Nota Padronizada - CE      176 non-null    float64\n",
            " 10  Conceito Enade (Contínuo)  176 non-null    float64\n",
            " 11  Conceito Enade (Faixa)     176 non-null    int64  \n",
            " 12  Regiao                     176 non-null    int64  \n",
            "dtypes: float64(3), int64(7), object(3)\n",
            "memory usage: 18.0+ KB\n"
          ],
          "name": "stdout"
        }
      ]
    },
    {
      "cell_type": "code",
      "metadata": {
        "id": "EClgGAjLmYyg",
        "outputId": "7015e098-688e-445e-c24e-0d0844573668",
        "colab": {
          "base_uri": "https://localhost:8080/",
          "height": 241
        }
      },
      "source": [
        "dfMedicinaC.head()"
      ],
      "execution_count": 14,
      "outputs": [
        {
          "output_type": "execute_result",
          "data": {
            "text/html": [
              "<div>\n",
              "<style scoped>\n",
              "    .dataframe tbody tr th:only-of-type {\n",
              "        vertical-align: middle;\n",
              "    }\n",
              "\n",
              "    .dataframe tbody tr th {\n",
              "        vertical-align: top;\n",
              "    }\n",
              "\n",
              "    .dataframe thead th {\n",
              "        text-align: right;\n",
              "    }\n",
              "</style>\n",
              "<table border=\"1\" class=\"dataframe\">\n",
              "  <thead>\n",
              "    <tr style=\"text-align: right;\">\n",
              "      <th></th>\n",
              "      <th>index</th>\n",
              "      <th>Código da Área</th>\n",
              "      <th>Código da IES</th>\n",
              "      <th>Sigla da IES</th>\n",
              "      <th>Município do Curso</th>\n",
              "      <th>Sigla da UF</th>\n",
              "      <th>Concluintes Inscritos</th>\n",
              "      <th>Concluintes Participantes</th>\n",
              "      <th>Nota Padronizada - FG</th>\n",
              "      <th>Nota Padronizada - CE</th>\n",
              "      <th>Conceito Enade (Contínuo)</th>\n",
              "      <th>Conceito Enade (Faixa)</th>\n",
              "      <th>Regiao</th>\n",
              "    </tr>\n",
              "  </thead>\n",
              "  <tbody>\n",
              "    <tr>\n",
              "      <th>0</th>\n",
              "      <td>2</td>\n",
              "      <td>12</td>\n",
              "      <td>1</td>\n",
              "      <td>UFMT</td>\n",
              "      <td>CUIABÁ</td>\n",
              "      <td>MT</td>\n",
              "      <td>35</td>\n",
              "      <td>33</td>\n",
              "      <td>3.473179</td>\n",
              "      <td>2.759319</td>\n",
              "      <td>2.937784</td>\n",
              "      <td>3</td>\n",
              "      <td>5</td>\n",
              "    </tr>\n",
              "    <tr>\n",
              "      <th>1</th>\n",
              "      <td>8</td>\n",
              "      <td>12</td>\n",
              "      <td>2</td>\n",
              "      <td>UNB</td>\n",
              "      <td>BRASÍLIA</td>\n",
              "      <td>DF</td>\n",
              "      <td>89</td>\n",
              "      <td>85</td>\n",
              "      <td>3.436836</td>\n",
              "      <td>2.841475</td>\n",
              "      <td>2.990315</td>\n",
              "      <td>4</td>\n",
              "      <td>5</td>\n",
              "    </tr>\n",
              "    <tr>\n",
              "      <th>2</th>\n",
              "      <td>13</td>\n",
              "      <td>12</td>\n",
              "      <td>3</td>\n",
              "      <td>UFS</td>\n",
              "      <td>ARACAJU</td>\n",
              "      <td>SE</td>\n",
              "      <td>53</td>\n",
              "      <td>53</td>\n",
              "      <td>2.643099</td>\n",
              "      <td>2.658829</td>\n",
              "      <td>2.654896</td>\n",
              "      <td>3</td>\n",
              "      <td>2</td>\n",
              "    </tr>\n",
              "    <tr>\n",
              "      <th>3</th>\n",
              "      <td>17</td>\n",
              "      <td>12</td>\n",
              "      <td>4</td>\n",
              "      <td>UFAM</td>\n",
              "      <td>MANAUS</td>\n",
              "      <td>AM</td>\n",
              "      <td>36</td>\n",
              "      <td>35</td>\n",
              "      <td>4.273778</td>\n",
              "      <td>2.299221</td>\n",
              "      <td>2.792860</td>\n",
              "      <td>3</td>\n",
              "      <td>1</td>\n",
              "    </tr>\n",
              "    <tr>\n",
              "      <th>4</th>\n",
              "      <td>21</td>\n",
              "      <td>12</td>\n",
              "      <td>5</td>\n",
              "      <td>UFPI</td>\n",
              "      <td>TERESINA</td>\n",
              "      <td>PI</td>\n",
              "      <td>45</td>\n",
              "      <td>45</td>\n",
              "      <td>3.533455</td>\n",
              "      <td>3.565352</td>\n",
              "      <td>3.557378</td>\n",
              "      <td>4</td>\n",
              "      <td>2</td>\n",
              "    </tr>\n",
              "  </tbody>\n",
              "</table>\n",
              "</div>"
            ],
            "text/plain": [
              "   index  Código da Área  ...  Conceito Enade (Faixa) Regiao\n",
              "0      2              12  ...                       3      5\n",
              "1      8              12  ...                       4      5\n",
              "2     13              12  ...                       3      2\n",
              "3     17              12  ...                       3      1\n",
              "4     21              12  ...                       4      2\n",
              "\n",
              "[5 rows x 13 columns]"
            ]
          },
          "metadata": {
            "tags": []
          },
          "execution_count": 14
        }
      ]
    },
    {
      "cell_type": "markdown",
      "metadata": {
        "id": "sO_24gA_9gfb"
      },
      "source": [
        "#ITEM A\n"
      ]
    },
    {
      "cell_type": "markdown",
      "metadata": {
        "id": "zrSpaAKehFxl"
      },
      "source": [
        "exemplos para se basear\n",
        "----box plot\n",
        "\n",
        "se.boxplot(bdenade['conceito']).set_title('Box-plot do conceito ENADE contínuo')\n",
        "\n",
        " ----gráfico de colunas\n",
        "\n",
        "categoriadm.plot.bar(color = 'gray')"
      ]
    },
    {
      "cell_type": "code",
      "metadata": {
        "id": "BY-ESSUclWtS",
        "outputId": "6cb492ed-bf32-4277-a2e0-5ec568ead27b",
        "colab": {
          "base_uri": "https://localhost:8080/",
          "height": 366
        }
      },
      "source": [
        "se.boxplot(dfMedicinaC['Nota Padronizada - CE']).set_title('Gráfico Box-plot do conceito ENADE Nota Pardonizada CE')"
      ],
      "execution_count": null,
      "outputs": [
        {
          "output_type": "stream",
          "text": [
            "/usr/local/lib/python3.6/dist-packages/seaborn/_decorators.py:43: FutureWarning: Pass the following variable as a keyword arg: x. From version 0.12, the only valid positional argument will be `data`, and passing other arguments without an explicit keyword will result in an error or misinterpretation.\n",
            "  FutureWarning\n"
          ],
          "name": "stderr"
        },
        {
          "output_type": "execute_result",
          "data": {
            "text/plain": [
              "Text(0.5, 1.0, 'Gráfico Box-plot do conceito ENADE Nota Pardonizada CE')"
            ]
          },
          "metadata": {
            "tags": []
          },
          "execution_count": 68
        },
        {
          "output_type": "display_data",
          "data": {
            "image/png": "[encoded data removed]",
            "text/plain": [
              "<Figure size 432x288 with 1 Axes>"
            ]
          },
          "metadata": {
            "tags": [],
            "needs_background": "light"
          }
        }
      ]
    },
    {
      "cell_type": "code",
      "metadata": {
        "id": "eoCe2cQAj3d1",
        "outputId": "afe9c919-0676-4065-a0e5-b24fb389b059",
        "colab": {
          "base_uri": "https://localhost:8080/",
          "height": 366
        }
      },
      "source": [
        "se.boxplot(dfMedicinaC['Nota Padronizada - FG']).set_title('Gráfico Box-plot do conceito ENADE Nota Pardonizada FG')"
      ],
      "execution_count": null,
      "outputs": [
        {
          "output_type": "stream",
          "text": [
            "/usr/local/lib/python3.6/dist-packages/seaborn/_decorators.py:43: FutureWarning: Pass the following variable as a keyword arg: x. From version 0.12, the only valid positional argument will be `data`, and passing other arguments without an explicit keyword will result in an error or misinterpretation.\n",
            "  FutureWarning\n"
          ],
          "name": "stderr"
        },
        {
          "output_type": "execute_result",
          "data": {
            "text/plain": [
              "Text(0.5, 1.0, 'Gráfico Box-plot do conceito ENADE Nota Pardonizada')"
            ]
          },
          "metadata": {
            "tags": []
          },
          "execution_count": 67
        },
        {
          "output_type": "display_data",
          "data": {
            "image/png": "[encoded data removed]",
            "text/plain": [
              "<Figure size 432x288 with 1 Axes>"
            ]
          },
          "metadata": {
            "tags": [],
            "needs_background": "light"
          }
        }
      ]
    },
    {
      "cell_type": "code",
      "metadata": {
        "id": "8VOGbErUmBAs",
        "outputId": "562ef7b1-ea48-40bc-8557-2451885763f8",
        "colab": {
          "base_uri": "https://localhost:8080/",
          "height": 35
        }
      },
      "source": [
        "dfMedicinaC['Conceito Enade (Faixa)'][0]"
      ],
      "execution_count": null,
      "outputs": [
        {
          "output_type": "execute_result",
          "data": {
            "application/vnd.google.colaboratory.intrinsic+json": {
              "type": "string"
            },
            "text/plain": [
              "'3'"
            ]
          },
          "metadata": {
            "tags": []
          },
          "execution_count": 78
        }
      ]
    },
    {
      "cell_type": "code",
      "metadata": {
        "id": "vzXNF3Dflpv2",
        "outputId": "1c79a9e7-156e-4f10-b599-f8cac44821cd",
        "colab": {
          "base_uri": "https://localhost:8080/",
          "height": 502
        }
      },
      "source": [
        "#Conceito Enade (Faixa)\n",
        "se.boxplot(dfMedicinaC['Conceito Enade (Faixa)']).set_title('Conceito ENADE Faixa')\n",
        "dfMedicinaC['Conceito Enade (Faixa)'].describe()"
      ],
      "execution_count": null,
      "outputs": [
        {
          "output_type": "stream",
          "text": [
            "/usr/local/lib/python3.6/dist-packages/seaborn/_decorators.py:43: FutureWarning: Pass the following variable as a keyword arg: x. From version 0.12, the only valid positional argument will be `data`, and passing other arguments without an explicit keyword will result in an error or misinterpretation.\n",
            "  FutureWarning\n"
          ],
          "name": "stderr"
        },
        {
          "output_type": "execute_result",
          "data": {
            "text/plain": [
              "count    176.000000\n",
              "mean       3.119318\n",
              "std        0.850191\n",
              "min        1.000000\n",
              "25%        3.000000\n",
              "50%        3.000000\n",
              "75%        4.000000\n",
              "max        5.000000\n",
              "Name: Conceito Enade (Faixa), dtype: float64"
            ]
          },
          "metadata": {
            "tags": []
          },
          "execution_count": 89
        },
        {
          "output_type": "display_data",
          "data": {
            "image/png": "[encoded data removed]",
            "text/plain": [
              "<Figure size 432x288 with 1 Axes>"
            ]
          },
          "metadata": {
            "tags": [],
            "needs_background": "light"
          }
        }
      ]
    },
    {
      "cell_type": "code",
      "metadata": {
        "id": "CsLKaaxhszbI",
        "outputId": "cfb8a933-3d56-4093-d275-c5954c40c52a",
        "colab": {
          "base_uri": "https://localhost:8080/",
          "height": 366
        }
      },
      "source": [
        "se.boxplot(dfMedicinaC['Conceito Enade (Contínuo)']).set_title('Gráfico Box-plot do conceito ENADE contínuo de Medicina')"
      ],
      "execution_count": null,
      "outputs": [
        {
          "output_type": "stream",
          "text": [
            "/usr/local/lib/python3.6/dist-packages/seaborn/_decorators.py:43: FutureWarning: Pass the following variable as a keyword arg: x. From version 0.12, the only valid positional argument will be `data`, and passing other arguments without an explicit keyword will result in an error or misinterpretation.\n",
            "  FutureWarning\n"
          ],
          "name": "stderr"
        },
        {
          "output_type": "execute_result",
          "data": {
            "text/plain": [
              "Text(0.5, 1.0, 'Box-plot do conceito ENADE contínuo')"
            ]
          },
          "metadata": {
            "tags": []
          },
          "execution_count": 64
        },
        {
          "output_type": "display_data",
          "data": {
            "image/png": "[encoded data removed]",
            "text/plain": [
              "<Figure size 432x288 with 1 Axes>"
            ]
          },
          "metadata": {
            "tags": [],
            "needs_background": "light"
          }
        }
      ]
    },
    {
      "cell_type": "markdown",
      "metadata": {
        "id": "sl7NFLvuesFE"
      },
      "source": [
        "\n",
        "\n",
        "```\n",
        "# This is formatted as code\n",
        "```\n",
        "\n",
        "CO_REGIAO_CURSO\n",
        "1 = Região Norte (NO)\n",
        "2 = Região Nordeste (NE)\n",
        "3 = Região Sudeste (SE)\n",
        "4 = Região Sul (SUL)\n",
        "5 = Região Centro-Oeste (CO)"
      ]
    },
    {
      "cell_type": "code",
      "metadata": {
        "id": "6F_gCvA2wQeN"
      },
      "source": [
        ""
      ],
      "execution_count": null,
      "outputs": []
    },
    {
      "cell_type": "markdown",
      "metadata": {
        "id": "x24a1XvjyqkO"
      },
      "source": [
        "# **ITEM B**\n"
      ]
    },
    {
      "cell_type": "code",
      "metadata": {
        "id": "Y_rakocvy9HR",
        "outputId": "ba61f0ad-6fd8-4e50-95d8-c3f1d2631671",
        "colab": {
          "base_uri": "https://localhost:8080/",
          "height": 241
        }
      },
      "source": [
        "dfMedicinaC.head()"
      ],
      "execution_count": 15,
      "outputs": [
        {
          "output_type": "execute_result",
          "data": {
            "text/html": [
              "<div>\n",
              "<style scoped>\n",
              "    .dataframe tbody tr th:only-of-type {\n",
              "        vertical-align: middle;\n",
              "    }\n",
              "\n",
              "    .dataframe tbody tr th {\n",
              "        vertical-align: top;\n",
              "    }\n",
              "\n",
              "    .dataframe thead th {\n",
              "        text-align: right;\n",
              "    }\n",
              "</style>\n",
              "<table border=\"1\" class=\"dataframe\">\n",
              "  <thead>\n",
              "    <tr style=\"text-align: right;\">\n",
              "      <th></th>\n",
              "      <th>index</th>\n",
              "      <th>Código da Área</th>\n",
              "      <th>Código da IES</th>\n",
              "      <th>Sigla da IES</th>\n",
              "      <th>Município do Curso</th>\n",
              "      <th>Sigla da UF</th>\n",
              "      <th>Concluintes Inscritos</th>\n",
              "      <th>Concluintes Participantes</th>\n",
              "      <th>Nota Padronizada - FG</th>\n",
              "      <th>Nota Padronizada - CE</th>\n",
              "      <th>Conceito Enade (Contínuo)</th>\n",
              "      <th>Conceito Enade (Faixa)</th>\n",
              "      <th>Regiao</th>\n",
              "    </tr>\n",
              "  </thead>\n",
              "  <tbody>\n",
              "    <tr>\n",
              "      <th>0</th>\n",
              "      <td>2</td>\n",
              "      <td>12</td>\n",
              "      <td>1</td>\n",
              "      <td>UFMT</td>\n",
              "      <td>CUIABÁ</td>\n",
              "      <td>MT</td>\n",
              "      <td>35</td>\n",
              "      <td>33</td>\n",
              "      <td>3.473179</td>\n",
              "      <td>2.759319</td>\n",
              "      <td>2.937784</td>\n",
              "      <td>3</td>\n",
              "      <td>5</td>\n",
              "    </tr>\n",
              "    <tr>\n",
              "      <th>1</th>\n",
              "      <td>8</td>\n",
              "      <td>12</td>\n",
              "      <td>2</td>\n",
              "      <td>UNB</td>\n",
              "      <td>BRASÍLIA</td>\n",
              "      <td>DF</td>\n",
              "      <td>89</td>\n",
              "      <td>85</td>\n",
              "      <td>3.436836</td>\n",
              "      <td>2.841475</td>\n",
              "      <td>2.990315</td>\n",
              "      <td>4</td>\n",
              "      <td>5</td>\n",
              "    </tr>\n",
              "    <tr>\n",
              "      <th>2</th>\n",
              "      <td>13</td>\n",
              "      <td>12</td>\n",
              "      <td>3</td>\n",
              "      <td>UFS</td>\n",
              "      <td>ARACAJU</td>\n",
              "      <td>SE</td>\n",
              "      <td>53</td>\n",
              "      <td>53</td>\n",
              "      <td>2.643099</td>\n",
              "      <td>2.658829</td>\n",
              "      <td>2.654896</td>\n",
              "      <td>3</td>\n",
              "      <td>2</td>\n",
              "    </tr>\n",
              "    <tr>\n",
              "      <th>3</th>\n",
              "      <td>17</td>\n",
              "      <td>12</td>\n",
              "      <td>4</td>\n",
              "      <td>UFAM</td>\n",
              "      <td>MANAUS</td>\n",
              "      <td>AM</td>\n",
              "      <td>36</td>\n",
              "      <td>35</td>\n",
              "      <td>4.273778</td>\n",
              "      <td>2.299221</td>\n",
              "      <td>2.792860</td>\n",
              "      <td>3</td>\n",
              "      <td>1</td>\n",
              "    </tr>\n",
              "    <tr>\n",
              "      <th>4</th>\n",
              "      <td>21</td>\n",
              "      <td>12</td>\n",
              "      <td>5</td>\n",
              "      <td>UFPI</td>\n",
              "      <td>TERESINA</td>\n",
              "      <td>PI</td>\n",
              "      <td>45</td>\n",
              "      <td>45</td>\n",
              "      <td>3.533455</td>\n",
              "      <td>3.565352</td>\n",
              "      <td>3.557378</td>\n",
              "      <td>4</td>\n",
              "      <td>2</td>\n",
              "    </tr>\n",
              "  </tbody>\n",
              "</table>\n",
              "</div>"
            ],
            "text/plain": [
              "   index  Código da Área  ...  Conceito Enade (Faixa) Regiao\n",
              "0      2              12  ...                       3      5\n",
              "1      8              12  ...                       4      5\n",
              "2     13              12  ...                       3      2\n",
              "3     17              12  ...                       3      1\n",
              "4     21              12  ...                       4      2\n",
              "\n",
              "[5 rows x 13 columns]"
            ]
          },
          "metadata": {
            "tags": []
          },
          "execution_count": 15
        }
      ]
    },
    {
      "cell_type": "code",
      "metadata": {
        "id": "wwstCH814Vjn"
      },
      "source": [
        "# cria variáveis para as colunas\n",
        "conc_inscritos = dfMedicinaC['Concluintes Inscritos']\n",
        "conc_participantes = dfMedicinaC['Concluintes Participantes']\n",
        "nota_fg = dfMedicinaC['Nota Padronizada - FG']\n",
        "nota_ce = dfMedicinaC['Nota Padronizada - CE']\n",
        "conceito_cont = dfMedicinaC['Conceito Enade (Contínuo)']\n",
        "conceito_faixa = dfMedicinaC['Conceito Enade (Faixa)']"
      ],
      "execution_count": 16,
      "outputs": []
    },
    {
      "cell_type": "code",
      "metadata": {
        "id": "P3t_ulaaFeUC"
      },
      "source": [
        "# função para calcular simetria\n",
        "def calc_simetria(media, mediana, moda):\n",
        "  if (media > mediana):\n",
        "    return 'ASSIMÉTRICA POSITIVA'\n",
        "  elif (media < mediana):\n",
        "    return 'ASSIMÉTRICA NEGATIVA'\n",
        "  else:\n",
        "    return 'SIMÉTRICA'"
      ],
      "execution_count": 17,
      "outputs": []
    },
    {
      "cell_type": "markdown",
      "metadata": {
        "id": "Bg9hB4jo8kdN"
      },
      "source": [
        "## **B - Variável 'Concluintes Inscritos'**"
      ]
    },
    {
      "cell_type": "code",
      "metadata": {
        "id": "qPrjWvIy9UK_",
        "outputId": "03aef0b5-5389-4c18-8118-152c05c348d6",
        "colab": {
          "base_uri": "https://localhost:8080/"
        }
      },
      "source": [
        "# Info\n",
        "conc_inscritos.describe()"
      ],
      "execution_count": 38,
      "outputs": [
        {
          "output_type": "execute_result",
          "data": {
            "text/plain": [
              "count    176.000000\n",
              "mean      90.017045\n",
              "std       48.043370\n",
              "min       20.000000\n",
              "25%       55.750000\n",
              "50%       84.000000\n",
              "75%      108.000000\n",
              "max      308.000000\n",
              "Name: Concluintes Inscritos, dtype: float64"
            ]
          },
          "metadata": {
            "tags": []
          },
          "execution_count": 38
        }
      ]
    },
    {
      "cell_type": "code",
      "metadata": {
        "id": "opWs7PU9-d1I",
        "outputId": "1ec91071-d658-427e-fafc-6bda622009e5",
        "colab": {
          "base_uri": "https://localhost:8080/"
        }
      },
      "source": [
        "# Criar lista\n",
        "inscritos_array = np.array(conc_inscritos, dtype = float)\n",
        "print (inscritos_array)"
      ],
      "execution_count": 39,
      "outputs": [
        {
          "output_type": "stream",
          "text": [
            "[ 35.  89.  53.  36.  45.  86. 165.  63.  77.  87.  83. 133.  95.  68.\n",
            " 163.  48. 106.  86.  42.  65.  75. 102.  62.  84. 166. 105.  71. 308.\n",
            "  77.  85.  93.  96. 105.  47. 148. 114.  55.  76. 102. 108. 174.  88.\n",
            "  89.  64. 127.  95.  89. 169.  99.  98.  75. 178.  86. 160. 159.  88.\n",
            " 305. 154.  42.  70. 114.  73. 276. 132.  98. 131. 102.  84. 256. 121.\n",
            "  75.  44.  95.  84. 117. 160.  63.  87.  25. 133.  53. 217. 109.  47.\n",
            "  68.  82.  62.  64.  50.  82. 106.  56. 108.  74. 101.  85.  64.  37.\n",
            "  52.  41.  74.  36.  60.  59.  69. 129.  82. 109.  52. 117.  30. 167.\n",
            "  52. 101.  33.  72.  36.  50.  28.  88.  28.  99.  87. 173.  47. 138.\n",
            " 119. 117.  81. 113.  88.  97.  31. 102.  61.  94.  77.  93. 109.  81.\n",
            " 146.  54.  75. 144.  34. 120.  39. 139.  58. 119.  54.  96.  50.  98.\n",
            "  74.  63. 110.  74.  75. 104. 105.  51.  49. 124.  76.  44.  30.  38.\n",
            "  29.  46.  20.  27.  35.  54.  85.  84.]\n"
          ],
          "name": "stdout"
        }
      ]
    },
    {
      "cell_type": "code",
      "metadata": {
        "id": "DWTGVRF28sVo",
        "outputId": "68d1285a-7f1e-4b7f-8d96-88a3c48cbf46",
        "colab": {
          "base_uri": "https://localhost:8080/"
        }
      },
      "source": [
        "# Média\n",
        "ci_media = st.mean(inscritos_array)\n",
        "ci_media"
      ],
      "execution_count": 40,
      "outputs": [
        {
          "output_type": "execute_result",
          "data": {
            "text/plain": [
              "90.01704545454545"
            ]
          },
          "metadata": {
            "tags": []
          },
          "execution_count": 40
        }
      ]
    },
    {
      "cell_type": "code",
      "metadata": {
        "id": "bxgzbLzH_NHs",
        "outputId": "a09a7841-a690-4ad4-c043-6ab941dc5b7c",
        "colab": {
          "base_uri": "https://localhost:8080/"
        }
      },
      "source": [
        "# Mediana\n",
        "ci_mediana = st.median(inscritos_array)\n",
        "ci_mediana"
      ],
      "execution_count": 41,
      "outputs": [
        {
          "output_type": "execute_result",
          "data": {
            "text/plain": [
              "84.0"
            ]
          },
          "metadata": {
            "tags": []
          },
          "execution_count": 41
        }
      ]
    },
    {
      "cell_type": "code",
      "metadata": {
        "id": "2b3igjw-_uOV",
        "outputId": "a5f2ef97-3205-489f-baaa-e4e686e81d2e",
        "colab": {
          "base_uri": "https://localhost:8080/"
        }
      },
      "source": [
        "# Moda\n",
        "ci_moda = st.mode(inscritos_array) # st.multimode(inscritos_array)\n",
        "ci_moda"
      ],
      "execution_count": 42,
      "outputs": [
        {
          "output_type": "execute_result",
          "data": {
            "text/plain": [
              "75.0"
            ]
          },
          "metadata": {
            "tags": []
          },
          "execution_count": 42
        }
      ]
    },
    {
      "cell_type": "code",
      "metadata": {
        "id": "CrAc8qe-Axyz",
        "outputId": "fdcb6e04-fbaa-4ac7-fef8-e988278e5527",
        "colab": {
          "base_uri": "https://localhost:8080/"
        }
      },
      "source": [
        "# Desvio-padrão\n",
        "ci_desvio_padrao = np.std(inscritos_array)\n",
        "ci_desvio_padrao"
      ],
      "execution_count": 43,
      "outputs": [
        {
          "output_type": "execute_result",
          "data": {
            "text/plain": [
              "47.906688946493844"
            ]
          },
          "metadata": {
            "tags": []
          },
          "execution_count": 43
        }
      ]
    },
    {
      "cell_type": "code",
      "metadata": {
        "id": "HGe1LK6_BcJa",
        "outputId": "3a0d90d6-59a8-4485-cf13-64a7c3f94a79",
        "colab": {
          "base_uri": "https://localhost:8080/"
        }
      },
      "source": [
        "# Coeficiente de variação\n",
        "ci_coef_variacao = np.var(inscritos_array)\n",
        "ci_coef_variacao"
      ],
      "execution_count": 44,
      "outputs": [
        {
          "output_type": "execute_result",
          "data": {
            "text/plain": [
              "2295.0508458161157"
            ]
          },
          "metadata": {
            "tags": []
          },
          "execution_count": 44
        }
      ]
    },
    {
      "cell_type": "code",
      "metadata": {
        "id": "FfLL1h2RB2Kk",
        "outputId": "3fdbc127-734c-4e39-c755-857056c6cb15",
        "colab": {
          "base_uri": "https://localhost:8080/",
          "height": 347
        }
      },
      "source": [
        "# Simetria\n",
        "print(\"A variável é\", calc_simetria(ci_media, ci_mediana, ci_moda))\n",
        "print()\n",
        "se.boxplot(x = dfMedicinaC['Concluintes Inscritos'], ).set_title('Gráfico Box-plot dos concluintes inscritos')"
      ],
      "execution_count": 45,
      "outputs": [
        {
          "output_type": "stream",
          "text": [
            "A variável é ASSIMÉTRICA POSITIVA\n",
            "\n"
          ],
          "name": "stdout"
        },
        {
          "output_type": "execute_result",
          "data": {
            "text/plain": [
              "Text(0.5, 1.0, 'Gráfico Box-plot dos concluintes inscritos')"
            ]
          },
          "metadata": {
            "tags": []
          },
          "execution_count": 45
        },
        {
          "output_type": "display_data",
          "data": {
            "image/png": "[encoded data removed]",
            "text/plain": [
              "<Figure size 432x288 with 1 Axes>"
            ]
          },
          "metadata": {
            "tags": [],
            "needs_background": "light"
          }
        }
      ]
    },
    {
      "cell_type": "markdown",
      "metadata": {
        "id": "oP6B_UguPHXe"
      },
      "source": [
        "## **B - Variável 'Concluintes Participantes'**"
      ]
    },
    {
      "cell_type": "code",
      "metadata": {
        "id": "RMI1gurCPHXg",
        "outputId": "098a16aa-d35b-4a23-fcd8-2928aac849af",
        "colab": {
          "base_uri": "https://localhost:8080/"
        }
      },
      "source": [
        "# Info\n",
        "conc_participantes.describe()"
      ],
      "execution_count": 54,
      "outputs": [
        {
          "output_type": "execute_result",
          "data": {
            "text/plain": [
              "count    176.000000\n",
              "mean      88.244318\n",
              "std       47.072740\n",
              "min       18.000000\n",
              "25%       54.750000\n",
              "50%       83.500000\n",
              "75%      106.250000\n",
              "max      303.000000\n",
              "Name: Concluintes Participantes, dtype: float64"
            ]
          },
          "metadata": {
            "tags": []
          },
          "execution_count": 54
        }
      ]
    },
    {
      "cell_type": "code",
      "metadata": {
        "id": "DkIaNF6TPHXs",
        "outputId": "7b588946-adb8-46f4-b08e-c1923fbea3f4",
        "colab": {
          "base_uri": "https://localhost:8080/"
        }
      },
      "source": [
        "# Criar lista\n",
        "participantes_array = np.array(conc_participantes, dtype = float)\n",
        "print (participantes_array)"
      ],
      "execution_count": 55,
      "outputs": [
        {
          "output_type": "stream",
          "text": [
            "[ 33.  85.  53.  35.  45.  86. 164.  63.  77.  87.  83. 133.  93.  68.\n",
            " 162.  47. 106.  86.  42.  65.  75. 102.  62.  83. 163. 105.  71. 297.\n",
            "  77.  85.  91.  94. 103.  46. 146. 113.  55.  76. 102. 107. 172.  88.\n",
            "  88.  64. 126.  95.  88. 167.  95.  97.  75. 167.  84. 156. 155.  87.\n",
            " 303. 149.  41.  69. 111.  72. 275. 129.  98. 126. 101.  84. 254. 116.\n",
            "  75.  44.  95.  84. 117. 157.  62.  85.  24. 133.  53. 217. 106.  37.\n",
            "  65.  81.  61.  64.  48.  82. 104.  53. 108.  74.  65.  84.  64.  37.\n",
            "  52.  39.  74.  34.  60.  59.  68. 127.  82. 108.  52. 115.  30. 164.\n",
            "  48.  97.  27.  71.  36.  50.  28.  88.  28.  98.  83. 117.  47. 138.\n",
            " 118. 117.  79. 110.  88.  96.  31. 101.  61.  94.  76.  92. 107.  75.\n",
            " 142.  54.  75. 142.  34. 120.  38. 139.  58. 116.  53.  96.  49.  96.\n",
            "  72.  61. 107.  72.  73. 104. 105.  51.  49. 124.  75.  43.  30.  37.\n",
            "  29.  45.  18.  26.  34.  53.  85.  84.]\n"
          ],
          "name": "stdout"
        }
      ]
    },
    {
      "cell_type": "code",
      "metadata": {
        "id": "-MFh-kbLPHXz",
        "outputId": "e3bbfaab-1003-4238-889b-82086d172764",
        "colab": {
          "base_uri": "https://localhost:8080/"
        }
      },
      "source": [
        "# Média\n",
        "cp_media = st.mean(participantes_array)\n",
        "cp_media"
      ],
      "execution_count": 56,
      "outputs": [
        {
          "output_type": "execute_result",
          "data": {
            "text/plain": [
              "88.24431818181819"
            ]
          },
          "metadata": {
            "tags": []
          },
          "execution_count": 56
        }
      ]
    },
    {
      "cell_type": "code",
      "metadata": {
        "id": "mGFvfWqKPHX6",
        "outputId": "f6d456ec-b841-411e-8cca-5b63f472d7a4",
        "colab": {
          "base_uri": "https://localhost:8080/"
        }
      },
      "source": [
        "# Mediana\n",
        "cp_mediana = st.median(participantes_array)\n",
        "cp_mediana"
      ],
      "execution_count": 57,
      "outputs": [
        {
          "output_type": "execute_result",
          "data": {
            "text/plain": [
              "83.5"
            ]
          },
          "metadata": {
            "tags": []
          },
          "execution_count": 57
        }
      ]
    },
    {
      "cell_type": "code",
      "metadata": {
        "id": "NOfNmGO2PHX_",
        "outputId": "bfb3dd62-4607-4015-b1ce-e259fe020b7f",
        "colab": {
          "base_uri": "https://localhost:8080/"
        }
      },
      "source": [
        "# Moda\n",
        "cp_moda = st.mode(participantes_array) # st.multimode(inscritos_array)\n",
        "cp_moda"
      ],
      "execution_count": 58,
      "outputs": [
        {
          "output_type": "execute_result",
          "data": {
            "text/plain": [
              "75.0"
            ]
          },
          "metadata": {
            "tags": []
          },
          "execution_count": 58
        }
      ]
    },
    {
      "cell_type": "code",
      "metadata": {
        "id": "Mafpj2-lPHYG",
        "outputId": "0042ea4c-88f6-4492-bcf6-732181be8b1b",
        "colab": {
          "base_uri": "https://localhost:8080/"
        }
      },
      "source": [
        "# Desvio-padrão\n",
        "cp_desvio_padrao = np.std(participantes_array)\n",
        "cp_desvio_padrao"
      ],
      "execution_count": 59,
      "outputs": [
        {
          "output_type": "execute_result",
          "data": {
            "text/plain": [
              "46.93881984696711"
            ]
          },
          "metadata": {
            "tags": []
          },
          "execution_count": 59
        }
      ]
    },
    {
      "cell_type": "code",
      "metadata": {
        "id": "e1m4AkJXPHYL",
        "outputId": "58896be6-0829-4daa-c6ae-c4b6b46ea695",
        "colab": {
          "base_uri": "https://localhost:8080/"
        }
      },
      "source": [
        "# Coeficiente de variação\n",
        "cp_coef_variacao = np.var(participantes_array)\n",
        "cp_coef_variacao"
      ],
      "execution_count": 60,
      "outputs": [
        {
          "output_type": "execute_result",
          "data": {
            "text/plain": [
              "2203.252808626033"
            ]
          },
          "metadata": {
            "tags": []
          },
          "execution_count": 60
        }
      ]
    },
    {
      "cell_type": "code",
      "metadata": {
        "id": "MZn1Z_mfPHYX",
        "outputId": "bc3ddab4-f0b5-4c88-8b4b-29abca092fed",
        "colab": {
          "base_uri": "https://localhost:8080/",
          "height": 347
        }
      },
      "source": [
        "# Simetria\n",
        "print(\"A variável é\", calc_simetria(media, mediana, moda))\n",
        "print()\n",
        "se.boxplot(x = dfMedicinaC['Concluintes Participantes'], ).set_title('Gráfico Box-plot dos concluintes participantes')"
      ],
      "execution_count": 61,
      "outputs": [
        {
          "output_type": "stream",
          "text": [
            "A variável é ASSIMÉTRICA POSITIVA\n",
            "\n"
          ],
          "name": "stdout"
        },
        {
          "output_type": "execute_result",
          "data": {
            "text/plain": [
              "Text(0.5, 1.0, 'Gráfico Box-plot dos concluintes participantes')"
            ]
          },
          "metadata": {
            "tags": []
          },
          "execution_count": 61
        },
        {
          "output_type": "display_data",
          "data": {
            "image/png": "[encoded data removed]",
            "text/plain": [
              "<Figure size 432x288 with 1 Axes>"
            ]
          },
          "metadata": {
            "tags": [],
            "needs_background": "light"
          }
        }
      ]
    },
    {
      "cell_type": "markdown",
      "metadata": {
        "id": "ZOQkX_cyrE9S"
      },
      "source": [
        "#**ITEM D**"
      ]
    },
    {
      "cell_type": "code",
      "metadata": {
        "id": "mf_4cfOXsLNU",
        "outputId": "e2ef8cc4-f1e1-4639-c972-27f3a748172a",
        "colab": {
          "base_uri": "https://localhost:8080/",
          "height": 428
        }
      },
      "source": [
        "dfMedicina = dfConceito[dfConceito['Código da Área'] == 12]\n",
        "dfMedicina.head()"
      ],
      "execution_count": null,
      "outputs": [
        {
          "output_type": "execute_result",
          "data": {
            "text/html": [
              "<div>\n",
              "<style scoped>\n",
              "    .dataframe tbody tr th:only-of-type {\n",
              "        vertical-align: middle;\n",
              "    }\n",
              "\n",
              "    .dataframe tbody tr th {\n",
              "        vertical-align: top;\n",
              "    }\n",
              "\n",
              "    .dataframe thead th {\n",
              "        text-align: right;\n",
              "    }\n",
              "</style>\n",
              "<table border=\"1\" class=\"dataframe\">\n",
              "  <thead>\n",
              "    <tr style=\"text-align: right;\">\n",
              "      <th></th>\n",
              "      <th>Ano</th>\n",
              "      <th>Código da IES</th>\n",
              "      <th>Nome da IES</th>\n",
              "      <th>Sigla da IES</th>\n",
              "      <th>Organização Acadêmica</th>\n",
              "      <th>Categoria Administrativa</th>\n",
              "      <th>CodCurso</th>\n",
              "      <th>Código da Área</th>\n",
              "      <th>Área de Enquadramento</th>\n",
              "      <th>Modalidade de Ensino</th>\n",
              "      <th>Código do Município</th>\n",
              "      <th>Município do Curso</th>\n",
              "      <th>Sigla da UF</th>\n",
              "      <th>Concluintes Inscritos</th>\n",
              "      <th>Concluintes Participantes</th>\n",
              "      <th>Nota Bruta - FG</th>\n",
              "      <th>Nota Padronizada - FG</th>\n",
              "      <th>Nota Bruta - CE</th>\n",
              "      <th>Nota Padronizada - CE</th>\n",
              "      <th>Conceito Enade (Contínuo)</th>\n",
              "      <th>Conceito Enade (Faixa)</th>\n",
              "    </tr>\n",
              "  </thead>\n",
              "  <tbody>\n",
              "    <tr>\n",
              "      <th>2</th>\n",
              "      <td>2016</td>\n",
              "      <td>1</td>\n",
              "      <td>UNIVERSIDADE FEDERAL DE MATO GROSSO</td>\n",
              "      <td>UFMT</td>\n",
              "      <td>Universidade</td>\n",
              "      <td>Pessoa Jurídica de Direito Público - Federal</td>\n",
              "      <td>12</td>\n",
              "      <td>12</td>\n",
              "      <td>MEDICINA</td>\n",
              "      <td>Educação Presencial</td>\n",
              "      <td>5103403</td>\n",
              "      <td>CUIABÁ</td>\n",
              "      <td>MT</td>\n",
              "      <td>35</td>\n",
              "      <td>33</td>\n",
              "      <td>63.166668</td>\n",
              "      <td>3.473179</td>\n",
              "      <td>68.506058</td>\n",
              "      <td>2.759319</td>\n",
              "      <td>2.937784</td>\n",
              "      <td>3</td>\n",
              "    </tr>\n",
              "    <tr>\n",
              "      <th>8</th>\n",
              "      <td>2016</td>\n",
              "      <td>2</td>\n",
              "      <td>UNIVERSIDADE DE BRASÍLIA</td>\n",
              "      <td>UNB</td>\n",
              "      <td>Universidade</td>\n",
              "      <td>Pessoa Jurídica de Direito Público - Federal</td>\n",
              "      <td>140</td>\n",
              "      <td>12</td>\n",
              "      <td>MEDICINA</td>\n",
              "      <td>Educação Presencial</td>\n",
              "      <td>5300108</td>\n",
              "      <td>BRASÍLIA</td>\n",
              "      <td>DF</td>\n",
              "      <td>89</td>\n",
              "      <td>85</td>\n",
              "      <td>63.005882</td>\n",
              "      <td>3.436836</td>\n",
              "      <td>68.930588</td>\n",
              "      <td>2.841475</td>\n",
              "      <td>2.990315</td>\n",
              "      <td>4</td>\n",
              "    </tr>\n",
              "    <tr>\n",
              "      <th>13</th>\n",
              "      <td>2016</td>\n",
              "      <td>3</td>\n",
              "      <td>UNIVERSIDADE FEDERAL DE SERGIPE</td>\n",
              "      <td>UFS</td>\n",
              "      <td>Universidade</td>\n",
              "      <td>Pessoa Jurídica de Direito Público - Federal</td>\n",
              "      <td>303</td>\n",
              "      <td>12</td>\n",
              "      <td>MEDICINA</td>\n",
              "      <td>Educação Presencial</td>\n",
              "      <td>2800308</td>\n",
              "      <td>ARACAJU</td>\n",
              "      <td>SE</td>\n",
              "      <td>53</td>\n",
              "      <td>53</td>\n",
              "      <td>59.494339</td>\n",
              "      <td>2.643099</td>\n",
              "      <td>67.986794</td>\n",
              "      <td>2.658829</td>\n",
              "      <td>2.654896</td>\n",
              "      <td>3</td>\n",
              "    </tr>\n",
              "    <tr>\n",
              "      <th>17</th>\n",
              "      <td>2016</td>\n",
              "      <td>4</td>\n",
              "      <td>UNIVERSIDADE FEDERAL DO AMAZONAS</td>\n",
              "      <td>UFAM</td>\n",
              "      <td>Universidade</td>\n",
              "      <td>Pessoa Jurídica de Direito Público - Federal</td>\n",
              "      <td>389</td>\n",
              "      <td>12</td>\n",
              "      <td>MEDICINA</td>\n",
              "      <td>Educação Presencial</td>\n",
              "      <td>1302603</td>\n",
              "      <td>MANAUS</td>\n",
              "      <td>AM</td>\n",
              "      <td>36</td>\n",
              "      <td>35</td>\n",
              "      <td>66.708572</td>\n",
              "      <td>4.273778</td>\n",
              "      <td>66.128571</td>\n",
              "      <td>2.299221</td>\n",
              "      <td>2.792860</td>\n",
              "      <td>3</td>\n",
              "    </tr>\n",
              "    <tr>\n",
              "      <th>21</th>\n",
              "      <td>2016</td>\n",
              "      <td>5</td>\n",
              "      <td>UNIVERSIDADE FEDERAL DO PIAUÍ</td>\n",
              "      <td>UFPI</td>\n",
              "      <td>Universidade</td>\n",
              "      <td>Pessoa Jurídica de Direito Público - Federal</td>\n",
              "      <td>484</td>\n",
              "      <td>12</td>\n",
              "      <td>MEDICINA</td>\n",
              "      <td>Educação Presencial</td>\n",
              "      <td>2211001</td>\n",
              "      <td>TERESINA</td>\n",
              "      <td>PI</td>\n",
              "      <td>45</td>\n",
              "      <td>45</td>\n",
              "      <td>63.433334</td>\n",
              "      <td>3.533455</td>\n",
              "      <td>72.671112</td>\n",
              "      <td>3.565352</td>\n",
              "      <td>3.557378</td>\n",
              "      <td>4</td>\n",
              "    </tr>\n",
              "  </tbody>\n",
              "</table>\n",
              "</div>"
            ],
            "text/plain": [
              "     Ano  Código da IES  ... Conceito Enade (Contínuo) Conceito Enade (Faixa)\n",
              "2   2016              1  ...                  2.937784                      3\n",
              "8   2016              2  ...                  2.990315                      4\n",
              "13  2016              3  ...                  2.654896                      3\n",
              "17  2016              4  ...                  2.792860                      3\n",
              "21  2016              5  ...                  3.557378                      4\n",
              "\n",
              "[5 rows x 21 columns]"
            ]
          },
          "metadata": {
            "tags": []
          },
          "execution_count": 52
        }
      ]
    },
    {
      "cell_type": "code",
      "metadata": {
        "id": "sR_hx5jcwkLH"
      },
      "source": [
        "dfMedicina[\"Conceito Enade (Faixa)\"] = pd.to_numeric(dfMedicina['Conceito Enade (Faixa)'], errors='coerce')"
      ],
      "execution_count": null,
      "outputs": []
    },
    {
      "cell_type": "code",
      "metadata": {
        "id": "kSNO1hgrvtKM"
      },
      "source": [
        "qtdMedicina = len(dfMedicina)\n",
        "print(\"Quantidade de Universidades com medicina: \", qtdMedicina)\n",
        "\n",
        "MediaConceitoEnade = dfMedicina['Conceito Enade (Faixa)'].mean() \n",
        "print(\"Média geral(Medicina) do conceito ENADE: \", round(MediaConceitoEnade,3))\n",
        "\n",
        "DesvioConceitoEnade = dfMedicina.loc[:,\"Conceito Enade (Faixa)\"].std()\n",
        "print(\"Desvio padrão geral(Medicina) do conceito ENADE: \", round(DesvioConceitoEnade,3))"
      ],
      "execution_count": null,
      "outputs": []
    },
    {
      "cell_type": "code",
      "metadata": {
        "id": "lzfMdmz4rO4x"
      },
      "source": [
        "#Intervalo de Confiança ao nível de 95%;\n",
        "print(\"Intervalo de Confiança ao nível de 95% para média quando a variância é desconhecida\")\n",
        "inf,sup = t.interval(0.95, qtdMedicina-1, loc=MediaConceitoEnade, scale=DesvioConceitoEnade/np.sqrt(qtdMedicina))\n",
        "print ('Limite inferior 95%:', round(inf,3))\n",
        "print ('Limite superior 95%:', round(sup,3))\n"
      ],
      "execution_count": null,
      "outputs": []
    },
    {
      "cell_type": "code",
      "metadata": {
        "id": "ufHxaBOMrP02"
      },
      "source": [
        "# Número de amostras, para ERRO máximo de 10%\n",
        "n = (t.ppf(0.025,qtdMedicina-1)**2)*(st.stdev(x)**2)/(0.01**2)\n",
        "print(\"Tamanho da amostra =\",round(n))"
      ],
      "execution_count": null,
      "outputs": []
    },
    {
      "cell_type": "code",
      "metadata": {
        "id": "zxSgvAeH9vTx"
      },
      "source": [
        "import numpy as np\n",
        "import scipy.stats\n",
        "\n",
        "def mean_confidence_interval(data, confidence=0.95):\n",
        "    a = 1.0 * np.array(data)\n",
        "    n = len(a)\n",
        "    m, se = np.mean(a), scipy.stats.sem(a)\n",
        "    h = se * scipy.stats.t.ppf((1 + confidence) / 2., n-1)\n",
        "    return m, m-h, m+h"
      ],
      "execution_count": null,
      "outputs": []
    },
    {
      "cell_type": "code",
      "metadata": {
        "id": "0XmRx-ODDFxB"
      },
      "source": [
        "dfMedicina.iloc[:,20]"
      ],
      "execution_count": null,
      "outputs": []
    },
    {
      "cell_type": "code",
      "metadata": {
        "id": "CiVQ-d1V_gDd"
      },
      "source": [
        "mean_confidence_interval(dfMedicina.iloc[:100,20])"
      ],
      "execution_count": null,
      "outputs": []
    }
  ]
}