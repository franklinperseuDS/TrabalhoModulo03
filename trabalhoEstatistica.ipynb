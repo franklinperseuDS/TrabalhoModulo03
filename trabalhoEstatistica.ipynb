{
  "nbformat": 4,
  "nbformat_minor": 0,
  "metadata": {
    "colab": {
      "name": "trabalhoEstatistica.ipynb",
      "provenance": [],
      "collapsed_sections": [
        "bAzBKzs8-ZgZ",
        "DpUcO7lWA2p3",
        "KXs-zhgDIezV",
        "KXo5yBP8OTeB",
        "93l3jsgiQVTb",
        "E3AlzWX3Sxsc",
        "z-Uv2f0nRRqq"
      ],
      "include_colab_link": true
    },
    "kernelspec": {
      "name": "python3",
      "display_name": "Python 3"
    }
  },
  "cells": [
    {
      "cell_type": "markdown",
      "metadata": {
        "id": "view-in-github",
        "colab_type": "text"
      },
      "source": [
        "<a href=\"https://colab.research.google.com/github/franklinperseuDS/TrabalhoModulo03/blob/main/trabalhoEstatistica.ipynb\" target=\"_parent\"><img src=\"https://colab.research.google.com/assets/colab-badge.svg\" alt=\"Open In Colab\"/></a>"
      ]
    },
    {
      "cell_type": "code",
      "metadata": {
        "id": "iqydn_S4pqsc"
      },
      "source": [
        "# Pacotes necessários\n",
        "import pandas as pd\n",
        "import numpy as np\n",
        "import statistics as st\n",
        "import seaborn as se\n",
        "import statsmodels.stats.proportion as smp\n",
        "from scipy import stats\n",
        "from scipy.stats import t\n",
        "import matplotlib.pyplot as plt"
      ],
      "execution_count": null,
      "outputs": []
    },
    {
      "cell_type": "code",
      "metadata": {
        "id": "82F7B9BiqH-_"
      },
      "source": [
        "from google.colab import drive\n",
        "drive.mount('/content/drive')"
      ],
      "execution_count": null,
      "outputs": []
    },
    {
      "cell_type": "markdown",
      "metadata": {
        "id": "KWmtLulk4xso"
      },
      "source": [
        "#DataFrames"
      ]
    },
    {
      "cell_type": "code",
      "metadata": {
        "id": "EE3KvgF1sd94"
      },
      "source": [
        "\"\"\"dfMicroDados =  pd.read_csv('/content/drive/Shared drives/Trabalho Estátistica/MICRODADOS_ENADE_2016.csv',sep=';',decimal=',')\n",
        "dfMicroDados.shape\n",
        "\"\"\""
      ],
      "execution_count": null,
      "outputs": []
    },
    {
      "cell_type": "code",
      "metadata": {
        "id": "pgUTDeY226aW"
      },
      "source": [
        "dfConceito = pd.read_excel('/content/drive/Shared drives/Trabalho Estátistica/conceito_enade2016.xlsx')"
      ],
      "execution_count": null,
      "outputs": []
    },
    {
      "cell_type": "code",
      "metadata": {
        "id": "p6S8HmC9s1Rj",
        "outputId": "159ef8a8-fd0d-44b6-cf1d-4bae79972a45",
        "colab": {
          "base_uri": "https://localhost:8080/"
        }
      },
      "source": [
        "dfConceito.info()"
      ],
      "execution_count": null,
      "outputs": [
        {
          "output_type": "stream",
          "text": [
            "<class 'pandas.core.frame.DataFrame'>\n",
            "RangeIndex: 4299 entries, 0 to 4298\n",
            "Data columns (total 21 columns):\n",
            " #   Column                     Non-Null Count  Dtype  \n",
            "---  ------                     --------------  -----  \n",
            " 0   Ano                        4299 non-null   int64  \n",
            " 1   Código da IES              4299 non-null   int64  \n",
            " 2   Nome da IES                4299 non-null   object \n",
            " 3   Sigla da IES               4299 non-null   object \n",
            " 4   Organização Acadêmica      4299 non-null   object \n",
            " 5   Categoria Administrativa   4299 non-null   object \n",
            " 6   Código do Curso            4299 non-null   int64  \n",
            " 7   Código da Área             4299 non-null   int64  \n",
            " 8   Área de Enquadramento      4299 non-null   object \n",
            " 9   Modalidade de Ensino       4299 non-null   object \n",
            " 10  Código do Município        4299 non-null   int64  \n",
            " 11  Município do Curso         4299 non-null   object \n",
            " 12  Sigla da UF                4299 non-null   object \n",
            " 13  Concluintes Inscritos      4299 non-null   int64  \n",
            " 14  Concluintes Participantes  4299 non-null   int64  \n",
            " 15  Nota Bruta - FG            4200 non-null   float64\n",
            " 16  Nota Padronizada - FG      4200 non-null   float64\n",
            " 17  Nota Bruta - CE            4200 non-null   float64\n",
            " 18  Nota Padronizada - CE      4200 non-null   float64\n",
            " 19  Conceito Enade (Contínuo)  4200 non-null   float64\n",
            " 20  Conceito Enade (Faixa)     4299 non-null   object \n",
            "dtypes: float64(5), int64(7), object(9)\n",
            "memory usage: 705.4+ KB\n"
          ],
          "name": "stdout"
        }
      ]
    },
    {
      "cell_type": "markdown",
      "metadata": {
        "id": "OU0beEPAbNSz"
      },
      "source": [
        "## Tratamento do Dataframe 'Conceito' para as seguintes colunas\n",
        " 1. codigo da IES \n",
        " 2. Sigla da IES \n",
        " 3. Organização Acadêmica \n",
        " 4. 'Município do Curso' \n",
        " 5. 'Sigla da UF' \n",
        " 6. Concluintes Inscritos \n",
        " 7. 'Concluintes Participantes \n",
        " 8. <s> 'Nota Bruta - FG', #* deixar por ultimo</s>\n",
        " 9. 'Nota Padronizada - FG' \n",
        " 10. <s> 'Nota Bruta - CE', #* deixar por ultimo </s>\n",
        " 11. 'Nota Padronizada - CE', \n",
        " 12. 'Conceito Enade (Contínuo)' \n",
        " 13. Conceito Enade (Faixa)\n",
        " 14. Código da Área\n",
        "\n",
        "\n"
      ]
    },
    {
      "cell_type": "code",
      "metadata": {
        "id": "hWLLrJN8aGRB"
      },
      "source": [
        "dfMedicinaC = dfConceito[dfConceito['Área de Enquadramento'] == 'MEDICINA'][['Código da Área','Código da IES','Sigla da IES','Município do Curso', 'Sigla da UF','Concluintes Inscritos', 'Concluintes Participantes','Nota Padronizada - FG','Nota Padronizada - CE','Conceito Enade (Contínuo)','Conceito Enade (Faixa)']]"
      ],
      "execution_count": null,
      "outputs": []
    },
    {
      "cell_type": "code",
      "metadata": {
        "id": "4NHFjSXXn261"
      },
      "source": [
        "dfMedicinaC['Conceito Enade (Faixa)'] = dfMedicinaC['Conceito Enade (Faixa)'].astype(int)"
      ],
      "execution_count": null,
      "outputs": []
    },
    {
      "cell_type": "code",
      "metadata": {
        "id": "GLCaOrDkdzgQ"
      },
      "source": [
        "dfMedicinaC = dfMedicinaC.reset_index()"
      ],
      "execution_count": null,
      "outputs": []
    },
    {
      "cell_type": "markdown",
      "metadata": {
        "id": "t1PkMRUY5KoG"
      },
      "source": [
        "## Montando uma coluna de regiões\n",
        "1 = Região Norte (NO)\n",
        "norte = ['RO','AC','AM','RR' ,'PA' , 'AP' ,'TO']\n",
        "\n",
        "2 = Região Nordeste (NE)\n",
        "nordeste = ['MA','PI','CE','RN','PB','PE','AL','SE','BA']\n",
        "\n",
        "3 = Região Sudeste (SE)\n",
        "sudeste = ['MG','ES','RJ,'SP']\n",
        "\n",
        "4 = Região Sul (SUL)\n",
        "sul = ['PR','SC','RS']\n",
        "\n",
        "5 = Região Centro-Oeste (CO)\n",
        "CentroOeste = ['MS','MT','GO','DF']"
      ]
    },
    {
      "cell_type": "code",
      "metadata": {
        "id": "5Mm5FpYK7ZiY"
      },
      "source": [
        "norte = ['RO','AC','AM','RR' ,'PA' , 'AP' ,'TO']\n",
        "nordeste = ['MA','PI','CE','RN','PB','PE','AL','SE','BA']\n",
        "sudeste = ['MG','ES','RJ','SP']\n",
        "sul = ['PR','SC','RS']\n",
        "centroOeste = ['MS','MT','GO','DF']"
      ],
      "execution_count": null,
      "outputs": []
    },
    {
      "cell_type": "code",
      "metadata": {
        "id": "xFqdIFjhKFGW"
      },
      "source": [
        "dfMedicinaC['Regiao'] = np.nan"
      ],
      "execution_count": null,
      "outputs": []
    },
    {
      "cell_type": "code",
      "metadata": {
        "id": "DGPT1npCJgn-"
      },
      "source": [
        "#dfMedicinaC['Regiao'] = dfMedicinaC['Regiao'].astype(int)"
      ],
      "execution_count": null,
      "outputs": []
    },
    {
      "cell_type": "code",
      "metadata": {
        "id": "s9oSrGsHAEKn"
      },
      "source": [
        "condicao = [np.isin(dfMedicinaC['Sigla da UF'], norte),\n",
        "            np.isin(dfMedicinaC['Sigla da UF'], nordeste),\n",
        "            np.isin(dfMedicinaC['Sigla da UF'], sudeste),\n",
        "            np.isin(dfMedicinaC['Sigla da UF'], sul),\n",
        "           np.isin(dfMedicinaC['Sigla da UF'],  centroOeste)]\n",
        "\n",
        "resultados = [1,2,3,4,5]\n",
        "\n",
        "dfMedicinaC['Regiao'] = np.select(condicao, resultados)"
      ],
      "execution_count": null,
      "outputs": []
    },
    {
      "cell_type": "code",
      "metadata": {
        "id": "EClgGAjLmYyg",
        "outputId": "e4fc3b90-11ca-4977-ce21-1c95c8a2aa50",
        "colab": {
          "base_uri": "https://localhost:8080/",
          "height": 221
        }
      },
      "source": [
        "dfMedicinaC.head()"
      ],
      "execution_count": null,
      "outputs": [
        {
          "output_type": "execute_result",
          "data": {
            "text/html": [
              "<div>\n",
              "<style scoped>\n",
              "    .dataframe tbody tr th:only-of-type {\n",
              "        vertical-align: middle;\n",
              "    }\n",
              "\n",
              "    .dataframe tbody tr th {\n",
              "        vertical-align: top;\n",
              "    }\n",
              "\n",
              "    .dataframe thead th {\n",
              "        text-align: right;\n",
              "    }\n",
              "</style>\n",
              "<table border=\"1\" class=\"dataframe\">\n",
              "  <thead>\n",
              "    <tr style=\"text-align: right;\">\n",
              "      <th></th>\n",
              "      <th>index</th>\n",
              "      <th>Código da Área</th>\n",
              "      <th>Código da IES</th>\n",
              "      <th>Sigla da IES</th>\n",
              "      <th>Município do Curso</th>\n",
              "      <th>Sigla da UF</th>\n",
              "      <th>Concluintes Inscritos</th>\n",
              "      <th>Concluintes Participantes</th>\n",
              "      <th>Nota Padronizada - FG</th>\n",
              "      <th>Nota Padronizada - CE</th>\n",
              "      <th>Conceito Enade (Contínuo)</th>\n",
              "      <th>Conceito Enade (Faixa)</th>\n",
              "      <th>Regiao</th>\n",
              "    </tr>\n",
              "  </thead>\n",
              "  <tbody>\n",
              "    <tr>\n",
              "      <th>0</th>\n",
              "      <td>2</td>\n",
              "      <td>12</td>\n",
              "      <td>1</td>\n",
              "      <td>UFMT</td>\n",
              "      <td>CUIABÁ</td>\n",
              "      <td>MT</td>\n",
              "      <td>35</td>\n",
              "      <td>33</td>\n",
              "      <td>3.473179</td>\n",
              "      <td>2.759319</td>\n",
              "      <td>2.937784</td>\n",
              "      <td>3</td>\n",
              "      <td>5</td>\n",
              "    </tr>\n",
              "    <tr>\n",
              "      <th>1</th>\n",
              "      <td>8</td>\n",
              "      <td>12</td>\n",
              "      <td>2</td>\n",
              "      <td>UNB</td>\n",
              "      <td>BRASÍLIA</td>\n",
              "      <td>DF</td>\n",
              "      <td>89</td>\n",
              "      <td>85</td>\n",
              "      <td>3.436836</td>\n",
              "      <td>2.841475</td>\n",
              "      <td>2.990315</td>\n",
              "      <td>4</td>\n",
              "      <td>5</td>\n",
              "    </tr>\n",
              "    <tr>\n",
              "      <th>2</th>\n",
              "      <td>13</td>\n",
              "      <td>12</td>\n",
              "      <td>3</td>\n",
              "      <td>UFS</td>\n",
              "      <td>ARACAJU</td>\n",
              "      <td>SE</td>\n",
              "      <td>53</td>\n",
              "      <td>53</td>\n",
              "      <td>2.643099</td>\n",
              "      <td>2.658829</td>\n",
              "      <td>2.654896</td>\n",
              "      <td>3</td>\n",
              "      <td>2</td>\n",
              "    </tr>\n",
              "    <tr>\n",
              "      <th>3</th>\n",
              "      <td>17</td>\n",
              "      <td>12</td>\n",
              "      <td>4</td>\n",
              "      <td>UFAM</td>\n",
              "      <td>MANAUS</td>\n",
              "      <td>AM</td>\n",
              "      <td>36</td>\n",
              "      <td>35</td>\n",
              "      <td>4.273778</td>\n",
              "      <td>2.299221</td>\n",
              "      <td>2.792860</td>\n",
              "      <td>3</td>\n",
              "      <td>1</td>\n",
              "    </tr>\n",
              "    <tr>\n",
              "      <th>4</th>\n",
              "      <td>21</td>\n",
              "      <td>12</td>\n",
              "      <td>5</td>\n",
              "      <td>UFPI</td>\n",
              "      <td>TERESINA</td>\n",
              "      <td>PI</td>\n",
              "      <td>45</td>\n",
              "      <td>45</td>\n",
              "      <td>3.533455</td>\n",
              "      <td>3.565352</td>\n",
              "      <td>3.557378</td>\n",
              "      <td>4</td>\n",
              "      <td>2</td>\n",
              "    </tr>\n",
              "  </tbody>\n",
              "</table>\n",
              "</div>"
            ],
            "text/plain": [
              "   index  Código da Área  ...  Conceito Enade (Faixa) Regiao\n",
              "0      2              12  ...                       3      5\n",
              "1      8              12  ...                       4      5\n",
              "2     13              12  ...                       3      2\n",
              "3     17              12  ...                       3      1\n",
              "4     21              12  ...                       4      2\n",
              "\n",
              "[5 rows x 13 columns]"
            ]
          },
          "metadata": {
            "tags": []
          },
          "execution_count": 14
        }
      ]
    },
    {
      "cell_type": "code",
      "metadata": {
        "id": "XKJ1-nqsjOmc"
      },
      "source": [
        "#Celula para verificar colunas\n"
      ],
      "execution_count": null,
      "outputs": []
    },
    {
      "cell_type": "markdown",
      "metadata": {
        "id": "sO_24gA_9gfb"
      },
      "source": [
        "#ITEM A\n"
      ]
    },
    {
      "cell_type": "markdown",
      "metadata": {
        "id": "1PDhVSkpeidB"
      },
      "source": [
        "##Notas Gerais\n"
      ]
    },
    {
      "cell_type": "code",
      "metadata": {
        "id": "BY-ESSUclWtS",
        "outputId": "bdc72215-cd9b-482d-8bf4-e385296795ba",
        "colab": {
          "base_uri": "https://localhost:8080/",
          "height": 312
        }
      },
      "source": [
        "se.boxplot(x = dfMedicinaC['Nota Padronizada - CE']).set_title('Gráfico Box-plot do conceito ENADE Nota Pardonizada CE')"
      ],
      "execution_count": null,
      "outputs": [
        {
          "output_type": "execute_result",
          "data": {
            "text/plain": [
              "Text(0.5, 1.0, 'Gráfico Box-plot do conceito ENADE Nota Pardonizada CE')"
            ]
          },
          "metadata": {
            "tags": []
          },
          "execution_count": 16
        },
        {
          "output_type": "display_data",
          "data": {
            "image/png": "[encoded data removed]",
            "text/plain": [
              "<Figure size 432x288 with 1 Axes>"
            ]
          },
          "metadata": {
            "tags": [],
            "needs_background": "light"
          }
        }
      ]
    },
    {
      "cell_type": "code",
      "metadata": {
        "id": "eoCe2cQAj3d1",
        "outputId": "a9c8caae-84dd-4851-ef71-b3d159a6e0af",
        "colab": {
          "base_uri": "https://localhost:8080/",
          "height": 312
        }
      },
      "source": [
        "se.boxplot(x = dfMedicinaC['Nota Padronizada - FG']).set_title('Gráfico Box-plot do conceito ENADE Nota Pardonizada FG')"
      ],
      "execution_count": null,
      "outputs": [
        {
          "output_type": "execute_result",
          "data": {
            "text/plain": [
              "Text(0.5, 1.0, 'Gráfico Box-plot do conceito ENADE Nota Pardonizada FG')"
            ]
          },
          "metadata": {
            "tags": []
          },
          "execution_count": 17
        },
        {
          "output_type": "display_data",
          "data": {
            "image/png": "[encoded data removed]",
            "text/plain": [
              "<Figure size 432x288 with 1 Axes>"
            ]
          },
          "metadata": {
            "tags": [],
            "needs_background": "light"
          }
        }
      ]
    },
    {
      "cell_type": "code",
      "metadata": {
        "id": "vzXNF3Dflpv2",
        "outputId": "6a0fce42-ceae-4539-b50f-209b661083e9",
        "colab": {
          "base_uri": "https://localhost:8080/",
          "height": 448
        }
      },
      "source": [
        "#Conceito Enade (Faixa)\n",
        "se.boxplot(x = dfMedicinaC['Conceito Enade (Faixa)']).set_title('Conceito ENADE Faixa')\n",
        "dfMedicinaC['Conceito Enade (Faixa)'].describe()"
      ],
      "execution_count": null,
      "outputs": [
        {
          "output_type": "execute_result",
          "data": {
            "text/plain": [
              "count    176.000000\n",
              "mean       3.119318\n",
              "std        0.850191\n",
              "min        1.000000\n",
              "25%        3.000000\n",
              "50%        3.000000\n",
              "75%        4.000000\n",
              "max        5.000000\n",
              "Name: Conceito Enade (Faixa), dtype: float64"
            ]
          },
          "metadata": {
            "tags": []
          },
          "execution_count": 18
        },
        {
          "output_type": "display_data",
          "data": {
            "image/png": "[encoded data removed]",
            "text/plain": [
              "<Figure size 432x288 with 1 Axes>"
            ]
          },
          "metadata": {
            "tags": [],
            "needs_background": "light"
          }
        }
      ]
    },
    {
      "cell_type": "code",
      "metadata": {
        "id": "CsLKaaxhszbI",
        "outputId": "200a570d-05ea-43d1-8e9d-474f288ee96d",
        "colab": {
          "base_uri": "https://localhost:8080/",
          "height": 312
        }
      },
      "source": [
        "se.boxplot(x = dfMedicinaC['Conceito Enade (Contínuo)']).set_title('Gráfico Box-plot do conceito ENADE contínuo de Medicina')"
      ],
      "execution_count": null,
      "outputs": [
        {
          "output_type": "execute_result",
          "data": {
            "text/plain": [
              "Text(0.5, 1.0, 'Gráfico Box-plot do conceito ENADE contínuo de Medicina')"
            ]
          },
          "metadata": {
            "tags": []
          },
          "execution_count": 19
        },
        {
          "output_type": "display_data",
          "data": {
            "image/png": "[encoded data removed]",
            "text/plain": [
              "<Figure size 432x288 with 1 Axes>"
            ]
          },
          "metadata": {
            "tags": [],
            "needs_background": "light"
          }
        }
      ]
    },
    {
      "cell_type": "markdown",
      "metadata": {
        "id": "sl7NFLvuesFE"
      },
      "source": [
        "## Gráficos por Região\n",
        "\n",
        "\n",
        "\n",
        "CO_REGIAO_CURSO\n",
        "1. = Região Norte (NO)\n",
        "2. = Região Nordeste (NE)\n",
        "3. = Região Centro-Oeste (CO)\n",
        "4. = Região Sul (SUL)\n",
        "5. =  Região Sudeste (SE)"
      ]
    },
    {
      "cell_type": "code",
      "metadata": {
        "id": "fIfmfDDkl8Hj",
        "outputId": "64d9f1dd-8d36-456f-a7f5-c99567426ca1",
        "colab": {
          "base_uri": "https://localhost:8080/"
        }
      },
      "source": [
        "contagemNorte = dfMedicinaC['Município do Curso'].loc[dfMedicinaC['Regiao'] == 1].count()\n",
        "contagemNordeste = dfMedicinaC['Município do Curso'].loc[dfMedicinaC['Regiao'] == 2].count()\n",
        "contagemSudeste = dfMedicinaC['Município do Curso'].loc[dfMedicinaC['Regiao'] == 3].count()\n",
        "contagemSul = dfMedicinaC['Município do Curso'].loc[dfMedicinaC['Regiao'] == 4].count()\n",
        "contagemCentroOeste=dfMedicinaC['Município do Curso'].loc[dfMedicinaC['Regiao'] == 5].count()\n",
        "\n",
        "print ('Número de inscritos por região:')\n",
        "print (f'1. Norte = {contagemNorte}')\n",
        "print (f'2. Nordeste = {contagemNordeste}')\n",
        "print (f'3. Sudeste = {contagemSudeste}')\n",
        "print (f'4. Sul = {contagemSul}')\n",
        "print (f'5. Centro-Oeste = {contagemCentroOeste}')\n",
        "print(f'Total = {contagemNorte + contagemNordeste + contagemSudeste + contagemSul + contagemCentroOeste}')"
      ],
      "execution_count": null,
      "outputs": [
        {
          "output_type": "stream",
          "text": [
            "Número de inscritos por região:\n",
            "1. Norte = 16\n",
            "2. Nordeste = 39\n",
            "3. Sudeste = 78\n",
            "4. Sul = 31\n",
            "5. Centro-Oeste = 12\n",
            "Total = 176\n"
          ],
          "name": "stdout"
        }
      ]
    },
    {
      "cell_type": "markdown",
      "metadata": {
        "id": "eI_fC34-rvMu"
      },
      "source": [
        "###Boxsplot - Nota Padronizada FG"
      ]
    },
    {
      "cell_type": "code",
      "metadata": {
        "id": "zDo6_CnfwPnM"
      },
      "source": [
        "NomeDaColuna = 'Nota Padronizada - FG'"
      ],
      "execution_count": null,
      "outputs": []
    },
    {
      "cell_type": "code",
      "metadata": {
        "id": "KFE-8AgXwPnR",
        "outputId": "f147ba84-a2db-4638-f08c-ebf2d7af0a96",
        "colab": {
          "base_uri": "https://localhost:8080/",
          "height": 312
        }
      },
      "source": [
        "se.boxplot(x = dfMedicinaC.where(dfMedicinaC['Regiao'] == 1)[NomeDaColuna]).set_title(F\"{NomeDaColuna} - Região Norte\")"
      ],
      "execution_count": null,
      "outputs": [
        {
          "output_type": "execute_result",
          "data": {
            "text/plain": [
              "Text(0.5, 1.0, 'Nota Padronizada - FG - Região Norte')"
            ]
          },
          "metadata": {
            "tags": []
          },
          "execution_count": 22
        },
        {
          "output_type": "display_data",
          "data": {
            "image/png": "[encoded data removed]",
            "text/plain": [
              "<Figure size 432x288 with 1 Axes>"
            ]
          },
          "metadata": {
            "tags": [],
            "needs_background": "light"
          }
        }
      ]
    },
    {
      "cell_type": "code",
      "metadata": {
        "id": "pTlTXyeawPnT",
        "outputId": "f95069a1-1a64-4f5b-b085-058222ced72c",
        "colab": {
          "base_uri": "https://localhost:8080/",
          "height": 312
        }
      },
      "source": [
        "se.boxplot(x = dfMedicinaC.where(dfMedicinaC['Regiao'] == 2)[NomeDaColuna]).set_title(F\"{NomeDaColuna}  - Região Nordeste\")"
      ],
      "execution_count": null,
      "outputs": [
        {
          "output_type": "execute_result",
          "data": {
            "text/plain": [
              "Text(0.5, 1.0, 'Nota Padronizada - FG  - Região Nordeste')"
            ]
          },
          "metadata": {
            "tags": []
          },
          "execution_count": 23
        },
        {
          "output_type": "display_data",
          "data": {
            "image/png": "[encoded data removed]",
            "text/plain": [
              "<Figure size 432x288 with 1 Axes>"
            ]
          },
          "metadata": {
            "tags": [],
            "needs_background": "light"
          }
        }
      ]
    },
    {
      "cell_type": "code",
      "metadata": {
        "id": "HKliWX5LwPnY",
        "outputId": "59766153-0382-47ae-f8cd-9705c0620cf2",
        "colab": {
          "base_uri": "https://localhost:8080/",
          "height": 312
        }
      },
      "source": [
        "se.boxplot(x = dfMedicinaC.where(dfMedicinaC['Regiao'] == 3)[NomeDaColuna]).set_title(F\"{NomeDaColuna}  -  Região Centro-Oeste\")"
      ],
      "execution_count": null,
      "outputs": [
        {
          "output_type": "execute_result",
          "data": {
            "text/plain": [
              "Text(0.5, 1.0, 'Nota Padronizada - FG  -  Região Centro-Oeste')"
            ]
          },
          "metadata": {
            "tags": []
          },
          "execution_count": 24
        },
        {
          "output_type": "display_data",
          "data": {
            "image/png": "[encoded data removed]",
            "text/plain": [
              "<Figure size 432x288 with 1 Axes>"
            ]
          },
          "metadata": {
            "tags": [],
            "needs_background": "light"
          }
        }
      ]
    },
    {
      "cell_type": "code",
      "metadata": {
        "id": "3EX6LGYJwPni",
        "outputId": "dfd86661-2ac9-43c6-aa33-12c2f462be1f",
        "colab": {
          "base_uri": "https://localhost:8080/",
          "height": 312
        }
      },
      "source": [
        "se.boxplot(x = dfMedicinaC.where(dfMedicinaC['Regiao'] == 4)[NomeDaColuna]).set_title(F\"{NomeDaColuna}  - Região Sul\")"
      ],
      "execution_count": null,
      "outputs": [
        {
          "output_type": "execute_result",
          "data": {
            "text/plain": [
              "Text(0.5, 1.0, 'Nota Padronizada - FG  - Região Sul')"
            ]
          },
          "metadata": {
            "tags": []
          },
          "execution_count": 25
        },
        {
          "output_type": "display_data",
          "data": {
            "image/png": "[encoded data removed]",
            "text/plain": [
              "<Figure size 432x288 with 1 Axes>"
            ]
          },
          "metadata": {
            "tags": [],
            "needs_background": "light"
          }
        }
      ]
    },
    {
      "cell_type": "code",
      "metadata": {
        "id": "mW6-nHfdwPnk",
        "outputId": "09c5b573-8a9c-4a57-eee5-9a6d516a255c",
        "colab": {
          "base_uri": "https://localhost:8080/",
          "height": 312
        }
      },
      "source": [
        "se.boxplot(x = dfMedicinaC.where(dfMedicinaC['Regiao'] == 5)[NomeDaColuna]).set_title(F\"{NomeDaColuna}  - Região Sudeste\")"
      ],
      "execution_count": null,
      "outputs": [
        {
          "output_type": "execute_result",
          "data": {
            "text/plain": [
              "Text(0.5, 1.0, 'Nota Padronizada - FG  - Região Sudeste')"
            ]
          },
          "metadata": {
            "tags": []
          },
          "execution_count": 26
        },
        {
          "output_type": "display_data",
          "data": {
            "image/png": "[encoded data removed]",
            "text/plain": [
              "<Figure size 432x288 with 1 Axes>"
            ]
          },
          "metadata": {
            "tags": [],
            "needs_background": "light"
          }
        }
      ]
    },
    {
      "cell_type": "markdown",
      "metadata": {
        "id": "pjaY6rwAwPno"
      },
      "source": [
        "###Histograma - Nota Padronizada - FG"
      ]
    },
    {
      "cell_type": "code",
      "metadata": {
        "id": "uhDVvVOwwPno",
        "outputId": "5f329fb0-9193-4a5c-9096-83b3ca211195",
        "colab": {
          "base_uri": "https://localhost:8080/",
          "height": 312
        }
      },
      "source": [
        "se.histplot(data= dfMedicinaC.where(dfMedicinaC['Regiao'] == 1), x= NomeDaColuna, stat='frequency').set_title(F\"{NomeDaColuna} - Região Norte\")"
      ],
      "execution_count": null,
      "outputs": [
        {
          "output_type": "execute_result",
          "data": {
            "text/plain": [
              "Text(0.5, 1.0, 'Nota Padronizada - FG - Região Norte')"
            ]
          },
          "metadata": {
            "tags": []
          },
          "execution_count": 27
        },
        {
          "output_type": "display_data",
          "data": {
            "image/png": "[encoded data removed]",
            "text/plain": [
              "<Figure size 432x288 with 1 Axes>"
            ]
          },
          "metadata": {
            "tags": [],
            "needs_background": "light"
          }
        }
      ]
    },
    {
      "cell_type": "code",
      "metadata": {
        "id": "IGbTM6szwPns",
        "outputId": "23b052a9-b4ed-4421-bda1-51311f71127a",
        "colab": {
          "base_uri": "https://localhost:8080/",
          "height": 312
        }
      },
      "source": [
        "se.histplot(data= dfMedicinaC.where(dfMedicinaC['Regiao'] == 2),  x= NomeDaColuna, stat='frequency').set_title(F\"{NomeDaColuna}  - Região Nordeste\")"
      ],
      "execution_count": null,
      "outputs": [
        {
          "output_type": "execute_result",
          "data": {
            "text/plain": [
              "Text(0.5, 1.0, 'Nota Padronizada - FG  - Região Nordeste')"
            ]
          },
          "metadata": {
            "tags": []
          },
          "execution_count": 28
        },
        {
          "output_type": "display_data",
          "data": {
            "image/png": "[encoded data removed]",
            "text/plain": [
              "<Figure size 432x288 with 1 Axes>"
            ]
          },
          "metadata": {
            "tags": [],
            "needs_background": "light"
          }
        }
      ]
    },
    {
      "cell_type": "code",
      "metadata": {
        "id": "8ZkPS0STwPnu",
        "outputId": "888d3478-8052-4cb4-dec5-acb020b9d3ec",
        "colab": {
          "base_uri": "https://localhost:8080/",
          "height": 312
        }
      },
      "source": [
        "se.histplot(data= dfMedicinaC.where(dfMedicinaC['Regiao'] == 3),  x= NomeDaColuna, stat='frequency').set_title(F\"{NomeDaColuna}  - Regiao Centro-Oeste\")"
      ],
      "execution_count": null,
      "outputs": [
        {
          "output_type": "execute_result",
          "data": {
            "text/plain": [
              "Text(0.5, 1.0, 'Nota Padronizada - FG  - Regiao Centro-Oeste')"
            ]
          },
          "metadata": {
            "tags": []
          },
          "execution_count": 29
        },
        {
          "output_type": "display_data",
          "data": {
            "image/png": "[encoded data removed]",
            "text/plain": [
              "<Figure size 432x288 with 1 Axes>"
            ]
          },
          "metadata": {
            "tags": [],
            "needs_background": "light"
          }
        }
      ]
    },
    {
      "cell_type": "code",
      "metadata": {
        "id": "MYlGf30GwPnw",
        "outputId": "01965d79-de2e-4354-ca91-4df54ad31b98",
        "colab": {
          "base_uri": "https://localhost:8080/",
          "height": 312
        }
      },
      "source": [
        "se.histplot(data= dfMedicinaC.where(dfMedicinaC['Regiao'] == 4),  x= NomeDaColuna, stat='frequency').set_title(F\"{NomeDaColuna}  - Região Sul\")"
      ],
      "execution_count": null,
      "outputs": [
        {
          "output_type": "execute_result",
          "data": {
            "text/plain": [
              "Text(0.5, 1.0, 'Nota Padronizada - FG  - Região Sul')"
            ]
          },
          "metadata": {
            "tags": []
          },
          "execution_count": 30
        },
        {
          "output_type": "display_data",
          "data": {
            "image/png": "[encoded data removed]",
            "text/plain": [
              "<Figure size 432x288 with 1 Axes>"
            ]
          },
          "metadata": {
            "tags": [],
            "needs_background": "light"
          }
        }
      ]
    },
    {
      "cell_type": "code",
      "metadata": {
        "id": "eVQwpsjAwPny",
        "outputId": "bb24c0e3-a050-403f-a696-ba467f69d0fd",
        "colab": {
          "base_uri": "https://localhost:8080/",
          "height": 164
        }
      },
      "source": [
        "se.histplot(data= dfMedicinaC.where(dfMedicinaC['Regiao'] == 5),  x= NPCE, stat='frequency').set_title(F\"{NPCE}  - Região Sudeste\")"
      ],
      "execution_count": null,
      "outputs": [
        {
          "output_type": "error",
          "ename": "NameError",
          "evalue": "ignored",
          "traceback": [
            "\u001b[0;31m---------------------------------------------------------------------------\u001b[0m",
            "\u001b[0;31mNameError\u001b[0m                                 Traceback (most recent call last)",
            "\u001b[0;32m<ipython-input-31-809390c0a30e>\u001b[0m in \u001b[0;36m<module>\u001b[0;34m()\u001b[0m\n\u001b[0;32m----> 1\u001b[0;31m \u001b[0mse\u001b[0m\u001b[0;34m.\u001b[0m\u001b[0mhistplot\u001b[0m\u001b[0;34m(\u001b[0m\u001b[0mdata\u001b[0m\u001b[0;34m=\u001b[0m \u001b[0mdfMedicinaC\u001b[0m\u001b[0;34m.\u001b[0m\u001b[0mwhere\u001b[0m\u001b[0;34m(\u001b[0m\u001b[0mdfMedicinaC\u001b[0m\u001b[0;34m[\u001b[0m\u001b[0;34m'Regiao'\u001b[0m\u001b[0;34m]\u001b[0m \u001b[0;34m==\u001b[0m \u001b[0;36m5\u001b[0m\u001b[0;34m)\u001b[0m\u001b[0;34m,\u001b[0m  \u001b[0mx\u001b[0m\u001b[0;34m=\u001b[0m \u001b[0mNPCE\u001b[0m\u001b[0;34m,\u001b[0m \u001b[0mstat\u001b[0m\u001b[0;34m=\u001b[0m\u001b[0;34m'frequency'\u001b[0m\u001b[0;34m)\u001b[0m\u001b[0;34m.\u001b[0m\u001b[0mset_title\u001b[0m\u001b[0;34m(\u001b[0m\u001b[0;34mF\"{NPCE}  - Região Sudeste\"\u001b[0m\u001b[0;34m)\u001b[0m\u001b[0;34m\u001b[0m\u001b[0;34m\u001b[0m\u001b[0m\n\u001b[0m",
            "\u001b[0;31mNameError\u001b[0m: name 'NPCE' is not defined"
          ]
        }
      ]
    },
    {
      "cell_type": "markdown",
      "metadata": {
        "id": "XvRnhtA2gcBg"
      },
      "source": [
        "###Boxsplot - Nota Padronizada - CE"
      ]
    },
    {
      "cell_type": "code",
      "metadata": {
        "id": "zSYDkizisqN7"
      },
      "source": [
        "NomeDaColuna = 'Nota Padronizada - CE'"
      ],
      "execution_count": null,
      "outputs": []
    },
    {
      "cell_type": "code",
      "metadata": {
        "id": "PPRoxzo4sfqs"
      },
      "source": [
        "se.boxplot(dfMedicinaC.where(dfMedicinaC['Regiao'] == 1)[NomeDaColuna]).set_title(F\"{NomeDaColuna} - Região Norte\")"
      ],
      "execution_count": null,
      "outputs": []
    },
    {
      "cell_type": "code",
      "metadata": {
        "id": "rF4aQds7e0nN"
      },
      "source": [
        "se.boxplot(dfMedicinaC.where(dfMedicinaC['Regiao'] == 2)[NomeDaColuna]).set_title(F\"{NomeDaColuna}  - Região Nordeste\")"
      ],
      "execution_count": null,
      "outputs": []
    },
    {
      "cell_type": "code",
      "metadata": {
        "id": "33ntVzIOe0CG"
      },
      "source": [
        "se.boxplot(dfMedicinaC.where(dfMedicinaC['Regiao'] == 3)[NomeDaColuna]).set_title(F\"{NomeDaColuna}  -  Região Centro-Oeste\")"
      ],
      "execution_count": null,
      "outputs": []
    },
    {
      "cell_type": "code",
      "metadata": {
        "id": "tRBMJmM5eznf"
      },
      "source": [
        "se.boxplot(dfMedicinaC.where(dfMedicinaC['Regiao'] == 4)[NomeDaColuna]).set_title(F\"{NomeDaColuna}  - Região Sul\")"
      ],
      "execution_count": null,
      "outputs": []
    },
    {
      "cell_type": "code",
      "metadata": {
        "id": "6F_gCvA2wQeN"
      },
      "source": [
        "se.boxplot(dfMedicinaC.where(dfMedicinaC['Regiao'] == 5)[NomeDaColuna]).set_title(F\"{NomeDaColuna}  - Região Sudeste\")"
      ],
      "execution_count": null,
      "outputs": []
    },
    {
      "cell_type": "markdown",
      "metadata": {
        "id": "QtRH-Rn1hHAo"
      },
      "source": [
        "###Histograma - Nota Padronizada - CE"
      ]
    },
    {
      "cell_type": "code",
      "metadata": {
        "id": "2RsskVZBhNT-"
      },
      "source": [
        "se.histplot(data= dfMedicinaC.where(dfMedicinaC['Regiao'] == 1), x= NomeDaColuna, stat='frequency').set_title(F\"{NomeDaColuna} - Região Norte\")"
      ],
      "execution_count": null,
      "outputs": []
    },
    {
      "cell_type": "code",
      "metadata": {
        "id": "WwpUvAddhNnw"
      },
      "source": [
        "se.histplot(data= dfMedicinaC.where(dfMedicinaC['Regiao'] == 2),  x= NomeDaColuna, stat='frequency').set_title(F\"{NomeDaColuna}  - Região Nordeste\")"
      ],
      "execution_count": null,
      "outputs": []
    },
    {
      "cell_type": "code",
      "metadata": {
        "id": "afnzzTGFhN8L"
      },
      "source": [
        "se.histplot(data= dfMedicinaC.where(dfMedicinaC['Regiao'] == 3),  x= NomeDaColuna, stat='frequency').set_title(F\"{NomeDaColuna}  - Regiao Centro-Oeste\")"
      ],
      "execution_count": null,
      "outputs": []
    },
    {
      "cell_type": "code",
      "metadata": {
        "id": "Yk3eEo2XhOQt"
      },
      "source": [
        "se.histplot(data= dfMedicinaC.where(dfMedicinaC['Regiao'] == 4),  x= NomeDaColuna, stat='frequency').set_title(F\"{NomeDaColuna}  - Região Sul\")"
      ],
      "execution_count": null,
      "outputs": []
    },
    {
      "cell_type": "code",
      "metadata": {
        "id": "E3XpduaAhOg1"
      },
      "source": [
        "se.histplot(data= dfMedicinaC.where(dfMedicinaC['Regiao'] == 5),  x= NPCE, stat='frequency').set_title(F\"{NomeDaColuna}  - Região Sudeste \")"
      ],
      "execution_count": null,
      "outputs": []
    },
    {
      "cell_type": "markdown",
      "metadata": {
        "id": "DWmmqh2huEu6"
      },
      "source": [
        "###Boxsplot - Conceito Enade (Faixa)"
      ]
    },
    {
      "cell_type": "code",
      "metadata": {
        "id": "btaKb1fRuEvD"
      },
      "source": [
        "NomeDaColuna = 'Conceito Enade (Faixa)'"
      ],
      "execution_count": null,
      "outputs": []
    },
    {
      "cell_type": "code",
      "metadata": {
        "id": "a8p9tk0-uEvK"
      },
      "source": [
        "se.boxplot(dfMedicinaC.where(dfMedicinaC['Regiao'] == 1)[NomeDaColuna]).set_title(F\"{NomeDaColuna} - Região Norte\")"
      ],
      "execution_count": null,
      "outputs": []
    },
    {
      "cell_type": "code",
      "metadata": {
        "id": "TFvaaulMuEvN"
      },
      "source": [
        "se.boxplot(dfMedicinaC.where(dfMedicinaC['Regiao'] == 2)[NomeDaColuna]).set_title(F\"{NomeDaColuna}  - Região Nordeste\")"
      ],
      "execution_count": null,
      "outputs": []
    },
    {
      "cell_type": "code",
      "metadata": {
        "id": "YXi2UQhmuEvS"
      },
      "source": [
        "se.boxplot(dfMedicinaC.where(dfMedicinaC['Regiao'] == 3)[NomeDaColuna]).set_title(F\"{NomeDaColuna}  -  Região Centro-Oeste\")"
      ],
      "execution_count": null,
      "outputs": []
    },
    {
      "cell_type": "code",
      "metadata": {
        "id": "jzx4rtzYuEvU"
      },
      "source": [
        "se.boxplot(dfMedicinaC.where(dfMedicinaC['Regiao'] == 4)[NomeDaColuna]).set_title(F\"{NomeDaColuna}  - Região Sul\")"
      ],
      "execution_count": null,
      "outputs": []
    },
    {
      "cell_type": "code",
      "metadata": {
        "id": "SlsN5fduuEvW"
      },
      "source": [
        "se.boxplot(dfMedicinaC.where(dfMedicinaC['Regiao'] == 5)[NomeDaColuna]).set_title(F\"{NomeDaColuna}  - Região Sudeste\")"
      ],
      "execution_count": null,
      "outputs": []
    },
    {
      "cell_type": "markdown",
      "metadata": {
        "id": "cybOiiGYuEvb"
      },
      "source": [
        "###Histograma - Conceito Enade (Faixa)"
      ]
    },
    {
      "cell_type": "code",
      "metadata": {
        "id": "2reVwjxsuEvc"
      },
      "source": [
        "se.histplot(data= dfMedicinaC.where(dfMedicinaC['Regiao'] == 1), x= NomeDaColuna, stat='frequency').set_title(F\"{NomeDaColuna} - Região Norte\")"
      ],
      "execution_count": null,
      "outputs": []
    },
    {
      "cell_type": "code",
      "metadata": {
        "id": "YfVy_Lz6uEve"
      },
      "source": [
        "se.histplot(data= dfMedicinaC.where(dfMedicinaC['Regiao'] == 2),  x= NomeDaColuna, stat='frequency').set_title(F\"{NomeDaColuna}  - Região Nordeste\")"
      ],
      "execution_count": null,
      "outputs": []
    },
    {
      "cell_type": "code",
      "metadata": {
        "id": "6UEax_OtuEvh"
      },
      "source": [
        "se.histplot(data= dfMedicinaC.where(dfMedicinaC['Regiao'] == 3),  x= NomeDaColuna, stat='frequency').set_title(F\"{NomeDaColuna}  - Regiao Centro-Oeste\")"
      ],
      "execution_count": null,
      "outputs": []
    },
    {
      "cell_type": "code",
      "metadata": {
        "id": "EbOKZy2yuEvj"
      },
      "source": [
        "se.histplot(data= dfMedicinaC.where(dfMedicinaC['Regiao'] == 4),  x= NomeDaColuna, stat='frequency').set_title(F\"{NomeDaColuna}  - Região Sul\")"
      ],
      "execution_count": null,
      "outputs": []
    },
    {
      "cell_type": "code",
      "metadata": {
        "id": "T5Mohhr4uEvl"
      },
      "source": [
        "se.histplot(data= dfMedicinaC.where(dfMedicinaC['Regiao'] == 5),  x= NomeDaColuna, stat='frequency').set_title(F\"{NomeDaColuna}  - Região Sudeste x= NPCE, stat='frequency').set_title(F\"{NPCE} \")"
      ],
      "execution_count": null,
      "outputs": []
    },
    {
      "cell_type": "markdown",
      "metadata": {
        "id": "npFYsZeVun6S"
      },
      "source": [
        "###Boxsplot - Conceito Enade (Contínuo)"
      ]
    },
    {
      "cell_type": "code",
      "metadata": {
        "id": "CfljN-D7un6o"
      },
      "source": [
        "NomeDaColuna = 'Conceito Enade (Contínuo)'"
      ],
      "execution_count": null,
      "outputs": []
    },
    {
      "cell_type": "code",
      "metadata": {
        "id": "EPCqWMdgun6y"
      },
      "source": [
        "se.boxplot(dfMedicinaC.where(dfMedicinaC['Regiao'] == 1)[NomeDaColuna]).set_title(F\"{NomeDaColuna} - Região Norte\")"
      ],
      "execution_count": null,
      "outputs": []
    },
    {
      "cell_type": "code",
      "metadata": {
        "id": "-RXuzJNdun63"
      },
      "source": [
        "se.boxplot(dfMedicinaC.where(dfMedicinaC['Regiao'] == 2)[NomeDaColuna]).set_title(F\"{NomeDaColuna}  - Região Nordeste\")"
      ],
      "execution_count": null,
      "outputs": []
    },
    {
      "cell_type": "code",
      "metadata": {
        "id": "JmUt-EFUun6-"
      },
      "source": [
        "se.boxplot(dfMedicinaC.where(dfMedicinaC['Regiao'] == 3)[NomeDaColuna]).set_title(F\"{NomeDaColuna}  -  Região Centro-Oeste\")"
      ],
      "execution_count": null,
      "outputs": []
    },
    {
      "cell_type": "code",
      "metadata": {
        "id": "BG0_fzkUun7B"
      },
      "source": [
        "NomeDaColunase.boxplot(dfMedicinaC.where(dfMedicinaC['Regiao'] == 4)[NomeDaColuna]).set_title(F\"{NomeDaColuna}  - Região Sul\")"
      ],
      "execution_count": null,
      "outputs": []
    },
    {
      "cell_type": "code",
      "metadata": {
        "id": "-S698Geuun7F"
      },
      "source": [
        "se.boxplot(dfMedicinaC.where(dfMedicinaC['Regiao'] == 5)[NomeDaColuna]).set_title(F\"{NomeDaColuna}  - Região Sudeste\")"
      ],
      "execution_count": null,
      "outputs": []
    },
    {
      "cell_type": "markdown",
      "metadata": {
        "id": "D2i6m9Gtun7I"
      },
      "source": [
        "###Histograma - Conceito Enade (Faixa)"
      ]
    },
    {
      "cell_type": "code",
      "metadata": {
        "id": "Gqig2QkDun7I"
      },
      "source": [
        "se.histplot(data= dfMedicinaC.where(dfMedicinaC['Regiao'] == 1), x= NomeDaColuna, stat='frequency').set_title(F\"{NomeDaColuna} - Região Norte\")"
      ],
      "execution_count": null,
      "outputs": []
    },
    {
      "cell_type": "code",
      "metadata": {
        "id": "SSU23zjUun7K"
      },
      "source": [
        "se.histplot(data= dfMedicinaC.where(dfMedicinaC['Regiao'] == 2),  x= NomeDaColuna, stat='frequency').set_title(F\"{NomeDaColuna}  - Região Nordeste\")"
      ],
      "execution_count": null,
      "outputs": []
    },
    {
      "cell_type": "code",
      "metadata": {
        "id": "6xwVwkzgun7M"
      },
      "source": [
        "se.histplot(data= dfMedicinaC.where(dfMedicinaC['Regiao'] == 3),  x= NomeDaColuna, stat='frequency').set_title(F\"{NomeDaColuna}  - Regiao Centro-Oeste\")"
      ],
      "execution_count": null,
      "outputs": []
    },
    {
      "cell_type": "code",
      "metadata": {
        "id": "2H3e1iFAun7S"
      },
      "source": [
        "NomeDaColunase.histplot(data= dfMedicinaC.where(dfMedicinaC['Regiao'] == 4),  x= NomeDaColuna, stat='frequency').set_title(F\"{NomeDaColuna}  - Região Sul\")"
      ],
      "execution_count": null,
      "outputs": []
    },
    {
      "cell_type": "code",
      "metadata": {
        "id": "9U_K7dGvun7X"
      },
      "source": [
        "se.histplot(data= dfMedicinaC.where(dfMedicinaC['Regiao'] == 5),  x= NomeDaColuna, stat='frequency').set_title(F\"{NomeDaColuna}  - Região Sudeste  \")"
      ],
      "execution_count": null,
      "outputs": []
    },
    {
      "cell_type": "markdown",
      "metadata": {
        "id": "bAzBKzs8-ZgZ"
      },
      "source": [
        "# **ITEM B**\n"
      ]
    },
    {
      "cell_type": "code",
      "metadata": {
        "id": "bqXJP_oE-Zgq"
      },
      "source": [
        "dfMedicinaC.head()"
      ],
      "execution_count": null,
      "outputs": []
    },
    {
      "cell_type": "code",
      "metadata": {
        "id": "8X2Iwt6P-ZhB"
      },
      "source": [
        "# cria variáveis para as colunas\n",
        "conc_inscritos = dfMedicinaC['Concluintes Inscritos']\n",
        "conc_participantes = dfMedicinaC['Concluintes Participantes']\n",
        "nota_fg = dfMedicinaC['Nota Padronizada - FG']\n",
        "nota_ce = dfMedicinaC['Nota Padronizada - CE']\n",
        "conceito_cont = dfMedicinaC['Conceito Enade (Contínuo)']\n",
        "conceito_faixa = dfMedicinaC['Conceito Enade (Faixa)']"
      ],
      "execution_count": null,
      "outputs": []
    },
    {
      "cell_type": "code",
      "metadata": {
        "id": "q_7jGSNF-ZhK"
      },
      "source": [
        "# função para calcular simetria\n",
        "def calc_simetria(media, mediana):\n",
        "  if (media > mediana):\n",
        "    return 'ASSIMÉTRICA POSITIVA'\n",
        "  elif (media < mediana):\n",
        "    return 'ASSIMÉTRICA NEGATIVA'\n",
        "  else:\n",
        "    return 'SIMÉTRICA'"
      ],
      "execution_count": null,
      "outputs": []
    },
    {
      "cell_type": "markdown",
      "metadata": {
        "id": "4wAiB6mI-ZhQ"
      },
      "source": [
        "## **B - Variável 'Concluintes Inscritos'**"
      ]
    },
    {
      "cell_type": "code",
      "metadata": {
        "id": "MGH-UEIf-ZhS"
      },
      "source": [
        "# Info\n",
        "conc_inscritos.describe()"
      ],
      "execution_count": null,
      "outputs": []
    },
    {
      "cell_type": "code",
      "metadata": {
        "id": "zc5bjMaB-ZhY"
      },
      "source": [
        "# Criar lista\n",
        "inscritos_array = np.array(conc_inscritos, dtype = float)\n",
        "print (inscritos_array)"
      ],
      "execution_count": null,
      "outputs": []
    },
    {
      "cell_type": "code",
      "metadata": {
        "id": "_5OXNSyg-Zhl"
      },
      "source": [
        "# Média\n",
        "ci_media = st.mean(inscritos_array)\n",
        "ci_media"
      ],
      "execution_count": null,
      "outputs": []
    },
    {
      "cell_type": "code",
      "metadata": {
        "id": "eQFT0ILa-Zhq"
      },
      "source": [
        "# Mediana\n",
        "ci_mediana = st.median(inscritos_array)\n",
        "ci_mediana"
      ],
      "execution_count": null,
      "outputs": []
    },
    {
      "cell_type": "code",
      "metadata": {
        "id": "0LTIpQnH-Zhw"
      },
      "source": [
        "# Moda\n",
        "ci_moda = st.mode(inscritos_array) # st.multimode(inscritos_array)\n",
        "ci_moda"
      ],
      "execution_count": null,
      "outputs": []
    },
    {
      "cell_type": "code",
      "metadata": {
        "id": "tHJQSscG-Zh1"
      },
      "source": [
        "# Desvio-padrão\n",
        "ci_desvio_padrao = np.std(inscritos_array)\n",
        "ci_desvio_padrao"
      ],
      "execution_count": null,
      "outputs": []
    },
    {
      "cell_type": "code",
      "metadata": {
        "id": "XiwUPbGj-Zh6"
      },
      "source": [
        "# Coeficiente de variação\n",
        "ci_coef_variacao = np.var(inscritos_array)\n",
        "ci_coef_variacao"
      ],
      "execution_count": null,
      "outputs": []
    },
    {
      "cell_type": "code",
      "metadata": {
        "id": "x3uXZX2w-ZiA"
      },
      "source": [
        "# Simetria\n",
        "print(\"A variável é\", calc_simetria(ci_media, ci_mediana))\n",
        "print()\n",
        "se.boxplot(x = conc_inscritos).set_title('Gráfico Box-plot dos concluintes inscritos')"
      ],
      "execution_count": null,
      "outputs": []
    },
    {
      "cell_type": "markdown",
      "metadata": {
        "id": "VKBXk1Wi-ZiF"
      },
      "source": [
        "## **B - Variável 'Concluintes Participantes'**"
      ]
    },
    {
      "cell_type": "code",
      "metadata": {
        "id": "rtSuYdL1-ZiG"
      },
      "source": [
        "# Info\n",
        "conc_participantes.describe()"
      ],
      "execution_count": null,
      "outputs": []
    },
    {
      "cell_type": "code",
      "metadata": {
        "id": "AgzjKnMH-ZiK"
      },
      "source": [
        "# Criar lista\n",
        "participantes_array = np.array(conc_participantes, dtype = float)\n",
        "print (participantes_array)"
      ],
      "execution_count": null,
      "outputs": []
    },
    {
      "cell_type": "code",
      "metadata": {
        "id": "cj3aMA-U-ZiO"
      },
      "source": [
        "# Média\n",
        "cp_media = st.mean(participantes_array)\n",
        "cp_media"
      ],
      "execution_count": null,
      "outputs": []
    },
    {
      "cell_type": "code",
      "metadata": {
        "id": "vlk24sN0-ZiT"
      },
      "source": [
        "# Mediana\n",
        "cp_mediana = st.median(participantes_array)\n",
        "cp_mediana"
      ],
      "execution_count": null,
      "outputs": []
    },
    {
      "cell_type": "code",
      "metadata": {
        "id": "zEivoTpT-ZiX"
      },
      "source": [
        "# Moda\n",
        "cp_moda = st.mode(participantes_array) # st.multimode(participantes_array)\n",
        "cp_moda"
      ],
      "execution_count": null,
      "outputs": []
    },
    {
      "cell_type": "code",
      "metadata": {
        "id": "cDOK-vTL-Zib"
      },
      "source": [
        "# Desvio-padrão\n",
        "cp_desvio_padrao = np.std(participantes_array)\n",
        "cp_desvio_padrao"
      ],
      "execution_count": null,
      "outputs": []
    },
    {
      "cell_type": "code",
      "metadata": {
        "id": "ZPITxV1k-Zif"
      },
      "source": [
        "# Coeficiente de variação\n",
        "cp_coef_variacao = np.var(participantes_array)\n",
        "cp_coef_variacao"
      ],
      "execution_count": null,
      "outputs": []
    },
    {
      "cell_type": "code",
      "metadata": {
        "id": "gk7g5Qzw-Zii"
      },
      "source": [
        "# Simetria\n",
        "print(\"A variável é\", calc_simetria(cp_media, cp_mediana))\n",
        "print()\n",
        "se.boxplot(x = conc_participantes).set_title('Gráfico Box-plot dos concluintes participantes')"
      ],
      "execution_count": null,
      "outputs": []
    },
    {
      "cell_type": "markdown",
      "metadata": {
        "id": "xqgMKmLnV7Pn"
      },
      "source": [
        "## **B - Variável 'Nota Padronizada - FG'**"
      ]
    },
    {
      "cell_type": "code",
      "metadata": {
        "id": "vY09m19tV7Pr"
      },
      "source": [
        "# Info\n",
        "nota_fg.describe()"
      ],
      "execution_count": null,
      "outputs": []
    },
    {
      "cell_type": "code",
      "metadata": {
        "id": "WxW-k3k8V7P6"
      },
      "source": [
        "# Criar lista\n",
        "nota_fg_array = np.array(nota_fg, dtype = float)\n",
        "print (nota_fg_array)"
      ],
      "execution_count": null,
      "outputs": []
    },
    {
      "cell_type": "code",
      "metadata": {
        "id": "vvvVMj11V7QD"
      },
      "source": [
        "# Média\n",
        "fg_media = st.mean(nota_fg_array)\n",
        "fg_media"
      ],
      "execution_count": null,
      "outputs": []
    },
    {
      "cell_type": "code",
      "metadata": {
        "id": "SdP6xlOrV7QL"
      },
      "source": [
        "# Mediana\n",
        "fg_mediana = st.median(nota_fg_array)\n",
        "fg_mediana"
      ],
      "execution_count": null,
      "outputs": []
    },
    {
      "cell_type": "code",
      "metadata": {
        "id": "S8cEw6aAV7QR"
      },
      "source": [
        "# Moda\n",
        "#fg_moda = st.mode(nota_fg_array) # st.multimode(nota_fg_array)\n",
        "#fg_moda\n",
        "print('Não tem moda, pois nenhum valor se repete.')"
      ],
      "execution_count": null,
      "outputs": []
    },
    {
      "cell_type": "code",
      "metadata": {
        "id": "yZEVJFyiV7QY"
      },
      "source": [
        "# Desvio-padrão\n",
        "fg_desvio_padrao = np.std(nota_fg_array)\n",
        "fg_desvio_padrao"
      ],
      "execution_count": null,
      "outputs": []
    },
    {
      "cell_type": "code",
      "metadata": {
        "id": "do3T3Mj0V7Qd"
      },
      "source": [
        "# Coeficiente de variação\n",
        "fg_coef_variacao = np.var(nota_fg_array)\n",
        "fg_coef_variacao"
      ],
      "execution_count": null,
      "outputs": []
    },
    {
      "cell_type": "code",
      "metadata": {
        "id": "W5rAh6O4V7Qk"
      },
      "source": [
        "# Simetria\n",
        "print(\"A variável é\", calc_simetria(fg_media, fg_mediana))\n",
        "print()\n",
        "se.boxplot(x = nota_fg, ).set_title('Gráfico Box-plot da nota padronizada (FG)')"
      ],
      "execution_count": null,
      "outputs": []
    },
    {
      "cell_type": "markdown",
      "metadata": {
        "id": "Px9TQxNpXxYa"
      },
      "source": [
        "## **B - Variável 'Nota Padronizada - CE'**"
      ]
    },
    {
      "cell_type": "code",
      "metadata": {
        "id": "ayXrmZxOXxYe"
      },
      "source": [
        "# Info\n",
        "nota_ce.describe()"
      ],
      "execution_count": null,
      "outputs": []
    },
    {
      "cell_type": "code",
      "metadata": {
        "id": "1-fjZ2PeXxYq"
      },
      "source": [
        "# Criar lista\n",
        "nota_ce_array = np.array(nota_ce, dtype = float)\n",
        "print (nota_ce_array)"
      ],
      "execution_count": null,
      "outputs": []
    },
    {
      "cell_type": "code",
      "metadata": {
        "id": "qyDyKrfCXxYy"
      },
      "source": [
        "# Média\n",
        "ce_media = st.mean(nota_ce_array)\n",
        "ce_media"
      ],
      "execution_count": null,
      "outputs": []
    },
    {
      "cell_type": "code",
      "metadata": {
        "id": "N9TKPiXqXxY4"
      },
      "source": [
        "# Mediana\n",
        "ce_mediana = st.median(nota_ce_array)\n",
        "ce_mediana"
      ],
      "execution_count": null,
      "outputs": []
    },
    {
      "cell_type": "code",
      "metadata": {
        "id": "-mzWa-W6XxY-"
      },
      "source": [
        "# Moda\n",
        "ce_moda = st.mode(nota_ce_array) # st.multimode(nota_ce_array)\n",
        "ce_moda"
      ],
      "execution_count": null,
      "outputs": []
    },
    {
      "cell_type": "code",
      "metadata": {
        "id": "kHqCRrqnXxZF"
      },
      "source": [
        "# Desvio-padrão\n",
        "ce_desvio_padrao = np.std(nota_ce_array)\n",
        "ce_desvio_padrao"
      ],
      "execution_count": null,
      "outputs": []
    },
    {
      "cell_type": "code",
      "metadata": {
        "id": "6KCaxelKXxZK"
      },
      "source": [
        "# Coeficiente de variação\n",
        "ce_coef_variacao = np.var(nota_ce_array)\n",
        "ce_coef_variacao"
      ],
      "execution_count": null,
      "outputs": []
    },
    {
      "cell_type": "code",
      "metadata": {
        "id": "V2-qyDrAXxZT"
      },
      "source": [
        "# Simetria\n",
        "print(\"A variável é\", calc_simetria(ce_media, ce_mediana))\n",
        "print()\n",
        "se.boxplot(x = nota_ce).set_title('Gráfico Box-plot da nota padronizada (CE)')"
      ],
      "execution_count": null,
      "outputs": []
    },
    {
      "cell_type": "markdown",
      "metadata": {
        "id": "HEfy2AYBYWfs"
      },
      "source": [
        "## **B - Variável 'Conceito Enade - Contínuo'**"
      ]
    },
    {
      "cell_type": "code",
      "metadata": {
        "id": "4eHsAkR0YWfv"
      },
      "source": [
        "# Info\n",
        "conceito_cont.describe()"
      ],
      "execution_count": null,
      "outputs": []
    },
    {
      "cell_type": "code",
      "metadata": {
        "id": "UVuGE75RYWf-"
      },
      "source": [
        "# Criar lista\n",
        "conceito_cont_array = np.array(conceito_cont, dtype = float)\n",
        "print (conceito_cont_array)"
      ],
      "execution_count": null,
      "outputs": []
    },
    {
      "cell_type": "code",
      "metadata": {
        "id": "Ah-UOKZ-YWgH"
      },
      "source": [
        "# Média\n",
        "cc_media = st.mean(conceito_cont_array)\n",
        "cc_media"
      ],
      "execution_count": null,
      "outputs": []
    },
    {
      "cell_type": "code",
      "metadata": {
        "id": "27bJVWraYWgO"
      },
      "source": [
        "# Mediana\n",
        "cc_mediana = st.median(conceito_cont_array)\n",
        "cc_mediana"
      ],
      "execution_count": null,
      "outputs": []
    },
    {
      "cell_type": "code",
      "metadata": {
        "id": "oCCwQGi9YWgT"
      },
      "source": [
        "# Moda\n",
        "#cc_moda = st.mode(conceito_cont_array) # st.multimode(conceito_cont_array)\n",
        "#cc_moda\n",
        "print('Não tem moda, pois nenhum valor se repete.')"
      ],
      "execution_count": null,
      "outputs": []
    },
    {
      "cell_type": "code",
      "metadata": {
        "id": "7MTFm3vWYWgc"
      },
      "source": [
        "# Desvio-padrão\n",
        "cc_desvio_padrao = np.std(conceito_cont_array)\n",
        "cc_desvio_padrao"
      ],
      "execution_count": null,
      "outputs": []
    },
    {
      "cell_type": "code",
      "metadata": {
        "id": "hbkW191IYWgi"
      },
      "source": [
        "# Coeficiente de variação\n",
        "cc_coef_variacao = np.var(conceito_cont_array)\n",
        "cc_coef_variacao"
      ],
      "execution_count": null,
      "outputs": []
    },
    {
      "cell_type": "code",
      "metadata": {
        "id": "1-dyTkuwYWgo"
      },
      "source": [
        "# Simetria\n",
        "print(\"A variável é\", calc_simetria(cc_media, cc_mediana))\n",
        "print()\n",
        "se.boxplot(x = conceito_cont).set_title('Gráfico Box-plot da Conceito Endade (Contínuo)')"
      ],
      "execution_count": null,
      "outputs": []
    },
    {
      "cell_type": "markdown",
      "metadata": {
        "id": "QlvQIFP4aMm3"
      },
      "source": [
        "## **B - Variável 'Conceito Enade - Faixa'**"
      ]
    },
    {
      "cell_type": "code",
      "metadata": {
        "id": "OvBM3zg7aMm6"
      },
      "source": [
        "# Info\n",
        "conceito_faixa.describe()"
      ],
      "execution_count": null,
      "outputs": []
    },
    {
      "cell_type": "code",
      "metadata": {
        "id": "J_OicJvdaMnG"
      },
      "source": [
        "# Criar lista\n",
        "conceito_faixa_array = np.array(conceito_faixa, dtype = float)\n",
        "print (conceito_faixa_array)"
      ],
      "execution_count": null,
      "outputs": []
    },
    {
      "cell_type": "code",
      "metadata": {
        "id": "lIGE5tb0aMnQ"
      },
      "source": [
        "# Média\n",
        "cf_media = st.mean(conceito_faixa_array)\n",
        "cf_media"
      ],
      "execution_count": null,
      "outputs": []
    },
    {
      "cell_type": "code",
      "metadata": {
        "id": "raV8JZCkaMnW"
      },
      "source": [
        "# Mediana\n",
        "cf_mediana = st.median(conceito_faixa_array)\n",
        "cf_mediana"
      ],
      "execution_count": null,
      "outputs": []
    },
    {
      "cell_type": "code",
      "metadata": {
        "id": "Rpy6U44UaMnc"
      },
      "source": [
        "# Moda\n",
        "cf_moda = st.mode(conceito_faixa_array) # st.multimode(conceito_faixa_array)\n",
        "cf_moda"
      ],
      "execution_count": null,
      "outputs": []
    },
    {
      "cell_type": "code",
      "metadata": {
        "id": "E0jjMacdaMni"
      },
      "source": [
        "# Desvio-padrão\n",
        "cf_desvio_padrao = np.std(conceito_faixa_array)\n",
        "cf_desvio_padrao"
      ],
      "execution_count": null,
      "outputs": []
    },
    {
      "cell_type": "code",
      "metadata": {
        "id": "zAwwlO9xaMno"
      },
      "source": [
        "# Coeficiente de variação\n",
        "cf_coef_variacao = np.var(conceito_faixa_array)\n",
        "cf_coef_variacao"
      ],
      "execution_count": null,
      "outputs": []
    },
    {
      "cell_type": "code",
      "metadata": {
        "id": "kfeTXUbEaMnt"
      },
      "source": [
        "# Simetria\n",
        "print(\"A variável é\", calc_simetria(cf_media, cf_mediana))\n",
        "print()\n",
        "se.boxplot(x = conceito_faixa).set_title('Gráfico Box-plot da Conceito Endade (Faixa)')"
      ],
      "execution_count": null,
      "outputs": []
    },
    {
      "cell_type": "markdown",
      "metadata": {
        "id": "-eoyHXfX3UGc"
      },
      "source": [
        "# ITEM C"
      ]
    },
    {
      "cell_type": "markdown",
      "metadata": {
        "id": "DpUcO7lWA2p3"
      },
      "source": [
        "## C - Variável Nota Padronizada - FG"
      ]
    },
    {
      "cell_type": "code",
      "metadata": {
        "id": "AwMjpPMBAvFE"
      },
      "source": [
        "notaFG_array = np.array(nota_fg, dtype = float)\n",
        "print (notaFG_array)"
      ],
      "execution_count": null,
      "outputs": []
    },
    {
      "cell_type": "code",
      "metadata": {
        "id": "q8RYmSkjBuHW"
      },
      "source": [
        "# Média\n",
        "fg_media = st.mean(notaFG_array)\n",
        "fg_media"
      ],
      "execution_count": null,
      "outputs": []
    },
    {
      "cell_type": "code",
      "metadata": {
        "id": "6OfzLonrHe2i"
      },
      "source": [
        "# Mediana\n",
        "fg_mediana = st.median(notaFG_array)\n",
        "fg_mediana"
      ],
      "execution_count": null,
      "outputs": []
    },
    {
      "cell_type": "code",
      "metadata": {
        "id": "UsppKA08He_C"
      },
      "source": [
        "# Moda\n",
        "fg_moda = st.mode(notaFG_array) # st.multimode(inscritos_array)\n",
        "fg_moda"
      ],
      "execution_count": null,
      "outputs": []
    },
    {
      "cell_type": "code",
      "metadata": {
        "id": "wkW2yEwvCHqn"
      },
      "source": [
        "# Desvio Padrao\n",
        "fg_std = np.std(notaFG_array)\n",
        "fg_std"
      ],
      "execution_count": null,
      "outputs": []
    },
    {
      "cell_type": "code",
      "metadata": {
        "id": "yRm6oJYiCb7k"
      },
      "source": [
        "# Coeficiente de variação\n",
        "fg_coef_variacao = fg_std/fg_media\n",
        "cv_fg = fg_coef_variacao\n",
        "fg_coef_variacao"
      ],
      "execution_count": null,
      "outputs": []
    },
    {
      "cell_type": "code",
      "metadata": {
        "id": "SLTCfHTDC37t"
      },
      "source": [
        "# Simetria\n",
        "se.boxplot(x = dfMedicinaC['Nota Padronizada - FG'], ).set_title('Gráfico Box-plot das Notas Padronizadas FG')"
      ],
      "execution_count": null,
      "outputs": []
    },
    {
      "cell_type": "markdown",
      "metadata": {
        "id": "KXs-zhgDIezV"
      },
      "source": [
        "## C - Variável Nota Padronizada - CE"
      ]
    },
    {
      "cell_type": "code",
      "metadata": {
        "id": "xNuQd4xVI3EE"
      },
      "source": [
        "notaCE_array = np.array(nota_ce, dtype = float)\n",
        "print (notaCE_array)"
      ],
      "execution_count": null,
      "outputs": []
    },
    {
      "cell_type": "code",
      "metadata": {
        "id": "adFfnRfBI61-"
      },
      "source": [
        "# Média\n",
        "ce_media = st.mean(notaCE_array)\n",
        "ce_media"
      ],
      "execution_count": null,
      "outputs": []
    },
    {
      "cell_type": "code",
      "metadata": {
        "id": "BM3XMFv1I7Gs"
      },
      "source": [
        "# Mediana\n",
        "ce_mediana = st.median(notaCE_array)\n",
        "ce_mediana"
      ],
      "execution_count": null,
      "outputs": []
    },
    {
      "cell_type": "code",
      "metadata": {
        "id": "Biqvo6zVI7XC"
      },
      "source": [
        "# Moda\n",
        "ce_moda = st.mode(notaCE_array) # st.multimode(inscritos_array)\n",
        "ce_moda"
      ],
      "execution_count": null,
      "outputs": []
    },
    {
      "cell_type": "code",
      "metadata": {
        "id": "VEC9nt4FI7nx"
      },
      "source": [
        "# Desvio Padrao\n",
        "ce_std = np.std(notaCE_array)\n",
        "ce_std"
      ],
      "execution_count": null,
      "outputs": []
    },
    {
      "cell_type": "code",
      "metadata": {
        "id": "PdAxziRII72W"
      },
      "source": [
        "# Coeficiente de variação\n",
        "ce_coef_variacao = ce_std/ce_media\n",
        "cv_ce = ce_coef_variacao\n",
        "cv_ce"
      ],
      "execution_count": null,
      "outputs": []
    },
    {
      "cell_type": "code",
      "metadata": {
        "id": "waogF23jJa8-"
      },
      "source": [
        "se.boxplot(x = dfMedicinaC['Nota Padronizada - CE'], ).set_title('Gráfico Box-plot das Notas Padronizadas CE')"
      ],
      "execution_count": null,
      "outputs": []
    },
    {
      "cell_type": "markdown",
      "metadata": {
        "id": "KXo5yBP8OTeB"
      },
      "source": [
        "## C - Variável Conceito Enade (Contínuo)"
      ]
    },
    {
      "cell_type": "code",
      "metadata": {
        "id": "KqA_9STZOWcA"
      },
      "source": [
        "CEC_array = np.array(conceito_cont, dtype = float)\n",
        "print (CEC_array)"
      ],
      "execution_count": null,
      "outputs": []
    },
    {
      "cell_type": "code",
      "metadata": {
        "id": "sEGO0WZbOXUQ"
      },
      "source": [
        "# Média\n",
        "cec_media = st.mean(CEC_array)\n",
        "cec_media"
      ],
      "execution_count": null,
      "outputs": []
    },
    {
      "cell_type": "code",
      "metadata": {
        "id": "vRUPMVgsOXkI"
      },
      "source": [
        "# Mediana\n",
        "cec_mediana = st.median(CEC_array)\n",
        "cec_mediana"
      ],
      "execution_count": null,
      "outputs": []
    },
    {
      "cell_type": "code",
      "metadata": {
        "id": "0ig_jushOX53"
      },
      "source": [
        "# Moda\n",
        "cec_moda = st.mode(CEC_array) # st.multimode(inscritos_array)\n",
        "cec_moda"
      ],
      "execution_count": null,
      "outputs": []
    },
    {
      "cell_type": "code",
      "metadata": {
        "id": "c-Ol6uJIOYND"
      },
      "source": [
        "# Desvio Padrao\n",
        "cec_std = np.std(CEC_array)\n",
        "cec_std"
      ],
      "execution_count": null,
      "outputs": []
    },
    {
      "cell_type": "code",
      "metadata": {
        "id": "HEXSMBI3OY1L"
      },
      "source": [
        "# Coeficiente de variação\n",
        "ce_coef_variacao = cec_std/cec_media\n",
        "cv_ce = ce_coef_variacao\n",
        "ce_coef_variacao"
      ],
      "execution_count": null,
      "outputs": []
    },
    {
      "cell_type": "code",
      "metadata": {
        "id": "AlS-1FBJOZQ1"
      },
      "source": [
        "se.boxplot(x = dfMedicinaC['Conceito Enade (Contínuo)'], ).set_title('Gráfico Box-plot da Variável Conceito Enade (Contínuo)')"
      ],
      "execution_count": null,
      "outputs": []
    },
    {
      "cell_type": "markdown",
      "metadata": {
        "id": "93l3jsgiQVTb"
      },
      "source": [
        "## C - Variável Conceito Enade (Faixa)"
      ]
    },
    {
      "cell_type": "code",
      "metadata": {
        "id": "h-NyJW3KQ2NQ"
      },
      "source": [
        "CEF_array = np.array(conceito_faixa, dtype = float)\n",
        "print (CEF_array)"
      ],
      "execution_count": null,
      "outputs": []
    },
    {
      "cell_type": "code",
      "metadata": {
        "id": "4ZAsEw2BQ2pM"
      },
      "source": [
        "# Média\n",
        "cef_media = st.mean(CEF_array)\n",
        "cef_media"
      ],
      "execution_count": null,
      "outputs": []
    },
    {
      "cell_type": "code",
      "metadata": {
        "id": "p1yv3nhDQ22m"
      },
      "source": [
        "# Mediana\n",
        "cef_mediana = st.median(CEF_array)\n",
        "cef_mediana"
      ],
      "execution_count": null,
      "outputs": []
    },
    {
      "cell_type": "code",
      "metadata": {
        "id": "yb3DGLrAQ3Eb"
      },
      "source": [
        "# Moda\n",
        "cef_moda = st.mode(CEF_array) # st.multimode(inscritos_array)\n",
        "cef_moda"
      ],
      "execution_count": null,
      "outputs": []
    },
    {
      "cell_type": "code",
      "metadata": {
        "id": "3eVtXFGXQ3dp"
      },
      "source": [
        "# Desvio Padrao\n",
        "cef_std = np.std(CEF_array)\n",
        "cef_std"
      ],
      "execution_count": null,
      "outputs": []
    },
    {
      "cell_type": "code",
      "metadata": {
        "id": "SOufalVvQ3sq"
      },
      "source": [
        "# Coeficiente de variação\n",
        "ce_coef_variacao = cef_std/cef_media\n",
        "cv_cef = ce_coef_variacao\n",
        "cv_cef"
      ],
      "execution_count": null,
      "outputs": []
    },
    {
      "cell_type": "code",
      "metadata": {
        "id": "XVthyLnkQ378"
      },
      "source": [
        "se.boxplot(x = dfMedicinaC['Conceito Enade (Faixa)'], ).set_title('Gráfico Box-plot da Variável Conceito Enade (Faixa)')"
      ],
      "execution_count": null,
      "outputs": []
    },
    {
      "cell_type": "code",
      "metadata": {
        "id": "264DpZ2pZE4J"
      },
      "source": [
        ""
      ],
      "execution_count": null,
      "outputs": []
    },
    {
      "cell_type": "markdown",
      "metadata": {
        "id": "E3AlzWX3Sxsc"
      },
      "source": [
        "## C- Verificar normalidade"
      ]
    },
    {
      "cell_type": "code",
      "metadata": {
        "id": "Fw75Lw7DTd4G"
      },
      "source": [
        "#funçao que verifica normalidade\n",
        "# função para calcular simetria\n",
        "def normalidade(h):\n",
        "  h0 = stats.shapiro(h)\n",
        "  if (h0[1] > 0.5):\n",
        "    return 'normalizados'\n",
        "  else:\n",
        "    return 'não normalizados'"
      ],
      "execution_count": null,
      "outputs": []
    },
    {
      "cell_type": "code",
      "metadata": {
        "id": "ijUvd66fVt8i"
      },
      "source": [
        "print('Valores de conc_inscritos são ', normalidade(conc_inscritos))\n",
        "print('Valores de conc_participantes são ', normalidade(conc_participantes))\n",
        "print('Valores de nota_fg são ', normalidade(nota_fg))\n",
        "print('Valores de nota_ce são ', normalidade(nota_ce))\n",
        "print('Valores de conceito_cont são ', normalidade(conceito_cont))\n",
        "print('Valores de conceito_faixa são ', normalidade(conceito_faixa))\n"
      ],
      "execution_count": null,
      "outputs": []
    },
    {
      "cell_type": "markdown",
      "metadata": {
        "id": "z-Uv2f0nRRqq"
      },
      "source": [
        "## Por Regiões"
      ]
    },
    {
      "cell_type": "code",
      "metadata": {
        "id": "Eu8unKxS5VMz"
      },
      "source": [
        "rNO = dfMedicinaC.loc[dfMedicinaC['Regiao'] == 1]\n",
        "rNE = dfMedicinaC.loc[dfMedicinaC['Regiao'] == 2]\n",
        "rSE = dfMedicinaC.loc[dfMedicinaC['Regiao'] == 3]\n",
        "rSU = dfMedicinaC.loc[dfMedicinaC['Regiao'] == 4]\n",
        "rCO = dfMedicinaC.loc[dfMedicinaC['Regiao'] == 5]"
      ],
      "execution_count": null,
      "outputs": []
    },
    {
      "cell_type": "code",
      "metadata": {
        "id": "M4E5pakc3WyQ"
      },
      "source": [
        "ax = se.boxplot(x = 'Nota Padronizada - FG', data = rNO).set_title('Nota Padroniza FG - Regiao Norte')"
      ],
      "execution_count": null,
      "outputs": []
    },
    {
      "cell_type": "code",
      "metadata": {
        "id": "x9uyKoUg9prL"
      },
      "source": [
        "ax = se.boxplot(x = 'Nota Padronizada - FG', data = rNE).set_title('Nota Padroniza FG - Regiao Nordeste')"
      ],
      "execution_count": null,
      "outputs": []
    },
    {
      "cell_type": "code",
      "metadata": {
        "id": "sF3pcdhZ9qLm"
      },
      "source": [
        "ax = se.boxplot(x = 'Nota Padronizada - FG', data = rSE).set_title('Nota Padroniza FG - Regiao Sudeste')"
      ],
      "execution_count": null,
      "outputs": []
    },
    {
      "cell_type": "code",
      "metadata": {
        "id": "WLed86wD9qeX"
      },
      "source": [
        "ax = se.boxplot(x = 'Nota Padronizada - FG', data = rSU).set_title('Nota Padroniza FG - Regiao Sul')"
      ],
      "execution_count": null,
      "outputs": []
    },
    {
      "cell_type": "code",
      "metadata": {
        "id": "E2IVKmw39qtD"
      },
      "source": [
        "ax = se.boxplot(x = 'Nota Padronizada - FG', data = rCO).set_title('Nota Padroniza FG - Regiao Centro-Oeste')"
      ],
      "execution_count": null,
      "outputs": []
    },
    {
      "cell_type": "markdown",
      "metadata": {
        "id": "ZOQkX_cyrE9S"
      },
      "source": [
        "#**ITEM D**"
      ]
    },
    {
      "cell_type": "code",
      "metadata": {
        "id": "mf_4cfOXsLNU",
        "outputId": "62f1613d-f5a4-49b1-c4a3-995ba7d4e573",
        "colab": {
          "base_uri": "https://localhost:8080/",
          "height": 428
        }
      },
      "source": [
        "dfMedicina = dfConceito[dfConceito['Código da Área'] == 12]\n",
        "dfMedicina.head()"
      ],
      "execution_count": null,
      "outputs": [
        {
          "output_type": "execute_result",
          "data": {
            "text/html": [
              "<div>\n",
              "<style scoped>\n",
              "    .dataframe tbody tr th:only-of-type {\n",
              "        vertical-align: middle;\n",
              "    }\n",
              "\n",
              "    .dataframe tbody tr th {\n",
              "        vertical-align: top;\n",
              "    }\n",
              "\n",
              "    .dataframe thead th {\n",
              "        text-align: right;\n",
              "    }\n",
              "</style>\n",
              "<table border=\"1\" class=\"dataframe\">\n",
              "  <thead>\n",
              "    <tr style=\"text-align: right;\">\n",
              "      <th></th>\n",
              "      <th>Ano</th>\n",
              "      <th>Código da IES</th>\n",
              "      <th>Nome da IES</th>\n",
              "      <th>Sigla da IES</th>\n",
              "      <th>Organização Acadêmica</th>\n",
              "      <th>Categoria Administrativa</th>\n",
              "      <th>Código do Curso</th>\n",
              "      <th>Código da Área</th>\n",
              "      <th>Área de Enquadramento</th>\n",
              "      <th>Modalidade de Ensino</th>\n",
              "      <th>Código do Município</th>\n",
              "      <th>Município do Curso</th>\n",
              "      <th>Sigla da UF</th>\n",
              "      <th>Concluintes Inscritos</th>\n",
              "      <th>Concluintes Participantes</th>\n",
              "      <th>Nota Bruta - FG</th>\n",
              "      <th>Nota Padronizada - FG</th>\n",
              "      <th>Nota Bruta - CE</th>\n",
              "      <th>Nota Padronizada - CE</th>\n",
              "      <th>Conceito Enade (Contínuo)</th>\n",
              "      <th>Conceito Enade (Faixa)</th>\n",
              "    </tr>\n",
              "  </thead>\n",
              "  <tbody>\n",
              "    <tr>\n",
              "      <th>2</th>\n",
              "      <td>2016</td>\n",
              "      <td>1</td>\n",
              "      <td>UNIVERSIDADE FEDERAL DE MATO GROSSO</td>\n",
              "      <td>UFMT</td>\n",
              "      <td>Universidade</td>\n",
              "      <td>Pessoa Jurídica de Direito Público - Federal</td>\n",
              "      <td>12</td>\n",
              "      <td>12</td>\n",
              "      <td>MEDICINA</td>\n",
              "      <td>Educação Presencial</td>\n",
              "      <td>5103403</td>\n",
              "      <td>CUIABÁ</td>\n",
              "      <td>MT</td>\n",
              "      <td>35</td>\n",
              "      <td>33</td>\n",
              "      <td>63.166668</td>\n",
              "      <td>3.473179</td>\n",
              "      <td>68.506058</td>\n",
              "      <td>2.759319</td>\n",
              "      <td>2.937784</td>\n",
              "      <td>3</td>\n",
              "    </tr>\n",
              "    <tr>\n",
              "      <th>8</th>\n",
              "      <td>2016</td>\n",
              "      <td>2</td>\n",
              "      <td>UNIVERSIDADE DE BRASÍLIA</td>\n",
              "      <td>UNB</td>\n",
              "      <td>Universidade</td>\n",
              "      <td>Pessoa Jurídica de Direito Público - Federal</td>\n",
              "      <td>140</td>\n",
              "      <td>12</td>\n",
              "      <td>MEDICINA</td>\n",
              "      <td>Educação Presencial</td>\n",
              "      <td>5300108</td>\n",
              "      <td>BRASÍLIA</td>\n",
              "      <td>DF</td>\n",
              "      <td>89</td>\n",
              "      <td>85</td>\n",
              "      <td>63.005882</td>\n",
              "      <td>3.436836</td>\n",
              "      <td>68.930588</td>\n",
              "      <td>2.841475</td>\n",
              "      <td>2.990315</td>\n",
              "      <td>4</td>\n",
              "    </tr>\n",
              "    <tr>\n",
              "      <th>13</th>\n",
              "      <td>2016</td>\n",
              "      <td>3</td>\n",
              "      <td>UNIVERSIDADE FEDERAL DE SERGIPE</td>\n",
              "      <td>UFS</td>\n",
              "      <td>Universidade</td>\n",
              "      <td>Pessoa Jurídica de Direito Público - Federal</td>\n",
              "      <td>303</td>\n",
              "      <td>12</td>\n",
              "      <td>MEDICINA</td>\n",
              "      <td>Educação Presencial</td>\n",
              "      <td>2800308</td>\n",
              "      <td>ARACAJU</td>\n",
              "      <td>SE</td>\n",
              "      <td>53</td>\n",
              "      <td>53</td>\n",
              "      <td>59.494339</td>\n",
              "      <td>2.643099</td>\n",
              "      <td>67.986794</td>\n",
              "      <td>2.658829</td>\n",
              "      <td>2.654896</td>\n",
              "      <td>3</td>\n",
              "    </tr>\n",
              "    <tr>\n",
              "      <th>17</th>\n",
              "      <td>2016</td>\n",
              "      <td>4</td>\n",
              "      <td>UNIVERSIDADE FEDERAL DO AMAZONAS</td>\n",
              "      <td>UFAM</td>\n",
              "      <td>Universidade</td>\n",
              "      <td>Pessoa Jurídica de Direito Público - Federal</td>\n",
              "      <td>389</td>\n",
              "      <td>12</td>\n",
              "      <td>MEDICINA</td>\n",
              "      <td>Educação Presencial</td>\n",
              "      <td>1302603</td>\n",
              "      <td>MANAUS</td>\n",
              "      <td>AM</td>\n",
              "      <td>36</td>\n",
              "      <td>35</td>\n",
              "      <td>66.708572</td>\n",
              "      <td>4.273778</td>\n",
              "      <td>66.128571</td>\n",
              "      <td>2.299221</td>\n",
              "      <td>2.792860</td>\n",
              "      <td>3</td>\n",
              "    </tr>\n",
              "    <tr>\n",
              "      <th>21</th>\n",
              "      <td>2016</td>\n",
              "      <td>5</td>\n",
              "      <td>UNIVERSIDADE FEDERAL DO PIAUÍ</td>\n",
              "      <td>UFPI</td>\n",
              "      <td>Universidade</td>\n",
              "      <td>Pessoa Jurídica de Direito Público - Federal</td>\n",
              "      <td>484</td>\n",
              "      <td>12</td>\n",
              "      <td>MEDICINA</td>\n",
              "      <td>Educação Presencial</td>\n",
              "      <td>2211001</td>\n",
              "      <td>TERESINA</td>\n",
              "      <td>PI</td>\n",
              "      <td>45</td>\n",
              "      <td>45</td>\n",
              "      <td>63.433334</td>\n",
              "      <td>3.533455</td>\n",
              "      <td>72.671112</td>\n",
              "      <td>3.565352</td>\n",
              "      <td>3.557378</td>\n",
              "      <td>4</td>\n",
              "    </tr>\n",
              "  </tbody>\n",
              "</table>\n",
              "</div>"
            ],
            "text/plain": [
              "     Ano  Código da IES  ... Conceito Enade (Contínuo) Conceito Enade (Faixa)\n",
              "2   2016              1  ...                  2.937784                      3\n",
              "8   2016              2  ...                  2.990315                      4\n",
              "13  2016              3  ...                  2.654896                      3\n",
              "17  2016              4  ...                  2.792860                      3\n",
              "21  2016              5  ...                  3.557378                      4\n",
              "\n",
              "[5 rows x 21 columns]"
            ]
          },
          "metadata": {
            "tags": []
          },
          "execution_count": 34
        }
      ]
    },
    {
      "cell_type": "code",
      "metadata": {
        "id": "sR_hx5jcwkLH",
        "outputId": "d7ad806c-bda8-4f54-c013-83d7890fb498",
        "colab": {
          "base_uri": "https://localhost:8080/"
        }
      },
      "source": [
        "dfMedicina[\"Conceito Enade (Faixa)\"] = pd.to_numeric(dfMedicina['Conceito Enade (Faixa)'], errors='coerce')"
      ],
      "execution_count": null,
      "outputs": [
        {
          "output_type": "stream",
          "text": [
            "/usr/local/lib/python3.6/dist-packages/ipykernel_launcher.py:1: SettingWithCopyWarning: \n",
            "A value is trying to be set on a copy of a slice from a DataFrame.\n",
            "Try using .loc[row_indexer,col_indexer] = value instead\n",
            "\n",
            "See the caveats in the documentation: https://pandas.pydata.org/pandas-docs/stable/user_guide/indexing.html#returning-a-view-versus-a-copy\n",
            "  \"\"\"Entry point for launching an IPython kernel.\n"
          ],
          "name": "stderr"
        }
      ]
    },
    {
      "cell_type": "code",
      "metadata": {
        "id": "kSNO1hgrvtKM",
        "outputId": "c2f13f54-c53c-4bef-a0fc-96ebdc73d76f",
        "colab": {
          "base_uri": "https://localhost:8080/"
        }
      },
      "source": [
        "qtdMedicina = len(dfMedicina)\n",
        "print(\"Quantidade de Universidades com medicina: \", qtdMedicina)\n",
        "\n",
        "MediaConceitoEnade = dfMedicina['Conceito Enade (Faixa)'].mean() \n",
        "print(\"Média geral(Medicina) do conceito ENADE: \", round(MediaConceitoEnade,3))\n",
        "\n",
        "DesvioConceitoEnade = dfMedicina.loc[:,\"Conceito Enade (Faixa)\"].std()\n",
        "print(\"Desvio padrão geral(Medicina) do conceito ENADE: \", round(DesvioConceitoEnade,3))"
      ],
      "execution_count": null,
      "outputs": [
        {
          "output_type": "stream",
          "text": [
            "Quantidade de Universidades com medicina:  176\n",
            "Média geral(Medicina) do conceito ENADE:  3.119\n",
            "Desvio padrão geral(Medicina) do conceito ENADE:  0.85\n"
          ],
          "name": "stdout"
        }
      ]
    },
    {
      "cell_type": "code",
      "metadata": {
        "id": "lzfMdmz4rO4x",
        "outputId": "7f46097a-d5d8-4a3d-fa87-9f85c27546f0",
        "colab": {
          "base_uri": "https://localhost:8080/"
        }
      },
      "source": [
        "#Intervalo de Confiança ao nível de 95%;\n",
        "print(\"Intervalo de Confiança ao nível de 95% para média quando a variância é desconhecida\")\n",
        "inf,sup = t.interval(0.95, qtdMedicina-1, loc=MediaConceitoEnade, scale=DesvioConceitoEnade/np.sqrt(qtdMedicina))\n",
        "print ('Limite inferior 95%:', round(inf,3))\n",
        "print ('Limite superior 95%:', round(sup,3))\n"
      ],
      "execution_count": null,
      "outputs": [
        {
          "output_type": "stream",
          "text": [
            "Intervalo de Confiança ao nível de 95% para média quando a variância é desconhecida\n",
            "Limite inferior 95%: 2.993\n",
            "Limite superior 95%: 3.246\n"
          ],
          "name": "stdout"
        }
      ]
    },
    {
      "cell_type": "code",
      "metadata": {
        "id": "ufHxaBOMrP02",
        "outputId": "8f4fbb29-7575-4140-acb2-815a288a0787",
        "colab": {
          "base_uri": "https://localhost:8080/"
        }
      },
      "source": [
        "# Número de amostras, para ERRO máximo de 10%\n",
        "n = (t.ppf(0.025,qtdMedicina-1)**2)*(st.stdev(dfMedicina.iloc[:,20])**2)/(0.01**2)\n",
        "print(\"Tamanho da amostra =\",round(n))"
      ],
      "execution_count": null,
      "outputs": [
        {
          "output_type": "stream",
          "text": [
            "Tamanho da amostra = 28155.0\n"
          ],
          "name": "stdout"
        }
      ]
    },
    {
      "cell_type": "code",
      "metadata": {
        "id": "zxSgvAeH9vTx"
      },
      "source": [
        "import numpy as np\n",
        "import scipy.stats\n",
        "\n",
        "def mean_confidence_interval(data, confidence=0.95):\n",
        "    a = 1.0 * np.array(data)\n",
        "    n = len(a)\n",
        "    m, se = np.mean(a), scipy.stats.sem(a)\n",
        "    h = se * scipy.stats.t.ppf((1 + confidence) / 2., n-1)\n",
        "    tam_amostra = (t.ppf(0.025,n-1)**2)*(st.stdev(data)**2)/(0.01**2)\n",
        "    return 'Coluna[{}]: Média {}, I.C.[{}, {}], e número de amostras (c/ erro máximo de 10%) {}'.format(titulos[Coluna], round(m,4), round(m-h,4), round(m+h,4), round(tam_amostra,4))"
      ],
      "execution_count": null,
      "outputs": []
    },
    {
      "cell_type": "code",
      "metadata": {
        "id": "-b5z3MZUHAIe",
        "outputId": "ece4f35f-8b64-4c76-e821-5170ed5c8cfd",
        "colab": {
          "base_uri": "https://localhost:8080/"
        }
      },
      "source": [
        "titulos = list(dfMedicina.columns.values)\n",
        "i = 0\n",
        "while i < len(titulos):\n",
        "    print( \"[%d] = %s\"%(i, titulos[i]) )\n",
        "    i+=1"
      ],
      "execution_count": null,
      "outputs": [
        {
          "output_type": "stream",
          "text": [
            "[0] = Ano\n",
            "[1] = Código da IES\n",
            "[2] = Nome da IES\n",
            "[3] = Sigla da IES\n",
            "[4] = Organização Acadêmica\n",
            "[5] = Categoria Administrativa\n",
            "[6] = Código do Curso\n",
            "[7] = Código da Área\n",
            "[8] = Área de Enquadramento\n",
            "[9] = Modalidade de Ensino\n",
            "[10] = Código do Município\n",
            "[11] = Município do Curso\n",
            "[12] = Sigla da UF\n",
            "[13] = Concluintes Inscritos\n",
            "[14] = Concluintes Participantes\n",
            "[15] = Nota Bruta - FG\n",
            "[16] = Nota Padronizada - FG\n",
            "[17] = Nota Bruta - CE\n",
            "[18] = Nota Padronizada - CE\n",
            "[19] = Conceito Enade (Contínuo)\n",
            "[20] = Conceito Enade (Faixa)\n"
          ],
          "name": "stdout"
        }
      ]
    },
    {
      "cell_type": "code",
      "metadata": {
        "id": "w_yimQHP7DiD",
        "outputId": "e9a845e5-804c-4901-fae0-3344bb62cbab",
        "colab": {
          "base_uri": "https://localhost:8080/"
        }
      },
      "source": [
        "dfMedicina.iloc[:,19]"
      ],
      "execution_count": null,
      "outputs": [
        {
          "output_type": "execute_result",
          "data": {
            "text/plain": [
              "2       2.937784\n",
              "8       2.990315\n",
              "13      2.654896\n",
              "17      2.792860\n",
              "21      3.557378\n",
              "          ...   \n",
              "3833    2.660124\n",
              "4029    2.078226\n",
              "4185    2.786400\n",
              "4293    1.438373\n",
              "4295    2.447981\n",
              "Name: Conceito Enade (Contínuo), Length: 176, dtype: float64"
            ]
          },
          "metadata": {
            "tags": []
          },
          "execution_count": 47
        }
      ]
    },
    {
      "cell_type": "code",
      "metadata": {
        "id": "s6IxDHARIbpP",
        "outputId": "3d61da5e-c52e-4e96-fa9d-b0de046d0e2b",
        "colab": {
          "base_uri": "https://localhost:8080/",
          "height": 52
        }
      },
      "source": [
        "#@title Número da coluna desejada { output-height: 10, form-width: \"99%\" }\n",
        "Coluna = 20 #@param {type:\"integer\"}\n",
        "\n",
        "SAIDA = mean_confidence_interval(dfMedicina.iloc[:,Coluna])\n",
        "SAIDA"
      ],
      "execution_count": null,
      "outputs": [
        {
          "output_type": "execute_result",
          "data": {
            "application/vnd.google.colaboratory.intrinsic+json": {
              "type": "string"
            },
            "text/plain": [
              "'Coluna[Conceito Enade (Faixa)]: Média 3.1193, I.C.[2.9928, 3.2458], e número de amostras (c/ erro máximo de 10%) 28155.0775'"
            ]
          },
          "metadata": {
            "tags": []
          },
          "execution_count": 52
        }
      ]
    },
    {
      "cell_type": "code",
      "metadata": {
        "id": "IelRqw3b8g1R",
        "outputId": "ec725ed9-6de8-4a1a-f5d7-cf8d7a038bd1",
        "colab": {
          "base_uri": "https://localhost:8080/"
        }
      },
      "source": [
        "q10 = [25.2,26,26.4,27.1,28.2,28.4]\n",
        "q10"
      ],
      "execution_count": null,
      "outputs": [
        {
          "output_type": "execute_result",
          "data": {
            "text/plain": [
              "[25.2, 26, 26.4, 27.1, 28.2, 28.4]"
            ]
          },
          "metadata": {
            "tags": []
          },
          "execution_count": 54
        }
      ]
    },
    {
      "cell_type": "code",
      "metadata": {
        "id": "usDc-HpS87gE",
        "outputId": "731b6a72-08f9-4454-a90c-81e4f0a589f6",
        "colab": {
          "base_uri": "https://localhost:8080/",
          "height": 52
        }
      },
      "source": [
        "mean_confidence_interval(q10)"
      ],
      "execution_count": null,
      "outputs": [
        {
          "output_type": "execute_result",
          "data": {
            "application/vnd.google.colaboratory.intrinsic+json": {
              "type": "string"
            },
            "text/plain": [
              "'Coluna[Conceito Enade (Faixa)]: Média 26.8833, I.C.[25.5618, 28.2048], e número de amostras (c/ erro máximo de 10%) 104779.1246'"
            ]
          },
          "metadata": {
            "tags": []
          },
          "execution_count": 55
        }
      ]
    }
  ]
}